{
 "cells": [
  {
   "cell_type": "code",
   "execution_count": 4,
   "id": "ab4e622c-0b11-45d1-9096-c795d50c31d3",
   "metadata": {},
   "outputs": [],
   "source": [
    "import numpy as np\n",
    "import pandas as pd\n",
    "from sklearn.model_selection import RepeatedStratifiedKFold"
   ]
  },
  {
   "cell_type": "code",
   "execution_count": 11,
   "id": "c82dc74d-a2c3-41de-a5ec-723c845e0973",
   "metadata": {},
   "outputs": [
    {
     "data": {
      "text/plain": [
       "array([  0,   1,   2,   3,   4,   5,   6,   7,   8,   9,  10,  11,  12,\n",
       "        13,  14,  15,  16,  17,  18,  19,  20,  21,  22,  23,  24,  25,\n",
       "        26,  27,  28,  29,  30,  31,  32,  33,  34,  35,  36,  37,  38,\n",
       "        39,  40,  41,  42,  43,  44,  45,  46,  47,  48,  49,  50,  51,\n",
       "        52,  53,  54,  55,  56,  57,  58,  59,  60,  61,  62,  63,  64,\n",
       "        65,  66,  67,  68,  69,  70,  71,  72,  73,  74,  75,  76,  77,\n",
       "        78,  79,  80,  81,  82,  83,  84,  85,  86,  87,  88,  89,  90,\n",
       "        91,  92,  93,  94,  95,  96,  97,  98,  99, 100, 101, 102, 103,\n",
       "       104, 105, 106, 107, 108, 109, 110, 111, 112, 113, 114, 115, 116,\n",
       "       117, 118, 119, 120, 121, 122, 123, 124, 125, 126, 127, 128, 129,\n",
       "       130, 131, 132, 133, 134, 135, 136, 137, 138, 139, 140, 141, 142,\n",
       "       143, 144, 145, 146, 147, 148, 149, 150, 151, 152, 153, 154, 155,\n",
       "       156, 157, 158, 159, 160, 161, 162, 163, 164, 165, 166, 167, 168,\n",
       "       169, 170, 171, 172, 173, 174, 175, 176, 177, 178, 179, 180, 181,\n",
       "       182, 183, 184, 185, 186, 187, 188, 189, 190, 191, 192, 193, 194,\n",
       "       195, 196, 197, 198, 199])"
      ]
     },
     "execution_count": 11,
     "metadata": {},
     "output_type": "execute_result"
    }
   ],
   "source": [
    "X = np.arange(0, 200).reshape(200, )\n",
    "X"
   ]
  },
  {
   "cell_type": "code",
   "execution_count": 13,
   "id": "d8faafd6-7bf6-4c5a-921d-467b5f3972d7",
   "metadata": {},
   "outputs": [
    {
     "data": {
      "text/plain": [
       "(array(['bear', 'bear', 'bear', 'bear', 'bear', 'bear', 'bear', 'bear',\n",
       "        'bear', 'bear', 'bear', 'bear', 'bear', 'bear', 'bear', 'bear',\n",
       "        'bear', 'bear', 'bear', 'bear', 'elephant', 'elephant', 'elephant',\n",
       "        'elephant', 'elephant', 'elephant', 'elephant', 'elephant',\n",
       "        'elephant', 'elephant', 'elephant', 'elephant', 'elephant',\n",
       "        'elephant', 'elephant', 'elephant', 'elephant', 'elephant',\n",
       "        'elephant', 'elephant', 'person', 'person', 'person', 'person',\n",
       "        'person', 'person', 'person', 'person', 'person', 'person',\n",
       "        'person', 'person', 'person', 'person', 'person', 'person',\n",
       "        'person', 'person', 'person', 'person', 'car', 'car', 'car', 'car',\n",
       "        'car', 'car', 'car', 'car', 'car', 'car', 'car', 'car', 'car',\n",
       "        'car', 'car', 'car', 'car', 'car', 'car', 'car', 'dog', 'dog',\n",
       "        'dog', 'dog', 'dog', 'dog', 'dog', 'dog', 'dog', 'dog', 'dog',\n",
       "        'dog', 'dog', 'dog', 'dog', 'dog', 'dog', 'dog', 'dog', 'dog',\n",
       "        'apple', 'apple', 'apple', 'apple', 'apple', 'apple', 'apple',\n",
       "        'apple', 'apple', 'apple', 'apple', 'apple', 'apple', 'apple',\n",
       "        'apple', 'apple', 'apple', 'apple', 'apple', 'apple', 'chair',\n",
       "        'chair', 'chair', 'chair', 'chair', 'chair', 'chair', 'chair',\n",
       "        'chair', 'chair', 'chair', 'chair', 'chair', 'chair', 'chair',\n",
       "        'chair', 'chair', 'chair', 'chair', 'chair', 'plane', 'plane',\n",
       "        'plane', 'plane', 'plane', 'plane', 'plane', 'plane', 'plane',\n",
       "        'plane', 'plane', 'plane', 'plane', 'plane', 'plane', 'plane',\n",
       "        'plane', 'plane', 'plane', 'plane', 'bird', 'bird', 'bird', 'bird',\n",
       "        'bird', 'bird', 'bird', 'bird', 'bird', 'bird', 'bird', 'bird',\n",
       "        'bird', 'bird', 'bird', 'bird', 'bird', 'bird', 'bird', 'bird',\n",
       "        'zebra', 'zebra', 'zebra', 'zebra', 'zebra', 'zebra', 'zebra',\n",
       "        'zebra', 'zebra', 'zebra', 'zebra', 'zebra', 'zebra', 'zebra',\n",
       "        'zebra', 'zebra', 'zebra', 'zebra', 'zebra', 'zebra'], dtype=object),\n",
       " (200,))"
      ]
     },
     "execution_count": 13,
     "metadata": {},
     "output_type": "execute_result"
    }
   ],
   "source": [
    "# load our labels\n",
    "y = pd.read_csv(\"/home/soroush1/projects/def-kohitij/soroush1/WM_age_of_ultron/data/hvm200/working_memory_images_labels.csv\")\n",
    "y = y.values.reshape(200, )\n",
    "\n",
    "y, y.shape"
   ]
  },
  {
   "cell_type": "code",
   "execution_count": 14,
   "id": "cd60722a-5488-4fed-9768-fc52e5f95d3c",
   "metadata": {},
   "outputs": [],
   "source": [
    "# I want to split my data into two-halves \n",
    "kfolds = RepeatedStratifiedKFold(n_splits=2, n_repeats=20, random_state=42)\n",
    "\n",
    "# Store test indices for reproducibility\n",
    "test_indices_list = []\n",
    "\n",
    "for _, test_idx in kfolds.split(X, y):\n",
    "    test_indices_list.append(test_idx)\n",
    "\n",
    "# Convert to NumPy array and save\n",
    "test_indices_array = np.array(test_indices_list, dtype=object)  # Use dtype=object for variable-length arrays\n",
    "np.save(\"kfolds_test_indices.npy\", test_indices_array)"
   ]
  },
  {
   "cell_type": "code",
   "execution_count": 16,
   "id": "4daeedb6-0c89-4f3a-b4af-641e6c483f47",
   "metadata": {},
   "outputs": [
    {
     "data": {
      "text/plain": [
       "(40, 100)"
      ]
     },
     "execution_count": 16,
     "metadata": {},
     "output_type": "execute_result"
    }
   ],
   "source": [
    "test_indices_array.shape"
   ]
  }
 ],
 "metadata": {
  "kernelspec": {
   "display_name": "Python 3 (ipykernel)",
   "language": "python",
   "name": "python3"
  },
  "language_info": {
   "codemirror_mode": {
    "name": "ipython",
    "version": 3
   },
   "file_extension": ".py",
   "mimetype": "text/x-python",
   "name": "python",
   "nbconvert_exporter": "python",
   "pygments_lexer": "ipython3",
   "version": "3.11.5"
  }
 },
 "nbformat": 4,
 "nbformat_minor": 5
}
