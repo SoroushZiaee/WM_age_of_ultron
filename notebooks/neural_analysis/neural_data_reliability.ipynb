{
 "cells": [
  {
   "cell_type": "code",
   "execution_count": 1,
   "id": "155ba163-fd58-4405-a6a8-2a61e8152b15",
   "metadata": {},
   "outputs": [],
   "source": [
    "%load_ext autoreload\n",
    "%autoreload 2"
   ]
  },
  {
   "cell_type": "markdown",
   "id": "41932945-cb7a-491b-b7de-eff3b9760b7a",
   "metadata": {},
   "source": [
    "# Imports"
   ]
  },
  {
   "cell_type": "code",
   "execution_count": 3,
   "id": "0762bbfd-a4fe-41a9-9ece-7e4880bfbb6c",
   "metadata": {},
   "outputs": [],
   "source": [
    "from scipy.stats import pearsonr, sem, ttest_rel, zscore\n",
    "\n",
    "from clean_functions import load_neural_data, make_a_plot_beautiful, transpose_neural_data, select_contents, generate_times"
   ]
  },
  {
   "cell_type": "markdown",
   "id": "df14ccee-d55f-4166-8d97-00c1077dc7ba",
   "metadata": {},
   "source": [
    "# Load Data"
   ]
  },
  {
   "cell_type": "code",
   "execution_count": 4,
   "id": "6796b828-1213-4d49-80d8-de687c939fa0",
   "metadata": {},
   "outputs": [],
   "source": [
    "# Load the neural data\n",
    "neural_data_path = \"mag_wm_data.mat\"\n",
    "contents = [f\"r{i}\" for i in range(1, 7)]\n",
    "\n",
    "neural_data = load_neural_data(file_path=neural_data_path, contents=contents)\n",
    "\n",
    "# preprocess neural data\n",
    "neural_data = transpose_neural_data(neural_data) # reps, imgs, ns, tb"
   ]
  },
  {
   "cell_type": "code",
   "execution_count": null,
   "id": "89bfb6e8-e73a-4ad0-8edb-1e982e2d5b55",
   "metadata": {},
   "outputs": [],
   "source": []
  }
 ],
 "metadata": {
  "kernelspec": {
   "display_name": "Python 3 (ipykernel)",
   "language": "python",
   "name": "python3"
  },
  "language_info": {
   "codemirror_mode": {
    "name": "ipython",
    "version": 3
   },
   "file_extension": ".py",
   "mimetype": "text/x-python",
   "name": "python",
   "nbconvert_exporter": "python",
   "pygments_lexer": "ipython3",
   "version": "3.11.5"
  }
 },
 "nbformat": 4,
 "nbformat_minor": 5
}
