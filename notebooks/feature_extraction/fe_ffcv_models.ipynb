{
 "cells": [
  {
   "cell_type": "code",
   "execution_count": null,
   "id": "b0c14660-ad5b-4748-9c55-c994463ceaca",
   "metadata": {},
   "outputs": [],
   "source": [
    "!pip install --no-index h5py"
   ]
  },
  {
   "cell_type": "code",
   "execution_count": 1,
   "id": "47bde1e1-d774-405d-9afc-622af02eb7e2",
   "metadata": {},
   "outputs": [],
   "source": [
    "%load_ext autoreload\n",
    "%autoreload 2"
   ]
  },
  {
   "cell_type": "code",
   "execution_count": 2,
   "id": "22f41e6c-3123-4b7b-9f64-40e64b8100d9",
   "metadata": {},
   "outputs": [
    {
     "name": "stdout",
     "output_type": "stream",
     "text": [
      "script_dir = '/lustre06/project/6067616/soroush1/WM_age_of_ultron/notebooks'\n",
      "parent_dir = '/lustre06/project/6067616/soroush1/WM_age_of_ultron'\n"
     ]
    }
   ],
   "source": [
    "import sys\n",
    "import os\n",
    "\n",
    "# Add the parent directory to the Python path\n",
    "script_dir = os.path.dirname(os.getcwd())  # Get the directory where the script is located\n",
    "parent_dir = os.path.dirname(script_dir)  # Get the parent directory\n",
    "\n",
    "print(f\"{script_dir = }\")\n",
    "print(f\"{parent_dir = }\")\n",
    "\n",
    "sys.path.append(parent_dir)"
   ]
  },
  {
   "cell_type": "code",
   "execution_count": 49,
   "id": "8035ca90-2f94-44b5-af3a-080bf88373ab",
   "metadata": {},
   "outputs": [],
   "source": [
    "from lit_modules.datamodule import MuriDataModule\n",
    "from argparse import Namespace\n",
    "from torchvision import models\n",
    "from torchvision.models import resnet50\n",
    "import torch as ch\n",
    "import numpy as np\n",
    "\n",
    "import torch\n",
    "import torch.nn.functional as F\n",
    "from torchvision.models.feature_extraction import get_graph_node_names, create_feature_extractor\n",
    "import re\n",
    "from tqdm import tqdm\n",
    "import h5py\n",
    "from lit_modules.modules.utils import InferioTemporalLayer\n",
    "from torch.utils.data import Dataset\n",
    "import PIL.Image\n",
    "from torchvision import transforms\n",
    "from torch.utils.data import DataLoader"
   ]
  },
  {
   "cell_type": "markdown",
   "id": "b5ac26d6-9572-4cc1-ab99-257e7f20516f",
   "metadata": {},
   "source": [
    "# Init Dataset"
   ]
  },
  {
   "cell_type": "code",
   "execution_count": 7,
   "id": "dfb9a29e-be03-48fc-9d66-789bb37bfd25",
   "metadata": {},
   "outputs": [
    {
     "name": "stdout",
     "output_type": "stream",
     "text": [
      "Muri data not found. Please download the dataset manually.\n",
      "Test dataset size: 1320\n",
      "test dataset size: 1320\n"
     ]
    }
   ],
   "source": [
    "# Define hyperparameters\n",
    "hparams = Namespace(\n",
    "    data_dir=\"/scratch/soroush1/memorability/muri1320\",\n",
    "    image_size=224,\n",
    "    batch_size=128,\n",
    "    num_workers=4,\n",
    "    change_labels = False,\n",
    "    pin_memories=[False, False, False],  # [train, val, test]\n",
    "    return_paths = True\n",
    ")\n",
    "\n",
    "# Create the DataModule\n",
    "data_module = MuriDataModule(hparams)\n",
    "\n",
    "# Prepare data and setup\n",
    "data_module.prepare_data()\n",
    "data_module.setup(\"test\")\n",
    "\n",
    "# Print dataset sizes\n",
    "print(f\"test dataset size: {len(data_module.test_dataset)}\")\n",
    "\n",
    "test_dl = data_module.test_dataloader()"
   ]
  },
  {
   "cell_type": "code",
   "execution_count": 59,
   "id": "74797a11-f9b7-4adf-ae30-94ffb35fe7df",
   "metadata": {
    "scrolled": true
   },
   "outputs": [
    {
     "name": "stdout",
     "output_type": "stream",
     "text": [
      "im0000.png: torch.Size([32, 3, 224, 224])\n",
      "im0001.png: torch.Size([32, 3, 224, 224])\n",
      "im0002.png: torch.Size([32, 3, 224, 224])\n",
      "im0003.png: torch.Size([32, 3, 224, 224])\n",
      "im0004.png: torch.Size([32, 3, 224, 224])\n",
      "im0005.png: torch.Size([32, 3, 224, 224])\n",
      "im0006.png: torch.Size([32, 3, 224, 224])\n",
      "im0007.png: torch.Size([32, 3, 224, 224])\n",
      "im0008.png: torch.Size([32, 3, 224, 224])\n",
      "im0009.png: torch.Size([32, 3, 224, 224])\n",
      "im0010.png: torch.Size([32, 3, 224, 224])\n",
      "im0011.png: torch.Size([32, 3, 224, 224])\n",
      "im0012.png: torch.Size([32, 3, 224, 224])\n",
      "im0013.png: torch.Size([32, 3, 224, 224])\n",
      "im0014.png: torch.Size([32, 3, 224, 224])\n",
      "im0015.png: torch.Size([32, 3, 224, 224])\n",
      "im0016.png: torch.Size([32, 3, 224, 224])\n",
      "im0017.png: torch.Size([32, 3, 224, 224])\n",
      "im0018.png: torch.Size([32, 3, 224, 224])\n",
      "im0019.png: torch.Size([32, 3, 224, 224])\n",
      "im0020.png: torch.Size([32, 3, 224, 224])\n",
      "im0021.png: torch.Size([32, 3, 224, 224])\n",
      "im0022.png: torch.Size([32, 3, 224, 224])\n",
      "im0023.png: torch.Size([32, 3, 224, 224])\n",
      "im0024.png: torch.Size([32, 3, 224, 224])\n",
      "im0025.png: torch.Size([32, 3, 224, 224])\n",
      "im0026.png: torch.Size([32, 3, 224, 224])\n",
      "im0027.png: torch.Size([32, 3, 224, 224])\n",
      "im0028.png: torch.Size([32, 3, 224, 224])\n",
      "im0029.png: torch.Size([32, 3, 224, 224])\n",
      "im0030.png: torch.Size([32, 3, 224, 224])\n",
      "im0031.png: torch.Size([32, 3, 224, 224])\n"
     ]
    }
   ],
   "source": [
    "def extract_number(filename):\n",
    "    # Extract the number from the filename\n",
    "    match = re.search(r'im(\\d+)\\.png', filename)\n",
    "    if match:\n",
    "        return int(match.group(1))\n",
    "    return 0  # Return 0 if no number is found\n",
    "\n",
    "def sort_filenames(filenames):\n",
    "    # Sort the filenames based on the extracted number\n",
    "    return sorted(filenames, key=extract_number)\n",
    "\n",
    "class MuriDataset(Dataset):\n",
    "    def __init__(self, root: str, transforms=None, return_paths=False):\n",
    "\n",
    "        self.root = root\n",
    "\n",
    "        self.transforms = transforms\n",
    "        self.img_path_list = sort_filenames(os.listdir(root))\n",
    "        self.return_path = return_paths\n",
    "\n",
    "    def __len__(self):\n",
    "        return len(self.img_path_list)\n",
    "\n",
    "    def __getitem__(self, idx):\n",
    "        img_name = os.path.join(self.root, self.img_path_list[idx])\n",
    "        # print(f\"{img_name = }\")\n",
    "        image = PIL.Image.open(img_name).convert(\"RGB\")\n",
    "\n",
    "        if self.transforms:\n",
    "            image = self.transforms(image)\n",
    "\n",
    "        if self.return_path:\n",
    "            return image, os.path.basename(img_name)\n",
    "\n",
    "        return image, img_name\n",
    "\n",
    "root = \"/scratch/soroush1/memorability/muri1320\"\n",
    "input_size = 224\n",
    "normalize = transforms.Normalize(\n",
    "            mean=[0.485, 0.456, 0.406], std=[0.229, 0.224, 0.225]\n",
    "        )\n",
    "\n",
    "t = transforms.Compose(\n",
    "            [\n",
    "                transforms.Resize(input_size),\n",
    "                transforms.ToTensor(),\n",
    "                normalize,\n",
    "            ]\n",
    "        )\n",
    "\n",
    "\n",
    "ds = MuriDataset(root=root, transforms=t)\n",
    "dl = DataLoader(\n",
    "            ds,\n",
    "            batch_size=32,\n",
    "            shuffle=False,\n",
    "            num_workers=2,\n",
    "            pin_memory=True,\n",
    "        )\n",
    "\n",
    "for images, names in dl:\n",
    "    for image, name in zip(images, names):\n",
    "        print(f\"{os.path.basename(name)}: {img.size()}\")\n",
    "    break"
   ]
  },
  {
   "cell_type": "markdown",
   "id": "d937cc9a-20dd-4e53-b54b-087b0a19cc67",
   "metadata": {},
   "source": [
    "# Init Model"
   ]
  },
  {
   "cell_type": "code",
   "execution_count": 60,
   "id": "932bd801-f7b6-4659-8b84-1d0e5d842435",
   "metadata": {},
   "outputs": [
    {
     "name": "stdout",
     "output_type": "stream",
     "text": [
      "device = device(type='cuda')\n",
      "list(ckpt.keys())[:10] = ['module.conv1.weight', 'module.bn1.weight', 'module.bn1.bias', 'module.bn1.running_mean', 'module.bn1.running_var', 'module.bn1.num_batches_tracked', 'module.layer1.0.conv1.weight', 'module.layer1.0.bn1.weight', 'module.layer1.0.bn1.bias', 'module.layer1.0.bn1.running_mean']\n",
      "list(ckpt.keys())[:10] = ['conv1.weight', 'bn1.weight', 'bn1.bias', 'bn1.running_mean', 'bn1.running_var', 'bn1.num_batches_tracked', 'layer1.0.conv1.weight', 'layer1.0.bn1.weight', 'layer1.0.bn1.bias', 'layer1.0.bn1.running_mean']\n"
     ]
    },
    {
     "data": {
      "text/plain": [
       "(1, 100352)"
      ]
     },
     "execution_count": 60,
     "metadata": {},
     "output_type": "execute_result"
    }
   ],
   "source": [
    "class BlurPoolConv2d(ch.nn.Module):\n",
    "\n",
    "    # Purpose: This class creates a convolutional layer that first applies a blurring filter to the input before performing the convolution operation.\n",
    "    # Condition: The function apply_blurpool iterates over all layers of the model and replaces convolution layers (ch.nn.Conv2d) with BlurPoolConv2d if they have a stride greater than 1 and at least 16 input channels.\n",
    "    # Preventing Aliasing: Blurring the output of convolution layers (especially those with strides greater than 1) helps to reduce aliasing effects. Aliasing occurs when high-frequency signals are sampled too sparsely, leading to incorrect representations.\n",
    "    # Smooth Transitions: Applying a blur before downsampling ensures that transitions between pixels are smooth, preserving important information in the feature maps.\n",
    "    # Stabilizing Training: Blurring can help stabilize training by reducing high-frequency noise, making the model less sensitive to small changes in the input data.\n",
    "    def __init__(self, conv):\n",
    "        super().__init__()\n",
    "        default_filter = ch.tensor([[[[1, 2, 1], [2, 4, 2], [1, 2, 1]]]]) / 16.0\n",
    "        filt = default_filter.repeat(conv.in_channels, 1, 1, 1)\n",
    "        self.conv = conv\n",
    "        self.register_buffer(\"blur_filter\", filt)\n",
    "\n",
    "    def forward(self, x):\n",
    "        blurred = F.conv2d(\n",
    "            x,\n",
    "            self.blur_filter,\n",
    "            stride=1,\n",
    "            padding=(1, 1),\n",
    "            groups=self.conv.in_channels,\n",
    "            bias=None,\n",
    "        )\n",
    "        return self.conv.forward(blurred)\n",
    "\n",
    "\n",
    "def remove_prefix(state_dict, prefix):\n",
    "    \"\"\"\n",
    "    Remove a prefix from the state_dict keys.\n",
    "\n",
    "    Args:\n",
    "    state_dict (dict): State dictionary from which the prefix will be removed.\n",
    "    prefix (str): Prefix to be removed.\n",
    "\n",
    "    Returns:\n",
    "    dict: State dictionary with prefix removed from keys.\n",
    "    \"\"\"\n",
    "    return {\n",
    "        key[len(prefix) :]: value\n",
    "        for key, value in state_dict.items()\n",
    "        if key.startswith(prefix)\n",
    "    }\n",
    "\n",
    "\n",
    "def match_and_load_weights(checkpoint_state_dict, model, prefix=\"module.\"):\n",
    "    \"\"\"\n",
    "    Match weights from checkpoint_state_dict with model's state_dict and load them into the model.\n",
    "\n",
    "    Args:\n",
    "    checkpoint_state_dict (dict): State dictionary from checkpoint.\n",
    "    model (torch.nn.Module): The model instance.\n",
    "    prefix (str): Prefix to be removed from checkpoint keys.\n",
    "\n",
    "    Returns:\n",
    "    None\n",
    "    \"\"\"\n",
    "    # Remove the prefix from checkpoint state dict keys\n",
    "    cleaned_checkpoint_state_dict = remove_prefix(checkpoint_state_dict, prefix)\n",
    "\n",
    "    model_state_dict = model.state_dict()\n",
    "    matched_weights = {}\n",
    "\n",
    "    # Iterate over the cleaned checkpoint state dict\n",
    "    for ckpt_key, ckpt_weight in cleaned_checkpoint_state_dict.items():\n",
    "        if ckpt_key in model_state_dict:\n",
    "            # If the layer name matches, add to the matched_weights dict\n",
    "            matched_weights[ckpt_key] = ckpt_weight\n",
    "        else:\n",
    "            print(\n",
    "                f\"Layer {ckpt_key} from checkpoint not found in the model state dict.\"\n",
    "            )\n",
    "\n",
    "    return matched_weights\n",
    "\n",
    "def create_feature_extractor_model(config):\n",
    "    arch = config[\"arch\"]\n",
    "    weights = config[\"weights\"]\n",
    "    use_blurpool = config[\"use_blurpool\"]\n",
    "    layer_name = config[\"layer_name\"]\n",
    "    device = ch.device(\"cuda\" if ch.cuda.is_available() else \"cpu\")\n",
    "    print(f\"{device = }\")\n",
    "\n",
    "    model = getattr(models, arch)(weights=None)\n",
    "    \n",
    "\n",
    "    def apply_blurpool(mod: ch.nn.Module):\n",
    "        for name, child in mod.named_children():\n",
    "            if isinstance(child, ch.nn.Conv2d) and (\n",
    "                np.max(child.stride) > 1 and child.in_channels >= 16\n",
    "            ):\n",
    "                setattr(mod, name, BlurPoolConv2d(child))\n",
    "            else:\n",
    "                apply_blurpool(child)\n",
    "\n",
    "    if use_blurpool:\n",
    "        apply_blurpool(model)\n",
    "\n",
    "    ckpt = ch.load(weights,weights_only=True, map_location=device)\n",
    "    print(f\"{list(ckpt.keys())[:10] = }\")\n",
    "    ckpt = match_and_load_weights(ckpt, model)\n",
    "    print(f\"{list(ckpt.keys())[:10] = }\")\n",
    "    \n",
    "    \n",
    "    model = model.to(device)    \n",
    "    model.load_state_dict(ckpt)\n",
    "    model.eval()\n",
    "    model = create_feature_extractor(model=model, return_nodes=layer_name)\n",
    "    \n",
    "    return model\n",
    "\n",
    "config = {\"weights\": \"/home/soroush1/projects/def-kohitij/soroush1/idiosyncrasy/notebooks/experiments/weights/experiment_different_initialization/resnet50-0/final_weights.pt\", \"arch\": \"resnet50\", \"use_blurpool\": True, \"layer_name\": {f\"{InferioTemporalLayer.RESNET50.value}\":\"IT\"}}\n",
    "model = create_feature_extractor_model(config)\n",
    "\n",
    "device = torch.device(\"cuda:0\" if torch.cuda.is_available() else \"cpu\")\n",
    "rand_inp = torch.rand((1, 3, 224, 224))\n",
    "rand_inp = rand_inp.to(device)\n",
    "output = model(rand_inp)\n",
    "output = output[\"IT\"].detach().cpu().numpy()\n",
    "output = output.reshape(output.shape[0], -1)\n",
    "output.shape"
   ]
  },
  {
   "cell_type": "markdown",
   "id": "1850d04f-7781-400c-aa28-aa3d4626c2fe",
   "metadata": {},
   "source": [
    "# Feature Extraction"
   ]
  },
  {
   "cell_type": "code",
   "execution_count": 79,
   "id": "97c9fe6f-7ddf-4865-9ee4-bdb5e17edce5",
   "metadata": {},
   "outputs": [],
   "source": [
    "def sort_batch_by_filename(tensor, filenames):\n",
    "    # Extract indices from filenames\n",
    "    indices = [int(re.search(r'(\\d+)', fname).group()) for fname in filenames]\n",
    "    \n",
    "    # Create a list of (index, tensor_slice, filename) tuples\n",
    "    indexed_data = list(zip(indices, tensor, filenames))\n",
    "    \n",
    "    # Sort the list based on the extracted indices\n",
    "    sorted_data = sorted(indexed_data, key=lambda x: x[0])\n",
    "    \n",
    "    # Unzip the sorted list\n",
    "    _, sorted_tensor, sorted_filenames = zip(*sorted_data)\n",
    "    \n",
    "    # Stack the tensor slices back into a single tensor\n",
    "    sorted_tensor = torch.stack(sorted_tensor)\n",
    "    \n",
    "    return sorted_tensor, sorted_filenames\n",
    "\n",
    "\n",
    "def save_h5(data, dataset_name, model_name, task_name, dst_path: str, layer_name: str = \"it\", ):\n",
    "    \"\"\"\n",
    "    Load features from a pickle file and save them to an HDF5 file.\n",
    "\n",
    "    Args:\n",
    "    model_name (str): Name of the model used to extract features.\n",
    "    task_name (str): Name of the task or dataset.\n",
    "    layer_name (str): Name of the layer from which features were extracted.\n",
    "    dst_path (str): Directory to save the HDF5 file.\n",
    "\n",
    "    Returns:\n",
    "    None\n",
    "    \"\"\"\n",
    "\n",
    "    print(\n",
    "        f\"Model: {model_name}, Task: {task_name}, Layer: {layer_name}, Shape: {data.shape}\"\n",
    "    )\n",
    "\n",
    "    # Ensure the destination directory exists\n",
    "    os.makedirs(dst_path, exist_ok=True)\n",
    "\n",
    "    # Construct the full path for the HDF5 file\n",
    "    h5_file = os.path.join(dst_path, f\"{dataset_name}_{model_name}_{task_name}_{layer_name}.h5\")\n",
    "\n",
    "    # Save the NumPy array as a .h5 file\n",
    "    with h5py.File(h5_file, \"w\") as hf:\n",
    "        hf.create_dataset(\"features\", data=data)\n",
    "\n",
    "    print(f\"Features saved to {h5_file}\")\n",
    "\n",
    "def extract_and_concatenate_features(model, test_dl, device):\n",
    "    all_outputs = []\n",
    "    all_img_paths = []\n",
    "    for img, img_path in tqdm(test_dl):\n",
    "        with torch.no_grad():  # Disable gradient calculation\n",
    "            # logger.info(f\"Using input size: {img.size()}\")\n",
    "            img = img.to(device)\n",
    "            output = model(img)[\"IT\"]  # extract IT layer\n",
    "            output, img_path = sort_batch_by_filename(output, img_path)\n",
    "        \n",
    "        all_outputs.append(output.cpu())  # Move to CPU to save GPU memory\n",
    "        all_img_paths.extend(img_path)\n",
    "        \n",
    "        # Delete batch data to free up memory\n",
    "        del img, output\n",
    "        torch.cuda.empty_cache()  # Clear CUDA cache\n",
    "    \n",
    "    # Concatenate all outputs into a single tensor\n",
    "    concatenated_output = torch.cat(all_outputs, dim=0)\n",
    "    \n",
    "    # Delete all_outputs to free up memory\n",
    "    del all_outputs\n",
    "    torch.cuda.empty_cache()\n",
    "    \n",
    "    # Reshape the output to (samples, -1)\n",
    "    reshaped_output = concatenated_output.view(concatenated_output.size(0), -1)\n",
    "    \n",
    "    # Convert to numpy and delete the torch tensor\n",
    "    reshaped_output = reshaped_output.detach().numpy()\n",
    "    del concatenated_output\n",
    "    torch.cuda.empty_cache()\n",
    "    \n",
    "    return reshaped_output, all_img_paths"
   ]
  },
  {
   "cell_type": "code",
   "execution_count": 80,
   "id": "38b7a029-692c-4687-9868-f45da4b300d3",
   "metadata": {},
   "outputs": [
    {
     "name": "stderr",
     "output_type": "stream",
     "text": [
      "different_run:   0%|          | 0/13 [00:00<?, ?it/s]"
     ]
    },
    {
     "name": "stdout",
     "output_type": "stream",
     "text": [
      "device = device(type='cuda')\n",
      "list(ckpt.keys())[:10] = ['module.conv1.weight', 'module.bn1.weight', 'module.bn1.bias', 'module.bn1.running_mean', 'module.bn1.running_var', 'module.bn1.num_batches_tracked', 'module.layer1.0.conv1.weight', 'module.layer1.0.bn1.weight', 'module.layer1.0.bn1.bias', 'module.layer1.0.bn1.running_mean']\n",
      "list(ckpt.keys())[:10] = ['conv1.weight', 'bn1.weight', 'bn1.bias', 'bn1.running_mean', 'bn1.running_var', 'bn1.num_batches_tracked', 'layer1.0.conv1.weight', 'layer1.0.bn1.weight', 'layer1.0.bn1.bias', 'layer1.0.bn1.running_mean']\n"
     ]
    },
    {
     "name": "stderr",
     "output_type": "stream",
     "text": [
      "\n",
      "  0%|          | 0/42 [00:00<?, ?it/s]\u001b[A\n",
      "  2%|▏         | 1/42 [00:00<00:07,  5.45it/s]\u001b[A\n",
      "  7%|▋         | 3/42 [00:00<00:03, 11.72it/s]\u001b[A"
     ]
    },
    {
     "name": "stdout",
     "output_type": "stream",
     "text": [
      "['/scratch/soroush1/memorability/muri1320/im0000.png', '/scratch/soroush1/memorability/muri1320/im0001.png', '/scratch/soroush1/memorability/muri1320/im0002.png', '/scratch/soroush1/memorability/muri1320/im0003.png', '/scratch/soroush1/memorability/muri1320/im0004.png', '/scratch/soroush1/memorability/muri1320/im0005.png', '/scratch/soroush1/memorability/muri1320/im0006.png', '/scratch/soroush1/memorability/muri1320/im0007.png', '/scratch/soroush1/memorability/muri1320/im0008.png', '/scratch/soroush1/memorability/muri1320/im0009.png']\n",
      "['/scratch/soroush1/memorability/muri1320/im0032.png', '/scratch/soroush1/memorability/muri1320/im0033.png', '/scratch/soroush1/memorability/muri1320/im0034.png', '/scratch/soroush1/memorability/muri1320/im0035.png', '/scratch/soroush1/memorability/muri1320/im0036.png', '/scratch/soroush1/memorability/muri1320/im0037.png', '/scratch/soroush1/memorability/muri1320/im0038.png', '/scratch/soroush1/memorability/muri1320/im0039.png', '/scratch/soroush1/memorability/muri1320/im0040.png', '/scratch/soroush1/memorability/muri1320/im0041.png']\n",
      "['/scratch/soroush1/memorability/muri1320/im0064.png', '/scratch/soroush1/memorability/muri1320/im0065.png', '/scratch/soroush1/memorability/muri1320/im0066.png', '/scratch/soroush1/memorability/muri1320/im0067.png', '/scratch/soroush1/memorability/muri1320/im0068.png', '/scratch/soroush1/memorability/muri1320/im0069.png', '/scratch/soroush1/memorability/muri1320/im0070.png', '/scratch/soroush1/memorability/muri1320/im0071.png', '/scratch/soroush1/memorability/muri1320/im0072.png', '/scratch/soroush1/memorability/muri1320/im0073.png']\n",
      "['/scratch/soroush1/memorability/muri1320/im0096.png', '/scratch/soroush1/memorability/muri1320/im0097.png', '/scratch/soroush1/memorability/muri1320/im0098.png', '/scratch/soroush1/memorability/muri1320/im0099.png', '/scratch/soroush1/memorability/muri1320/im0100.png', '/scratch/soroush1/memorability/muri1320/im0101.png', '/scratch/soroush1/memorability/muri1320/im0102.png', '/scratch/soroush1/memorability/muri1320/im0103.png', '/scratch/soroush1/memorability/muri1320/im0104.png', '/scratch/soroush1/memorability/muri1320/im0105.png']\n",
      "['/scratch/soroush1/memorability/muri1320/im0128.png', '/scratch/soroush1/memorability/muri1320/im0129.png', '/scratch/soroush1/memorability/muri1320/im0130.png', '/scratch/soroush1/memorability/muri1320/im0131.png', '/scratch/soroush1/memorability/muri1320/im0132.png', '/scratch/soroush1/memorability/muri1320/im0133.png', '/scratch/soroush1/memorability/muri1320/im0134.png', '/scratch/soroush1/memorability/muri1320/im0135.png', '/scratch/soroush1/memorability/muri1320/im0136.png', '/scratch/soroush1/memorability/muri1320/im0137.png']\n",
      "['/scratch/soroush1/memorability/muri1320/im0160.png', '/scratch/soroush1/memorability/muri1320/im0161.png', '/scratch/soroush1/memorability/muri1320/im0162.png', '/scratch/soroush1/memorability/muri1320/im0163.png', '/scratch/soroush1/memorability/muri1320/im0164.png', '/scratch/soroush1/memorability/muri1320/im0165.png', '/scratch/soroush1/memorability/muri1320/im0166.png', '/scratch/soroush1/memorability/muri1320/im0167.png', '/scratch/soroush1/memorability/muri1320/im0168.png', '/scratch/soroush1/memorability/muri1320/im0169.png']\n"
     ]
    },
    {
     "name": "stderr",
     "output_type": "stream",
     "text": [
      "\n",
      " 14%|█▍        | 6/42 [00:00<00:01, 18.51it/s]\u001b[A\n",
      " 21%|██▏       | 9/42 [00:00<00:01, 19.69it/s]\u001b[A"
     ]
    },
    {
     "name": "stdout",
     "output_type": "stream",
     "text": [
      "['/scratch/soroush1/memorability/muri1320/im0192.png', '/scratch/soroush1/memorability/muri1320/im0193.png', '/scratch/soroush1/memorability/muri1320/im0194.png', '/scratch/soroush1/memorability/muri1320/im0195.png', '/scratch/soroush1/memorability/muri1320/im0196.png', '/scratch/soroush1/memorability/muri1320/im0197.png', '/scratch/soroush1/memorability/muri1320/im0198.png', '/scratch/soroush1/memorability/muri1320/im0199.png', '/scratch/soroush1/memorability/muri1320/im0200.png', '/scratch/soroush1/memorability/muri1320/im0201.png']\n",
      "['/scratch/soroush1/memorability/muri1320/im0224.png', '/scratch/soroush1/memorability/muri1320/im0225.png', '/scratch/soroush1/memorability/muri1320/im0226.png', '/scratch/soroush1/memorability/muri1320/im0227.png', '/scratch/soroush1/memorability/muri1320/im0228.png', '/scratch/soroush1/memorability/muri1320/im0229.png', '/scratch/soroush1/memorability/muri1320/im0230.png', '/scratch/soroush1/memorability/muri1320/im0231.png', '/scratch/soroush1/memorability/muri1320/im0232.png', '/scratch/soroush1/memorability/muri1320/im0233.png']\n",
      "['/scratch/soroush1/memorability/muri1320/im0256.png', '/scratch/soroush1/memorability/muri1320/im0257.png', '/scratch/soroush1/memorability/muri1320/im0258.png', '/scratch/soroush1/memorability/muri1320/im0259.png', '/scratch/soroush1/memorability/muri1320/im0260.png', '/scratch/soroush1/memorability/muri1320/im0261.png', '/scratch/soroush1/memorability/muri1320/im0262.png', '/scratch/soroush1/memorability/muri1320/im0263.png', '/scratch/soroush1/memorability/muri1320/im0264.png', '/scratch/soroush1/memorability/muri1320/im0265.png']\n",
      "['/scratch/soroush1/memorability/muri1320/im0288.png', '/scratch/soroush1/memorability/muri1320/im0289.png', '/scratch/soroush1/memorability/muri1320/im0290.png', '/scratch/soroush1/memorability/muri1320/im0291.png', '/scratch/soroush1/memorability/muri1320/im0292.png', '/scratch/soroush1/memorability/muri1320/im0293.png', '/scratch/soroush1/memorability/muri1320/im0294.png', '/scratch/soroush1/memorability/muri1320/im0295.png', '/scratch/soroush1/memorability/muri1320/im0296.png', '/scratch/soroush1/memorability/muri1320/im0297.png']\n",
      "['/scratch/soroush1/memorability/muri1320/im0320.png', '/scratch/soroush1/memorability/muri1320/im0321.png', '/scratch/soroush1/memorability/muri1320/im0322.png', '/scratch/soroush1/memorability/muri1320/im0323.png', '/scratch/soroush1/memorability/muri1320/im0324.png', '/scratch/soroush1/memorability/muri1320/im0325.png', '/scratch/soroush1/memorability/muri1320/im0326.png', '/scratch/soroush1/memorability/muri1320/im0327.png', '/scratch/soroush1/memorability/muri1320/im0328.png', '/scratch/soroush1/memorability/muri1320/im0329.png']\n",
      "['/scratch/soroush1/memorability/muri1320/im0352.png', '/scratch/soroush1/memorability/muri1320/im0353.png', '/scratch/soroush1/memorability/muri1320/im0354.png', '/scratch/soroush1/memorability/muri1320/im0355.png', '/scratch/soroush1/memorability/muri1320/im0356.png', '/scratch/soroush1/memorability/muri1320/im0357.png', '/scratch/soroush1/memorability/muri1320/im0358.png', '/scratch/soroush1/memorability/muri1320/im0359.png', '/scratch/soroush1/memorability/muri1320/im0360.png', '/scratch/soroush1/memorability/muri1320/im0361.png']\n"
     ]
    },
    {
     "name": "stderr",
     "output_type": "stream",
     "text": [
      "\n",
      " 29%|██▊       | 12/42 [00:00<00:01, 21.90it/s]\u001b[A\n",
      " 36%|███▌      | 15/42 [00:00<00:01, 21.66it/s]\u001b[A\n",
      " 43%|████▎     | 18/42 [00:00<00:01, 23.51it/s]\u001b[A"
     ]
    },
    {
     "name": "stdout",
     "output_type": "stream",
     "text": [
      "['/scratch/soroush1/memorability/muri1320/im0384.png', '/scratch/soroush1/memorability/muri1320/im0385.png', '/scratch/soroush1/memorability/muri1320/im0386.png', '/scratch/soroush1/memorability/muri1320/im0387.png', '/scratch/soroush1/memorability/muri1320/im0388.png', '/scratch/soroush1/memorability/muri1320/im0389.png', '/scratch/soroush1/memorability/muri1320/im0390.png', '/scratch/soroush1/memorability/muri1320/im0391.png', '/scratch/soroush1/memorability/muri1320/im0392.png', '/scratch/soroush1/memorability/muri1320/im0393.png']\n",
      "['/scratch/soroush1/memorability/muri1320/im0416.png', '/scratch/soroush1/memorability/muri1320/im0417.png', '/scratch/soroush1/memorability/muri1320/im0418.png', '/scratch/soroush1/memorability/muri1320/im0419.png', '/scratch/soroush1/memorability/muri1320/im0420.png', '/scratch/soroush1/memorability/muri1320/im0421.png', '/scratch/soroush1/memorability/muri1320/im0422.png', '/scratch/soroush1/memorability/muri1320/im0423.png', '/scratch/soroush1/memorability/muri1320/im0424.png', '/scratch/soroush1/memorability/muri1320/im0425.png']\n",
      "['/scratch/soroush1/memorability/muri1320/im0448.png', '/scratch/soroush1/memorability/muri1320/im0449.png', '/scratch/soroush1/memorability/muri1320/im0450.png', '/scratch/soroush1/memorability/muri1320/im0451.png', '/scratch/soroush1/memorability/muri1320/im0452.png', '/scratch/soroush1/memorability/muri1320/im0453.png', '/scratch/soroush1/memorability/muri1320/im0454.png', '/scratch/soroush1/memorability/muri1320/im0455.png', '/scratch/soroush1/memorability/muri1320/im0456.png', '/scratch/soroush1/memorability/muri1320/im0457.png']\n",
      "['/scratch/soroush1/memorability/muri1320/im0480.png', '/scratch/soroush1/memorability/muri1320/im0481.png', '/scratch/soroush1/memorability/muri1320/im0482.png', '/scratch/soroush1/memorability/muri1320/im0483.png', '/scratch/soroush1/memorability/muri1320/im0484.png', '/scratch/soroush1/memorability/muri1320/im0485.png', '/scratch/soroush1/memorability/muri1320/im0486.png', '/scratch/soroush1/memorability/muri1320/im0487.png', '/scratch/soroush1/memorability/muri1320/im0488.png', '/scratch/soroush1/memorability/muri1320/im0489.png']\n",
      "['/scratch/soroush1/memorability/muri1320/im0512.png', '/scratch/soroush1/memorability/muri1320/im0513.png', '/scratch/soroush1/memorability/muri1320/im0514.png', '/scratch/soroush1/memorability/muri1320/im0515.png', '/scratch/soroush1/memorability/muri1320/im0516.png', '/scratch/soroush1/memorability/muri1320/im0517.png', '/scratch/soroush1/memorability/muri1320/im0518.png', '/scratch/soroush1/memorability/muri1320/im0519.png', '/scratch/soroush1/memorability/muri1320/im0520.png', '/scratch/soroush1/memorability/muri1320/im0521.png']\n",
      "['/scratch/soroush1/memorability/muri1320/im0544.png', '/scratch/soroush1/memorability/muri1320/im0545.png', '/scratch/soroush1/memorability/muri1320/im0546.png', '/scratch/soroush1/memorability/muri1320/im0547.png', '/scratch/soroush1/memorability/muri1320/im0548.png', '/scratch/soroush1/memorability/muri1320/im0549.png', '/scratch/soroush1/memorability/muri1320/im0550.png', '/scratch/soroush1/memorability/muri1320/im0551.png', '/scratch/soroush1/memorability/muri1320/im0552.png', '/scratch/soroush1/memorability/muri1320/im0553.png']\n"
     ]
    },
    {
     "name": "stderr",
     "output_type": "stream",
     "text": [
      "\n",
      " 50%|█████     | 21/42 [00:01<00:00, 22.32it/s]\u001b[A"
     ]
    },
    {
     "name": "stdout",
     "output_type": "stream",
     "text": [
      "['/scratch/soroush1/memorability/muri1320/im0576.png', '/scratch/soroush1/memorability/muri1320/im0577.png', '/scratch/soroush1/memorability/muri1320/im0578.png', '/scratch/soroush1/memorability/muri1320/im0579.png', '/scratch/soroush1/memorability/muri1320/im0580.png', '/scratch/soroush1/memorability/muri1320/im0581.png', '/scratch/soroush1/memorability/muri1320/im0582.png', '/scratch/soroush1/memorability/muri1320/im0583.png', '/scratch/soroush1/memorability/muri1320/im0584.png', '/scratch/soroush1/memorability/muri1320/im0585.png']\n",
      "['/scratch/soroush1/memorability/muri1320/im0608.png', '/scratch/soroush1/memorability/muri1320/im0609.png', '/scratch/soroush1/memorability/muri1320/im0610.png', '/scratch/soroush1/memorability/muri1320/im0611.png', '/scratch/soroush1/memorability/muri1320/im0612.png', '/scratch/soroush1/memorability/muri1320/im0613.png', '/scratch/soroush1/memorability/muri1320/im0614.png', '/scratch/soroush1/memorability/muri1320/im0615.png', '/scratch/soroush1/memorability/muri1320/im0616.png', '/scratch/soroush1/memorability/muri1320/im0617.png']\n",
      "['/scratch/soroush1/memorability/muri1320/im0640.png', '/scratch/soroush1/memorability/muri1320/im0641.png', '/scratch/soroush1/memorability/muri1320/im0642.png', '/scratch/soroush1/memorability/muri1320/im0643.png', '/scratch/soroush1/memorability/muri1320/im0644.png', '/scratch/soroush1/memorability/muri1320/im0645.png', '/scratch/soroush1/memorability/muri1320/im0646.png', '/scratch/soroush1/memorability/muri1320/im0647.png', '/scratch/soroush1/memorability/muri1320/im0648.png', '/scratch/soroush1/memorability/muri1320/im0649.png']\n",
      "['/scratch/soroush1/memorability/muri1320/im0672.png', '/scratch/soroush1/memorability/muri1320/im0673.png', '/scratch/soroush1/memorability/muri1320/im0674.png', '/scratch/soroush1/memorability/muri1320/im0675.png', '/scratch/soroush1/memorability/muri1320/im0676.png', '/scratch/soroush1/memorability/muri1320/im0677.png', '/scratch/soroush1/memorability/muri1320/im0678.png', '/scratch/soroush1/memorability/muri1320/im0679.png', '/scratch/soroush1/memorability/muri1320/im0680.png', '/scratch/soroush1/memorability/muri1320/im0681.png']\n",
      "['/scratch/soroush1/memorability/muri1320/im0704.png', '/scratch/soroush1/memorability/muri1320/im0705.png', '/scratch/soroush1/memorability/muri1320/im0706.png', '/scratch/soroush1/memorability/muri1320/im0707.png', '/scratch/soroush1/memorability/muri1320/im0708.png', '/scratch/soroush1/memorability/muri1320/im0709.png', '/scratch/soroush1/memorability/muri1320/im0710.png', '/scratch/soroush1/memorability/muri1320/im0711.png', '/scratch/soroush1/memorability/muri1320/im0712.png', '/scratch/soroush1/memorability/muri1320/im0713.png']\n"
     ]
    },
    {
     "name": "stderr",
     "output_type": "stream",
     "text": [
      "\n",
      " 57%|█████▋    | 24/42 [00:01<00:00, 22.93it/s]\u001b[A\n",
      " 64%|██████▍   | 27/42 [00:01<00:00, 23.37it/s]\u001b[A"
     ]
    },
    {
     "name": "stdout",
     "output_type": "stream",
     "text": [
      "['/scratch/soroush1/memorability/muri1320/im0736.png', '/scratch/soroush1/memorability/muri1320/im0737.png', '/scratch/soroush1/memorability/muri1320/im0738.png', '/scratch/soroush1/memorability/muri1320/im0739.png', '/scratch/soroush1/memorability/muri1320/im0740.png', '/scratch/soroush1/memorability/muri1320/im0741.png', '/scratch/soroush1/memorability/muri1320/im0742.png', '/scratch/soroush1/memorability/muri1320/im0743.png', '/scratch/soroush1/memorability/muri1320/im0744.png', '/scratch/soroush1/memorability/muri1320/im0745.png']\n",
      "['/scratch/soroush1/memorability/muri1320/im0768.png', '/scratch/soroush1/memorability/muri1320/im0769.png', '/scratch/soroush1/memorability/muri1320/im0770.png', '/scratch/soroush1/memorability/muri1320/im0771.png', '/scratch/soroush1/memorability/muri1320/im0772.png', '/scratch/soroush1/memorability/muri1320/im0773.png', '/scratch/soroush1/memorability/muri1320/im0774.png', '/scratch/soroush1/memorability/muri1320/im0775.png', '/scratch/soroush1/memorability/muri1320/im0776.png', '/scratch/soroush1/memorability/muri1320/im0777.png']\n",
      "['/scratch/soroush1/memorability/muri1320/im0800.png', '/scratch/soroush1/memorability/muri1320/im0801.png', '/scratch/soroush1/memorability/muri1320/im0802.png', '/scratch/soroush1/memorability/muri1320/im0803.png', '/scratch/soroush1/memorability/muri1320/im0804.png', '/scratch/soroush1/memorability/muri1320/im0805.png', '/scratch/soroush1/memorability/muri1320/im0806.png', '/scratch/soroush1/memorability/muri1320/im0807.png', '/scratch/soroush1/memorability/muri1320/im0808.png', '/scratch/soroush1/memorability/muri1320/im0809.png']\n",
      "['/scratch/soroush1/memorability/muri1320/im0832.png', '/scratch/soroush1/memorability/muri1320/im0833.png', '/scratch/soroush1/memorability/muri1320/im0834.png', '/scratch/soroush1/memorability/muri1320/im0835.png', '/scratch/soroush1/memorability/muri1320/im0836.png', '/scratch/soroush1/memorability/muri1320/im0837.png', '/scratch/soroush1/memorability/muri1320/im0838.png', '/scratch/soroush1/memorability/muri1320/im0839.png', '/scratch/soroush1/memorability/muri1320/im0840.png', '/scratch/soroush1/memorability/muri1320/im0841.png']\n",
      "['/scratch/soroush1/memorability/muri1320/im0864.png', '/scratch/soroush1/memorability/muri1320/im0865.png', '/scratch/soroush1/memorability/muri1320/im0866.png', '/scratch/soroush1/memorability/muri1320/im0867.png', '/scratch/soroush1/memorability/muri1320/im0868.png', '/scratch/soroush1/memorability/muri1320/im0869.png', '/scratch/soroush1/memorability/muri1320/im0870.png', '/scratch/soroush1/memorability/muri1320/im0871.png', '/scratch/soroush1/memorability/muri1320/im0872.png', '/scratch/soroush1/memorability/muri1320/im0873.png']\n"
     ]
    },
    {
     "name": "stderr",
     "output_type": "stream",
     "text": [
      "\n",
      " 71%|███████▏  | 30/42 [00:01<00:00, 23.42it/s]\u001b[A\n",
      " 79%|███████▊  | 33/42 [00:01<00:00, 23.79it/s]\u001b[A"
     ]
    },
    {
     "name": "stdout",
     "output_type": "stream",
     "text": [
      "['/scratch/soroush1/memorability/muri1320/im0896.png', '/scratch/soroush1/memorability/muri1320/im0897.png', '/scratch/soroush1/memorability/muri1320/im0898.png', '/scratch/soroush1/memorability/muri1320/im0899.png', '/scratch/soroush1/memorability/muri1320/im0900.png', '/scratch/soroush1/memorability/muri1320/im0901.png', '/scratch/soroush1/memorability/muri1320/im0902.png', '/scratch/soroush1/memorability/muri1320/im0903.png', '/scratch/soroush1/memorability/muri1320/im0904.png', '/scratch/soroush1/memorability/muri1320/im0905.png']\n",
      "['/scratch/soroush1/memorability/muri1320/im0928.png', '/scratch/soroush1/memorability/muri1320/im0929.png', '/scratch/soroush1/memorability/muri1320/im0930.png', '/scratch/soroush1/memorability/muri1320/im0931.png', '/scratch/soroush1/memorability/muri1320/im0932.png', '/scratch/soroush1/memorability/muri1320/im0933.png', '/scratch/soroush1/memorability/muri1320/im0934.png', '/scratch/soroush1/memorability/muri1320/im0935.png', '/scratch/soroush1/memorability/muri1320/im0936.png', '/scratch/soroush1/memorability/muri1320/im0937.png']\n",
      "['/scratch/soroush1/memorability/muri1320/im0960.png', '/scratch/soroush1/memorability/muri1320/im0961.png', '/scratch/soroush1/memorability/muri1320/im0962.png', '/scratch/soroush1/memorability/muri1320/im0963.png', '/scratch/soroush1/memorability/muri1320/im0964.png', '/scratch/soroush1/memorability/muri1320/im0965.png', '/scratch/soroush1/memorability/muri1320/im0966.png', '/scratch/soroush1/memorability/muri1320/im0967.png', '/scratch/soroush1/memorability/muri1320/im0968.png', '/scratch/soroush1/memorability/muri1320/im0969.png']\n",
      "['/scratch/soroush1/memorability/muri1320/im0992.png', '/scratch/soroush1/memorability/muri1320/im0993.png', '/scratch/soroush1/memorability/muri1320/im0994.png', '/scratch/soroush1/memorability/muri1320/im0995.png', '/scratch/soroush1/memorability/muri1320/im0996.png', '/scratch/soroush1/memorability/muri1320/im0997.png', '/scratch/soroush1/memorability/muri1320/im0998.png', '/scratch/soroush1/memorability/muri1320/im0999.png', '/scratch/soroush1/memorability/muri1320/im1000.png', '/scratch/soroush1/memorability/muri1320/im1001.png']\n",
      "['/scratch/soroush1/memorability/muri1320/im1024.png', '/scratch/soroush1/memorability/muri1320/im1025.png', '/scratch/soroush1/memorability/muri1320/im1026.png', '/scratch/soroush1/memorability/muri1320/im1027.png', '/scratch/soroush1/memorability/muri1320/im1028.png', '/scratch/soroush1/memorability/muri1320/im1029.png', '/scratch/soroush1/memorability/muri1320/im1030.png', '/scratch/soroush1/memorability/muri1320/im1031.png', '/scratch/soroush1/memorability/muri1320/im1032.png', '/scratch/soroush1/memorability/muri1320/im1033.png']\n"
     ]
    },
    {
     "name": "stderr",
     "output_type": "stream",
     "text": [
      "\n",
      " 86%|████████▌ | 36/42 [00:01<00:00, 23.38it/s]\u001b[A"
     ]
    },
    {
     "name": "stdout",
     "output_type": "stream",
     "text": [
      "['/scratch/soroush1/memorability/muri1320/im1056.png', '/scratch/soroush1/memorability/muri1320/im1057.png', '/scratch/soroush1/memorability/muri1320/im1058.png', '/scratch/soroush1/memorability/muri1320/im1059.png', '/scratch/soroush1/memorability/muri1320/im1060.png', '/scratch/soroush1/memorability/muri1320/im1061.png', '/scratch/soroush1/memorability/muri1320/im1062.png', '/scratch/soroush1/memorability/muri1320/im1063.png', '/scratch/soroush1/memorability/muri1320/im1064.png', '/scratch/soroush1/memorability/muri1320/im1065.png']\n",
      "['/scratch/soroush1/memorability/muri1320/im1088.png', '/scratch/soroush1/memorability/muri1320/im1089.png', '/scratch/soroush1/memorability/muri1320/im1090.png', '/scratch/soroush1/memorability/muri1320/im1091.png', '/scratch/soroush1/memorability/muri1320/im1092.png', '/scratch/soroush1/memorability/muri1320/im1093.png', '/scratch/soroush1/memorability/muri1320/im1094.png', '/scratch/soroush1/memorability/muri1320/im1095.png', '/scratch/soroush1/memorability/muri1320/im1096.png', '/scratch/soroush1/memorability/muri1320/im1097.png']\n",
      "['/scratch/soroush1/memorability/muri1320/im1120.png', '/scratch/soroush1/memorability/muri1320/im1121.png', '/scratch/soroush1/memorability/muri1320/im1122.png', '/scratch/soroush1/memorability/muri1320/im1123.png', '/scratch/soroush1/memorability/muri1320/im1124.png', '/scratch/soroush1/memorability/muri1320/im1125.png', '/scratch/soroush1/memorability/muri1320/im1126.png', '/scratch/soroush1/memorability/muri1320/im1127.png', '/scratch/soroush1/memorability/muri1320/im1128.png', '/scratch/soroush1/memorability/muri1320/im1129.png']\n",
      "['/scratch/soroush1/memorability/muri1320/im1152.png', '/scratch/soroush1/memorability/muri1320/im1153.png', '/scratch/soroush1/memorability/muri1320/im1154.png', '/scratch/soroush1/memorability/muri1320/im1155.png', '/scratch/soroush1/memorability/muri1320/im1156.png', '/scratch/soroush1/memorability/muri1320/im1157.png', '/scratch/soroush1/memorability/muri1320/im1158.png', '/scratch/soroush1/memorability/muri1320/im1159.png', '/scratch/soroush1/memorability/muri1320/im1160.png', '/scratch/soroush1/memorability/muri1320/im1161.png']\n",
      "['/scratch/soroush1/memorability/muri1320/im1184.png', '/scratch/soroush1/memorability/muri1320/im1185.png', '/scratch/soroush1/memorability/muri1320/im1186.png', '/scratch/soroush1/memorability/muri1320/im1187.png', '/scratch/soroush1/memorability/muri1320/im1188.png', '/scratch/soroush1/memorability/muri1320/im1189.png', '/scratch/soroush1/memorability/muri1320/im1190.png', '/scratch/soroush1/memorability/muri1320/im1191.png', '/scratch/soroush1/memorability/muri1320/im1192.png', '/scratch/soroush1/memorability/muri1320/im1193.png']\n"
     ]
    },
    {
     "name": "stderr",
     "output_type": "stream",
     "text": [
      "\n",
      "100%|██████████| 42/42 [00:01<00:00, 21.67it/s]\u001b[A"
     ]
    },
    {
     "name": "stdout",
     "output_type": "stream",
     "text": [
      "['/scratch/soroush1/memorability/muri1320/im1216.png', '/scratch/soroush1/memorability/muri1320/im1217.png', '/scratch/soroush1/memorability/muri1320/im1218.png', '/scratch/soroush1/memorability/muri1320/im1219.png', '/scratch/soroush1/memorability/muri1320/im1220.png', '/scratch/soroush1/memorability/muri1320/im1221.png', '/scratch/soroush1/memorability/muri1320/im1222.png', '/scratch/soroush1/memorability/muri1320/im1223.png', '/scratch/soroush1/memorability/muri1320/im1224.png', '/scratch/soroush1/memorability/muri1320/im1225.png']\n",
      "['/scratch/soroush1/memorability/muri1320/im1248.png', '/scratch/soroush1/memorability/muri1320/im1249.png', '/scratch/soroush1/memorability/muri1320/im1250.png', '/scratch/soroush1/memorability/muri1320/im1251.png', '/scratch/soroush1/memorability/muri1320/im1252.png', '/scratch/soroush1/memorability/muri1320/im1253.png', '/scratch/soroush1/memorability/muri1320/im1254.png', '/scratch/soroush1/memorability/muri1320/im1255.png', '/scratch/soroush1/memorability/muri1320/im1256.png', '/scratch/soroush1/memorability/muri1320/im1257.png']\n",
      "['/scratch/soroush1/memorability/muri1320/im1280.png', '/scratch/soroush1/memorability/muri1320/im1281.png', '/scratch/soroush1/memorability/muri1320/im1282.png', '/scratch/soroush1/memorability/muri1320/im1283.png', '/scratch/soroush1/memorability/muri1320/im1284.png', '/scratch/soroush1/memorability/muri1320/im1285.png', '/scratch/soroush1/memorability/muri1320/im1286.png', '/scratch/soroush1/memorability/muri1320/im1287.png', '/scratch/soroush1/memorability/muri1320/im1288.png', '/scratch/soroush1/memorability/muri1320/im1289.png']\n",
      "['/scratch/soroush1/memorability/muri1320/im1312.png', '/scratch/soroush1/memorability/muri1320/im1313.png', '/scratch/soroush1/memorability/muri1320/im1314.png', '/scratch/soroush1/memorability/muri1320/im1315.png', '/scratch/soroush1/memorability/muri1320/im1316.png', '/scratch/soroush1/memorability/muri1320/im1317.png', '/scratch/soroush1/memorability/muri1320/im1318.png', '/scratch/soroush1/memorability/muri1320/im1319.png']\n",
      "Concatenated features shape: (1320, 100352)\n",
      "Total number of images: 1320\n",
      "Model: resnet50, Task: diffInitRes0, Layer: IT, Shape: (1320, 100352)\n"
     ]
    },
    {
     "name": "stderr",
     "output_type": "stream",
     "text": [
      "\n",
      "different_run:   8%|▊         | 1/13 [00:03<00:36,  3.05s/it]"
     ]
    },
    {
     "name": "stdout",
     "output_type": "stream",
     "text": [
      "Features saved to ./features/muri1320_resnet50_diffInitRes0_IT.h5\n",
      "(1320, 100352)\n",
      "device = device(type='cuda')\n",
      "list(ckpt.keys())[:10] = ['module.conv1.weight', 'module.bn1.weight', 'module.bn1.bias', 'module.bn1.running_mean', 'module.bn1.running_var', 'module.bn1.num_batches_tracked', 'module.layer1.0.conv1.weight', 'module.layer1.0.bn1.weight', 'module.layer1.0.bn1.bias', 'module.layer1.0.bn1.running_mean']\n",
      "list(ckpt.keys())[:10] = ['conv1.weight', 'bn1.weight', 'bn1.bias', 'bn1.running_mean', 'bn1.running_var', 'bn1.num_batches_tracked', 'layer1.0.conv1.weight', 'layer1.0.bn1.weight', 'layer1.0.bn1.bias', 'layer1.0.bn1.running_mean']\n"
     ]
    },
    {
     "name": "stderr",
     "output_type": "stream",
     "text": [
      "\n",
      "  0%|          | 0/42 [00:00<?, ?it/s]\u001b[A\n",
      "  2%|▏         | 1/42 [00:00<00:08,  5.11it/s]\u001b[A\n",
      " 10%|▉         | 4/42 [00:00<00:02, 15.09it/s]\u001b[A"
     ]
    },
    {
     "name": "stdout",
     "output_type": "stream",
     "text": [
      "['/scratch/soroush1/memorability/muri1320/im0000.png', '/scratch/soroush1/memorability/muri1320/im0001.png', '/scratch/soroush1/memorability/muri1320/im0002.png', '/scratch/soroush1/memorability/muri1320/im0003.png', '/scratch/soroush1/memorability/muri1320/im0004.png', '/scratch/soroush1/memorability/muri1320/im0005.png', '/scratch/soroush1/memorability/muri1320/im0006.png', '/scratch/soroush1/memorability/muri1320/im0007.png', '/scratch/soroush1/memorability/muri1320/im0008.png', '/scratch/soroush1/memorability/muri1320/im0009.png']\n",
      "['/scratch/soroush1/memorability/muri1320/im0032.png', '/scratch/soroush1/memorability/muri1320/im0033.png', '/scratch/soroush1/memorability/muri1320/im0034.png', '/scratch/soroush1/memorability/muri1320/im0035.png', '/scratch/soroush1/memorability/muri1320/im0036.png', '/scratch/soroush1/memorability/muri1320/im0037.png', '/scratch/soroush1/memorability/muri1320/im0038.png', '/scratch/soroush1/memorability/muri1320/im0039.png', '/scratch/soroush1/memorability/muri1320/im0040.png', '/scratch/soroush1/memorability/muri1320/im0041.png']\n",
      "['/scratch/soroush1/memorability/muri1320/im0064.png', '/scratch/soroush1/memorability/muri1320/im0065.png', '/scratch/soroush1/memorability/muri1320/im0066.png', '/scratch/soroush1/memorability/muri1320/im0067.png', '/scratch/soroush1/memorability/muri1320/im0068.png', '/scratch/soroush1/memorability/muri1320/im0069.png', '/scratch/soroush1/memorability/muri1320/im0070.png', '/scratch/soroush1/memorability/muri1320/im0071.png', '/scratch/soroush1/memorability/muri1320/im0072.png', '/scratch/soroush1/memorability/muri1320/im0073.png']\n",
      "['/scratch/soroush1/memorability/muri1320/im0096.png', '/scratch/soroush1/memorability/muri1320/im0097.png', '/scratch/soroush1/memorability/muri1320/im0098.png', '/scratch/soroush1/memorability/muri1320/im0099.png', '/scratch/soroush1/memorability/muri1320/im0100.png', '/scratch/soroush1/memorability/muri1320/im0101.png', '/scratch/soroush1/memorability/muri1320/im0102.png', '/scratch/soroush1/memorability/muri1320/im0103.png', '/scratch/soroush1/memorability/muri1320/im0104.png', '/scratch/soroush1/memorability/muri1320/im0105.png']\n",
      "['/scratch/soroush1/memorability/muri1320/im0128.png', '/scratch/soroush1/memorability/muri1320/im0129.png', '/scratch/soroush1/memorability/muri1320/im0130.png', '/scratch/soroush1/memorability/muri1320/im0131.png', '/scratch/soroush1/memorability/muri1320/im0132.png', '/scratch/soroush1/memorability/muri1320/im0133.png', '/scratch/soroush1/memorability/muri1320/im0134.png', '/scratch/soroush1/memorability/muri1320/im0135.png', '/scratch/soroush1/memorability/muri1320/im0136.png', '/scratch/soroush1/memorability/muri1320/im0137.png']\n"
     ]
    },
    {
     "name": "stderr",
     "output_type": "stream",
     "text": [
      "\n",
      " 14%|█▍        | 6/42 [00:00<00:02, 16.48it/s]\u001b[A\n",
      " 21%|██▏       | 9/42 [00:00<00:01, 19.32it/s]\u001b[A"
     ]
    },
    {
     "name": "stdout",
     "output_type": "stream",
     "text": [
      "['/scratch/soroush1/memorability/muri1320/im0160.png', '/scratch/soroush1/memorability/muri1320/im0161.png', '/scratch/soroush1/memorability/muri1320/im0162.png', '/scratch/soroush1/memorability/muri1320/im0163.png', '/scratch/soroush1/memorability/muri1320/im0164.png', '/scratch/soroush1/memorability/muri1320/im0165.png', '/scratch/soroush1/memorability/muri1320/im0166.png', '/scratch/soroush1/memorability/muri1320/im0167.png', '/scratch/soroush1/memorability/muri1320/im0168.png', '/scratch/soroush1/memorability/muri1320/im0169.png']\n",
      "['/scratch/soroush1/memorability/muri1320/im0192.png', '/scratch/soroush1/memorability/muri1320/im0193.png', '/scratch/soroush1/memorability/muri1320/im0194.png', '/scratch/soroush1/memorability/muri1320/im0195.png', '/scratch/soroush1/memorability/muri1320/im0196.png', '/scratch/soroush1/memorability/muri1320/im0197.png', '/scratch/soroush1/memorability/muri1320/im0198.png', '/scratch/soroush1/memorability/muri1320/im0199.png', '/scratch/soroush1/memorability/muri1320/im0200.png', '/scratch/soroush1/memorability/muri1320/im0201.png']\n",
      "['/scratch/soroush1/memorability/muri1320/im0224.png', '/scratch/soroush1/memorability/muri1320/im0225.png', '/scratch/soroush1/memorability/muri1320/im0226.png', '/scratch/soroush1/memorability/muri1320/im0227.png', '/scratch/soroush1/memorability/muri1320/im0228.png', '/scratch/soroush1/memorability/muri1320/im0229.png', '/scratch/soroush1/memorability/muri1320/im0230.png', '/scratch/soroush1/memorability/muri1320/im0231.png', '/scratch/soroush1/memorability/muri1320/im0232.png', '/scratch/soroush1/memorability/muri1320/im0233.png']\n",
      "['/scratch/soroush1/memorability/muri1320/im0256.png', '/scratch/soroush1/memorability/muri1320/im0257.png', '/scratch/soroush1/memorability/muri1320/im0258.png', '/scratch/soroush1/memorability/muri1320/im0259.png', '/scratch/soroush1/memorability/muri1320/im0260.png', '/scratch/soroush1/memorability/muri1320/im0261.png', '/scratch/soroush1/memorability/muri1320/im0262.png', '/scratch/soroush1/memorability/muri1320/im0263.png', '/scratch/soroush1/memorability/muri1320/im0264.png', '/scratch/soroush1/memorability/muri1320/im0265.png']\n",
      "['/scratch/soroush1/memorability/muri1320/im0288.png', '/scratch/soroush1/memorability/muri1320/im0289.png', '/scratch/soroush1/memorability/muri1320/im0290.png', '/scratch/soroush1/memorability/muri1320/im0291.png', '/scratch/soroush1/memorability/muri1320/im0292.png', '/scratch/soroush1/memorability/muri1320/im0293.png', '/scratch/soroush1/memorability/muri1320/im0294.png', '/scratch/soroush1/memorability/muri1320/im0295.png', '/scratch/soroush1/memorability/muri1320/im0296.png', '/scratch/soroush1/memorability/muri1320/im0297.png']\n"
     ]
    },
    {
     "name": "stderr",
     "output_type": "stream",
     "text": [
      "\n",
      " 29%|██▊       | 12/42 [00:00<00:01, 21.75it/s]\u001b[A\n",
      " 36%|███▌      | 15/42 [00:00<00:01, 21.41it/s]\u001b[A"
     ]
    },
    {
     "name": "stdout",
     "output_type": "stream",
     "text": [
      "['/scratch/soroush1/memorability/muri1320/im0320.png', '/scratch/soroush1/memorability/muri1320/im0321.png', '/scratch/soroush1/memorability/muri1320/im0322.png', '/scratch/soroush1/memorability/muri1320/im0323.png', '/scratch/soroush1/memorability/muri1320/im0324.png', '/scratch/soroush1/memorability/muri1320/im0325.png', '/scratch/soroush1/memorability/muri1320/im0326.png', '/scratch/soroush1/memorability/muri1320/im0327.png', '/scratch/soroush1/memorability/muri1320/im0328.png', '/scratch/soroush1/memorability/muri1320/im0329.png']\n",
      "['/scratch/soroush1/memorability/muri1320/im0352.png', '/scratch/soroush1/memorability/muri1320/im0353.png', '/scratch/soroush1/memorability/muri1320/im0354.png', '/scratch/soroush1/memorability/muri1320/im0355.png', '/scratch/soroush1/memorability/muri1320/im0356.png', '/scratch/soroush1/memorability/muri1320/im0357.png', '/scratch/soroush1/memorability/muri1320/im0358.png', '/scratch/soroush1/memorability/muri1320/im0359.png', '/scratch/soroush1/memorability/muri1320/im0360.png', '/scratch/soroush1/memorability/muri1320/im0361.png']\n",
      "['/scratch/soroush1/memorability/muri1320/im0384.png', '/scratch/soroush1/memorability/muri1320/im0385.png', '/scratch/soroush1/memorability/muri1320/im0386.png', '/scratch/soroush1/memorability/muri1320/im0387.png', '/scratch/soroush1/memorability/muri1320/im0388.png', '/scratch/soroush1/memorability/muri1320/im0389.png', '/scratch/soroush1/memorability/muri1320/im0390.png', '/scratch/soroush1/memorability/muri1320/im0391.png', '/scratch/soroush1/memorability/muri1320/im0392.png', '/scratch/soroush1/memorability/muri1320/im0393.png']\n",
      "['/scratch/soroush1/memorability/muri1320/im0416.png', '/scratch/soroush1/memorability/muri1320/im0417.png', '/scratch/soroush1/memorability/muri1320/im0418.png', '/scratch/soroush1/memorability/muri1320/im0419.png', '/scratch/soroush1/memorability/muri1320/im0420.png', '/scratch/soroush1/memorability/muri1320/im0421.png', '/scratch/soroush1/memorability/muri1320/im0422.png', '/scratch/soroush1/memorability/muri1320/im0423.png', '/scratch/soroush1/memorability/muri1320/im0424.png', '/scratch/soroush1/memorability/muri1320/im0425.png']\n",
      "['/scratch/soroush1/memorability/muri1320/im0448.png', '/scratch/soroush1/memorability/muri1320/im0449.png', '/scratch/soroush1/memorability/muri1320/im0450.png', '/scratch/soroush1/memorability/muri1320/im0451.png', '/scratch/soroush1/memorability/muri1320/im0452.png', '/scratch/soroush1/memorability/muri1320/im0453.png', '/scratch/soroush1/memorability/muri1320/im0454.png', '/scratch/soroush1/memorability/muri1320/im0455.png', '/scratch/soroush1/memorability/muri1320/im0456.png', '/scratch/soroush1/memorability/muri1320/im0457.png']\n",
      "['/scratch/soroush1/memorability/muri1320/im0480.png', '/scratch/soroush1/memorability/muri1320/im0481.png', '/scratch/soroush1/memorability/muri1320/im0482.png', '/scratch/soroush1/memorability/muri1320/im0483.png', '/scratch/soroush1/memorability/muri1320/im0484.png', '/scratch/soroush1/memorability/muri1320/im0485.png', '/scratch/soroush1/memorability/muri1320/im0486.png', '/scratch/soroush1/memorability/muri1320/im0487.png', '/scratch/soroush1/memorability/muri1320/im0488.png', '/scratch/soroush1/memorability/muri1320/im0489.png']\n"
     ]
    },
    {
     "name": "stderr",
     "output_type": "stream",
     "text": [
      "\n",
      " 43%|████▎     | 18/42 [00:00<00:01, 22.71it/s]\u001b[A\n",
      " 50%|█████     | 21/42 [00:01<00:00, 23.29it/s]\u001b[A"
     ]
    },
    {
     "name": "stdout",
     "output_type": "stream",
     "text": [
      "['/scratch/soroush1/memorability/muri1320/im0512.png', '/scratch/soroush1/memorability/muri1320/im0513.png', '/scratch/soroush1/memorability/muri1320/im0514.png', '/scratch/soroush1/memorability/muri1320/im0515.png', '/scratch/soroush1/memorability/muri1320/im0516.png', '/scratch/soroush1/memorability/muri1320/im0517.png', '/scratch/soroush1/memorability/muri1320/im0518.png', '/scratch/soroush1/memorability/muri1320/im0519.png', '/scratch/soroush1/memorability/muri1320/im0520.png', '/scratch/soroush1/memorability/muri1320/im0521.png']\n",
      "['/scratch/soroush1/memorability/muri1320/im0544.png', '/scratch/soroush1/memorability/muri1320/im0545.png', '/scratch/soroush1/memorability/muri1320/im0546.png', '/scratch/soroush1/memorability/muri1320/im0547.png', '/scratch/soroush1/memorability/muri1320/im0548.png', '/scratch/soroush1/memorability/muri1320/im0549.png', '/scratch/soroush1/memorability/muri1320/im0550.png', '/scratch/soroush1/memorability/muri1320/im0551.png', '/scratch/soroush1/memorability/muri1320/im0552.png', '/scratch/soroush1/memorability/muri1320/im0553.png']\n",
      "['/scratch/soroush1/memorability/muri1320/im0576.png', '/scratch/soroush1/memorability/muri1320/im0577.png', '/scratch/soroush1/memorability/muri1320/im0578.png', '/scratch/soroush1/memorability/muri1320/im0579.png', '/scratch/soroush1/memorability/muri1320/im0580.png', '/scratch/soroush1/memorability/muri1320/im0581.png', '/scratch/soroush1/memorability/muri1320/im0582.png', '/scratch/soroush1/memorability/muri1320/im0583.png', '/scratch/soroush1/memorability/muri1320/im0584.png', '/scratch/soroush1/memorability/muri1320/im0585.png']\n",
      "['/scratch/soroush1/memorability/muri1320/im0608.png', '/scratch/soroush1/memorability/muri1320/im0609.png', '/scratch/soroush1/memorability/muri1320/im0610.png', '/scratch/soroush1/memorability/muri1320/im0611.png', '/scratch/soroush1/memorability/muri1320/im0612.png', '/scratch/soroush1/memorability/muri1320/im0613.png', '/scratch/soroush1/memorability/muri1320/im0614.png', '/scratch/soroush1/memorability/muri1320/im0615.png', '/scratch/soroush1/memorability/muri1320/im0616.png', '/scratch/soroush1/memorability/muri1320/im0617.png']\n",
      "['/scratch/soroush1/memorability/muri1320/im0640.png', '/scratch/soroush1/memorability/muri1320/im0641.png', '/scratch/soroush1/memorability/muri1320/im0642.png', '/scratch/soroush1/memorability/muri1320/im0643.png', '/scratch/soroush1/memorability/muri1320/im0644.png', '/scratch/soroush1/memorability/muri1320/im0645.png', '/scratch/soroush1/memorability/muri1320/im0646.png', '/scratch/soroush1/memorability/muri1320/im0647.png', '/scratch/soroush1/memorability/muri1320/im0648.png', '/scratch/soroush1/memorability/muri1320/im0649.png']\n",
      "['/scratch/soroush1/memorability/muri1320/im0672.png', '/scratch/soroush1/memorability/muri1320/im0673.png', '/scratch/soroush1/memorability/muri1320/im0674.png', '/scratch/soroush1/memorability/muri1320/im0675.png', '/scratch/soroush1/memorability/muri1320/im0676.png', '/scratch/soroush1/memorability/muri1320/im0677.png', '/scratch/soroush1/memorability/muri1320/im0678.png', '/scratch/soroush1/memorability/muri1320/im0679.png', '/scratch/soroush1/memorability/muri1320/im0680.png', '/scratch/soroush1/memorability/muri1320/im0681.png']\n"
     ]
    },
    {
     "name": "stderr",
     "output_type": "stream",
     "text": [
      "\n",
      " 57%|█████▋    | 24/42 [00:01<00:00, 24.94it/s]\u001b[A\n",
      " 64%|██████▍   | 27/42 [00:01<00:00, 22.62it/s]\u001b[A"
     ]
    },
    {
     "name": "stdout",
     "output_type": "stream",
     "text": [
      "['/scratch/soroush1/memorability/muri1320/im0704.png', '/scratch/soroush1/memorability/muri1320/im0705.png', '/scratch/soroush1/memorability/muri1320/im0706.png', '/scratch/soroush1/memorability/muri1320/im0707.png', '/scratch/soroush1/memorability/muri1320/im0708.png', '/scratch/soroush1/memorability/muri1320/im0709.png', '/scratch/soroush1/memorability/muri1320/im0710.png', '/scratch/soroush1/memorability/muri1320/im0711.png', '/scratch/soroush1/memorability/muri1320/im0712.png', '/scratch/soroush1/memorability/muri1320/im0713.png']\n",
      "['/scratch/soroush1/memorability/muri1320/im0736.png', '/scratch/soroush1/memorability/muri1320/im0737.png', '/scratch/soroush1/memorability/muri1320/im0738.png', '/scratch/soroush1/memorability/muri1320/im0739.png', '/scratch/soroush1/memorability/muri1320/im0740.png', '/scratch/soroush1/memorability/muri1320/im0741.png', '/scratch/soroush1/memorability/muri1320/im0742.png', '/scratch/soroush1/memorability/muri1320/im0743.png', '/scratch/soroush1/memorability/muri1320/im0744.png', '/scratch/soroush1/memorability/muri1320/im0745.png']\n",
      "['/scratch/soroush1/memorability/muri1320/im0768.png', '/scratch/soroush1/memorability/muri1320/im0769.png', '/scratch/soroush1/memorability/muri1320/im0770.png', '/scratch/soroush1/memorability/muri1320/im0771.png', '/scratch/soroush1/memorability/muri1320/im0772.png', '/scratch/soroush1/memorability/muri1320/im0773.png', '/scratch/soroush1/memorability/muri1320/im0774.png', '/scratch/soroush1/memorability/muri1320/im0775.png', '/scratch/soroush1/memorability/muri1320/im0776.png', '/scratch/soroush1/memorability/muri1320/im0777.png']\n",
      "['/scratch/soroush1/memorability/muri1320/im0800.png', '/scratch/soroush1/memorability/muri1320/im0801.png', '/scratch/soroush1/memorability/muri1320/im0802.png', '/scratch/soroush1/memorability/muri1320/im0803.png', '/scratch/soroush1/memorability/muri1320/im0804.png', '/scratch/soroush1/memorability/muri1320/im0805.png', '/scratch/soroush1/memorability/muri1320/im0806.png', '/scratch/soroush1/memorability/muri1320/im0807.png', '/scratch/soroush1/memorability/muri1320/im0808.png', '/scratch/soroush1/memorability/muri1320/im0809.png']\n",
      "['/scratch/soroush1/memorability/muri1320/im0832.png', '/scratch/soroush1/memorability/muri1320/im0833.png', '/scratch/soroush1/memorability/muri1320/im0834.png', '/scratch/soroush1/memorability/muri1320/im0835.png', '/scratch/soroush1/memorability/muri1320/im0836.png', '/scratch/soroush1/memorability/muri1320/im0837.png', '/scratch/soroush1/memorability/muri1320/im0838.png', '/scratch/soroush1/memorability/muri1320/im0839.png', '/scratch/soroush1/memorability/muri1320/im0840.png', '/scratch/soroush1/memorability/muri1320/im0841.png']\n",
      "['/scratch/soroush1/memorability/muri1320/im0864.png', '/scratch/soroush1/memorability/muri1320/im0865.png', '/scratch/soroush1/memorability/muri1320/im0866.png', '/scratch/soroush1/memorability/muri1320/im0867.png', '/scratch/soroush1/memorability/muri1320/im0868.png', '/scratch/soroush1/memorability/muri1320/im0869.png', '/scratch/soroush1/memorability/muri1320/im0870.png', '/scratch/soroush1/memorability/muri1320/im0871.png', '/scratch/soroush1/memorability/muri1320/im0872.png', '/scratch/soroush1/memorability/muri1320/im0873.png']\n"
     ]
    },
    {
     "name": "stderr",
     "output_type": "stream",
     "text": [
      "\n",
      " 74%|███████▍  | 31/42 [00:01<00:00, 23.69it/s]\u001b[A"
     ]
    },
    {
     "name": "stdout",
     "output_type": "stream",
     "text": [
      "['/scratch/soroush1/memorability/muri1320/im0896.png', '/scratch/soroush1/memorability/muri1320/im0897.png', '/scratch/soroush1/memorability/muri1320/im0898.png', '/scratch/soroush1/memorability/muri1320/im0899.png', '/scratch/soroush1/memorability/muri1320/im0900.png', '/scratch/soroush1/memorability/muri1320/im0901.png', '/scratch/soroush1/memorability/muri1320/im0902.png', '/scratch/soroush1/memorability/muri1320/im0903.png', '/scratch/soroush1/memorability/muri1320/im0904.png', '/scratch/soroush1/memorability/muri1320/im0905.png']\n",
      "['/scratch/soroush1/memorability/muri1320/im0928.png', '/scratch/soroush1/memorability/muri1320/im0929.png', '/scratch/soroush1/memorability/muri1320/im0930.png', '/scratch/soroush1/memorability/muri1320/im0931.png', '/scratch/soroush1/memorability/muri1320/im0932.png', '/scratch/soroush1/memorability/muri1320/im0933.png', '/scratch/soroush1/memorability/muri1320/im0934.png', '/scratch/soroush1/memorability/muri1320/im0935.png', '/scratch/soroush1/memorability/muri1320/im0936.png', '/scratch/soroush1/memorability/muri1320/im0937.png']\n",
      "['/scratch/soroush1/memorability/muri1320/im0960.png', '/scratch/soroush1/memorability/muri1320/im0961.png', '/scratch/soroush1/memorability/muri1320/im0962.png', '/scratch/soroush1/memorability/muri1320/im0963.png', '/scratch/soroush1/memorability/muri1320/im0964.png', '/scratch/soroush1/memorability/muri1320/im0965.png', '/scratch/soroush1/memorability/muri1320/im0966.png', '/scratch/soroush1/memorability/muri1320/im0967.png', '/scratch/soroush1/memorability/muri1320/im0968.png', '/scratch/soroush1/memorability/muri1320/im0969.png']\n",
      "['/scratch/soroush1/memorability/muri1320/im0992.png', '/scratch/soroush1/memorability/muri1320/im0993.png', '/scratch/soroush1/memorability/muri1320/im0994.png', '/scratch/soroush1/memorability/muri1320/im0995.png', '/scratch/soroush1/memorability/muri1320/im0996.png', '/scratch/soroush1/memorability/muri1320/im0997.png', '/scratch/soroush1/memorability/muri1320/im0998.png', '/scratch/soroush1/memorability/muri1320/im0999.png', '/scratch/soroush1/memorability/muri1320/im1000.png', '/scratch/soroush1/memorability/muri1320/im1001.png']\n",
      "['/scratch/soroush1/memorability/muri1320/im1024.png', '/scratch/soroush1/memorability/muri1320/im1025.png', '/scratch/soroush1/memorability/muri1320/im1026.png', '/scratch/soroush1/memorability/muri1320/im1027.png', '/scratch/soroush1/memorability/muri1320/im1028.png', '/scratch/soroush1/memorability/muri1320/im1029.png', '/scratch/soroush1/memorability/muri1320/im1030.png', '/scratch/soroush1/memorability/muri1320/im1031.png', '/scratch/soroush1/memorability/muri1320/im1032.png', '/scratch/soroush1/memorability/muri1320/im1033.png']\n",
      "['/scratch/soroush1/memorability/muri1320/im1056.png', '/scratch/soroush1/memorability/muri1320/im1057.png', '/scratch/soroush1/memorability/muri1320/im1058.png', '/scratch/soroush1/memorability/muri1320/im1059.png', '/scratch/soroush1/memorability/muri1320/im1060.png', '/scratch/soroush1/memorability/muri1320/im1061.png', '/scratch/soroush1/memorability/muri1320/im1062.png', '/scratch/soroush1/memorability/muri1320/im1063.png', '/scratch/soroush1/memorability/muri1320/im1064.png', '/scratch/soroush1/memorability/muri1320/im1065.png']\n"
     ]
    },
    {
     "name": "stderr",
     "output_type": "stream",
     "text": [
      "\n",
      " 81%|████████  | 34/42 [00:01<00:00, 24.63it/s]\u001b[A\n",
      " 88%|████████▊ | 37/42 [00:01<00:00, 23.03it/s]\u001b[A"
     ]
    },
    {
     "name": "stdout",
     "output_type": "stream",
     "text": [
      "['/scratch/soroush1/memorability/muri1320/im1088.png', '/scratch/soroush1/memorability/muri1320/im1089.png', '/scratch/soroush1/memorability/muri1320/im1090.png', '/scratch/soroush1/memorability/muri1320/im1091.png', '/scratch/soroush1/memorability/muri1320/im1092.png', '/scratch/soroush1/memorability/muri1320/im1093.png', '/scratch/soroush1/memorability/muri1320/im1094.png', '/scratch/soroush1/memorability/muri1320/im1095.png', '/scratch/soroush1/memorability/muri1320/im1096.png', '/scratch/soroush1/memorability/muri1320/im1097.png']\n",
      "['/scratch/soroush1/memorability/muri1320/im1120.png', '/scratch/soroush1/memorability/muri1320/im1121.png', '/scratch/soroush1/memorability/muri1320/im1122.png', '/scratch/soroush1/memorability/muri1320/im1123.png', '/scratch/soroush1/memorability/muri1320/im1124.png', '/scratch/soroush1/memorability/muri1320/im1125.png', '/scratch/soroush1/memorability/muri1320/im1126.png', '/scratch/soroush1/memorability/muri1320/im1127.png', '/scratch/soroush1/memorability/muri1320/im1128.png', '/scratch/soroush1/memorability/muri1320/im1129.png']\n",
      "['/scratch/soroush1/memorability/muri1320/im1152.png', '/scratch/soroush1/memorability/muri1320/im1153.png', '/scratch/soroush1/memorability/muri1320/im1154.png', '/scratch/soroush1/memorability/muri1320/im1155.png', '/scratch/soroush1/memorability/muri1320/im1156.png', '/scratch/soroush1/memorability/muri1320/im1157.png', '/scratch/soroush1/memorability/muri1320/im1158.png', '/scratch/soroush1/memorability/muri1320/im1159.png', '/scratch/soroush1/memorability/muri1320/im1160.png', '/scratch/soroush1/memorability/muri1320/im1161.png']\n",
      "['/scratch/soroush1/memorability/muri1320/im1184.png', '/scratch/soroush1/memorability/muri1320/im1185.png', '/scratch/soroush1/memorability/muri1320/im1186.png', '/scratch/soroush1/memorability/muri1320/im1187.png', '/scratch/soroush1/memorability/muri1320/im1188.png', '/scratch/soroush1/memorability/muri1320/im1189.png', '/scratch/soroush1/memorability/muri1320/im1190.png', '/scratch/soroush1/memorability/muri1320/im1191.png', '/scratch/soroush1/memorability/muri1320/im1192.png', '/scratch/soroush1/memorability/muri1320/im1193.png']\n",
      "['/scratch/soroush1/memorability/muri1320/im1216.png', '/scratch/soroush1/memorability/muri1320/im1217.png', '/scratch/soroush1/memorability/muri1320/im1218.png', '/scratch/soroush1/memorability/muri1320/im1219.png', '/scratch/soroush1/memorability/muri1320/im1220.png', '/scratch/soroush1/memorability/muri1320/im1221.png', '/scratch/soroush1/memorability/muri1320/im1222.png', '/scratch/soroush1/memorability/muri1320/im1223.png', '/scratch/soroush1/memorability/muri1320/im1224.png', '/scratch/soroush1/memorability/muri1320/im1225.png']\n"
     ]
    },
    {
     "name": "stderr",
     "output_type": "stream",
     "text": [
      "\n",
      "100%|██████████| 42/42 [00:01<00:00, 21.63it/s]\u001b[A"
     ]
    },
    {
     "name": "stdout",
     "output_type": "stream",
     "text": [
      "['/scratch/soroush1/memorability/muri1320/im1248.png', '/scratch/soroush1/memorability/muri1320/im1249.png', '/scratch/soroush1/memorability/muri1320/im1250.png', '/scratch/soroush1/memorability/muri1320/im1251.png', '/scratch/soroush1/memorability/muri1320/im1252.png', '/scratch/soroush1/memorability/muri1320/im1253.png', '/scratch/soroush1/memorability/muri1320/im1254.png', '/scratch/soroush1/memorability/muri1320/im1255.png', '/scratch/soroush1/memorability/muri1320/im1256.png', '/scratch/soroush1/memorability/muri1320/im1257.png']\n",
      "['/scratch/soroush1/memorability/muri1320/im1280.png', '/scratch/soroush1/memorability/muri1320/im1281.png', '/scratch/soroush1/memorability/muri1320/im1282.png', '/scratch/soroush1/memorability/muri1320/im1283.png', '/scratch/soroush1/memorability/muri1320/im1284.png', '/scratch/soroush1/memorability/muri1320/im1285.png', '/scratch/soroush1/memorability/muri1320/im1286.png', '/scratch/soroush1/memorability/muri1320/im1287.png', '/scratch/soroush1/memorability/muri1320/im1288.png', '/scratch/soroush1/memorability/muri1320/im1289.png']\n",
      "['/scratch/soroush1/memorability/muri1320/im1312.png', '/scratch/soroush1/memorability/muri1320/im1313.png', '/scratch/soroush1/memorability/muri1320/im1314.png', '/scratch/soroush1/memorability/muri1320/im1315.png', '/scratch/soroush1/memorability/muri1320/im1316.png', '/scratch/soroush1/memorability/muri1320/im1317.png', '/scratch/soroush1/memorability/muri1320/im1318.png', '/scratch/soroush1/memorability/muri1320/im1319.png']\n",
      "Concatenated features shape: (1320, 100352)\n",
      "Total number of images: 1320\n",
      "Model: resnet50, Task: diffInitRes1, Layer: IT, Shape: (1320, 100352)\n"
     ]
    },
    {
     "name": "stderr",
     "output_type": "stream",
     "text": [
      "\n",
      "different_run:  15%|█▌        | 2/13 [00:06<00:33,  3.02s/it]"
     ]
    },
    {
     "name": "stdout",
     "output_type": "stream",
     "text": [
      "Features saved to ./features/muri1320_resnet50_diffInitRes1_IT.h5\n",
      "(1320, 100352)\n",
      "device = device(type='cuda')\n",
      "list(ckpt.keys())[:10] = ['module.conv1.weight', 'module.bn1.weight', 'module.bn1.bias', 'module.bn1.running_mean', 'module.bn1.running_var', 'module.bn1.num_batches_tracked', 'module.layer1.0.conv1.weight', 'module.layer1.0.bn1.weight', 'module.layer1.0.bn1.bias', 'module.layer1.0.bn1.running_mean']\n",
      "list(ckpt.keys())[:10] = ['conv1.weight', 'bn1.weight', 'bn1.bias', 'bn1.running_mean', 'bn1.running_var', 'bn1.num_batches_tracked', 'layer1.0.conv1.weight', 'layer1.0.bn1.weight', 'layer1.0.bn1.bias', 'layer1.0.bn1.running_mean']\n"
     ]
    },
    {
     "name": "stderr",
     "output_type": "stream",
     "text": [
      "\n",
      "  0%|          | 0/42 [00:00<?, ?it/s]\u001b[A\n",
      "  2%|▏         | 1/42 [00:00<00:07,  5.76it/s]\u001b[A\n",
      " 10%|▉         | 4/42 [00:00<00:02, 14.87it/s]\u001b[A"
     ]
    },
    {
     "name": "stdout",
     "output_type": "stream",
     "text": [
      "['/scratch/soroush1/memorability/muri1320/im0000.png', '/scratch/soroush1/memorability/muri1320/im0001.png', '/scratch/soroush1/memorability/muri1320/im0002.png', '/scratch/soroush1/memorability/muri1320/im0003.png', '/scratch/soroush1/memorability/muri1320/im0004.png', '/scratch/soroush1/memorability/muri1320/im0005.png', '/scratch/soroush1/memorability/muri1320/im0006.png', '/scratch/soroush1/memorability/muri1320/im0007.png', '/scratch/soroush1/memorability/muri1320/im0008.png', '/scratch/soroush1/memorability/muri1320/im0009.png']\n",
      "['/scratch/soroush1/memorability/muri1320/im0032.png', '/scratch/soroush1/memorability/muri1320/im0033.png', '/scratch/soroush1/memorability/muri1320/im0034.png', '/scratch/soroush1/memorability/muri1320/im0035.png', '/scratch/soroush1/memorability/muri1320/im0036.png', '/scratch/soroush1/memorability/muri1320/im0037.png', '/scratch/soroush1/memorability/muri1320/im0038.png', '/scratch/soroush1/memorability/muri1320/im0039.png', '/scratch/soroush1/memorability/muri1320/im0040.png', '/scratch/soroush1/memorability/muri1320/im0041.png']\n",
      "['/scratch/soroush1/memorability/muri1320/im0064.png', '/scratch/soroush1/memorability/muri1320/im0065.png', '/scratch/soroush1/memorability/muri1320/im0066.png', '/scratch/soroush1/memorability/muri1320/im0067.png', '/scratch/soroush1/memorability/muri1320/im0068.png', '/scratch/soroush1/memorability/muri1320/im0069.png', '/scratch/soroush1/memorability/muri1320/im0070.png', '/scratch/soroush1/memorability/muri1320/im0071.png', '/scratch/soroush1/memorability/muri1320/im0072.png', '/scratch/soroush1/memorability/muri1320/im0073.png']\n",
      "['/scratch/soroush1/memorability/muri1320/im0096.png', '/scratch/soroush1/memorability/muri1320/im0097.png', '/scratch/soroush1/memorability/muri1320/im0098.png', '/scratch/soroush1/memorability/muri1320/im0099.png', '/scratch/soroush1/memorability/muri1320/im0100.png', '/scratch/soroush1/memorability/muri1320/im0101.png', '/scratch/soroush1/memorability/muri1320/im0102.png', '/scratch/soroush1/memorability/muri1320/im0103.png', '/scratch/soroush1/memorability/muri1320/im0104.png', '/scratch/soroush1/memorability/muri1320/im0105.png']\n",
      "['/scratch/soroush1/memorability/muri1320/im0128.png', '/scratch/soroush1/memorability/muri1320/im0129.png', '/scratch/soroush1/memorability/muri1320/im0130.png', '/scratch/soroush1/memorability/muri1320/im0131.png', '/scratch/soroush1/memorability/muri1320/im0132.png', '/scratch/soroush1/memorability/muri1320/im0133.png', '/scratch/soroush1/memorability/muri1320/im0134.png', '/scratch/soroush1/memorability/muri1320/im0135.png', '/scratch/soroush1/memorability/muri1320/im0136.png', '/scratch/soroush1/memorability/muri1320/im0137.png']\n",
      "['/scratch/soroush1/memorability/muri1320/im0160.png', '/scratch/soroush1/memorability/muri1320/im0161.png', '/scratch/soroush1/memorability/muri1320/im0162.png', '/scratch/soroush1/memorability/muri1320/im0163.png', '/scratch/soroush1/memorability/muri1320/im0164.png', '/scratch/soroush1/memorability/muri1320/im0165.png', '/scratch/soroush1/memorability/muri1320/im0166.png', '/scratch/soroush1/memorability/muri1320/im0167.png', '/scratch/soroush1/memorability/muri1320/im0168.png', '/scratch/soroush1/memorability/muri1320/im0169.png']\n"
     ]
    },
    {
     "name": "stderr",
     "output_type": "stream",
     "text": [
      "\n",
      " 17%|█▋        | 7/42 [00:00<00:01, 18.77it/s]\u001b[A\n",
      " 24%|██▍       | 10/42 [00:00<00:01, 22.01it/s]\u001b[A"
     ]
    },
    {
     "name": "stdout",
     "output_type": "stream",
     "text": [
      "['/scratch/soroush1/memorability/muri1320/im0192.png', '/scratch/soroush1/memorability/muri1320/im0193.png', '/scratch/soroush1/memorability/muri1320/im0194.png', '/scratch/soroush1/memorability/muri1320/im0195.png', '/scratch/soroush1/memorability/muri1320/im0196.png', '/scratch/soroush1/memorability/muri1320/im0197.png', '/scratch/soroush1/memorability/muri1320/im0198.png', '/scratch/soroush1/memorability/muri1320/im0199.png', '/scratch/soroush1/memorability/muri1320/im0200.png', '/scratch/soroush1/memorability/muri1320/im0201.png']\n",
      "['/scratch/soroush1/memorability/muri1320/im0224.png', '/scratch/soroush1/memorability/muri1320/im0225.png', '/scratch/soroush1/memorability/muri1320/im0226.png', '/scratch/soroush1/memorability/muri1320/im0227.png', '/scratch/soroush1/memorability/muri1320/im0228.png', '/scratch/soroush1/memorability/muri1320/im0229.png', '/scratch/soroush1/memorability/muri1320/im0230.png', '/scratch/soroush1/memorability/muri1320/im0231.png', '/scratch/soroush1/memorability/muri1320/im0232.png', '/scratch/soroush1/memorability/muri1320/im0233.png']\n",
      "['/scratch/soroush1/memorability/muri1320/im0256.png', '/scratch/soroush1/memorability/muri1320/im0257.png', '/scratch/soroush1/memorability/muri1320/im0258.png', '/scratch/soroush1/memorability/muri1320/im0259.png', '/scratch/soroush1/memorability/muri1320/im0260.png', '/scratch/soroush1/memorability/muri1320/im0261.png', '/scratch/soroush1/memorability/muri1320/im0262.png', '/scratch/soroush1/memorability/muri1320/im0263.png', '/scratch/soroush1/memorability/muri1320/im0264.png', '/scratch/soroush1/memorability/muri1320/im0265.png']\n",
      "['/scratch/soroush1/memorability/muri1320/im0288.png', '/scratch/soroush1/memorability/muri1320/im0289.png', '/scratch/soroush1/memorability/muri1320/im0290.png', '/scratch/soroush1/memorability/muri1320/im0291.png', '/scratch/soroush1/memorability/muri1320/im0292.png', '/scratch/soroush1/memorability/muri1320/im0293.png', '/scratch/soroush1/memorability/muri1320/im0294.png', '/scratch/soroush1/memorability/muri1320/im0295.png', '/scratch/soroush1/memorability/muri1320/im0296.png', '/scratch/soroush1/memorability/muri1320/im0297.png']\n",
      "['/scratch/soroush1/memorability/muri1320/im0320.png', '/scratch/soroush1/memorability/muri1320/im0321.png', '/scratch/soroush1/memorability/muri1320/im0322.png', '/scratch/soroush1/memorability/muri1320/im0323.png', '/scratch/soroush1/memorability/muri1320/im0324.png', '/scratch/soroush1/memorability/muri1320/im0325.png', '/scratch/soroush1/memorability/muri1320/im0326.png', '/scratch/soroush1/memorability/muri1320/im0327.png', '/scratch/soroush1/memorability/muri1320/im0328.png', '/scratch/soroush1/memorability/muri1320/im0329.png']\n",
      "['/scratch/soroush1/memorability/muri1320/im0352.png', '/scratch/soroush1/memorability/muri1320/im0353.png', '/scratch/soroush1/memorability/muri1320/im0354.png', '/scratch/soroush1/memorability/muri1320/im0355.png', '/scratch/soroush1/memorability/muri1320/im0356.png', '/scratch/soroush1/memorability/muri1320/im0357.png', '/scratch/soroush1/memorability/muri1320/im0358.png', '/scratch/soroush1/memorability/muri1320/im0359.png', '/scratch/soroush1/memorability/muri1320/im0360.png', '/scratch/soroush1/memorability/muri1320/im0361.png']\n"
     ]
    },
    {
     "name": "stderr",
     "output_type": "stream",
     "text": [
      "\n",
      " 31%|███       | 13/42 [00:00<00:01, 19.62it/s]\u001b[A\n",
      " 40%|████      | 17/42 [00:00<00:01, 21.58it/s]\u001b[A"
     ]
    },
    {
     "name": "stdout",
     "output_type": "stream",
     "text": [
      "['/scratch/soroush1/memorability/muri1320/im0384.png', '/scratch/soroush1/memorability/muri1320/im0385.png', '/scratch/soroush1/memorability/muri1320/im0386.png', '/scratch/soroush1/memorability/muri1320/im0387.png', '/scratch/soroush1/memorability/muri1320/im0388.png', '/scratch/soroush1/memorability/muri1320/im0389.png', '/scratch/soroush1/memorability/muri1320/im0390.png', '/scratch/soroush1/memorability/muri1320/im0391.png', '/scratch/soroush1/memorability/muri1320/im0392.png', '/scratch/soroush1/memorability/muri1320/im0393.png']\n",
      "['/scratch/soroush1/memorability/muri1320/im0416.png', '/scratch/soroush1/memorability/muri1320/im0417.png', '/scratch/soroush1/memorability/muri1320/im0418.png', '/scratch/soroush1/memorability/muri1320/im0419.png', '/scratch/soroush1/memorability/muri1320/im0420.png', '/scratch/soroush1/memorability/muri1320/im0421.png', '/scratch/soroush1/memorability/muri1320/im0422.png', '/scratch/soroush1/memorability/muri1320/im0423.png', '/scratch/soroush1/memorability/muri1320/im0424.png', '/scratch/soroush1/memorability/muri1320/im0425.png']\n",
      "['/scratch/soroush1/memorability/muri1320/im0448.png', '/scratch/soroush1/memorability/muri1320/im0449.png', '/scratch/soroush1/memorability/muri1320/im0450.png', '/scratch/soroush1/memorability/muri1320/im0451.png', '/scratch/soroush1/memorability/muri1320/im0452.png', '/scratch/soroush1/memorability/muri1320/im0453.png', '/scratch/soroush1/memorability/muri1320/im0454.png', '/scratch/soroush1/memorability/muri1320/im0455.png', '/scratch/soroush1/memorability/muri1320/im0456.png', '/scratch/soroush1/memorability/muri1320/im0457.png']\n",
      "['/scratch/soroush1/memorability/muri1320/im0480.png', '/scratch/soroush1/memorability/muri1320/im0481.png', '/scratch/soroush1/memorability/muri1320/im0482.png', '/scratch/soroush1/memorability/muri1320/im0483.png', '/scratch/soroush1/memorability/muri1320/im0484.png', '/scratch/soroush1/memorability/muri1320/im0485.png', '/scratch/soroush1/memorability/muri1320/im0486.png', '/scratch/soroush1/memorability/muri1320/im0487.png', '/scratch/soroush1/memorability/muri1320/im0488.png', '/scratch/soroush1/memorability/muri1320/im0489.png']\n",
      "['/scratch/soroush1/memorability/muri1320/im0512.png', '/scratch/soroush1/memorability/muri1320/im0513.png', '/scratch/soroush1/memorability/muri1320/im0514.png', '/scratch/soroush1/memorability/muri1320/im0515.png', '/scratch/soroush1/memorability/muri1320/im0516.png', '/scratch/soroush1/memorability/muri1320/im0517.png', '/scratch/soroush1/memorability/muri1320/im0518.png', '/scratch/soroush1/memorability/muri1320/im0519.png', '/scratch/soroush1/memorability/muri1320/im0520.png', '/scratch/soroush1/memorability/muri1320/im0521.png']\n",
      "['/scratch/soroush1/memorability/muri1320/im0544.png', '/scratch/soroush1/memorability/muri1320/im0545.png', '/scratch/soroush1/memorability/muri1320/im0546.png', '/scratch/soroush1/memorability/muri1320/im0547.png', '/scratch/soroush1/memorability/muri1320/im0548.png', '/scratch/soroush1/memorability/muri1320/im0549.png', '/scratch/soroush1/memorability/muri1320/im0550.png', '/scratch/soroush1/memorability/muri1320/im0551.png', '/scratch/soroush1/memorability/muri1320/im0552.png', '/scratch/soroush1/memorability/muri1320/im0553.png']\n"
     ]
    },
    {
     "name": "stderr",
     "output_type": "stream",
     "text": [
      "\n",
      " 50%|█████     | 21/42 [00:01<00:00, 22.69it/s]\u001b[A"
     ]
    },
    {
     "name": "stdout",
     "output_type": "stream",
     "text": [
      "['/scratch/soroush1/memorability/muri1320/im0576.png', '/scratch/soroush1/memorability/muri1320/im0577.png', '/scratch/soroush1/memorability/muri1320/im0578.png', '/scratch/soroush1/memorability/muri1320/im0579.png', '/scratch/soroush1/memorability/muri1320/im0580.png', '/scratch/soroush1/memorability/muri1320/im0581.png', '/scratch/soroush1/memorability/muri1320/im0582.png', '/scratch/soroush1/memorability/muri1320/im0583.png', '/scratch/soroush1/memorability/muri1320/im0584.png', '/scratch/soroush1/memorability/muri1320/im0585.png']\n",
      "['/scratch/soroush1/memorability/muri1320/im0608.png', '/scratch/soroush1/memorability/muri1320/im0609.png', '/scratch/soroush1/memorability/muri1320/im0610.png', '/scratch/soroush1/memorability/muri1320/im0611.png', '/scratch/soroush1/memorability/muri1320/im0612.png', '/scratch/soroush1/memorability/muri1320/im0613.png', '/scratch/soroush1/memorability/muri1320/im0614.png', '/scratch/soroush1/memorability/muri1320/im0615.png', '/scratch/soroush1/memorability/muri1320/im0616.png', '/scratch/soroush1/memorability/muri1320/im0617.png']\n",
      "['/scratch/soroush1/memorability/muri1320/im0640.png', '/scratch/soroush1/memorability/muri1320/im0641.png', '/scratch/soroush1/memorability/muri1320/im0642.png', '/scratch/soroush1/memorability/muri1320/im0643.png', '/scratch/soroush1/memorability/muri1320/im0644.png', '/scratch/soroush1/memorability/muri1320/im0645.png', '/scratch/soroush1/memorability/muri1320/im0646.png', '/scratch/soroush1/memorability/muri1320/im0647.png', '/scratch/soroush1/memorability/muri1320/im0648.png', '/scratch/soroush1/memorability/muri1320/im0649.png']\n",
      "['/scratch/soroush1/memorability/muri1320/im0672.png', '/scratch/soroush1/memorability/muri1320/im0673.png', '/scratch/soroush1/memorability/muri1320/im0674.png', '/scratch/soroush1/memorability/muri1320/im0675.png', '/scratch/soroush1/memorability/muri1320/im0676.png', '/scratch/soroush1/memorability/muri1320/im0677.png', '/scratch/soroush1/memorability/muri1320/im0678.png', '/scratch/soroush1/memorability/muri1320/im0679.png', '/scratch/soroush1/memorability/muri1320/im0680.png', '/scratch/soroush1/memorability/muri1320/im0681.png']\n",
      "['/scratch/soroush1/memorability/muri1320/im0704.png', '/scratch/soroush1/memorability/muri1320/im0705.png', '/scratch/soroush1/memorability/muri1320/im0706.png', '/scratch/soroush1/memorability/muri1320/im0707.png', '/scratch/soroush1/memorability/muri1320/im0708.png', '/scratch/soroush1/memorability/muri1320/im0709.png', '/scratch/soroush1/memorability/muri1320/im0710.png', '/scratch/soroush1/memorability/muri1320/im0711.png', '/scratch/soroush1/memorability/muri1320/im0712.png', '/scratch/soroush1/memorability/muri1320/im0713.png']\n"
     ]
    },
    {
     "name": "stderr",
     "output_type": "stream",
     "text": [
      "\n",
      " 57%|█████▋    | 24/42 [00:01<00:00, 23.04it/s]\u001b[A\n",
      " 64%|██████▍   | 27/42 [00:01<00:00, 22.91it/s]\u001b[A"
     ]
    },
    {
     "name": "stdout",
     "output_type": "stream",
     "text": [
      "['/scratch/soroush1/memorability/muri1320/im0736.png', '/scratch/soroush1/memorability/muri1320/im0737.png', '/scratch/soroush1/memorability/muri1320/im0738.png', '/scratch/soroush1/memorability/muri1320/im0739.png', '/scratch/soroush1/memorability/muri1320/im0740.png', '/scratch/soroush1/memorability/muri1320/im0741.png', '/scratch/soroush1/memorability/muri1320/im0742.png', '/scratch/soroush1/memorability/muri1320/im0743.png', '/scratch/soroush1/memorability/muri1320/im0744.png', '/scratch/soroush1/memorability/muri1320/im0745.png']\n",
      "['/scratch/soroush1/memorability/muri1320/im0768.png', '/scratch/soroush1/memorability/muri1320/im0769.png', '/scratch/soroush1/memorability/muri1320/im0770.png', '/scratch/soroush1/memorability/muri1320/im0771.png', '/scratch/soroush1/memorability/muri1320/im0772.png', '/scratch/soroush1/memorability/muri1320/im0773.png', '/scratch/soroush1/memorability/muri1320/im0774.png', '/scratch/soroush1/memorability/muri1320/im0775.png', '/scratch/soroush1/memorability/muri1320/im0776.png', '/scratch/soroush1/memorability/muri1320/im0777.png']\n",
      "['/scratch/soroush1/memorability/muri1320/im0800.png', '/scratch/soroush1/memorability/muri1320/im0801.png', '/scratch/soroush1/memorability/muri1320/im0802.png', '/scratch/soroush1/memorability/muri1320/im0803.png', '/scratch/soroush1/memorability/muri1320/im0804.png', '/scratch/soroush1/memorability/muri1320/im0805.png', '/scratch/soroush1/memorability/muri1320/im0806.png', '/scratch/soroush1/memorability/muri1320/im0807.png', '/scratch/soroush1/memorability/muri1320/im0808.png', '/scratch/soroush1/memorability/muri1320/im0809.png']\n",
      "['/scratch/soroush1/memorability/muri1320/im0832.png', '/scratch/soroush1/memorability/muri1320/im0833.png', '/scratch/soroush1/memorability/muri1320/im0834.png', '/scratch/soroush1/memorability/muri1320/im0835.png', '/scratch/soroush1/memorability/muri1320/im0836.png', '/scratch/soroush1/memorability/muri1320/im0837.png', '/scratch/soroush1/memorability/muri1320/im0838.png', '/scratch/soroush1/memorability/muri1320/im0839.png', '/scratch/soroush1/memorability/muri1320/im0840.png', '/scratch/soroush1/memorability/muri1320/im0841.png']\n",
      "['/scratch/soroush1/memorability/muri1320/im0864.png', '/scratch/soroush1/memorability/muri1320/im0865.png', '/scratch/soroush1/memorability/muri1320/im0866.png', '/scratch/soroush1/memorability/muri1320/im0867.png', '/scratch/soroush1/memorability/muri1320/im0868.png', '/scratch/soroush1/memorability/muri1320/im0869.png', '/scratch/soroush1/memorability/muri1320/im0870.png', '/scratch/soroush1/memorability/muri1320/im0871.png', '/scratch/soroush1/memorability/muri1320/im0872.png', '/scratch/soroush1/memorability/muri1320/im0873.png']\n"
     ]
    },
    {
     "name": "stderr",
     "output_type": "stream",
     "text": [
      "\n",
      " 71%|███████▏  | 30/42 [00:01<00:00, 24.45it/s]\u001b[A"
     ]
    },
    {
     "name": "stdout",
     "output_type": "stream",
     "text": [
      "['/scratch/soroush1/memorability/muri1320/im0896.png', '/scratch/soroush1/memorability/muri1320/im0897.png', '/scratch/soroush1/memorability/muri1320/im0898.png', '/scratch/soroush1/memorability/muri1320/im0899.png', '/scratch/soroush1/memorability/muri1320/im0900.png', '/scratch/soroush1/memorability/muri1320/im0901.png', '/scratch/soroush1/memorability/muri1320/im0902.png', '/scratch/soroush1/memorability/muri1320/im0903.png', '/scratch/soroush1/memorability/muri1320/im0904.png', '/scratch/soroush1/memorability/muri1320/im0905.png']\n",
      "['/scratch/soroush1/memorability/muri1320/im0928.png', '/scratch/soroush1/memorability/muri1320/im0929.png', '/scratch/soroush1/memorability/muri1320/im0930.png', '/scratch/soroush1/memorability/muri1320/im0931.png', '/scratch/soroush1/memorability/muri1320/im0932.png', '/scratch/soroush1/memorability/muri1320/im0933.png', '/scratch/soroush1/memorability/muri1320/im0934.png', '/scratch/soroush1/memorability/muri1320/im0935.png', '/scratch/soroush1/memorability/muri1320/im0936.png', '/scratch/soroush1/memorability/muri1320/im0937.png']\n",
      "['/scratch/soroush1/memorability/muri1320/im0960.png', '/scratch/soroush1/memorability/muri1320/im0961.png', '/scratch/soroush1/memorability/muri1320/im0962.png', '/scratch/soroush1/memorability/muri1320/im0963.png', '/scratch/soroush1/memorability/muri1320/im0964.png', '/scratch/soroush1/memorability/muri1320/im0965.png', '/scratch/soroush1/memorability/muri1320/im0966.png', '/scratch/soroush1/memorability/muri1320/im0967.png', '/scratch/soroush1/memorability/muri1320/im0968.png', '/scratch/soroush1/memorability/muri1320/im0969.png']\n",
      "['/scratch/soroush1/memorability/muri1320/im0992.png', '/scratch/soroush1/memorability/muri1320/im0993.png', '/scratch/soroush1/memorability/muri1320/im0994.png', '/scratch/soroush1/memorability/muri1320/im0995.png', '/scratch/soroush1/memorability/muri1320/im0996.png', '/scratch/soroush1/memorability/muri1320/im0997.png', '/scratch/soroush1/memorability/muri1320/im0998.png', '/scratch/soroush1/memorability/muri1320/im0999.png', '/scratch/soroush1/memorability/muri1320/im1000.png', '/scratch/soroush1/memorability/muri1320/im1001.png']\n",
      "['/scratch/soroush1/memorability/muri1320/im1024.png', '/scratch/soroush1/memorability/muri1320/im1025.png', '/scratch/soroush1/memorability/muri1320/im1026.png', '/scratch/soroush1/memorability/muri1320/im1027.png', '/scratch/soroush1/memorability/muri1320/im1028.png', '/scratch/soroush1/memorability/muri1320/im1029.png', '/scratch/soroush1/memorability/muri1320/im1030.png', '/scratch/soroush1/memorability/muri1320/im1031.png', '/scratch/soroush1/memorability/muri1320/im1032.png', '/scratch/soroush1/memorability/muri1320/im1033.png']\n"
     ]
    },
    {
     "name": "stderr",
     "output_type": "stream",
     "text": [
      "\n",
      " 79%|███████▊  | 33/42 [00:01<00:00, 21.99it/s]\u001b[A\n",
      " 88%|████████▊ | 37/42 [00:01<00:00, 22.92it/s]\u001b[A"
     ]
    },
    {
     "name": "stdout",
     "output_type": "stream",
     "text": [
      "['/scratch/soroush1/memorability/muri1320/im1056.png', '/scratch/soroush1/memorability/muri1320/im1057.png', '/scratch/soroush1/memorability/muri1320/im1058.png', '/scratch/soroush1/memorability/muri1320/im1059.png', '/scratch/soroush1/memorability/muri1320/im1060.png', '/scratch/soroush1/memorability/muri1320/im1061.png', '/scratch/soroush1/memorability/muri1320/im1062.png', '/scratch/soroush1/memorability/muri1320/im1063.png', '/scratch/soroush1/memorability/muri1320/im1064.png', '/scratch/soroush1/memorability/muri1320/im1065.png']\n",
      "['/scratch/soroush1/memorability/muri1320/im1088.png', '/scratch/soroush1/memorability/muri1320/im1089.png', '/scratch/soroush1/memorability/muri1320/im1090.png', '/scratch/soroush1/memorability/muri1320/im1091.png', '/scratch/soroush1/memorability/muri1320/im1092.png', '/scratch/soroush1/memorability/muri1320/im1093.png', '/scratch/soroush1/memorability/muri1320/im1094.png', '/scratch/soroush1/memorability/muri1320/im1095.png', '/scratch/soroush1/memorability/muri1320/im1096.png', '/scratch/soroush1/memorability/muri1320/im1097.png']\n",
      "['/scratch/soroush1/memorability/muri1320/im1120.png', '/scratch/soroush1/memorability/muri1320/im1121.png', '/scratch/soroush1/memorability/muri1320/im1122.png', '/scratch/soroush1/memorability/muri1320/im1123.png', '/scratch/soroush1/memorability/muri1320/im1124.png', '/scratch/soroush1/memorability/muri1320/im1125.png', '/scratch/soroush1/memorability/muri1320/im1126.png', '/scratch/soroush1/memorability/muri1320/im1127.png', '/scratch/soroush1/memorability/muri1320/im1128.png', '/scratch/soroush1/memorability/muri1320/im1129.png']\n",
      "['/scratch/soroush1/memorability/muri1320/im1152.png', '/scratch/soroush1/memorability/muri1320/im1153.png', '/scratch/soroush1/memorability/muri1320/im1154.png', '/scratch/soroush1/memorability/muri1320/im1155.png', '/scratch/soroush1/memorability/muri1320/im1156.png', '/scratch/soroush1/memorability/muri1320/im1157.png', '/scratch/soroush1/memorability/muri1320/im1158.png', '/scratch/soroush1/memorability/muri1320/im1159.png', '/scratch/soroush1/memorability/muri1320/im1160.png', '/scratch/soroush1/memorability/muri1320/im1161.png']\n",
      "['/scratch/soroush1/memorability/muri1320/im1184.png', '/scratch/soroush1/memorability/muri1320/im1185.png', '/scratch/soroush1/memorability/muri1320/im1186.png', '/scratch/soroush1/memorability/muri1320/im1187.png', '/scratch/soroush1/memorability/muri1320/im1188.png', '/scratch/soroush1/memorability/muri1320/im1189.png', '/scratch/soroush1/memorability/muri1320/im1190.png', '/scratch/soroush1/memorability/muri1320/im1191.png', '/scratch/soroush1/memorability/muri1320/im1192.png', '/scratch/soroush1/memorability/muri1320/im1193.png']\n"
     ]
    },
    {
     "name": "stderr",
     "output_type": "stream",
     "text": [
      "\n",
      "100%|██████████| 42/42 [00:02<00:00, 20.88it/s]\u001b[A"
     ]
    },
    {
     "name": "stdout",
     "output_type": "stream",
     "text": [
      "['/scratch/soroush1/memorability/muri1320/im1216.png', '/scratch/soroush1/memorability/muri1320/im1217.png', '/scratch/soroush1/memorability/muri1320/im1218.png', '/scratch/soroush1/memorability/muri1320/im1219.png', '/scratch/soroush1/memorability/muri1320/im1220.png', '/scratch/soroush1/memorability/muri1320/im1221.png', '/scratch/soroush1/memorability/muri1320/im1222.png', '/scratch/soroush1/memorability/muri1320/im1223.png', '/scratch/soroush1/memorability/muri1320/im1224.png', '/scratch/soroush1/memorability/muri1320/im1225.png']\n",
      "['/scratch/soroush1/memorability/muri1320/im1248.png', '/scratch/soroush1/memorability/muri1320/im1249.png', '/scratch/soroush1/memorability/muri1320/im1250.png', '/scratch/soroush1/memorability/muri1320/im1251.png', '/scratch/soroush1/memorability/muri1320/im1252.png', '/scratch/soroush1/memorability/muri1320/im1253.png', '/scratch/soroush1/memorability/muri1320/im1254.png', '/scratch/soroush1/memorability/muri1320/im1255.png', '/scratch/soroush1/memorability/muri1320/im1256.png', '/scratch/soroush1/memorability/muri1320/im1257.png']\n",
      "['/scratch/soroush1/memorability/muri1320/im1280.png', '/scratch/soroush1/memorability/muri1320/im1281.png', '/scratch/soroush1/memorability/muri1320/im1282.png', '/scratch/soroush1/memorability/muri1320/im1283.png', '/scratch/soroush1/memorability/muri1320/im1284.png', '/scratch/soroush1/memorability/muri1320/im1285.png', '/scratch/soroush1/memorability/muri1320/im1286.png', '/scratch/soroush1/memorability/muri1320/im1287.png', '/scratch/soroush1/memorability/muri1320/im1288.png', '/scratch/soroush1/memorability/muri1320/im1289.png']\n",
      "['/scratch/soroush1/memorability/muri1320/im1312.png', '/scratch/soroush1/memorability/muri1320/im1313.png', '/scratch/soroush1/memorability/muri1320/im1314.png', '/scratch/soroush1/memorability/muri1320/im1315.png', '/scratch/soroush1/memorability/muri1320/im1316.png', '/scratch/soroush1/memorability/muri1320/im1317.png', '/scratch/soroush1/memorability/muri1320/im1318.png', '/scratch/soroush1/memorability/muri1320/im1319.png']\n"
     ]
    },
    {
     "name": "stderr",
     "output_type": "stream",
     "text": [
      "\n"
     ]
    },
    {
     "name": "stdout",
     "output_type": "stream",
     "text": [
      "Concatenated features shape: (1320, 100352)\n",
      "Total number of images: 1320\n",
      "Model: resnet50, Task: diffInitRes2, Layer: IT, Shape: (1320, 100352)\n"
     ]
    },
    {
     "name": "stderr",
     "output_type": "stream",
     "text": [
      "different_run:  23%|██▎       | 3/13 [00:09<00:30,  3.05s/it]"
     ]
    },
    {
     "name": "stdout",
     "output_type": "stream",
     "text": [
      "Features saved to ./features/muri1320_resnet50_diffInitRes2_IT.h5\n",
      "(1320, 100352)\n",
      "device = device(type='cuda')\n",
      "list(ckpt.keys())[:10] = ['module.conv1.weight', 'module.bn1.weight', 'module.bn1.bias', 'module.bn1.running_mean', 'module.bn1.running_var', 'module.bn1.num_batches_tracked', 'module.layer1.0.conv1.weight', 'module.layer1.0.bn1.weight', 'module.layer1.0.bn1.bias', 'module.layer1.0.bn1.running_mean']\n",
      "list(ckpt.keys())[:10] = ['conv1.weight', 'bn1.weight', 'bn1.bias', 'bn1.running_mean', 'bn1.running_var', 'bn1.num_batches_tracked', 'layer1.0.conv1.weight', 'layer1.0.bn1.weight', 'layer1.0.bn1.bias', 'layer1.0.bn1.running_mean']\n"
     ]
    },
    {
     "name": "stderr",
     "output_type": "stream",
     "text": [
      "\n",
      "  0%|          | 0/42 [00:00<?, ?it/s]\u001b[A\n",
      "  2%|▏         | 1/42 [00:00<00:07,  5.44it/s]\u001b[A\n",
      " 10%|▉         | 4/42 [00:00<00:02, 16.10it/s]\u001b[A"
     ]
    },
    {
     "name": "stdout",
     "output_type": "stream",
     "text": [
      "['/scratch/soroush1/memorability/muri1320/im0000.png', '/scratch/soroush1/memorability/muri1320/im0001.png', '/scratch/soroush1/memorability/muri1320/im0002.png', '/scratch/soroush1/memorability/muri1320/im0003.png', '/scratch/soroush1/memorability/muri1320/im0004.png', '/scratch/soroush1/memorability/muri1320/im0005.png', '/scratch/soroush1/memorability/muri1320/im0006.png', '/scratch/soroush1/memorability/muri1320/im0007.png', '/scratch/soroush1/memorability/muri1320/im0008.png', '/scratch/soroush1/memorability/muri1320/im0009.png']\n",
      "['/scratch/soroush1/memorability/muri1320/im0032.png', '/scratch/soroush1/memorability/muri1320/im0033.png', '/scratch/soroush1/memorability/muri1320/im0034.png', '/scratch/soroush1/memorability/muri1320/im0035.png', '/scratch/soroush1/memorability/muri1320/im0036.png', '/scratch/soroush1/memorability/muri1320/im0037.png', '/scratch/soroush1/memorability/muri1320/im0038.png', '/scratch/soroush1/memorability/muri1320/im0039.png', '/scratch/soroush1/memorability/muri1320/im0040.png', '/scratch/soroush1/memorability/muri1320/im0041.png']\n",
      "['/scratch/soroush1/memorability/muri1320/im0064.png', '/scratch/soroush1/memorability/muri1320/im0065.png', '/scratch/soroush1/memorability/muri1320/im0066.png', '/scratch/soroush1/memorability/muri1320/im0067.png', '/scratch/soroush1/memorability/muri1320/im0068.png', '/scratch/soroush1/memorability/muri1320/im0069.png', '/scratch/soroush1/memorability/muri1320/im0070.png', '/scratch/soroush1/memorability/muri1320/im0071.png', '/scratch/soroush1/memorability/muri1320/im0072.png', '/scratch/soroush1/memorability/muri1320/im0073.png']\n",
      "['/scratch/soroush1/memorability/muri1320/im0096.png', '/scratch/soroush1/memorability/muri1320/im0097.png', '/scratch/soroush1/memorability/muri1320/im0098.png', '/scratch/soroush1/memorability/muri1320/im0099.png', '/scratch/soroush1/memorability/muri1320/im0100.png', '/scratch/soroush1/memorability/muri1320/im0101.png', '/scratch/soroush1/memorability/muri1320/im0102.png', '/scratch/soroush1/memorability/muri1320/im0103.png', '/scratch/soroush1/memorability/muri1320/im0104.png', '/scratch/soroush1/memorability/muri1320/im0105.png']\n",
      "['/scratch/soroush1/memorability/muri1320/im0128.png', '/scratch/soroush1/memorability/muri1320/im0129.png', '/scratch/soroush1/memorability/muri1320/im0130.png', '/scratch/soroush1/memorability/muri1320/im0131.png', '/scratch/soroush1/memorability/muri1320/im0132.png', '/scratch/soroush1/memorability/muri1320/im0133.png', '/scratch/soroush1/memorability/muri1320/im0134.png', '/scratch/soroush1/memorability/muri1320/im0135.png', '/scratch/soroush1/memorability/muri1320/im0136.png', '/scratch/soroush1/memorability/muri1320/im0137.png']\n",
      "['/scratch/soroush1/memorability/muri1320/im0160.png', '/scratch/soroush1/memorability/muri1320/im0161.png', '/scratch/soroush1/memorability/muri1320/im0162.png', '/scratch/soroush1/memorability/muri1320/im0163.png', '/scratch/soroush1/memorability/muri1320/im0164.png', '/scratch/soroush1/memorability/muri1320/im0165.png', '/scratch/soroush1/memorability/muri1320/im0166.png', '/scratch/soroush1/memorability/muri1320/im0167.png', '/scratch/soroush1/memorability/muri1320/im0168.png', '/scratch/soroush1/memorability/muri1320/im0169.png']\n"
     ]
    },
    {
     "name": "stderr",
     "output_type": "stream",
     "text": [
      "\n",
      " 17%|█▋        | 7/42 [00:00<00:02, 17.00it/s]\u001b[A\n",
      " 26%|██▌       | 11/42 [00:00<00:01, 20.41it/s]\u001b[A"
     ]
    },
    {
     "name": "stdout",
     "output_type": "stream",
     "text": [
      "['/scratch/soroush1/memorability/muri1320/im0192.png', '/scratch/soroush1/memorability/muri1320/im0193.png', '/scratch/soroush1/memorability/muri1320/im0194.png', '/scratch/soroush1/memorability/muri1320/im0195.png', '/scratch/soroush1/memorability/muri1320/im0196.png', '/scratch/soroush1/memorability/muri1320/im0197.png', '/scratch/soroush1/memorability/muri1320/im0198.png', '/scratch/soroush1/memorability/muri1320/im0199.png', '/scratch/soroush1/memorability/muri1320/im0200.png', '/scratch/soroush1/memorability/muri1320/im0201.png']\n",
      "['/scratch/soroush1/memorability/muri1320/im0224.png', '/scratch/soroush1/memorability/muri1320/im0225.png', '/scratch/soroush1/memorability/muri1320/im0226.png', '/scratch/soroush1/memorability/muri1320/im0227.png', '/scratch/soroush1/memorability/muri1320/im0228.png', '/scratch/soroush1/memorability/muri1320/im0229.png', '/scratch/soroush1/memorability/muri1320/im0230.png', '/scratch/soroush1/memorability/muri1320/im0231.png', '/scratch/soroush1/memorability/muri1320/im0232.png', '/scratch/soroush1/memorability/muri1320/im0233.png']\n",
      "['/scratch/soroush1/memorability/muri1320/im0256.png', '/scratch/soroush1/memorability/muri1320/im0257.png', '/scratch/soroush1/memorability/muri1320/im0258.png', '/scratch/soroush1/memorability/muri1320/im0259.png', '/scratch/soroush1/memorability/muri1320/im0260.png', '/scratch/soroush1/memorability/muri1320/im0261.png', '/scratch/soroush1/memorability/muri1320/im0262.png', '/scratch/soroush1/memorability/muri1320/im0263.png', '/scratch/soroush1/memorability/muri1320/im0264.png', '/scratch/soroush1/memorability/muri1320/im0265.png']\n",
      "['/scratch/soroush1/memorability/muri1320/im0288.png', '/scratch/soroush1/memorability/muri1320/im0289.png', '/scratch/soroush1/memorability/muri1320/im0290.png', '/scratch/soroush1/memorability/muri1320/im0291.png', '/scratch/soroush1/memorability/muri1320/im0292.png', '/scratch/soroush1/memorability/muri1320/im0293.png', '/scratch/soroush1/memorability/muri1320/im0294.png', '/scratch/soroush1/memorability/muri1320/im0295.png', '/scratch/soroush1/memorability/muri1320/im0296.png', '/scratch/soroush1/memorability/muri1320/im0297.png']\n",
      "['/scratch/soroush1/memorability/muri1320/im0320.png', '/scratch/soroush1/memorability/muri1320/im0321.png', '/scratch/soroush1/memorability/muri1320/im0322.png', '/scratch/soroush1/memorability/muri1320/im0323.png', '/scratch/soroush1/memorability/muri1320/im0324.png', '/scratch/soroush1/memorability/muri1320/im0325.png', '/scratch/soroush1/memorability/muri1320/im0326.png', '/scratch/soroush1/memorability/muri1320/im0327.png', '/scratch/soroush1/memorability/muri1320/im0328.png', '/scratch/soroush1/memorability/muri1320/im0329.png']\n",
      "['/scratch/soroush1/memorability/muri1320/im0352.png', '/scratch/soroush1/memorability/muri1320/im0353.png', '/scratch/soroush1/memorability/muri1320/im0354.png', '/scratch/soroush1/memorability/muri1320/im0355.png', '/scratch/soroush1/memorability/muri1320/im0356.png', '/scratch/soroush1/memorability/muri1320/im0357.png', '/scratch/soroush1/memorability/muri1320/im0358.png', '/scratch/soroush1/memorability/muri1320/im0359.png', '/scratch/soroush1/memorability/muri1320/im0360.png', '/scratch/soroush1/memorability/muri1320/im0361.png']\n"
     ]
    },
    {
     "name": "stderr",
     "output_type": "stream",
     "text": [
      "\n",
      " 33%|███▎      | 14/42 [00:00<00:01, 22.36it/s]\u001b[A\n",
      " 40%|████      | 17/42 [00:00<00:01, 21.30it/s]\u001b[A"
     ]
    },
    {
     "name": "stdout",
     "output_type": "stream",
     "text": [
      "['/scratch/soroush1/memorability/muri1320/im0384.png', '/scratch/soroush1/memorability/muri1320/im0385.png', '/scratch/soroush1/memorability/muri1320/im0386.png', '/scratch/soroush1/memorability/muri1320/im0387.png', '/scratch/soroush1/memorability/muri1320/im0388.png', '/scratch/soroush1/memorability/muri1320/im0389.png', '/scratch/soroush1/memorability/muri1320/im0390.png', '/scratch/soroush1/memorability/muri1320/im0391.png', '/scratch/soroush1/memorability/muri1320/im0392.png', '/scratch/soroush1/memorability/muri1320/im0393.png']\n",
      "['/scratch/soroush1/memorability/muri1320/im0416.png', '/scratch/soroush1/memorability/muri1320/im0417.png', '/scratch/soroush1/memorability/muri1320/im0418.png', '/scratch/soroush1/memorability/muri1320/im0419.png', '/scratch/soroush1/memorability/muri1320/im0420.png', '/scratch/soroush1/memorability/muri1320/im0421.png', '/scratch/soroush1/memorability/muri1320/im0422.png', '/scratch/soroush1/memorability/muri1320/im0423.png', '/scratch/soroush1/memorability/muri1320/im0424.png', '/scratch/soroush1/memorability/muri1320/im0425.png']\n",
      "['/scratch/soroush1/memorability/muri1320/im0448.png', '/scratch/soroush1/memorability/muri1320/im0449.png', '/scratch/soroush1/memorability/muri1320/im0450.png', '/scratch/soroush1/memorability/muri1320/im0451.png', '/scratch/soroush1/memorability/muri1320/im0452.png', '/scratch/soroush1/memorability/muri1320/im0453.png', '/scratch/soroush1/memorability/muri1320/im0454.png', '/scratch/soroush1/memorability/muri1320/im0455.png', '/scratch/soroush1/memorability/muri1320/im0456.png', '/scratch/soroush1/memorability/muri1320/im0457.png']\n",
      "['/scratch/soroush1/memorability/muri1320/im0480.png', '/scratch/soroush1/memorability/muri1320/im0481.png', '/scratch/soroush1/memorability/muri1320/im0482.png', '/scratch/soroush1/memorability/muri1320/im0483.png', '/scratch/soroush1/memorability/muri1320/im0484.png', '/scratch/soroush1/memorability/muri1320/im0485.png', '/scratch/soroush1/memorability/muri1320/im0486.png', '/scratch/soroush1/memorability/muri1320/im0487.png', '/scratch/soroush1/memorability/muri1320/im0488.png', '/scratch/soroush1/memorability/muri1320/im0489.png']\n",
      "['/scratch/soroush1/memorability/muri1320/im0512.png', '/scratch/soroush1/memorability/muri1320/im0513.png', '/scratch/soroush1/memorability/muri1320/im0514.png', '/scratch/soroush1/memorability/muri1320/im0515.png', '/scratch/soroush1/memorability/muri1320/im0516.png', '/scratch/soroush1/memorability/muri1320/im0517.png', '/scratch/soroush1/memorability/muri1320/im0518.png', '/scratch/soroush1/memorability/muri1320/im0519.png', '/scratch/soroush1/memorability/muri1320/im0520.png', '/scratch/soroush1/memorability/muri1320/im0521.png']\n",
      "['/scratch/soroush1/memorability/muri1320/im0544.png', '/scratch/soroush1/memorability/muri1320/im0545.png', '/scratch/soroush1/memorability/muri1320/im0546.png', '/scratch/soroush1/memorability/muri1320/im0547.png', '/scratch/soroush1/memorability/muri1320/im0548.png', '/scratch/soroush1/memorability/muri1320/im0549.png', '/scratch/soroush1/memorability/muri1320/im0550.png', '/scratch/soroush1/memorability/muri1320/im0551.png', '/scratch/soroush1/memorability/muri1320/im0552.png', '/scratch/soroush1/memorability/muri1320/im0553.png']\n"
     ]
    },
    {
     "name": "stderr",
     "output_type": "stream",
     "text": [
      "\n",
      " 50%|█████     | 21/42 [00:01<00:00, 22.73it/s]\u001b[A"
     ]
    },
    {
     "name": "stdout",
     "output_type": "stream",
     "text": [
      "['/scratch/soroush1/memorability/muri1320/im0576.png', '/scratch/soroush1/memorability/muri1320/im0577.png', '/scratch/soroush1/memorability/muri1320/im0578.png', '/scratch/soroush1/memorability/muri1320/im0579.png', '/scratch/soroush1/memorability/muri1320/im0580.png', '/scratch/soroush1/memorability/muri1320/im0581.png', '/scratch/soroush1/memorability/muri1320/im0582.png', '/scratch/soroush1/memorability/muri1320/im0583.png', '/scratch/soroush1/memorability/muri1320/im0584.png', '/scratch/soroush1/memorability/muri1320/im0585.png']\n",
      "['/scratch/soroush1/memorability/muri1320/im0608.png', '/scratch/soroush1/memorability/muri1320/im0609.png', '/scratch/soroush1/memorability/muri1320/im0610.png', '/scratch/soroush1/memorability/muri1320/im0611.png', '/scratch/soroush1/memorability/muri1320/im0612.png', '/scratch/soroush1/memorability/muri1320/im0613.png', '/scratch/soroush1/memorability/muri1320/im0614.png', '/scratch/soroush1/memorability/muri1320/im0615.png', '/scratch/soroush1/memorability/muri1320/im0616.png', '/scratch/soroush1/memorability/muri1320/im0617.png']\n",
      "['/scratch/soroush1/memorability/muri1320/im0640.png', '/scratch/soroush1/memorability/muri1320/im0641.png', '/scratch/soroush1/memorability/muri1320/im0642.png', '/scratch/soroush1/memorability/muri1320/im0643.png', '/scratch/soroush1/memorability/muri1320/im0644.png', '/scratch/soroush1/memorability/muri1320/im0645.png', '/scratch/soroush1/memorability/muri1320/im0646.png', '/scratch/soroush1/memorability/muri1320/im0647.png', '/scratch/soroush1/memorability/muri1320/im0648.png', '/scratch/soroush1/memorability/muri1320/im0649.png']\n",
      "['/scratch/soroush1/memorability/muri1320/im0672.png', '/scratch/soroush1/memorability/muri1320/im0673.png', '/scratch/soroush1/memorability/muri1320/im0674.png', '/scratch/soroush1/memorability/muri1320/im0675.png', '/scratch/soroush1/memorability/muri1320/im0676.png', '/scratch/soroush1/memorability/muri1320/im0677.png', '/scratch/soroush1/memorability/muri1320/im0678.png', '/scratch/soroush1/memorability/muri1320/im0679.png', '/scratch/soroush1/memorability/muri1320/im0680.png', '/scratch/soroush1/memorability/muri1320/im0681.png']\n",
      "['/scratch/soroush1/memorability/muri1320/im0704.png', '/scratch/soroush1/memorability/muri1320/im0705.png', '/scratch/soroush1/memorability/muri1320/im0706.png', '/scratch/soroush1/memorability/muri1320/im0707.png', '/scratch/soroush1/memorability/muri1320/im0708.png', '/scratch/soroush1/memorability/muri1320/im0709.png', '/scratch/soroush1/memorability/muri1320/im0710.png', '/scratch/soroush1/memorability/muri1320/im0711.png', '/scratch/soroush1/memorability/muri1320/im0712.png', '/scratch/soroush1/memorability/muri1320/im0713.png']\n",
      "['/scratch/soroush1/memorability/muri1320/im0736.png', '/scratch/soroush1/memorability/muri1320/im0737.png', '/scratch/soroush1/memorability/muri1320/im0738.png', '/scratch/soroush1/memorability/muri1320/im0739.png', '/scratch/soroush1/memorability/muri1320/im0740.png', '/scratch/soroush1/memorability/muri1320/im0741.png', '/scratch/soroush1/memorability/muri1320/im0742.png', '/scratch/soroush1/memorability/muri1320/im0743.png', '/scratch/soroush1/memorability/muri1320/im0744.png', '/scratch/soroush1/memorability/muri1320/im0745.png']\n"
     ]
    },
    {
     "name": "stderr",
     "output_type": "stream",
     "text": [
      "\n",
      " 57%|█████▋    | 24/42 [00:01<00:00, 23.99it/s]\u001b[A\n",
      " 64%|██████▍   | 27/42 [00:01<00:00, 22.17it/s]\u001b[A"
     ]
    },
    {
     "name": "stdout",
     "output_type": "stream",
     "text": [
      "['/scratch/soroush1/memorability/muri1320/im0768.png', '/scratch/soroush1/memorability/muri1320/im0769.png', '/scratch/soroush1/memorability/muri1320/im0770.png', '/scratch/soroush1/memorability/muri1320/im0771.png', '/scratch/soroush1/memorability/muri1320/im0772.png', '/scratch/soroush1/memorability/muri1320/im0773.png', '/scratch/soroush1/memorability/muri1320/im0774.png', '/scratch/soroush1/memorability/muri1320/im0775.png', '/scratch/soroush1/memorability/muri1320/im0776.png', '/scratch/soroush1/memorability/muri1320/im0777.png']\n",
      "['/scratch/soroush1/memorability/muri1320/im0800.png', '/scratch/soroush1/memorability/muri1320/im0801.png', '/scratch/soroush1/memorability/muri1320/im0802.png', '/scratch/soroush1/memorability/muri1320/im0803.png', '/scratch/soroush1/memorability/muri1320/im0804.png', '/scratch/soroush1/memorability/muri1320/im0805.png', '/scratch/soroush1/memorability/muri1320/im0806.png', '/scratch/soroush1/memorability/muri1320/im0807.png', '/scratch/soroush1/memorability/muri1320/im0808.png', '/scratch/soroush1/memorability/muri1320/im0809.png']\n",
      "['/scratch/soroush1/memorability/muri1320/im0832.png', '/scratch/soroush1/memorability/muri1320/im0833.png', '/scratch/soroush1/memorability/muri1320/im0834.png', '/scratch/soroush1/memorability/muri1320/im0835.png', '/scratch/soroush1/memorability/muri1320/im0836.png', '/scratch/soroush1/memorability/muri1320/im0837.png', '/scratch/soroush1/memorability/muri1320/im0838.png', '/scratch/soroush1/memorability/muri1320/im0839.png', '/scratch/soroush1/memorability/muri1320/im0840.png', '/scratch/soroush1/memorability/muri1320/im0841.png']\n",
      "['/scratch/soroush1/memorability/muri1320/im0864.png', '/scratch/soroush1/memorability/muri1320/im0865.png', '/scratch/soroush1/memorability/muri1320/im0866.png', '/scratch/soroush1/memorability/muri1320/im0867.png', '/scratch/soroush1/memorability/muri1320/im0868.png', '/scratch/soroush1/memorability/muri1320/im0869.png', '/scratch/soroush1/memorability/muri1320/im0870.png', '/scratch/soroush1/memorability/muri1320/im0871.png', '/scratch/soroush1/memorability/muri1320/im0872.png', '/scratch/soroush1/memorability/muri1320/im0873.png']\n",
      "['/scratch/soroush1/memorability/muri1320/im0896.png', '/scratch/soroush1/memorability/muri1320/im0897.png', '/scratch/soroush1/memorability/muri1320/im0898.png', '/scratch/soroush1/memorability/muri1320/im0899.png', '/scratch/soroush1/memorability/muri1320/im0900.png', '/scratch/soroush1/memorability/muri1320/im0901.png', '/scratch/soroush1/memorability/muri1320/im0902.png', '/scratch/soroush1/memorability/muri1320/im0903.png', '/scratch/soroush1/memorability/muri1320/im0904.png', '/scratch/soroush1/memorability/muri1320/im0905.png']\n",
      "['/scratch/soroush1/memorability/muri1320/im0928.png', '/scratch/soroush1/memorability/muri1320/im0929.png', '/scratch/soroush1/memorability/muri1320/im0930.png', '/scratch/soroush1/memorability/muri1320/im0931.png', '/scratch/soroush1/memorability/muri1320/im0932.png', '/scratch/soroush1/memorability/muri1320/im0933.png', '/scratch/soroush1/memorability/muri1320/im0934.png', '/scratch/soroush1/memorability/muri1320/im0935.png', '/scratch/soroush1/memorability/muri1320/im0936.png', '/scratch/soroush1/memorability/muri1320/im0937.png']\n"
     ]
    },
    {
     "name": "stderr",
     "output_type": "stream",
     "text": [
      "\n",
      " 74%|███████▍  | 31/42 [00:01<00:00, 22.40it/s]\u001b[A\n",
      " 81%|████████  | 34/42 [00:01<00:00, 23.66it/s]\u001b[A"
     ]
    },
    {
     "name": "stdout",
     "output_type": "stream",
     "text": [
      "['/scratch/soroush1/memorability/muri1320/im0960.png', '/scratch/soroush1/memorability/muri1320/im0961.png', '/scratch/soroush1/memorability/muri1320/im0962.png', '/scratch/soroush1/memorability/muri1320/im0963.png', '/scratch/soroush1/memorability/muri1320/im0964.png', '/scratch/soroush1/memorability/muri1320/im0965.png', '/scratch/soroush1/memorability/muri1320/im0966.png', '/scratch/soroush1/memorability/muri1320/im0967.png', '/scratch/soroush1/memorability/muri1320/im0968.png', '/scratch/soroush1/memorability/muri1320/im0969.png']\n",
      "['/scratch/soroush1/memorability/muri1320/im0992.png', '/scratch/soroush1/memorability/muri1320/im0993.png', '/scratch/soroush1/memorability/muri1320/im0994.png', '/scratch/soroush1/memorability/muri1320/im0995.png', '/scratch/soroush1/memorability/muri1320/im0996.png', '/scratch/soroush1/memorability/muri1320/im0997.png', '/scratch/soroush1/memorability/muri1320/im0998.png', '/scratch/soroush1/memorability/muri1320/im0999.png', '/scratch/soroush1/memorability/muri1320/im1000.png', '/scratch/soroush1/memorability/muri1320/im1001.png']\n",
      "['/scratch/soroush1/memorability/muri1320/im1024.png', '/scratch/soroush1/memorability/muri1320/im1025.png', '/scratch/soroush1/memorability/muri1320/im1026.png', '/scratch/soroush1/memorability/muri1320/im1027.png', '/scratch/soroush1/memorability/muri1320/im1028.png', '/scratch/soroush1/memorability/muri1320/im1029.png', '/scratch/soroush1/memorability/muri1320/im1030.png', '/scratch/soroush1/memorability/muri1320/im1031.png', '/scratch/soroush1/memorability/muri1320/im1032.png', '/scratch/soroush1/memorability/muri1320/im1033.png']\n",
      "['/scratch/soroush1/memorability/muri1320/im1056.png', '/scratch/soroush1/memorability/muri1320/im1057.png', '/scratch/soroush1/memorability/muri1320/im1058.png', '/scratch/soroush1/memorability/muri1320/im1059.png', '/scratch/soroush1/memorability/muri1320/im1060.png', '/scratch/soroush1/memorability/muri1320/im1061.png', '/scratch/soroush1/memorability/muri1320/im1062.png', '/scratch/soroush1/memorability/muri1320/im1063.png', '/scratch/soroush1/memorability/muri1320/im1064.png', '/scratch/soroush1/memorability/muri1320/im1065.png']\n",
      "['/scratch/soroush1/memorability/muri1320/im1088.png', '/scratch/soroush1/memorability/muri1320/im1089.png', '/scratch/soroush1/memorability/muri1320/im1090.png', '/scratch/soroush1/memorability/muri1320/im1091.png', '/scratch/soroush1/memorability/muri1320/im1092.png', '/scratch/soroush1/memorability/muri1320/im1093.png', '/scratch/soroush1/memorability/muri1320/im1094.png', '/scratch/soroush1/memorability/muri1320/im1095.png', '/scratch/soroush1/memorability/muri1320/im1096.png', '/scratch/soroush1/memorability/muri1320/im1097.png']\n"
     ]
    },
    {
     "name": "stderr",
     "output_type": "stream",
     "text": [
      "\n",
      " 88%|████████▊ | 37/42 [00:01<00:00, 22.09it/s]\u001b[A"
     ]
    },
    {
     "name": "stdout",
     "output_type": "stream",
     "text": [
      "['/scratch/soroush1/memorability/muri1320/im1120.png', '/scratch/soroush1/memorability/muri1320/im1121.png', '/scratch/soroush1/memorability/muri1320/im1122.png', '/scratch/soroush1/memorability/muri1320/im1123.png', '/scratch/soroush1/memorability/muri1320/im1124.png', '/scratch/soroush1/memorability/muri1320/im1125.png', '/scratch/soroush1/memorability/muri1320/im1126.png', '/scratch/soroush1/memorability/muri1320/im1127.png', '/scratch/soroush1/memorability/muri1320/im1128.png', '/scratch/soroush1/memorability/muri1320/im1129.png']\n",
      "['/scratch/soroush1/memorability/muri1320/im1152.png', '/scratch/soroush1/memorability/muri1320/im1153.png', '/scratch/soroush1/memorability/muri1320/im1154.png', '/scratch/soroush1/memorability/muri1320/im1155.png', '/scratch/soroush1/memorability/muri1320/im1156.png', '/scratch/soroush1/memorability/muri1320/im1157.png', '/scratch/soroush1/memorability/muri1320/im1158.png', '/scratch/soroush1/memorability/muri1320/im1159.png', '/scratch/soroush1/memorability/muri1320/im1160.png', '/scratch/soroush1/memorability/muri1320/im1161.png']\n",
      "['/scratch/soroush1/memorability/muri1320/im1184.png', '/scratch/soroush1/memorability/muri1320/im1185.png', '/scratch/soroush1/memorability/muri1320/im1186.png', '/scratch/soroush1/memorability/muri1320/im1187.png', '/scratch/soroush1/memorability/muri1320/im1188.png', '/scratch/soroush1/memorability/muri1320/im1189.png', '/scratch/soroush1/memorability/muri1320/im1190.png', '/scratch/soroush1/memorability/muri1320/im1191.png', '/scratch/soroush1/memorability/muri1320/im1192.png', '/scratch/soroush1/memorability/muri1320/im1193.png']\n",
      "['/scratch/soroush1/memorability/muri1320/im1216.png', '/scratch/soroush1/memorability/muri1320/im1217.png', '/scratch/soroush1/memorability/muri1320/im1218.png', '/scratch/soroush1/memorability/muri1320/im1219.png', '/scratch/soroush1/memorability/muri1320/im1220.png', '/scratch/soroush1/memorability/muri1320/im1221.png', '/scratch/soroush1/memorability/muri1320/im1222.png', '/scratch/soroush1/memorability/muri1320/im1223.png', '/scratch/soroush1/memorability/muri1320/im1224.png', '/scratch/soroush1/memorability/muri1320/im1225.png']\n",
      "['/scratch/soroush1/memorability/muri1320/im1248.png', '/scratch/soroush1/memorability/muri1320/im1249.png', '/scratch/soroush1/memorability/muri1320/im1250.png', '/scratch/soroush1/memorability/muri1320/im1251.png', '/scratch/soroush1/memorability/muri1320/im1252.png', '/scratch/soroush1/memorability/muri1320/im1253.png', '/scratch/soroush1/memorability/muri1320/im1254.png', '/scratch/soroush1/memorability/muri1320/im1255.png', '/scratch/soroush1/memorability/muri1320/im1256.png', '/scratch/soroush1/memorability/muri1320/im1257.png']\n"
     ]
    },
    {
     "name": "stderr",
     "output_type": "stream",
     "text": [
      "\n",
      "100%|██████████| 42/42 [00:01<00:00, 21.34it/s]\u001b[A"
     ]
    },
    {
     "name": "stdout",
     "output_type": "stream",
     "text": [
      "['/scratch/soroush1/memorability/muri1320/im1280.png', '/scratch/soroush1/memorability/muri1320/im1281.png', '/scratch/soroush1/memorability/muri1320/im1282.png', '/scratch/soroush1/memorability/muri1320/im1283.png', '/scratch/soroush1/memorability/muri1320/im1284.png', '/scratch/soroush1/memorability/muri1320/im1285.png', '/scratch/soroush1/memorability/muri1320/im1286.png', '/scratch/soroush1/memorability/muri1320/im1287.png', '/scratch/soroush1/memorability/muri1320/im1288.png', '/scratch/soroush1/memorability/muri1320/im1289.png']\n",
      "['/scratch/soroush1/memorability/muri1320/im1312.png', '/scratch/soroush1/memorability/muri1320/im1313.png', '/scratch/soroush1/memorability/muri1320/im1314.png', '/scratch/soroush1/memorability/muri1320/im1315.png', '/scratch/soroush1/memorability/muri1320/im1316.png', '/scratch/soroush1/memorability/muri1320/im1317.png', '/scratch/soroush1/memorability/muri1320/im1318.png', '/scratch/soroush1/memorability/muri1320/im1319.png']\n",
      "Concatenated features shape: (1320, 100352)\n",
      "Total number of images: 1320\n",
      "Model: resnet50, Task: diffInitRes3, Layer: IT, Shape: (1320, 100352)\n"
     ]
    },
    {
     "name": "stderr",
     "output_type": "stream",
     "text": [
      "\n",
      "different_run:  31%|███       | 4/13 [00:12<00:27,  3.04s/it]"
     ]
    },
    {
     "name": "stdout",
     "output_type": "stream",
     "text": [
      "Features saved to ./features/muri1320_resnet50_diffInitRes3_IT.h5\n",
      "(1320, 100352)\n",
      "device = device(type='cuda')\n",
      "list(ckpt.keys())[:10] = ['module.conv1.weight', 'module.bn1.weight', 'module.bn1.bias', 'module.bn1.running_mean', 'module.bn1.running_var', 'module.bn1.num_batches_tracked', 'module.layer1.0.conv1.weight', 'module.layer1.0.bn1.weight', 'module.layer1.0.bn1.bias', 'module.layer1.0.bn1.running_mean']\n",
      "list(ckpt.keys())[:10] = ['conv1.weight', 'bn1.weight', 'bn1.bias', 'bn1.running_mean', 'bn1.running_var', 'bn1.num_batches_tracked', 'layer1.0.conv1.weight', 'layer1.0.bn1.weight', 'layer1.0.bn1.bias', 'layer1.0.bn1.running_mean']\n"
     ]
    },
    {
     "name": "stderr",
     "output_type": "stream",
     "text": [
      "\n",
      "  0%|          | 0/42 [00:00<?, ?it/s]\u001b[A\n",
      "  2%|▏         | 1/42 [00:00<00:07,  5.70it/s]\u001b[A\n",
      " 10%|▉         | 4/42 [00:00<00:02, 14.57it/s]\u001b[A"
     ]
    },
    {
     "name": "stdout",
     "output_type": "stream",
     "text": [
      "['/scratch/soroush1/memorability/muri1320/im0000.png', '/scratch/soroush1/memorability/muri1320/im0001.png', '/scratch/soroush1/memorability/muri1320/im0002.png', '/scratch/soroush1/memorability/muri1320/im0003.png', '/scratch/soroush1/memorability/muri1320/im0004.png', '/scratch/soroush1/memorability/muri1320/im0005.png', '/scratch/soroush1/memorability/muri1320/im0006.png', '/scratch/soroush1/memorability/muri1320/im0007.png', '/scratch/soroush1/memorability/muri1320/im0008.png', '/scratch/soroush1/memorability/muri1320/im0009.png']\n",
      "['/scratch/soroush1/memorability/muri1320/im0032.png', '/scratch/soroush1/memorability/muri1320/im0033.png', '/scratch/soroush1/memorability/muri1320/im0034.png', '/scratch/soroush1/memorability/muri1320/im0035.png', '/scratch/soroush1/memorability/muri1320/im0036.png', '/scratch/soroush1/memorability/muri1320/im0037.png', '/scratch/soroush1/memorability/muri1320/im0038.png', '/scratch/soroush1/memorability/muri1320/im0039.png', '/scratch/soroush1/memorability/muri1320/im0040.png', '/scratch/soroush1/memorability/muri1320/im0041.png']\n",
      "['/scratch/soroush1/memorability/muri1320/im0064.png', '/scratch/soroush1/memorability/muri1320/im0065.png', '/scratch/soroush1/memorability/muri1320/im0066.png', '/scratch/soroush1/memorability/muri1320/im0067.png', '/scratch/soroush1/memorability/muri1320/im0068.png', '/scratch/soroush1/memorability/muri1320/im0069.png', '/scratch/soroush1/memorability/muri1320/im0070.png', '/scratch/soroush1/memorability/muri1320/im0071.png', '/scratch/soroush1/memorability/muri1320/im0072.png', '/scratch/soroush1/memorability/muri1320/im0073.png']\n",
      "['/scratch/soroush1/memorability/muri1320/im0096.png', '/scratch/soroush1/memorability/muri1320/im0097.png', '/scratch/soroush1/memorability/muri1320/im0098.png', '/scratch/soroush1/memorability/muri1320/im0099.png', '/scratch/soroush1/memorability/muri1320/im0100.png', '/scratch/soroush1/memorability/muri1320/im0101.png', '/scratch/soroush1/memorability/muri1320/im0102.png', '/scratch/soroush1/memorability/muri1320/im0103.png', '/scratch/soroush1/memorability/muri1320/im0104.png', '/scratch/soroush1/memorability/muri1320/im0105.png']\n",
      "['/scratch/soroush1/memorability/muri1320/im0128.png', '/scratch/soroush1/memorability/muri1320/im0129.png', '/scratch/soroush1/memorability/muri1320/im0130.png', '/scratch/soroush1/memorability/muri1320/im0131.png', '/scratch/soroush1/memorability/muri1320/im0132.png', '/scratch/soroush1/memorability/muri1320/im0133.png', '/scratch/soroush1/memorability/muri1320/im0134.png', '/scratch/soroush1/memorability/muri1320/im0135.png', '/scratch/soroush1/memorability/muri1320/im0136.png', '/scratch/soroush1/memorability/muri1320/im0137.png']\n",
      "['/scratch/soroush1/memorability/muri1320/im0160.png', '/scratch/soroush1/memorability/muri1320/im0161.png', '/scratch/soroush1/memorability/muri1320/im0162.png', '/scratch/soroush1/memorability/muri1320/im0163.png', '/scratch/soroush1/memorability/muri1320/im0164.png', '/scratch/soroush1/memorability/muri1320/im0165.png', '/scratch/soroush1/memorability/muri1320/im0166.png', '/scratch/soroush1/memorability/muri1320/im0167.png', '/scratch/soroush1/memorability/muri1320/im0168.png', '/scratch/soroush1/memorability/muri1320/im0169.png']\n"
     ]
    },
    {
     "name": "stderr",
     "output_type": "stream",
     "text": [
      "\n",
      " 17%|█▋        | 7/42 [00:00<00:01, 18.84it/s]\u001b[A\n",
      " 24%|██▍       | 10/42 [00:00<00:01, 22.32it/s]\u001b[A"
     ]
    },
    {
     "name": "stdout",
     "output_type": "stream",
     "text": [
      "['/scratch/soroush1/memorability/muri1320/im0192.png', '/scratch/soroush1/memorability/muri1320/im0193.png', '/scratch/soroush1/memorability/muri1320/im0194.png', '/scratch/soroush1/memorability/muri1320/im0195.png', '/scratch/soroush1/memorability/muri1320/im0196.png', '/scratch/soroush1/memorability/muri1320/im0197.png', '/scratch/soroush1/memorability/muri1320/im0198.png', '/scratch/soroush1/memorability/muri1320/im0199.png', '/scratch/soroush1/memorability/muri1320/im0200.png', '/scratch/soroush1/memorability/muri1320/im0201.png']\n",
      "['/scratch/soroush1/memorability/muri1320/im0224.png', '/scratch/soroush1/memorability/muri1320/im0225.png', '/scratch/soroush1/memorability/muri1320/im0226.png', '/scratch/soroush1/memorability/muri1320/im0227.png', '/scratch/soroush1/memorability/muri1320/im0228.png', '/scratch/soroush1/memorability/muri1320/im0229.png', '/scratch/soroush1/memorability/muri1320/im0230.png', '/scratch/soroush1/memorability/muri1320/im0231.png', '/scratch/soroush1/memorability/muri1320/im0232.png', '/scratch/soroush1/memorability/muri1320/im0233.png']\n",
      "['/scratch/soroush1/memorability/muri1320/im0256.png', '/scratch/soroush1/memorability/muri1320/im0257.png', '/scratch/soroush1/memorability/muri1320/im0258.png', '/scratch/soroush1/memorability/muri1320/im0259.png', '/scratch/soroush1/memorability/muri1320/im0260.png', '/scratch/soroush1/memorability/muri1320/im0261.png', '/scratch/soroush1/memorability/muri1320/im0262.png', '/scratch/soroush1/memorability/muri1320/im0263.png', '/scratch/soroush1/memorability/muri1320/im0264.png', '/scratch/soroush1/memorability/muri1320/im0265.png']\n",
      "['/scratch/soroush1/memorability/muri1320/im0288.png', '/scratch/soroush1/memorability/muri1320/im0289.png', '/scratch/soroush1/memorability/muri1320/im0290.png', '/scratch/soroush1/memorability/muri1320/im0291.png', '/scratch/soroush1/memorability/muri1320/im0292.png', '/scratch/soroush1/memorability/muri1320/im0293.png', '/scratch/soroush1/memorability/muri1320/im0294.png', '/scratch/soroush1/memorability/muri1320/im0295.png', '/scratch/soroush1/memorability/muri1320/im0296.png', '/scratch/soroush1/memorability/muri1320/im0297.png']\n",
      "['/scratch/soroush1/memorability/muri1320/im0320.png', '/scratch/soroush1/memorability/muri1320/im0321.png', '/scratch/soroush1/memorability/muri1320/im0322.png', '/scratch/soroush1/memorability/muri1320/im0323.png', '/scratch/soroush1/memorability/muri1320/im0324.png', '/scratch/soroush1/memorability/muri1320/im0325.png', '/scratch/soroush1/memorability/muri1320/im0326.png', '/scratch/soroush1/memorability/muri1320/im0327.png', '/scratch/soroush1/memorability/muri1320/im0328.png', '/scratch/soroush1/memorability/muri1320/im0329.png']\n",
      "['/scratch/soroush1/memorability/muri1320/im0352.png', '/scratch/soroush1/memorability/muri1320/im0353.png', '/scratch/soroush1/memorability/muri1320/im0354.png', '/scratch/soroush1/memorability/muri1320/im0355.png', '/scratch/soroush1/memorability/muri1320/im0356.png', '/scratch/soroush1/memorability/muri1320/im0357.png', '/scratch/soroush1/memorability/muri1320/im0358.png', '/scratch/soroush1/memorability/muri1320/im0359.png', '/scratch/soroush1/memorability/muri1320/im0360.png', '/scratch/soroush1/memorability/muri1320/im0361.png']\n"
     ]
    },
    {
     "name": "stderr",
     "output_type": "stream",
     "text": [
      "\n",
      " 31%|███       | 13/42 [00:00<00:01, 21.22it/s]\u001b[A\n",
      " 38%|███▊      | 16/42 [00:00<00:01, 23.50it/s]\u001b[A"
     ]
    },
    {
     "name": "stdout",
     "output_type": "stream",
     "text": [
      "['/scratch/soroush1/memorability/muri1320/im0384.png', '/scratch/soroush1/memorability/muri1320/im0385.png', '/scratch/soroush1/memorability/muri1320/im0386.png', '/scratch/soroush1/memorability/muri1320/im0387.png', '/scratch/soroush1/memorability/muri1320/im0388.png', '/scratch/soroush1/memorability/muri1320/im0389.png', '/scratch/soroush1/memorability/muri1320/im0390.png', '/scratch/soroush1/memorability/muri1320/im0391.png', '/scratch/soroush1/memorability/muri1320/im0392.png', '/scratch/soroush1/memorability/muri1320/im0393.png']\n",
      "['/scratch/soroush1/memorability/muri1320/im0416.png', '/scratch/soroush1/memorability/muri1320/im0417.png', '/scratch/soroush1/memorability/muri1320/im0418.png', '/scratch/soroush1/memorability/muri1320/im0419.png', '/scratch/soroush1/memorability/muri1320/im0420.png', '/scratch/soroush1/memorability/muri1320/im0421.png', '/scratch/soroush1/memorability/muri1320/im0422.png', '/scratch/soroush1/memorability/muri1320/im0423.png', '/scratch/soroush1/memorability/muri1320/im0424.png', '/scratch/soroush1/memorability/muri1320/im0425.png']\n",
      "['/scratch/soroush1/memorability/muri1320/im0448.png', '/scratch/soroush1/memorability/muri1320/im0449.png', '/scratch/soroush1/memorability/muri1320/im0450.png', '/scratch/soroush1/memorability/muri1320/im0451.png', '/scratch/soroush1/memorability/muri1320/im0452.png', '/scratch/soroush1/memorability/muri1320/im0453.png', '/scratch/soroush1/memorability/muri1320/im0454.png', '/scratch/soroush1/memorability/muri1320/im0455.png', '/scratch/soroush1/memorability/muri1320/im0456.png', '/scratch/soroush1/memorability/muri1320/im0457.png']\n",
      "['/scratch/soroush1/memorability/muri1320/im0480.png', '/scratch/soroush1/memorability/muri1320/im0481.png', '/scratch/soroush1/memorability/muri1320/im0482.png', '/scratch/soroush1/memorability/muri1320/im0483.png', '/scratch/soroush1/memorability/muri1320/im0484.png', '/scratch/soroush1/memorability/muri1320/im0485.png', '/scratch/soroush1/memorability/muri1320/im0486.png', '/scratch/soroush1/memorability/muri1320/im0487.png', '/scratch/soroush1/memorability/muri1320/im0488.png', '/scratch/soroush1/memorability/muri1320/im0489.png']\n",
      "['/scratch/soroush1/memorability/muri1320/im0512.png', '/scratch/soroush1/memorability/muri1320/im0513.png', '/scratch/soroush1/memorability/muri1320/im0514.png', '/scratch/soroush1/memorability/muri1320/im0515.png', '/scratch/soroush1/memorability/muri1320/im0516.png', '/scratch/soroush1/memorability/muri1320/im0517.png', '/scratch/soroush1/memorability/muri1320/im0518.png', '/scratch/soroush1/memorability/muri1320/im0519.png', '/scratch/soroush1/memorability/muri1320/im0520.png', '/scratch/soroush1/memorability/muri1320/im0521.png']\n",
      "['/scratch/soroush1/memorability/muri1320/im0544.png', '/scratch/soroush1/memorability/muri1320/im0545.png', '/scratch/soroush1/memorability/muri1320/im0546.png', '/scratch/soroush1/memorability/muri1320/im0547.png', '/scratch/soroush1/memorability/muri1320/im0548.png', '/scratch/soroush1/memorability/muri1320/im0549.png', '/scratch/soroush1/memorability/muri1320/im0550.png', '/scratch/soroush1/memorability/muri1320/im0551.png', '/scratch/soroush1/memorability/muri1320/im0552.png', '/scratch/soroush1/memorability/muri1320/im0553.png']\n"
     ]
    },
    {
     "name": "stderr",
     "output_type": "stream",
     "text": [
      "\n",
      " 45%|████▌     | 19/42 [00:00<00:00, 23.45it/s]\u001b[A\n",
      " 52%|█████▏    | 22/42 [00:01<00:00, 23.87it/s]\u001b[A"
     ]
    },
    {
     "name": "stdout",
     "output_type": "stream",
     "text": [
      "['/scratch/soroush1/memorability/muri1320/im0576.png', '/scratch/soroush1/memorability/muri1320/im0577.png', '/scratch/soroush1/memorability/muri1320/im0578.png', '/scratch/soroush1/memorability/muri1320/im0579.png', '/scratch/soroush1/memorability/muri1320/im0580.png', '/scratch/soroush1/memorability/muri1320/im0581.png', '/scratch/soroush1/memorability/muri1320/im0582.png', '/scratch/soroush1/memorability/muri1320/im0583.png', '/scratch/soroush1/memorability/muri1320/im0584.png', '/scratch/soroush1/memorability/muri1320/im0585.png']\n",
      "['/scratch/soroush1/memorability/muri1320/im0608.png', '/scratch/soroush1/memorability/muri1320/im0609.png', '/scratch/soroush1/memorability/muri1320/im0610.png', '/scratch/soroush1/memorability/muri1320/im0611.png', '/scratch/soroush1/memorability/muri1320/im0612.png', '/scratch/soroush1/memorability/muri1320/im0613.png', '/scratch/soroush1/memorability/muri1320/im0614.png', '/scratch/soroush1/memorability/muri1320/im0615.png', '/scratch/soroush1/memorability/muri1320/im0616.png', '/scratch/soroush1/memorability/muri1320/im0617.png']\n",
      "['/scratch/soroush1/memorability/muri1320/im0640.png', '/scratch/soroush1/memorability/muri1320/im0641.png', '/scratch/soroush1/memorability/muri1320/im0642.png', '/scratch/soroush1/memorability/muri1320/im0643.png', '/scratch/soroush1/memorability/muri1320/im0644.png', '/scratch/soroush1/memorability/muri1320/im0645.png', '/scratch/soroush1/memorability/muri1320/im0646.png', '/scratch/soroush1/memorability/muri1320/im0647.png', '/scratch/soroush1/memorability/muri1320/im0648.png', '/scratch/soroush1/memorability/muri1320/im0649.png']\n",
      "['/scratch/soroush1/memorability/muri1320/im0672.png', '/scratch/soroush1/memorability/muri1320/im0673.png', '/scratch/soroush1/memorability/muri1320/im0674.png', '/scratch/soroush1/memorability/muri1320/im0675.png', '/scratch/soroush1/memorability/muri1320/im0676.png', '/scratch/soroush1/memorability/muri1320/im0677.png', '/scratch/soroush1/memorability/muri1320/im0678.png', '/scratch/soroush1/memorability/muri1320/im0679.png', '/scratch/soroush1/memorability/muri1320/im0680.png', '/scratch/soroush1/memorability/muri1320/im0681.png']\n",
      "['/scratch/soroush1/memorability/muri1320/im0704.png', '/scratch/soroush1/memorability/muri1320/im0705.png', '/scratch/soroush1/memorability/muri1320/im0706.png', '/scratch/soroush1/memorability/muri1320/im0707.png', '/scratch/soroush1/memorability/muri1320/im0708.png', '/scratch/soroush1/memorability/muri1320/im0709.png', '/scratch/soroush1/memorability/muri1320/im0710.png', '/scratch/soroush1/memorability/muri1320/im0711.png', '/scratch/soroush1/memorability/muri1320/im0712.png', '/scratch/soroush1/memorability/muri1320/im0713.png']\n"
     ]
    },
    {
     "name": "stderr",
     "output_type": "stream",
     "text": [
      "\n",
      " 60%|█████▉    | 25/42 [00:01<00:00, 23.25it/s]\u001b[A\n",
      " 67%|██████▋   | 28/42 [00:01<00:00, 23.22it/s]\u001b[A"
     ]
    },
    {
     "name": "stdout",
     "output_type": "stream",
     "text": [
      "['/scratch/soroush1/memorability/muri1320/im0736.png', '/scratch/soroush1/memorability/muri1320/im0737.png', '/scratch/soroush1/memorability/muri1320/im0738.png', '/scratch/soroush1/memorability/muri1320/im0739.png', '/scratch/soroush1/memorability/muri1320/im0740.png', '/scratch/soroush1/memorability/muri1320/im0741.png', '/scratch/soroush1/memorability/muri1320/im0742.png', '/scratch/soroush1/memorability/muri1320/im0743.png', '/scratch/soroush1/memorability/muri1320/im0744.png', '/scratch/soroush1/memorability/muri1320/im0745.png']\n",
      "['/scratch/soroush1/memorability/muri1320/im0768.png', '/scratch/soroush1/memorability/muri1320/im0769.png', '/scratch/soroush1/memorability/muri1320/im0770.png', '/scratch/soroush1/memorability/muri1320/im0771.png', '/scratch/soroush1/memorability/muri1320/im0772.png', '/scratch/soroush1/memorability/muri1320/im0773.png', '/scratch/soroush1/memorability/muri1320/im0774.png', '/scratch/soroush1/memorability/muri1320/im0775.png', '/scratch/soroush1/memorability/muri1320/im0776.png', '/scratch/soroush1/memorability/muri1320/im0777.png']\n",
      "['/scratch/soroush1/memorability/muri1320/im0800.png', '/scratch/soroush1/memorability/muri1320/im0801.png', '/scratch/soroush1/memorability/muri1320/im0802.png', '/scratch/soroush1/memorability/muri1320/im0803.png', '/scratch/soroush1/memorability/muri1320/im0804.png', '/scratch/soroush1/memorability/muri1320/im0805.png', '/scratch/soroush1/memorability/muri1320/im0806.png', '/scratch/soroush1/memorability/muri1320/im0807.png', '/scratch/soroush1/memorability/muri1320/im0808.png', '/scratch/soroush1/memorability/muri1320/im0809.png']\n",
      "['/scratch/soroush1/memorability/muri1320/im0832.png', '/scratch/soroush1/memorability/muri1320/im0833.png', '/scratch/soroush1/memorability/muri1320/im0834.png', '/scratch/soroush1/memorability/muri1320/im0835.png', '/scratch/soroush1/memorability/muri1320/im0836.png', '/scratch/soroush1/memorability/muri1320/im0837.png', '/scratch/soroush1/memorability/muri1320/im0838.png', '/scratch/soroush1/memorability/muri1320/im0839.png', '/scratch/soroush1/memorability/muri1320/im0840.png', '/scratch/soroush1/memorability/muri1320/im0841.png']\n",
      "['/scratch/soroush1/memorability/muri1320/im0864.png', '/scratch/soroush1/memorability/muri1320/im0865.png', '/scratch/soroush1/memorability/muri1320/im0866.png', '/scratch/soroush1/memorability/muri1320/im0867.png', '/scratch/soroush1/memorability/muri1320/im0868.png', '/scratch/soroush1/memorability/muri1320/im0869.png', '/scratch/soroush1/memorability/muri1320/im0870.png', '/scratch/soroush1/memorability/muri1320/im0871.png', '/scratch/soroush1/memorability/muri1320/im0872.png', '/scratch/soroush1/memorability/muri1320/im0873.png']\n",
      "['/scratch/soroush1/memorability/muri1320/im0896.png', '/scratch/soroush1/memorability/muri1320/im0897.png', '/scratch/soroush1/memorability/muri1320/im0898.png', '/scratch/soroush1/memorability/muri1320/im0899.png', '/scratch/soroush1/memorability/muri1320/im0900.png', '/scratch/soroush1/memorability/muri1320/im0901.png', '/scratch/soroush1/memorability/muri1320/im0902.png', '/scratch/soroush1/memorability/muri1320/im0903.png', '/scratch/soroush1/memorability/muri1320/im0904.png', '/scratch/soroush1/memorability/muri1320/im0905.png']\n"
     ]
    },
    {
     "name": "stderr",
     "output_type": "stream",
     "text": [
      "\n",
      " 74%|███████▍  | 31/42 [00:01<00:00, 24.88it/s]\u001b[A\n",
      " 81%|████████  | 34/42 [00:01<00:00, 23.02it/s]\u001b[A"
     ]
    },
    {
     "name": "stdout",
     "output_type": "stream",
     "text": [
      "['/scratch/soroush1/memorability/muri1320/im0928.png', '/scratch/soroush1/memorability/muri1320/im0929.png', '/scratch/soroush1/memorability/muri1320/im0930.png', '/scratch/soroush1/memorability/muri1320/im0931.png', '/scratch/soroush1/memorability/muri1320/im0932.png', '/scratch/soroush1/memorability/muri1320/im0933.png', '/scratch/soroush1/memorability/muri1320/im0934.png', '/scratch/soroush1/memorability/muri1320/im0935.png', '/scratch/soroush1/memorability/muri1320/im0936.png', '/scratch/soroush1/memorability/muri1320/im0937.png']\n",
      "['/scratch/soroush1/memorability/muri1320/im0960.png', '/scratch/soroush1/memorability/muri1320/im0961.png', '/scratch/soroush1/memorability/muri1320/im0962.png', '/scratch/soroush1/memorability/muri1320/im0963.png', '/scratch/soroush1/memorability/muri1320/im0964.png', '/scratch/soroush1/memorability/muri1320/im0965.png', '/scratch/soroush1/memorability/muri1320/im0966.png', '/scratch/soroush1/memorability/muri1320/im0967.png', '/scratch/soroush1/memorability/muri1320/im0968.png', '/scratch/soroush1/memorability/muri1320/im0969.png']\n",
      "['/scratch/soroush1/memorability/muri1320/im0992.png', '/scratch/soroush1/memorability/muri1320/im0993.png', '/scratch/soroush1/memorability/muri1320/im0994.png', '/scratch/soroush1/memorability/muri1320/im0995.png', '/scratch/soroush1/memorability/muri1320/im0996.png', '/scratch/soroush1/memorability/muri1320/im0997.png', '/scratch/soroush1/memorability/muri1320/im0998.png', '/scratch/soroush1/memorability/muri1320/im0999.png', '/scratch/soroush1/memorability/muri1320/im1000.png', '/scratch/soroush1/memorability/muri1320/im1001.png']\n",
      "['/scratch/soroush1/memorability/muri1320/im1024.png', '/scratch/soroush1/memorability/muri1320/im1025.png', '/scratch/soroush1/memorability/muri1320/im1026.png', '/scratch/soroush1/memorability/muri1320/im1027.png', '/scratch/soroush1/memorability/muri1320/im1028.png', '/scratch/soroush1/memorability/muri1320/im1029.png', '/scratch/soroush1/memorability/muri1320/im1030.png', '/scratch/soroush1/memorability/muri1320/im1031.png', '/scratch/soroush1/memorability/muri1320/im1032.png', '/scratch/soroush1/memorability/muri1320/im1033.png']\n",
      "['/scratch/soroush1/memorability/muri1320/im1056.png', '/scratch/soroush1/memorability/muri1320/im1057.png', '/scratch/soroush1/memorability/muri1320/im1058.png', '/scratch/soroush1/memorability/muri1320/im1059.png', '/scratch/soroush1/memorability/muri1320/im1060.png', '/scratch/soroush1/memorability/muri1320/im1061.png', '/scratch/soroush1/memorability/muri1320/im1062.png', '/scratch/soroush1/memorability/muri1320/im1063.png', '/scratch/soroush1/memorability/muri1320/im1064.png', '/scratch/soroush1/memorability/muri1320/im1065.png']\n",
      "['/scratch/soroush1/memorability/muri1320/im1088.png', '/scratch/soroush1/memorability/muri1320/im1089.png', '/scratch/soroush1/memorability/muri1320/im1090.png', '/scratch/soroush1/memorability/muri1320/im1091.png', '/scratch/soroush1/memorability/muri1320/im1092.png', '/scratch/soroush1/memorability/muri1320/im1093.png', '/scratch/soroush1/memorability/muri1320/im1094.png', '/scratch/soroush1/memorability/muri1320/im1095.png', '/scratch/soroush1/memorability/muri1320/im1096.png', '/scratch/soroush1/memorability/muri1320/im1097.png']\n"
     ]
    },
    {
     "name": "stderr",
     "output_type": "stream",
     "text": [
      "\n",
      " 90%|█████████ | 38/42 [00:01<00:00, 23.42it/s]\u001b[A"
     ]
    },
    {
     "name": "stdout",
     "output_type": "stream",
     "text": [
      "['/scratch/soroush1/memorability/muri1320/im1120.png', '/scratch/soroush1/memorability/muri1320/im1121.png', '/scratch/soroush1/memorability/muri1320/im1122.png', '/scratch/soroush1/memorability/muri1320/im1123.png', '/scratch/soroush1/memorability/muri1320/im1124.png', '/scratch/soroush1/memorability/muri1320/im1125.png', '/scratch/soroush1/memorability/muri1320/im1126.png', '/scratch/soroush1/memorability/muri1320/im1127.png', '/scratch/soroush1/memorability/muri1320/im1128.png', '/scratch/soroush1/memorability/muri1320/im1129.png']\n",
      "['/scratch/soroush1/memorability/muri1320/im1152.png', '/scratch/soroush1/memorability/muri1320/im1153.png', '/scratch/soroush1/memorability/muri1320/im1154.png', '/scratch/soroush1/memorability/muri1320/im1155.png', '/scratch/soroush1/memorability/muri1320/im1156.png', '/scratch/soroush1/memorability/muri1320/im1157.png', '/scratch/soroush1/memorability/muri1320/im1158.png', '/scratch/soroush1/memorability/muri1320/im1159.png', '/scratch/soroush1/memorability/muri1320/im1160.png', '/scratch/soroush1/memorability/muri1320/im1161.png']\n",
      "['/scratch/soroush1/memorability/muri1320/im1184.png', '/scratch/soroush1/memorability/muri1320/im1185.png', '/scratch/soroush1/memorability/muri1320/im1186.png', '/scratch/soroush1/memorability/muri1320/im1187.png', '/scratch/soroush1/memorability/muri1320/im1188.png', '/scratch/soroush1/memorability/muri1320/im1189.png', '/scratch/soroush1/memorability/muri1320/im1190.png', '/scratch/soroush1/memorability/muri1320/im1191.png', '/scratch/soroush1/memorability/muri1320/im1192.png', '/scratch/soroush1/memorability/muri1320/im1193.png']\n",
      "['/scratch/soroush1/memorability/muri1320/im1216.png', '/scratch/soroush1/memorability/muri1320/im1217.png', '/scratch/soroush1/memorability/muri1320/im1218.png', '/scratch/soroush1/memorability/muri1320/im1219.png', '/scratch/soroush1/memorability/muri1320/im1220.png', '/scratch/soroush1/memorability/muri1320/im1221.png', '/scratch/soroush1/memorability/muri1320/im1222.png', '/scratch/soroush1/memorability/muri1320/im1223.png', '/scratch/soroush1/memorability/muri1320/im1224.png', '/scratch/soroush1/memorability/muri1320/im1225.png']\n",
      "['/scratch/soroush1/memorability/muri1320/im1248.png', '/scratch/soroush1/memorability/muri1320/im1249.png', '/scratch/soroush1/memorability/muri1320/im1250.png', '/scratch/soroush1/memorability/muri1320/im1251.png', '/scratch/soroush1/memorability/muri1320/im1252.png', '/scratch/soroush1/memorability/muri1320/im1253.png', '/scratch/soroush1/memorability/muri1320/im1254.png', '/scratch/soroush1/memorability/muri1320/im1255.png', '/scratch/soroush1/memorability/muri1320/im1256.png', '/scratch/soroush1/memorability/muri1320/im1257.png']\n"
     ]
    },
    {
     "name": "stderr",
     "output_type": "stream",
     "text": [
      "\n",
      "100%|██████████| 42/42 [00:01<00:00, 22.03it/s]\u001b[A\n"
     ]
    },
    {
     "name": "stdout",
     "output_type": "stream",
     "text": [
      "['/scratch/soroush1/memorability/muri1320/im1280.png', '/scratch/soroush1/memorability/muri1320/im1281.png', '/scratch/soroush1/memorability/muri1320/im1282.png', '/scratch/soroush1/memorability/muri1320/im1283.png', '/scratch/soroush1/memorability/muri1320/im1284.png', '/scratch/soroush1/memorability/muri1320/im1285.png', '/scratch/soroush1/memorability/muri1320/im1286.png', '/scratch/soroush1/memorability/muri1320/im1287.png', '/scratch/soroush1/memorability/muri1320/im1288.png', '/scratch/soroush1/memorability/muri1320/im1289.png']\n",
      "['/scratch/soroush1/memorability/muri1320/im1312.png', '/scratch/soroush1/memorability/muri1320/im1313.png', '/scratch/soroush1/memorability/muri1320/im1314.png', '/scratch/soroush1/memorability/muri1320/im1315.png', '/scratch/soroush1/memorability/muri1320/im1316.png', '/scratch/soroush1/memorability/muri1320/im1317.png', '/scratch/soroush1/memorability/muri1320/im1318.png', '/scratch/soroush1/memorability/muri1320/im1319.png']\n",
      "Concatenated features shape: (1320, 100352)\n",
      "Total number of images: 1320\n",
      "Model: resnet50, Task: diffInitRes4, Layer: IT, Shape: (1320, 100352)\n"
     ]
    },
    {
     "name": "stderr",
     "output_type": "stream",
     "text": [
      "different_run:  38%|███▊      | 5/13 [00:15<00:24,  3.03s/it]"
     ]
    },
    {
     "name": "stdout",
     "output_type": "stream",
     "text": [
      "Features saved to ./features/muri1320_resnet50_diffInitRes4_IT.h5\n",
      "(1320, 100352)\n",
      "device = device(type='cuda')\n",
      "list(ckpt.keys())[:10] = ['module.conv1.weight', 'module.bn1.weight', 'module.bn1.bias', 'module.bn1.running_mean', 'module.bn1.running_var', 'module.bn1.num_batches_tracked', 'module.layer1.0.conv1.weight', 'module.layer1.0.bn1.weight', 'module.layer1.0.bn1.bias', 'module.layer1.0.bn1.running_mean']\n",
      "list(ckpt.keys())[:10] = ['conv1.weight', 'bn1.weight', 'bn1.bias', 'bn1.running_mean', 'bn1.running_var', 'bn1.num_batches_tracked', 'layer1.0.conv1.weight', 'layer1.0.bn1.weight', 'layer1.0.bn1.bias', 'layer1.0.bn1.running_mean']\n"
     ]
    },
    {
     "name": "stderr",
     "output_type": "stream",
     "text": [
      "\n",
      "  0%|          | 0/42 [00:00<?, ?it/s]\u001b[A\n",
      "  2%|▏         | 1/42 [00:00<00:08,  4.90it/s]\u001b[A\n",
      " 12%|█▏        | 5/42 [00:00<00:02, 15.96it/s]\u001b[A"
     ]
    },
    {
     "name": "stdout",
     "output_type": "stream",
     "text": [
      "['/scratch/soroush1/memorability/muri1320/im0000.png', '/scratch/soroush1/memorability/muri1320/im0001.png', '/scratch/soroush1/memorability/muri1320/im0002.png', '/scratch/soroush1/memorability/muri1320/im0003.png', '/scratch/soroush1/memorability/muri1320/im0004.png', '/scratch/soroush1/memorability/muri1320/im0005.png', '/scratch/soroush1/memorability/muri1320/im0006.png', '/scratch/soroush1/memorability/muri1320/im0007.png', '/scratch/soroush1/memorability/muri1320/im0008.png', '/scratch/soroush1/memorability/muri1320/im0009.png']\n",
      "['/scratch/soroush1/memorability/muri1320/im0032.png', '/scratch/soroush1/memorability/muri1320/im0033.png', '/scratch/soroush1/memorability/muri1320/im0034.png', '/scratch/soroush1/memorability/muri1320/im0035.png', '/scratch/soroush1/memorability/muri1320/im0036.png', '/scratch/soroush1/memorability/muri1320/im0037.png', '/scratch/soroush1/memorability/muri1320/im0038.png', '/scratch/soroush1/memorability/muri1320/im0039.png', '/scratch/soroush1/memorability/muri1320/im0040.png', '/scratch/soroush1/memorability/muri1320/im0041.png']\n",
      "['/scratch/soroush1/memorability/muri1320/im0064.png', '/scratch/soroush1/memorability/muri1320/im0065.png', '/scratch/soroush1/memorability/muri1320/im0066.png', '/scratch/soroush1/memorability/muri1320/im0067.png', '/scratch/soroush1/memorability/muri1320/im0068.png', '/scratch/soroush1/memorability/muri1320/im0069.png', '/scratch/soroush1/memorability/muri1320/im0070.png', '/scratch/soroush1/memorability/muri1320/im0071.png', '/scratch/soroush1/memorability/muri1320/im0072.png', '/scratch/soroush1/memorability/muri1320/im0073.png']\n",
      "['/scratch/soroush1/memorability/muri1320/im0096.png', '/scratch/soroush1/memorability/muri1320/im0097.png', '/scratch/soroush1/memorability/muri1320/im0098.png', '/scratch/soroush1/memorability/muri1320/im0099.png', '/scratch/soroush1/memorability/muri1320/im0100.png', '/scratch/soroush1/memorability/muri1320/im0101.png', '/scratch/soroush1/memorability/muri1320/im0102.png', '/scratch/soroush1/memorability/muri1320/im0103.png', '/scratch/soroush1/memorability/muri1320/im0104.png', '/scratch/soroush1/memorability/muri1320/im0105.png']\n",
      "['/scratch/soroush1/memorability/muri1320/im0128.png', '/scratch/soroush1/memorability/muri1320/im0129.png', '/scratch/soroush1/memorability/muri1320/im0130.png', '/scratch/soroush1/memorability/muri1320/im0131.png', '/scratch/soroush1/memorability/muri1320/im0132.png', '/scratch/soroush1/memorability/muri1320/im0133.png', '/scratch/soroush1/memorability/muri1320/im0134.png', '/scratch/soroush1/memorability/muri1320/im0135.png', '/scratch/soroush1/memorability/muri1320/im0136.png', '/scratch/soroush1/memorability/muri1320/im0137.png']\n",
      "['/scratch/soroush1/memorability/muri1320/im0160.png', '/scratch/soroush1/memorability/muri1320/im0161.png', '/scratch/soroush1/memorability/muri1320/im0162.png', '/scratch/soroush1/memorability/muri1320/im0163.png', '/scratch/soroush1/memorability/muri1320/im0164.png', '/scratch/soroush1/memorability/muri1320/im0165.png', '/scratch/soroush1/memorability/muri1320/im0166.png', '/scratch/soroush1/memorability/muri1320/im0167.png', '/scratch/soroush1/memorability/muri1320/im0168.png', '/scratch/soroush1/memorability/muri1320/im0169.png']\n"
     ]
    },
    {
     "name": "stderr",
     "output_type": "stream",
     "text": [
      "\n",
      " 19%|█▉        | 8/42 [00:00<00:01, 20.25it/s]\u001b[A\n",
      " 26%|██▌       | 11/42 [00:00<00:01, 19.77it/s]\u001b[A"
     ]
    },
    {
     "name": "stdout",
     "output_type": "stream",
     "text": [
      "['/scratch/soroush1/memorability/muri1320/im0192.png', '/scratch/soroush1/memorability/muri1320/im0193.png', '/scratch/soroush1/memorability/muri1320/im0194.png', '/scratch/soroush1/memorability/muri1320/im0195.png', '/scratch/soroush1/memorability/muri1320/im0196.png', '/scratch/soroush1/memorability/muri1320/im0197.png', '/scratch/soroush1/memorability/muri1320/im0198.png', '/scratch/soroush1/memorability/muri1320/im0199.png', '/scratch/soroush1/memorability/muri1320/im0200.png', '/scratch/soroush1/memorability/muri1320/im0201.png']\n",
      "['/scratch/soroush1/memorability/muri1320/im0224.png', '/scratch/soroush1/memorability/muri1320/im0225.png', '/scratch/soroush1/memorability/muri1320/im0226.png', '/scratch/soroush1/memorability/muri1320/im0227.png', '/scratch/soroush1/memorability/muri1320/im0228.png', '/scratch/soroush1/memorability/muri1320/im0229.png', '/scratch/soroush1/memorability/muri1320/im0230.png', '/scratch/soroush1/memorability/muri1320/im0231.png', '/scratch/soroush1/memorability/muri1320/im0232.png', '/scratch/soroush1/memorability/muri1320/im0233.png']\n",
      "['/scratch/soroush1/memorability/muri1320/im0256.png', '/scratch/soroush1/memorability/muri1320/im0257.png', '/scratch/soroush1/memorability/muri1320/im0258.png', '/scratch/soroush1/memorability/muri1320/im0259.png', '/scratch/soroush1/memorability/muri1320/im0260.png', '/scratch/soroush1/memorability/muri1320/im0261.png', '/scratch/soroush1/memorability/muri1320/im0262.png', '/scratch/soroush1/memorability/muri1320/im0263.png', '/scratch/soroush1/memorability/muri1320/im0264.png', '/scratch/soroush1/memorability/muri1320/im0265.png']\n",
      "['/scratch/soroush1/memorability/muri1320/im0288.png', '/scratch/soroush1/memorability/muri1320/im0289.png', '/scratch/soroush1/memorability/muri1320/im0290.png', '/scratch/soroush1/memorability/muri1320/im0291.png', '/scratch/soroush1/memorability/muri1320/im0292.png', '/scratch/soroush1/memorability/muri1320/im0293.png', '/scratch/soroush1/memorability/muri1320/im0294.png', '/scratch/soroush1/memorability/muri1320/im0295.png', '/scratch/soroush1/memorability/muri1320/im0296.png', '/scratch/soroush1/memorability/muri1320/im0297.png']\n",
      "['/scratch/soroush1/memorability/muri1320/im0320.png', '/scratch/soroush1/memorability/muri1320/im0321.png', '/scratch/soroush1/memorability/muri1320/im0322.png', '/scratch/soroush1/memorability/muri1320/im0323.png', '/scratch/soroush1/memorability/muri1320/im0324.png', '/scratch/soroush1/memorability/muri1320/im0325.png', '/scratch/soroush1/memorability/muri1320/im0326.png', '/scratch/soroush1/memorability/muri1320/im0327.png', '/scratch/soroush1/memorability/muri1320/im0328.png', '/scratch/soroush1/memorability/muri1320/im0329.png']\n"
     ]
    },
    {
     "name": "stderr",
     "output_type": "stream",
     "text": [
      "\n",
      " 36%|███▌      | 15/42 [00:00<00:01, 22.16it/s]\u001b[A"
     ]
    },
    {
     "name": "stdout",
     "output_type": "stream",
     "text": [
      "['/scratch/soroush1/memorability/muri1320/im0352.png', '/scratch/soroush1/memorability/muri1320/im0353.png', '/scratch/soroush1/memorability/muri1320/im0354.png', '/scratch/soroush1/memorability/muri1320/im0355.png', '/scratch/soroush1/memorability/muri1320/im0356.png', '/scratch/soroush1/memorability/muri1320/im0357.png', '/scratch/soroush1/memorability/muri1320/im0358.png', '/scratch/soroush1/memorability/muri1320/im0359.png', '/scratch/soroush1/memorability/muri1320/im0360.png', '/scratch/soroush1/memorability/muri1320/im0361.png']\n",
      "['/scratch/soroush1/memorability/muri1320/im0384.png', '/scratch/soroush1/memorability/muri1320/im0385.png', '/scratch/soroush1/memorability/muri1320/im0386.png', '/scratch/soroush1/memorability/muri1320/im0387.png', '/scratch/soroush1/memorability/muri1320/im0388.png', '/scratch/soroush1/memorability/muri1320/im0389.png', '/scratch/soroush1/memorability/muri1320/im0390.png', '/scratch/soroush1/memorability/muri1320/im0391.png', '/scratch/soroush1/memorability/muri1320/im0392.png', '/scratch/soroush1/memorability/muri1320/im0393.png']\n",
      "['/scratch/soroush1/memorability/muri1320/im0416.png', '/scratch/soroush1/memorability/muri1320/im0417.png', '/scratch/soroush1/memorability/muri1320/im0418.png', '/scratch/soroush1/memorability/muri1320/im0419.png', '/scratch/soroush1/memorability/muri1320/im0420.png', '/scratch/soroush1/memorability/muri1320/im0421.png', '/scratch/soroush1/memorability/muri1320/im0422.png', '/scratch/soroush1/memorability/muri1320/im0423.png', '/scratch/soroush1/memorability/muri1320/im0424.png', '/scratch/soroush1/memorability/muri1320/im0425.png']\n",
      "['/scratch/soroush1/memorability/muri1320/im0448.png', '/scratch/soroush1/memorability/muri1320/im0449.png', '/scratch/soroush1/memorability/muri1320/im0450.png', '/scratch/soroush1/memorability/muri1320/im0451.png', '/scratch/soroush1/memorability/muri1320/im0452.png', '/scratch/soroush1/memorability/muri1320/im0453.png', '/scratch/soroush1/memorability/muri1320/im0454.png', '/scratch/soroush1/memorability/muri1320/im0455.png', '/scratch/soroush1/memorability/muri1320/im0456.png', '/scratch/soroush1/memorability/muri1320/im0457.png']\n",
      "['/scratch/soroush1/memorability/muri1320/im0480.png', '/scratch/soroush1/memorability/muri1320/im0481.png', '/scratch/soroush1/memorability/muri1320/im0482.png', '/scratch/soroush1/memorability/muri1320/im0483.png', '/scratch/soroush1/memorability/muri1320/im0484.png', '/scratch/soroush1/memorability/muri1320/im0485.png', '/scratch/soroush1/memorability/muri1320/im0486.png', '/scratch/soroush1/memorability/muri1320/im0487.png', '/scratch/soroush1/memorability/muri1320/im0488.png', '/scratch/soroush1/memorability/muri1320/im0489.png']\n"
     ]
    },
    {
     "name": "stderr",
     "output_type": "stream",
     "text": [
      "\n",
      " 43%|████▎     | 18/42 [00:00<00:00, 24.15it/s]\u001b[A\n",
      " 50%|█████     | 21/42 [00:01<00:00, 22.28it/s]\u001b[A"
     ]
    },
    {
     "name": "stdout",
     "output_type": "stream",
     "text": [
      "['/scratch/soroush1/memorability/muri1320/im0512.png', '/scratch/soroush1/memorability/muri1320/im0513.png', '/scratch/soroush1/memorability/muri1320/im0514.png', '/scratch/soroush1/memorability/muri1320/im0515.png', '/scratch/soroush1/memorability/muri1320/im0516.png', '/scratch/soroush1/memorability/muri1320/im0517.png', '/scratch/soroush1/memorability/muri1320/im0518.png', '/scratch/soroush1/memorability/muri1320/im0519.png', '/scratch/soroush1/memorability/muri1320/im0520.png', '/scratch/soroush1/memorability/muri1320/im0521.png']\n",
      "['/scratch/soroush1/memorability/muri1320/im0544.png', '/scratch/soroush1/memorability/muri1320/im0545.png', '/scratch/soroush1/memorability/muri1320/im0546.png', '/scratch/soroush1/memorability/muri1320/im0547.png', '/scratch/soroush1/memorability/muri1320/im0548.png', '/scratch/soroush1/memorability/muri1320/im0549.png', '/scratch/soroush1/memorability/muri1320/im0550.png', '/scratch/soroush1/memorability/muri1320/im0551.png', '/scratch/soroush1/memorability/muri1320/im0552.png', '/scratch/soroush1/memorability/muri1320/im0553.png']\n",
      "['/scratch/soroush1/memorability/muri1320/im0576.png', '/scratch/soroush1/memorability/muri1320/im0577.png', '/scratch/soroush1/memorability/muri1320/im0578.png', '/scratch/soroush1/memorability/muri1320/im0579.png', '/scratch/soroush1/memorability/muri1320/im0580.png', '/scratch/soroush1/memorability/muri1320/im0581.png', '/scratch/soroush1/memorability/muri1320/im0582.png', '/scratch/soroush1/memorability/muri1320/im0583.png', '/scratch/soroush1/memorability/muri1320/im0584.png', '/scratch/soroush1/memorability/muri1320/im0585.png']\n",
      "['/scratch/soroush1/memorability/muri1320/im0608.png', '/scratch/soroush1/memorability/muri1320/im0609.png', '/scratch/soroush1/memorability/muri1320/im0610.png', '/scratch/soroush1/memorability/muri1320/im0611.png', '/scratch/soroush1/memorability/muri1320/im0612.png', '/scratch/soroush1/memorability/muri1320/im0613.png', '/scratch/soroush1/memorability/muri1320/im0614.png', '/scratch/soroush1/memorability/muri1320/im0615.png', '/scratch/soroush1/memorability/muri1320/im0616.png', '/scratch/soroush1/memorability/muri1320/im0617.png']\n",
      "['/scratch/soroush1/memorability/muri1320/im0640.png', '/scratch/soroush1/memorability/muri1320/im0641.png', '/scratch/soroush1/memorability/muri1320/im0642.png', '/scratch/soroush1/memorability/muri1320/im0643.png', '/scratch/soroush1/memorability/muri1320/im0644.png', '/scratch/soroush1/memorability/muri1320/im0645.png', '/scratch/soroush1/memorability/muri1320/im0646.png', '/scratch/soroush1/memorability/muri1320/im0647.png', '/scratch/soroush1/memorability/muri1320/im0648.png', '/scratch/soroush1/memorability/muri1320/im0649.png']\n"
     ]
    },
    {
     "name": "stderr",
     "output_type": "stream",
     "text": [
      "\n",
      " 60%|█████▉    | 25/42 [00:01<00:00, 24.49it/s]\u001b[A"
     ]
    },
    {
     "name": "stdout",
     "output_type": "stream",
     "text": [
      "['/scratch/soroush1/memorability/muri1320/im0672.png', '/scratch/soroush1/memorability/muri1320/im0673.png', '/scratch/soroush1/memorability/muri1320/im0674.png', '/scratch/soroush1/memorability/muri1320/im0675.png', '/scratch/soroush1/memorability/muri1320/im0676.png', '/scratch/soroush1/memorability/muri1320/im0677.png', '/scratch/soroush1/memorability/muri1320/im0678.png', '/scratch/soroush1/memorability/muri1320/im0679.png', '/scratch/soroush1/memorability/muri1320/im0680.png', '/scratch/soroush1/memorability/muri1320/im0681.png']\n",
      "['/scratch/soroush1/memorability/muri1320/im0704.png', '/scratch/soroush1/memorability/muri1320/im0705.png', '/scratch/soroush1/memorability/muri1320/im0706.png', '/scratch/soroush1/memorability/muri1320/im0707.png', '/scratch/soroush1/memorability/muri1320/im0708.png', '/scratch/soroush1/memorability/muri1320/im0709.png', '/scratch/soroush1/memorability/muri1320/im0710.png', '/scratch/soroush1/memorability/muri1320/im0711.png', '/scratch/soroush1/memorability/muri1320/im0712.png', '/scratch/soroush1/memorability/muri1320/im0713.png']\n",
      "['/scratch/soroush1/memorability/muri1320/im0736.png', '/scratch/soroush1/memorability/muri1320/im0737.png', '/scratch/soroush1/memorability/muri1320/im0738.png', '/scratch/soroush1/memorability/muri1320/im0739.png', '/scratch/soroush1/memorability/muri1320/im0740.png', '/scratch/soroush1/memorability/muri1320/im0741.png', '/scratch/soroush1/memorability/muri1320/im0742.png', '/scratch/soroush1/memorability/muri1320/im0743.png', '/scratch/soroush1/memorability/muri1320/im0744.png', '/scratch/soroush1/memorability/muri1320/im0745.png']\n",
      "['/scratch/soroush1/memorability/muri1320/im0768.png', '/scratch/soroush1/memorability/muri1320/im0769.png', '/scratch/soroush1/memorability/muri1320/im0770.png', '/scratch/soroush1/memorability/muri1320/im0771.png', '/scratch/soroush1/memorability/muri1320/im0772.png', '/scratch/soroush1/memorability/muri1320/im0773.png', '/scratch/soroush1/memorability/muri1320/im0774.png', '/scratch/soroush1/memorability/muri1320/im0775.png', '/scratch/soroush1/memorability/muri1320/im0776.png', '/scratch/soroush1/memorability/muri1320/im0777.png']\n",
      "['/scratch/soroush1/memorability/muri1320/im0800.png', '/scratch/soroush1/memorability/muri1320/im0801.png', '/scratch/soroush1/memorability/muri1320/im0802.png', '/scratch/soroush1/memorability/muri1320/im0803.png', '/scratch/soroush1/memorability/muri1320/im0804.png', '/scratch/soroush1/memorability/muri1320/im0805.png', '/scratch/soroush1/memorability/muri1320/im0806.png', '/scratch/soroush1/memorability/muri1320/im0807.png', '/scratch/soroush1/memorability/muri1320/im0808.png', '/scratch/soroush1/memorability/muri1320/im0809.png']\n",
      "['/scratch/soroush1/memorability/muri1320/im0832.png', '/scratch/soroush1/memorability/muri1320/im0833.png', '/scratch/soroush1/memorability/muri1320/im0834.png', '/scratch/soroush1/memorability/muri1320/im0835.png', '/scratch/soroush1/memorability/muri1320/im0836.png', '/scratch/soroush1/memorability/muri1320/im0837.png', '/scratch/soroush1/memorability/muri1320/im0838.png', '/scratch/soroush1/memorability/muri1320/im0839.png', '/scratch/soroush1/memorability/muri1320/im0840.png', '/scratch/soroush1/memorability/muri1320/im0841.png']\n"
     ]
    },
    {
     "name": "stderr",
     "output_type": "stream",
     "text": [
      "\n",
      " 67%|██████▋   | 28/42 [00:01<00:00, 24.06it/s]\u001b[A\n",
      " 74%|███████▍  | 31/42 [00:01<00:00, 23.91it/s]\u001b[A"
     ]
    },
    {
     "name": "stdout",
     "output_type": "stream",
     "text": [
      "['/scratch/soroush1/memorability/muri1320/im0864.png', '/scratch/soroush1/memorability/muri1320/im0865.png', '/scratch/soroush1/memorability/muri1320/im0866.png', '/scratch/soroush1/memorability/muri1320/im0867.png', '/scratch/soroush1/memorability/muri1320/im0868.png', '/scratch/soroush1/memorability/muri1320/im0869.png', '/scratch/soroush1/memorability/muri1320/im0870.png', '/scratch/soroush1/memorability/muri1320/im0871.png', '/scratch/soroush1/memorability/muri1320/im0872.png', '/scratch/soroush1/memorability/muri1320/im0873.png']\n",
      "['/scratch/soroush1/memorability/muri1320/im0896.png', '/scratch/soroush1/memorability/muri1320/im0897.png', '/scratch/soroush1/memorability/muri1320/im0898.png', '/scratch/soroush1/memorability/muri1320/im0899.png', '/scratch/soroush1/memorability/muri1320/im0900.png', '/scratch/soroush1/memorability/muri1320/im0901.png', '/scratch/soroush1/memorability/muri1320/im0902.png', '/scratch/soroush1/memorability/muri1320/im0903.png', '/scratch/soroush1/memorability/muri1320/im0904.png', '/scratch/soroush1/memorability/muri1320/im0905.png']\n",
      "['/scratch/soroush1/memorability/muri1320/im0928.png', '/scratch/soroush1/memorability/muri1320/im0929.png', '/scratch/soroush1/memorability/muri1320/im0930.png', '/scratch/soroush1/memorability/muri1320/im0931.png', '/scratch/soroush1/memorability/muri1320/im0932.png', '/scratch/soroush1/memorability/muri1320/im0933.png', '/scratch/soroush1/memorability/muri1320/im0934.png', '/scratch/soroush1/memorability/muri1320/im0935.png', '/scratch/soroush1/memorability/muri1320/im0936.png', '/scratch/soroush1/memorability/muri1320/im0937.png']\n",
      "['/scratch/soroush1/memorability/muri1320/im0960.png', '/scratch/soroush1/memorability/muri1320/im0961.png', '/scratch/soroush1/memorability/muri1320/im0962.png', '/scratch/soroush1/memorability/muri1320/im0963.png', '/scratch/soroush1/memorability/muri1320/im0964.png', '/scratch/soroush1/memorability/muri1320/im0965.png', '/scratch/soroush1/memorability/muri1320/im0966.png', '/scratch/soroush1/memorability/muri1320/im0967.png', '/scratch/soroush1/memorability/muri1320/im0968.png', '/scratch/soroush1/memorability/muri1320/im0969.png']\n",
      "['/scratch/soroush1/memorability/muri1320/im0992.png', '/scratch/soroush1/memorability/muri1320/im0993.png', '/scratch/soroush1/memorability/muri1320/im0994.png', '/scratch/soroush1/memorability/muri1320/im0995.png', '/scratch/soroush1/memorability/muri1320/im0996.png', '/scratch/soroush1/memorability/muri1320/im0997.png', '/scratch/soroush1/memorability/muri1320/im0998.png', '/scratch/soroush1/memorability/muri1320/im0999.png', '/scratch/soroush1/memorability/muri1320/im1000.png', '/scratch/soroush1/memorability/muri1320/im1001.png']\n",
      "['/scratch/soroush1/memorability/muri1320/im1024.png', '/scratch/soroush1/memorability/muri1320/im1025.png', '/scratch/soroush1/memorability/muri1320/im1026.png', '/scratch/soroush1/memorability/muri1320/im1027.png', '/scratch/soroush1/memorability/muri1320/im1028.png', '/scratch/soroush1/memorability/muri1320/im1029.png', '/scratch/soroush1/memorability/muri1320/im1030.png', '/scratch/soroush1/memorability/muri1320/im1031.png', '/scratch/soroush1/memorability/muri1320/im1032.png', '/scratch/soroush1/memorability/muri1320/im1033.png']\n"
     ]
    },
    {
     "name": "stderr",
     "output_type": "stream",
     "text": [
      "\n",
      " 81%|████████  | 34/42 [00:01<00:00, 24.29it/s]\u001b[A\n",
      " 88%|████████▊ | 37/42 [00:01<00:00, 24.81it/s]\u001b[A"
     ]
    },
    {
     "name": "stdout",
     "output_type": "stream",
     "text": [
      "['/scratch/soroush1/memorability/muri1320/im1056.png', '/scratch/soroush1/memorability/muri1320/im1057.png', '/scratch/soroush1/memorability/muri1320/im1058.png', '/scratch/soroush1/memorability/muri1320/im1059.png', '/scratch/soroush1/memorability/muri1320/im1060.png', '/scratch/soroush1/memorability/muri1320/im1061.png', '/scratch/soroush1/memorability/muri1320/im1062.png', '/scratch/soroush1/memorability/muri1320/im1063.png', '/scratch/soroush1/memorability/muri1320/im1064.png', '/scratch/soroush1/memorability/muri1320/im1065.png']\n",
      "['/scratch/soroush1/memorability/muri1320/im1088.png', '/scratch/soroush1/memorability/muri1320/im1089.png', '/scratch/soroush1/memorability/muri1320/im1090.png', '/scratch/soroush1/memorability/muri1320/im1091.png', '/scratch/soroush1/memorability/muri1320/im1092.png', '/scratch/soroush1/memorability/muri1320/im1093.png', '/scratch/soroush1/memorability/muri1320/im1094.png', '/scratch/soroush1/memorability/muri1320/im1095.png', '/scratch/soroush1/memorability/muri1320/im1096.png', '/scratch/soroush1/memorability/muri1320/im1097.png']\n",
      "['/scratch/soroush1/memorability/muri1320/im1120.png', '/scratch/soroush1/memorability/muri1320/im1121.png', '/scratch/soroush1/memorability/muri1320/im1122.png', '/scratch/soroush1/memorability/muri1320/im1123.png', '/scratch/soroush1/memorability/muri1320/im1124.png', '/scratch/soroush1/memorability/muri1320/im1125.png', '/scratch/soroush1/memorability/muri1320/im1126.png', '/scratch/soroush1/memorability/muri1320/im1127.png', '/scratch/soroush1/memorability/muri1320/im1128.png', '/scratch/soroush1/memorability/muri1320/im1129.png']\n",
      "['/scratch/soroush1/memorability/muri1320/im1152.png', '/scratch/soroush1/memorability/muri1320/im1153.png', '/scratch/soroush1/memorability/muri1320/im1154.png', '/scratch/soroush1/memorability/muri1320/im1155.png', '/scratch/soroush1/memorability/muri1320/im1156.png', '/scratch/soroush1/memorability/muri1320/im1157.png', '/scratch/soroush1/memorability/muri1320/im1158.png', '/scratch/soroush1/memorability/muri1320/im1159.png', '/scratch/soroush1/memorability/muri1320/im1160.png', '/scratch/soroush1/memorability/muri1320/im1161.png']\n",
      "['/scratch/soroush1/memorability/muri1320/im1184.png', '/scratch/soroush1/memorability/muri1320/im1185.png', '/scratch/soroush1/memorability/muri1320/im1186.png', '/scratch/soroush1/memorability/muri1320/im1187.png', '/scratch/soroush1/memorability/muri1320/im1188.png', '/scratch/soroush1/memorability/muri1320/im1189.png', '/scratch/soroush1/memorability/muri1320/im1190.png', '/scratch/soroush1/memorability/muri1320/im1191.png', '/scratch/soroush1/memorability/muri1320/im1192.png', '/scratch/soroush1/memorability/muri1320/im1193.png']\n",
      "['/scratch/soroush1/memorability/muri1320/im1216.png', '/scratch/soroush1/memorability/muri1320/im1217.png', '/scratch/soroush1/memorability/muri1320/im1218.png', '/scratch/soroush1/memorability/muri1320/im1219.png', '/scratch/soroush1/memorability/muri1320/im1220.png', '/scratch/soroush1/memorability/muri1320/im1221.png', '/scratch/soroush1/memorability/muri1320/im1222.png', '/scratch/soroush1/memorability/muri1320/im1223.png', '/scratch/soroush1/memorability/muri1320/im1224.png', '/scratch/soroush1/memorability/muri1320/im1225.png']\n"
     ]
    },
    {
     "name": "stderr",
     "output_type": "stream",
     "text": [
      "\n",
      "100%|██████████| 42/42 [00:01<00:00, 22.02it/s]\u001b[A"
     ]
    },
    {
     "name": "stdout",
     "output_type": "stream",
     "text": [
      "['/scratch/soroush1/memorability/muri1320/im1248.png', '/scratch/soroush1/memorability/muri1320/im1249.png', '/scratch/soroush1/memorability/muri1320/im1250.png', '/scratch/soroush1/memorability/muri1320/im1251.png', '/scratch/soroush1/memorability/muri1320/im1252.png', '/scratch/soroush1/memorability/muri1320/im1253.png', '/scratch/soroush1/memorability/muri1320/im1254.png', '/scratch/soroush1/memorability/muri1320/im1255.png', '/scratch/soroush1/memorability/muri1320/im1256.png', '/scratch/soroush1/memorability/muri1320/im1257.png']\n",
      "['/scratch/soroush1/memorability/muri1320/im1280.png', '/scratch/soroush1/memorability/muri1320/im1281.png', '/scratch/soroush1/memorability/muri1320/im1282.png', '/scratch/soroush1/memorability/muri1320/im1283.png', '/scratch/soroush1/memorability/muri1320/im1284.png', '/scratch/soroush1/memorability/muri1320/im1285.png', '/scratch/soroush1/memorability/muri1320/im1286.png', '/scratch/soroush1/memorability/muri1320/im1287.png', '/scratch/soroush1/memorability/muri1320/im1288.png', '/scratch/soroush1/memorability/muri1320/im1289.png']\n",
      "['/scratch/soroush1/memorability/muri1320/im1312.png', '/scratch/soroush1/memorability/muri1320/im1313.png', '/scratch/soroush1/memorability/muri1320/im1314.png', '/scratch/soroush1/memorability/muri1320/im1315.png', '/scratch/soroush1/memorability/muri1320/im1316.png', '/scratch/soroush1/memorability/muri1320/im1317.png', '/scratch/soroush1/memorability/muri1320/im1318.png', '/scratch/soroush1/memorability/muri1320/im1319.png']\n",
      "Concatenated features shape: (1320, 100352)\n",
      "Total number of images: 1320\n",
      "Model: resnet50, Task: diffInitRes5, Layer: IT, Shape: (1320, 100352)\n"
     ]
    },
    {
     "name": "stderr",
     "output_type": "stream",
     "text": [
      "\n",
      "different_run:  46%|████▌     | 6/13 [00:18<00:20,  3.00s/it]"
     ]
    },
    {
     "name": "stdout",
     "output_type": "stream",
     "text": [
      "Features saved to ./features/muri1320_resnet50_diffInitRes5_IT.h5\n",
      "(1320, 100352)\n",
      "device = device(type='cuda')\n",
      "list(ckpt.keys())[:10] = ['module.conv1.weight', 'module.bn1.weight', 'module.bn1.bias', 'module.bn1.running_mean', 'module.bn1.running_var', 'module.bn1.num_batches_tracked', 'module.layer1.0.conv1.weight', 'module.layer1.0.bn1.weight', 'module.layer1.0.bn1.bias', 'module.layer1.0.bn1.running_mean']\n",
      "list(ckpt.keys())[:10] = ['conv1.weight', 'bn1.weight', 'bn1.bias', 'bn1.running_mean', 'bn1.running_var', 'bn1.num_batches_tracked', 'layer1.0.conv1.weight', 'layer1.0.bn1.weight', 'layer1.0.bn1.bias', 'layer1.0.bn1.running_mean']\n"
     ]
    },
    {
     "name": "stderr",
     "output_type": "stream",
     "text": [
      "\n",
      "  0%|          | 0/42 [00:00<?, ?it/s]\u001b[A\n",
      "  2%|▏         | 1/42 [00:00<00:07,  5.14it/s]\u001b[A\n",
      " 10%|▉         | 4/42 [00:00<00:02, 15.38it/s]\u001b[A"
     ]
    },
    {
     "name": "stdout",
     "output_type": "stream",
     "text": [
      "['/scratch/soroush1/memorability/muri1320/im0000.png', '/scratch/soroush1/memorability/muri1320/im0001.png', '/scratch/soroush1/memorability/muri1320/im0002.png', '/scratch/soroush1/memorability/muri1320/im0003.png', '/scratch/soroush1/memorability/muri1320/im0004.png', '/scratch/soroush1/memorability/muri1320/im0005.png', '/scratch/soroush1/memorability/muri1320/im0006.png', '/scratch/soroush1/memorability/muri1320/im0007.png', '/scratch/soroush1/memorability/muri1320/im0008.png', '/scratch/soroush1/memorability/muri1320/im0009.png']\n",
      "['/scratch/soroush1/memorability/muri1320/im0032.png', '/scratch/soroush1/memorability/muri1320/im0033.png', '/scratch/soroush1/memorability/muri1320/im0034.png', '/scratch/soroush1/memorability/muri1320/im0035.png', '/scratch/soroush1/memorability/muri1320/im0036.png', '/scratch/soroush1/memorability/muri1320/im0037.png', '/scratch/soroush1/memorability/muri1320/im0038.png', '/scratch/soroush1/memorability/muri1320/im0039.png', '/scratch/soroush1/memorability/muri1320/im0040.png', '/scratch/soroush1/memorability/muri1320/im0041.png']\n",
      "['/scratch/soroush1/memorability/muri1320/im0064.png', '/scratch/soroush1/memorability/muri1320/im0065.png', '/scratch/soroush1/memorability/muri1320/im0066.png', '/scratch/soroush1/memorability/muri1320/im0067.png', '/scratch/soroush1/memorability/muri1320/im0068.png', '/scratch/soroush1/memorability/muri1320/im0069.png', '/scratch/soroush1/memorability/muri1320/im0070.png', '/scratch/soroush1/memorability/muri1320/im0071.png', '/scratch/soroush1/memorability/muri1320/im0072.png', '/scratch/soroush1/memorability/muri1320/im0073.png']\n",
      "['/scratch/soroush1/memorability/muri1320/im0096.png', '/scratch/soroush1/memorability/muri1320/im0097.png', '/scratch/soroush1/memorability/muri1320/im0098.png', '/scratch/soroush1/memorability/muri1320/im0099.png', '/scratch/soroush1/memorability/muri1320/im0100.png', '/scratch/soroush1/memorability/muri1320/im0101.png', '/scratch/soroush1/memorability/muri1320/im0102.png', '/scratch/soroush1/memorability/muri1320/im0103.png', '/scratch/soroush1/memorability/muri1320/im0104.png', '/scratch/soroush1/memorability/muri1320/im0105.png']\n",
      "['/scratch/soroush1/memorability/muri1320/im0128.png', '/scratch/soroush1/memorability/muri1320/im0129.png', '/scratch/soroush1/memorability/muri1320/im0130.png', '/scratch/soroush1/memorability/muri1320/im0131.png', '/scratch/soroush1/memorability/muri1320/im0132.png', '/scratch/soroush1/memorability/muri1320/im0133.png', '/scratch/soroush1/memorability/muri1320/im0134.png', '/scratch/soroush1/memorability/muri1320/im0135.png', '/scratch/soroush1/memorability/muri1320/im0136.png', '/scratch/soroush1/memorability/muri1320/im0137.png']\n",
      "['/scratch/soroush1/memorability/muri1320/im0160.png', '/scratch/soroush1/memorability/muri1320/im0161.png', '/scratch/soroush1/memorability/muri1320/im0162.png', '/scratch/soroush1/memorability/muri1320/im0163.png', '/scratch/soroush1/memorability/muri1320/im0164.png', '/scratch/soroush1/memorability/muri1320/im0165.png', '/scratch/soroush1/memorability/muri1320/im0166.png', '/scratch/soroush1/memorability/muri1320/im0167.png', '/scratch/soroush1/memorability/muri1320/im0168.png', '/scratch/soroush1/memorability/muri1320/im0169.png']\n"
     ]
    },
    {
     "name": "stderr",
     "output_type": "stream",
     "text": [
      "\n",
      " 17%|█▋        | 7/42 [00:00<00:02, 17.36it/s]\u001b[A\n",
      " 26%|██▌       | 11/42 [00:00<00:01, 20.55it/s]\u001b[A"
     ]
    },
    {
     "name": "stdout",
     "output_type": "stream",
     "text": [
      "['/scratch/soroush1/memorability/muri1320/im0192.png', '/scratch/soroush1/memorability/muri1320/im0193.png', '/scratch/soroush1/memorability/muri1320/im0194.png', '/scratch/soroush1/memorability/muri1320/im0195.png', '/scratch/soroush1/memorability/muri1320/im0196.png', '/scratch/soroush1/memorability/muri1320/im0197.png', '/scratch/soroush1/memorability/muri1320/im0198.png', '/scratch/soroush1/memorability/muri1320/im0199.png', '/scratch/soroush1/memorability/muri1320/im0200.png', '/scratch/soroush1/memorability/muri1320/im0201.png']\n",
      "['/scratch/soroush1/memorability/muri1320/im0224.png', '/scratch/soroush1/memorability/muri1320/im0225.png', '/scratch/soroush1/memorability/muri1320/im0226.png', '/scratch/soroush1/memorability/muri1320/im0227.png', '/scratch/soroush1/memorability/muri1320/im0228.png', '/scratch/soroush1/memorability/muri1320/im0229.png', '/scratch/soroush1/memorability/muri1320/im0230.png', '/scratch/soroush1/memorability/muri1320/im0231.png', '/scratch/soroush1/memorability/muri1320/im0232.png', '/scratch/soroush1/memorability/muri1320/im0233.png']\n",
      "['/scratch/soroush1/memorability/muri1320/im0256.png', '/scratch/soroush1/memorability/muri1320/im0257.png', '/scratch/soroush1/memorability/muri1320/im0258.png', '/scratch/soroush1/memorability/muri1320/im0259.png', '/scratch/soroush1/memorability/muri1320/im0260.png', '/scratch/soroush1/memorability/muri1320/im0261.png', '/scratch/soroush1/memorability/muri1320/im0262.png', '/scratch/soroush1/memorability/muri1320/im0263.png', '/scratch/soroush1/memorability/muri1320/im0264.png', '/scratch/soroush1/memorability/muri1320/im0265.png']\n",
      "['/scratch/soroush1/memorability/muri1320/im0288.png', '/scratch/soroush1/memorability/muri1320/im0289.png', '/scratch/soroush1/memorability/muri1320/im0290.png', '/scratch/soroush1/memorability/muri1320/im0291.png', '/scratch/soroush1/memorability/muri1320/im0292.png', '/scratch/soroush1/memorability/muri1320/im0293.png', '/scratch/soroush1/memorability/muri1320/im0294.png', '/scratch/soroush1/memorability/muri1320/im0295.png', '/scratch/soroush1/memorability/muri1320/im0296.png', '/scratch/soroush1/memorability/muri1320/im0297.png']\n",
      "['/scratch/soroush1/memorability/muri1320/im0320.png', '/scratch/soroush1/memorability/muri1320/im0321.png', '/scratch/soroush1/memorability/muri1320/im0322.png', '/scratch/soroush1/memorability/muri1320/im0323.png', '/scratch/soroush1/memorability/muri1320/im0324.png', '/scratch/soroush1/memorability/muri1320/im0325.png', '/scratch/soroush1/memorability/muri1320/im0326.png', '/scratch/soroush1/memorability/muri1320/im0327.png', '/scratch/soroush1/memorability/muri1320/im0328.png', '/scratch/soroush1/memorability/muri1320/im0329.png']\n",
      "['/scratch/soroush1/memorability/muri1320/im0352.png', '/scratch/soroush1/memorability/muri1320/im0353.png', '/scratch/soroush1/memorability/muri1320/im0354.png', '/scratch/soroush1/memorability/muri1320/im0355.png', '/scratch/soroush1/memorability/muri1320/im0356.png', '/scratch/soroush1/memorability/muri1320/im0357.png', '/scratch/soroush1/memorability/muri1320/im0358.png', '/scratch/soroush1/memorability/muri1320/im0359.png', '/scratch/soroush1/memorability/muri1320/im0360.png', '/scratch/soroush1/memorability/muri1320/im0361.png']\n"
     ]
    },
    {
     "name": "stderr",
     "output_type": "stream",
     "text": [
      "\n",
      " 33%|███▎      | 14/42 [00:00<00:01, 23.11it/s]\u001b[A\n",
      " 40%|████      | 17/42 [00:00<00:01, 22.53it/s]\u001b[A"
     ]
    },
    {
     "name": "stdout",
     "output_type": "stream",
     "text": [
      "['/scratch/soroush1/memorability/muri1320/im0384.png', '/scratch/soroush1/memorability/muri1320/im0385.png', '/scratch/soroush1/memorability/muri1320/im0386.png', '/scratch/soroush1/memorability/muri1320/im0387.png', '/scratch/soroush1/memorability/muri1320/im0388.png', '/scratch/soroush1/memorability/muri1320/im0389.png', '/scratch/soroush1/memorability/muri1320/im0390.png', '/scratch/soroush1/memorability/muri1320/im0391.png', '/scratch/soroush1/memorability/muri1320/im0392.png', '/scratch/soroush1/memorability/muri1320/im0393.png']\n",
      "['/scratch/soroush1/memorability/muri1320/im0416.png', '/scratch/soroush1/memorability/muri1320/im0417.png', '/scratch/soroush1/memorability/muri1320/im0418.png', '/scratch/soroush1/memorability/muri1320/im0419.png', '/scratch/soroush1/memorability/muri1320/im0420.png', '/scratch/soroush1/memorability/muri1320/im0421.png', '/scratch/soroush1/memorability/muri1320/im0422.png', '/scratch/soroush1/memorability/muri1320/im0423.png', '/scratch/soroush1/memorability/muri1320/im0424.png', '/scratch/soroush1/memorability/muri1320/im0425.png']\n",
      "['/scratch/soroush1/memorability/muri1320/im0448.png', '/scratch/soroush1/memorability/muri1320/im0449.png', '/scratch/soroush1/memorability/muri1320/im0450.png', '/scratch/soroush1/memorability/muri1320/im0451.png', '/scratch/soroush1/memorability/muri1320/im0452.png', '/scratch/soroush1/memorability/muri1320/im0453.png', '/scratch/soroush1/memorability/muri1320/im0454.png', '/scratch/soroush1/memorability/muri1320/im0455.png', '/scratch/soroush1/memorability/muri1320/im0456.png', '/scratch/soroush1/memorability/muri1320/im0457.png']\n",
      "['/scratch/soroush1/memorability/muri1320/im0480.png', '/scratch/soroush1/memorability/muri1320/im0481.png', '/scratch/soroush1/memorability/muri1320/im0482.png', '/scratch/soroush1/memorability/muri1320/im0483.png', '/scratch/soroush1/memorability/muri1320/im0484.png', '/scratch/soroush1/memorability/muri1320/im0485.png', '/scratch/soroush1/memorability/muri1320/im0486.png', '/scratch/soroush1/memorability/muri1320/im0487.png', '/scratch/soroush1/memorability/muri1320/im0488.png', '/scratch/soroush1/memorability/muri1320/im0489.png']\n",
      "['/scratch/soroush1/memorability/muri1320/im0512.png', '/scratch/soroush1/memorability/muri1320/im0513.png', '/scratch/soroush1/memorability/muri1320/im0514.png', '/scratch/soroush1/memorability/muri1320/im0515.png', '/scratch/soroush1/memorability/muri1320/im0516.png', '/scratch/soroush1/memorability/muri1320/im0517.png', '/scratch/soroush1/memorability/muri1320/im0518.png', '/scratch/soroush1/memorability/muri1320/im0519.png', '/scratch/soroush1/memorability/muri1320/im0520.png', '/scratch/soroush1/memorability/muri1320/im0521.png']\n",
      "['/scratch/soroush1/memorability/muri1320/im0544.png', '/scratch/soroush1/memorability/muri1320/im0545.png', '/scratch/soroush1/memorability/muri1320/im0546.png', '/scratch/soroush1/memorability/muri1320/im0547.png', '/scratch/soroush1/memorability/muri1320/im0548.png', '/scratch/soroush1/memorability/muri1320/im0549.png', '/scratch/soroush1/memorability/muri1320/im0550.png', '/scratch/soroush1/memorability/muri1320/im0551.png', '/scratch/soroush1/memorability/muri1320/im0552.png', '/scratch/soroush1/memorability/muri1320/im0553.png']\n"
     ]
    },
    {
     "name": "stderr",
     "output_type": "stream",
     "text": [
      "\n",
      " 48%|████▊     | 20/42 [00:00<00:00, 23.50it/s]\u001b[A\n",
      " 55%|█████▍    | 23/42 [00:01<00:00, 24.09it/s]\u001b[A"
     ]
    },
    {
     "name": "stdout",
     "output_type": "stream",
     "text": [
      "['/scratch/soroush1/memorability/muri1320/im0576.png', '/scratch/soroush1/memorability/muri1320/im0577.png', '/scratch/soroush1/memorability/muri1320/im0578.png', '/scratch/soroush1/memorability/muri1320/im0579.png', '/scratch/soroush1/memorability/muri1320/im0580.png', '/scratch/soroush1/memorability/muri1320/im0581.png', '/scratch/soroush1/memorability/muri1320/im0582.png', '/scratch/soroush1/memorability/muri1320/im0583.png', '/scratch/soroush1/memorability/muri1320/im0584.png', '/scratch/soroush1/memorability/muri1320/im0585.png']\n",
      "['/scratch/soroush1/memorability/muri1320/im0608.png', '/scratch/soroush1/memorability/muri1320/im0609.png', '/scratch/soroush1/memorability/muri1320/im0610.png', '/scratch/soroush1/memorability/muri1320/im0611.png', '/scratch/soroush1/memorability/muri1320/im0612.png', '/scratch/soroush1/memorability/muri1320/im0613.png', '/scratch/soroush1/memorability/muri1320/im0614.png', '/scratch/soroush1/memorability/muri1320/im0615.png', '/scratch/soroush1/memorability/muri1320/im0616.png', '/scratch/soroush1/memorability/muri1320/im0617.png']\n",
      "['/scratch/soroush1/memorability/muri1320/im0640.png', '/scratch/soroush1/memorability/muri1320/im0641.png', '/scratch/soroush1/memorability/muri1320/im0642.png', '/scratch/soroush1/memorability/muri1320/im0643.png', '/scratch/soroush1/memorability/muri1320/im0644.png', '/scratch/soroush1/memorability/muri1320/im0645.png', '/scratch/soroush1/memorability/muri1320/im0646.png', '/scratch/soroush1/memorability/muri1320/im0647.png', '/scratch/soroush1/memorability/muri1320/im0648.png', '/scratch/soroush1/memorability/muri1320/im0649.png']\n",
      "['/scratch/soroush1/memorability/muri1320/im0672.png', '/scratch/soroush1/memorability/muri1320/im0673.png', '/scratch/soroush1/memorability/muri1320/im0674.png', '/scratch/soroush1/memorability/muri1320/im0675.png', '/scratch/soroush1/memorability/muri1320/im0676.png', '/scratch/soroush1/memorability/muri1320/im0677.png', '/scratch/soroush1/memorability/muri1320/im0678.png', '/scratch/soroush1/memorability/muri1320/im0679.png', '/scratch/soroush1/memorability/muri1320/im0680.png', '/scratch/soroush1/memorability/muri1320/im0681.png']\n",
      "['/scratch/soroush1/memorability/muri1320/im0704.png', '/scratch/soroush1/memorability/muri1320/im0705.png', '/scratch/soroush1/memorability/muri1320/im0706.png', '/scratch/soroush1/memorability/muri1320/im0707.png', '/scratch/soroush1/memorability/muri1320/im0708.png', '/scratch/soroush1/memorability/muri1320/im0709.png', '/scratch/soroush1/memorability/muri1320/im0710.png', '/scratch/soroush1/memorability/muri1320/im0711.png', '/scratch/soroush1/memorability/muri1320/im0712.png', '/scratch/soroush1/memorability/muri1320/im0713.png']\n"
     ]
    },
    {
     "name": "stderr",
     "output_type": "stream",
     "text": [
      "\n",
      " 62%|██████▏   | 26/42 [00:01<00:00, 22.92it/s]\u001b[A"
     ]
    },
    {
     "name": "stdout",
     "output_type": "stream",
     "text": [
      "['/scratch/soroush1/memorability/muri1320/im0736.png', '/scratch/soroush1/memorability/muri1320/im0737.png', '/scratch/soroush1/memorability/muri1320/im0738.png', '/scratch/soroush1/memorability/muri1320/im0739.png', '/scratch/soroush1/memorability/muri1320/im0740.png', '/scratch/soroush1/memorability/muri1320/im0741.png', '/scratch/soroush1/memorability/muri1320/im0742.png', '/scratch/soroush1/memorability/muri1320/im0743.png', '/scratch/soroush1/memorability/muri1320/im0744.png', '/scratch/soroush1/memorability/muri1320/im0745.png']\n",
      "['/scratch/soroush1/memorability/muri1320/im0768.png', '/scratch/soroush1/memorability/muri1320/im0769.png', '/scratch/soroush1/memorability/muri1320/im0770.png', '/scratch/soroush1/memorability/muri1320/im0771.png', '/scratch/soroush1/memorability/muri1320/im0772.png', '/scratch/soroush1/memorability/muri1320/im0773.png', '/scratch/soroush1/memorability/muri1320/im0774.png', '/scratch/soroush1/memorability/muri1320/im0775.png', '/scratch/soroush1/memorability/muri1320/im0776.png', '/scratch/soroush1/memorability/muri1320/im0777.png']\n",
      "['/scratch/soroush1/memorability/muri1320/im0800.png', '/scratch/soroush1/memorability/muri1320/im0801.png', '/scratch/soroush1/memorability/muri1320/im0802.png', '/scratch/soroush1/memorability/muri1320/im0803.png', '/scratch/soroush1/memorability/muri1320/im0804.png', '/scratch/soroush1/memorability/muri1320/im0805.png', '/scratch/soroush1/memorability/muri1320/im0806.png', '/scratch/soroush1/memorability/muri1320/im0807.png', '/scratch/soroush1/memorability/muri1320/im0808.png', '/scratch/soroush1/memorability/muri1320/im0809.png']\n",
      "['/scratch/soroush1/memorability/muri1320/im0832.png', '/scratch/soroush1/memorability/muri1320/im0833.png', '/scratch/soroush1/memorability/muri1320/im0834.png', '/scratch/soroush1/memorability/muri1320/im0835.png', '/scratch/soroush1/memorability/muri1320/im0836.png', '/scratch/soroush1/memorability/muri1320/im0837.png', '/scratch/soroush1/memorability/muri1320/im0838.png', '/scratch/soroush1/memorability/muri1320/im0839.png', '/scratch/soroush1/memorability/muri1320/im0840.png', '/scratch/soroush1/memorability/muri1320/im0841.png']\n",
      "['/scratch/soroush1/memorability/muri1320/im0864.png', '/scratch/soroush1/memorability/muri1320/im0865.png', '/scratch/soroush1/memorability/muri1320/im0866.png', '/scratch/soroush1/memorability/muri1320/im0867.png', '/scratch/soroush1/memorability/muri1320/im0868.png', '/scratch/soroush1/memorability/muri1320/im0869.png', '/scratch/soroush1/memorability/muri1320/im0870.png', '/scratch/soroush1/memorability/muri1320/im0871.png', '/scratch/soroush1/memorability/muri1320/im0872.png', '/scratch/soroush1/memorability/muri1320/im0873.png']\n"
     ]
    },
    {
     "name": "stderr",
     "output_type": "stream",
     "text": [
      "\n",
      " 69%|██████▉   | 29/42 [00:01<00:00, 23.52it/s]\u001b[A\n",
      " 76%|███████▌  | 32/42 [00:01<00:00, 23.28it/s]\u001b[A"
     ]
    },
    {
     "name": "stdout",
     "output_type": "stream",
     "text": [
      "['/scratch/soroush1/memorability/muri1320/im0896.png', '/scratch/soroush1/memorability/muri1320/im0897.png', '/scratch/soroush1/memorability/muri1320/im0898.png', '/scratch/soroush1/memorability/muri1320/im0899.png', '/scratch/soroush1/memorability/muri1320/im0900.png', '/scratch/soroush1/memorability/muri1320/im0901.png', '/scratch/soroush1/memorability/muri1320/im0902.png', '/scratch/soroush1/memorability/muri1320/im0903.png', '/scratch/soroush1/memorability/muri1320/im0904.png', '/scratch/soroush1/memorability/muri1320/im0905.png']\n",
      "['/scratch/soroush1/memorability/muri1320/im0928.png', '/scratch/soroush1/memorability/muri1320/im0929.png', '/scratch/soroush1/memorability/muri1320/im0930.png', '/scratch/soroush1/memorability/muri1320/im0931.png', '/scratch/soroush1/memorability/muri1320/im0932.png', '/scratch/soroush1/memorability/muri1320/im0933.png', '/scratch/soroush1/memorability/muri1320/im0934.png', '/scratch/soroush1/memorability/muri1320/im0935.png', '/scratch/soroush1/memorability/muri1320/im0936.png', '/scratch/soroush1/memorability/muri1320/im0937.png']\n",
      "['/scratch/soroush1/memorability/muri1320/im0960.png', '/scratch/soroush1/memorability/muri1320/im0961.png', '/scratch/soroush1/memorability/muri1320/im0962.png', '/scratch/soroush1/memorability/muri1320/im0963.png', '/scratch/soroush1/memorability/muri1320/im0964.png', '/scratch/soroush1/memorability/muri1320/im0965.png', '/scratch/soroush1/memorability/muri1320/im0966.png', '/scratch/soroush1/memorability/muri1320/im0967.png', '/scratch/soroush1/memorability/muri1320/im0968.png', '/scratch/soroush1/memorability/muri1320/im0969.png']\n",
      "['/scratch/soroush1/memorability/muri1320/im0992.png', '/scratch/soroush1/memorability/muri1320/im0993.png', '/scratch/soroush1/memorability/muri1320/im0994.png', '/scratch/soroush1/memorability/muri1320/im0995.png', '/scratch/soroush1/memorability/muri1320/im0996.png', '/scratch/soroush1/memorability/muri1320/im0997.png', '/scratch/soroush1/memorability/muri1320/im0998.png', '/scratch/soroush1/memorability/muri1320/im0999.png', '/scratch/soroush1/memorability/muri1320/im1000.png', '/scratch/soroush1/memorability/muri1320/im1001.png']\n",
      "['/scratch/soroush1/memorability/muri1320/im1024.png', '/scratch/soroush1/memorability/muri1320/im1025.png', '/scratch/soroush1/memorability/muri1320/im1026.png', '/scratch/soroush1/memorability/muri1320/im1027.png', '/scratch/soroush1/memorability/muri1320/im1028.png', '/scratch/soroush1/memorability/muri1320/im1029.png', '/scratch/soroush1/memorability/muri1320/im1030.png', '/scratch/soroush1/memorability/muri1320/im1031.png', '/scratch/soroush1/memorability/muri1320/im1032.png', '/scratch/soroush1/memorability/muri1320/im1033.png']\n"
     ]
    },
    {
     "name": "stderr",
     "output_type": "stream",
     "text": [
      "\n",
      " 83%|████████▎ | 35/42 [00:01<00:00, 24.96it/s]\u001b[A\n",
      " 90%|█████████ | 38/42 [00:01<00:00, 22.41it/s]\u001b[A"
     ]
    },
    {
     "name": "stdout",
     "output_type": "stream",
     "text": [
      "['/scratch/soroush1/memorability/muri1320/im1056.png', '/scratch/soroush1/memorability/muri1320/im1057.png', '/scratch/soroush1/memorability/muri1320/im1058.png', '/scratch/soroush1/memorability/muri1320/im1059.png', '/scratch/soroush1/memorability/muri1320/im1060.png', '/scratch/soroush1/memorability/muri1320/im1061.png', '/scratch/soroush1/memorability/muri1320/im1062.png', '/scratch/soroush1/memorability/muri1320/im1063.png', '/scratch/soroush1/memorability/muri1320/im1064.png', '/scratch/soroush1/memorability/muri1320/im1065.png']\n",
      "['/scratch/soroush1/memorability/muri1320/im1088.png', '/scratch/soroush1/memorability/muri1320/im1089.png', '/scratch/soroush1/memorability/muri1320/im1090.png', '/scratch/soroush1/memorability/muri1320/im1091.png', '/scratch/soroush1/memorability/muri1320/im1092.png', '/scratch/soroush1/memorability/muri1320/im1093.png', '/scratch/soroush1/memorability/muri1320/im1094.png', '/scratch/soroush1/memorability/muri1320/im1095.png', '/scratch/soroush1/memorability/muri1320/im1096.png', '/scratch/soroush1/memorability/muri1320/im1097.png']\n",
      "['/scratch/soroush1/memorability/muri1320/im1120.png', '/scratch/soroush1/memorability/muri1320/im1121.png', '/scratch/soroush1/memorability/muri1320/im1122.png', '/scratch/soroush1/memorability/muri1320/im1123.png', '/scratch/soroush1/memorability/muri1320/im1124.png', '/scratch/soroush1/memorability/muri1320/im1125.png', '/scratch/soroush1/memorability/muri1320/im1126.png', '/scratch/soroush1/memorability/muri1320/im1127.png', '/scratch/soroush1/memorability/muri1320/im1128.png', '/scratch/soroush1/memorability/muri1320/im1129.png']\n",
      "['/scratch/soroush1/memorability/muri1320/im1152.png', '/scratch/soroush1/memorability/muri1320/im1153.png', '/scratch/soroush1/memorability/muri1320/im1154.png', '/scratch/soroush1/memorability/muri1320/im1155.png', '/scratch/soroush1/memorability/muri1320/im1156.png', '/scratch/soroush1/memorability/muri1320/im1157.png', '/scratch/soroush1/memorability/muri1320/im1158.png', '/scratch/soroush1/memorability/muri1320/im1159.png', '/scratch/soroush1/memorability/muri1320/im1160.png', '/scratch/soroush1/memorability/muri1320/im1161.png']\n",
      "['/scratch/soroush1/memorability/muri1320/im1184.png', '/scratch/soroush1/memorability/muri1320/im1185.png', '/scratch/soroush1/memorability/muri1320/im1186.png', '/scratch/soroush1/memorability/muri1320/im1187.png', '/scratch/soroush1/memorability/muri1320/im1188.png', '/scratch/soroush1/memorability/muri1320/im1189.png', '/scratch/soroush1/memorability/muri1320/im1190.png', '/scratch/soroush1/memorability/muri1320/im1191.png', '/scratch/soroush1/memorability/muri1320/im1192.png', '/scratch/soroush1/memorability/muri1320/im1193.png']\n"
     ]
    },
    {
     "name": "stderr",
     "output_type": "stream",
     "text": [
      "\n",
      "100%|██████████| 42/42 [00:01<00:00, 21.81it/s]\u001b[A\n"
     ]
    },
    {
     "name": "stdout",
     "output_type": "stream",
     "text": [
      "['/scratch/soroush1/memorability/muri1320/im1216.png', '/scratch/soroush1/memorability/muri1320/im1217.png', '/scratch/soroush1/memorability/muri1320/im1218.png', '/scratch/soroush1/memorability/muri1320/im1219.png', '/scratch/soroush1/memorability/muri1320/im1220.png', '/scratch/soroush1/memorability/muri1320/im1221.png', '/scratch/soroush1/memorability/muri1320/im1222.png', '/scratch/soroush1/memorability/muri1320/im1223.png', '/scratch/soroush1/memorability/muri1320/im1224.png', '/scratch/soroush1/memorability/muri1320/im1225.png']\n",
      "['/scratch/soroush1/memorability/muri1320/im1248.png', '/scratch/soroush1/memorability/muri1320/im1249.png', '/scratch/soroush1/memorability/muri1320/im1250.png', '/scratch/soroush1/memorability/muri1320/im1251.png', '/scratch/soroush1/memorability/muri1320/im1252.png', '/scratch/soroush1/memorability/muri1320/im1253.png', '/scratch/soroush1/memorability/muri1320/im1254.png', '/scratch/soroush1/memorability/muri1320/im1255.png', '/scratch/soroush1/memorability/muri1320/im1256.png', '/scratch/soroush1/memorability/muri1320/im1257.png']\n",
      "['/scratch/soroush1/memorability/muri1320/im1280.png', '/scratch/soroush1/memorability/muri1320/im1281.png', '/scratch/soroush1/memorability/muri1320/im1282.png', '/scratch/soroush1/memorability/muri1320/im1283.png', '/scratch/soroush1/memorability/muri1320/im1284.png', '/scratch/soroush1/memorability/muri1320/im1285.png', '/scratch/soroush1/memorability/muri1320/im1286.png', '/scratch/soroush1/memorability/muri1320/im1287.png', '/scratch/soroush1/memorability/muri1320/im1288.png', '/scratch/soroush1/memorability/muri1320/im1289.png']\n",
      "['/scratch/soroush1/memorability/muri1320/im1312.png', '/scratch/soroush1/memorability/muri1320/im1313.png', '/scratch/soroush1/memorability/muri1320/im1314.png', '/scratch/soroush1/memorability/muri1320/im1315.png', '/scratch/soroush1/memorability/muri1320/im1316.png', '/scratch/soroush1/memorability/muri1320/im1317.png', '/scratch/soroush1/memorability/muri1320/im1318.png', '/scratch/soroush1/memorability/muri1320/im1319.png']\n",
      "Concatenated features shape: (1320, 100352)\n",
      "Total number of images: 1320\n",
      "Model: resnet50, Task: diffInitRes6, Layer: IT, Shape: (1320, 100352)\n"
     ]
    },
    {
     "name": "stderr",
     "output_type": "stream",
     "text": [
      "different_run:  54%|█████▍    | 7/13 [00:21<00:18,  3.01s/it]"
     ]
    },
    {
     "name": "stdout",
     "output_type": "stream",
     "text": [
      "Features saved to ./features/muri1320_resnet50_diffInitRes6_IT.h5\n",
      "(1320, 100352)\n",
      "device = device(type='cuda')\n",
      "list(ckpt.keys())[:10] = ['module.conv1.weight', 'module.bn1.weight', 'module.bn1.bias', 'module.bn1.running_mean', 'module.bn1.running_var', 'module.bn1.num_batches_tracked', 'module.layer1.0.conv1.weight', 'module.layer1.0.bn1.weight', 'module.layer1.0.bn1.bias', 'module.layer1.0.bn1.running_mean']\n",
      "list(ckpt.keys())[:10] = ['conv1.weight', 'bn1.weight', 'bn1.bias', 'bn1.running_mean', 'bn1.running_var', 'bn1.num_batches_tracked', 'layer1.0.conv1.weight', 'layer1.0.bn1.weight', 'layer1.0.bn1.bias', 'layer1.0.bn1.running_mean']\n"
     ]
    },
    {
     "name": "stderr",
     "output_type": "stream",
     "text": [
      "\n",
      "  0%|          | 0/42 [00:00<?, ?it/s]\u001b[A\n",
      "  2%|▏         | 1/42 [00:00<00:08,  4.60it/s]\u001b[A\n",
      " 12%|█▏        | 5/42 [00:00<00:02, 15.29it/s]\u001b[A"
     ]
    },
    {
     "name": "stdout",
     "output_type": "stream",
     "text": [
      "['/scratch/soroush1/memorability/muri1320/im0000.png', '/scratch/soroush1/memorability/muri1320/im0001.png', '/scratch/soroush1/memorability/muri1320/im0002.png', '/scratch/soroush1/memorability/muri1320/im0003.png', '/scratch/soroush1/memorability/muri1320/im0004.png', '/scratch/soroush1/memorability/muri1320/im0005.png', '/scratch/soroush1/memorability/muri1320/im0006.png', '/scratch/soroush1/memorability/muri1320/im0007.png', '/scratch/soroush1/memorability/muri1320/im0008.png', '/scratch/soroush1/memorability/muri1320/im0009.png']\n",
      "['/scratch/soroush1/memorability/muri1320/im0032.png', '/scratch/soroush1/memorability/muri1320/im0033.png', '/scratch/soroush1/memorability/muri1320/im0034.png', '/scratch/soroush1/memorability/muri1320/im0035.png', '/scratch/soroush1/memorability/muri1320/im0036.png', '/scratch/soroush1/memorability/muri1320/im0037.png', '/scratch/soroush1/memorability/muri1320/im0038.png', '/scratch/soroush1/memorability/muri1320/im0039.png', '/scratch/soroush1/memorability/muri1320/im0040.png', '/scratch/soroush1/memorability/muri1320/im0041.png']\n",
      "['/scratch/soroush1/memorability/muri1320/im0064.png', '/scratch/soroush1/memorability/muri1320/im0065.png', '/scratch/soroush1/memorability/muri1320/im0066.png', '/scratch/soroush1/memorability/muri1320/im0067.png', '/scratch/soroush1/memorability/muri1320/im0068.png', '/scratch/soroush1/memorability/muri1320/im0069.png', '/scratch/soroush1/memorability/muri1320/im0070.png', '/scratch/soroush1/memorability/muri1320/im0071.png', '/scratch/soroush1/memorability/muri1320/im0072.png', '/scratch/soroush1/memorability/muri1320/im0073.png']\n",
      "['/scratch/soroush1/memorability/muri1320/im0096.png', '/scratch/soroush1/memorability/muri1320/im0097.png', '/scratch/soroush1/memorability/muri1320/im0098.png', '/scratch/soroush1/memorability/muri1320/im0099.png', '/scratch/soroush1/memorability/muri1320/im0100.png', '/scratch/soroush1/memorability/muri1320/im0101.png', '/scratch/soroush1/memorability/muri1320/im0102.png', '/scratch/soroush1/memorability/muri1320/im0103.png', '/scratch/soroush1/memorability/muri1320/im0104.png', '/scratch/soroush1/memorability/muri1320/im0105.png']\n",
      "['/scratch/soroush1/memorability/muri1320/im0128.png', '/scratch/soroush1/memorability/muri1320/im0129.png', '/scratch/soroush1/memorability/muri1320/im0130.png', '/scratch/soroush1/memorability/muri1320/im0131.png', '/scratch/soroush1/memorability/muri1320/im0132.png', '/scratch/soroush1/memorability/muri1320/im0133.png', '/scratch/soroush1/memorability/muri1320/im0134.png', '/scratch/soroush1/memorability/muri1320/im0135.png', '/scratch/soroush1/memorability/muri1320/im0136.png', '/scratch/soroush1/memorability/muri1320/im0137.png']\n",
      "['/scratch/soroush1/memorability/muri1320/im0160.png', '/scratch/soroush1/memorability/muri1320/im0161.png', '/scratch/soroush1/memorability/muri1320/im0162.png', '/scratch/soroush1/memorability/muri1320/im0163.png', '/scratch/soroush1/memorability/muri1320/im0164.png', '/scratch/soroush1/memorability/muri1320/im0165.png', '/scratch/soroush1/memorability/muri1320/im0166.png', '/scratch/soroush1/memorability/muri1320/im0167.png', '/scratch/soroush1/memorability/muri1320/im0168.png', '/scratch/soroush1/memorability/muri1320/im0169.png']\n"
     ]
    },
    {
     "name": "stderr",
     "output_type": "stream",
     "text": [
      "\n",
      " 19%|█▉        | 8/42 [00:00<00:01, 19.74it/s]\u001b[A\n",
      " 26%|██▌       | 11/42 [00:00<00:01, 20.15it/s]\u001b[A"
     ]
    },
    {
     "name": "stdout",
     "output_type": "stream",
     "text": [
      "['/scratch/soroush1/memorability/muri1320/im0192.png', '/scratch/soroush1/memorability/muri1320/im0193.png', '/scratch/soroush1/memorability/muri1320/im0194.png', '/scratch/soroush1/memorability/muri1320/im0195.png', '/scratch/soroush1/memorability/muri1320/im0196.png', '/scratch/soroush1/memorability/muri1320/im0197.png', '/scratch/soroush1/memorability/muri1320/im0198.png', '/scratch/soroush1/memorability/muri1320/im0199.png', '/scratch/soroush1/memorability/muri1320/im0200.png', '/scratch/soroush1/memorability/muri1320/im0201.png']\n",
      "['/scratch/soroush1/memorability/muri1320/im0224.png', '/scratch/soroush1/memorability/muri1320/im0225.png', '/scratch/soroush1/memorability/muri1320/im0226.png', '/scratch/soroush1/memorability/muri1320/im0227.png', '/scratch/soroush1/memorability/muri1320/im0228.png', '/scratch/soroush1/memorability/muri1320/im0229.png', '/scratch/soroush1/memorability/muri1320/im0230.png', '/scratch/soroush1/memorability/muri1320/im0231.png', '/scratch/soroush1/memorability/muri1320/im0232.png', '/scratch/soroush1/memorability/muri1320/im0233.png']\n",
      "['/scratch/soroush1/memorability/muri1320/im0256.png', '/scratch/soroush1/memorability/muri1320/im0257.png', '/scratch/soroush1/memorability/muri1320/im0258.png', '/scratch/soroush1/memorability/muri1320/im0259.png', '/scratch/soroush1/memorability/muri1320/im0260.png', '/scratch/soroush1/memorability/muri1320/im0261.png', '/scratch/soroush1/memorability/muri1320/im0262.png', '/scratch/soroush1/memorability/muri1320/im0263.png', '/scratch/soroush1/memorability/muri1320/im0264.png', '/scratch/soroush1/memorability/muri1320/im0265.png']\n",
      "['/scratch/soroush1/memorability/muri1320/im0288.png', '/scratch/soroush1/memorability/muri1320/im0289.png', '/scratch/soroush1/memorability/muri1320/im0290.png', '/scratch/soroush1/memorability/muri1320/im0291.png', '/scratch/soroush1/memorability/muri1320/im0292.png', '/scratch/soroush1/memorability/muri1320/im0293.png', '/scratch/soroush1/memorability/muri1320/im0294.png', '/scratch/soroush1/memorability/muri1320/im0295.png', '/scratch/soroush1/memorability/muri1320/im0296.png', '/scratch/soroush1/memorability/muri1320/im0297.png']\n",
      "['/scratch/soroush1/memorability/muri1320/im0320.png', '/scratch/soroush1/memorability/muri1320/im0321.png', '/scratch/soroush1/memorability/muri1320/im0322.png', '/scratch/soroush1/memorability/muri1320/im0323.png', '/scratch/soroush1/memorability/muri1320/im0324.png', '/scratch/soroush1/memorability/muri1320/im0325.png', '/scratch/soroush1/memorability/muri1320/im0326.png', '/scratch/soroush1/memorability/muri1320/im0327.png', '/scratch/soroush1/memorability/muri1320/im0328.png', '/scratch/soroush1/memorability/muri1320/im0329.png']\n",
      "['/scratch/soroush1/memorability/muri1320/im0352.png', '/scratch/soroush1/memorability/muri1320/im0353.png', '/scratch/soroush1/memorability/muri1320/im0354.png', '/scratch/soroush1/memorability/muri1320/im0355.png', '/scratch/soroush1/memorability/muri1320/im0356.png', '/scratch/soroush1/memorability/muri1320/im0357.png', '/scratch/soroush1/memorability/muri1320/im0358.png', '/scratch/soroush1/memorability/muri1320/im0359.png', '/scratch/soroush1/memorability/muri1320/im0360.png', '/scratch/soroush1/memorability/muri1320/im0361.png']\n"
     ]
    },
    {
     "name": "stderr",
     "output_type": "stream",
     "text": [
      "\n",
      " 33%|███▎      | 14/42 [00:00<00:01, 21.52it/s]\u001b[A\n",
      " 40%|████      | 17/42 [00:00<00:01, 22.07it/s]\u001b[A"
     ]
    },
    {
     "name": "stdout",
     "output_type": "stream",
     "text": [
      "['/scratch/soroush1/memorability/muri1320/im0384.png', '/scratch/soroush1/memorability/muri1320/im0385.png', '/scratch/soroush1/memorability/muri1320/im0386.png', '/scratch/soroush1/memorability/muri1320/im0387.png', '/scratch/soroush1/memorability/muri1320/im0388.png', '/scratch/soroush1/memorability/muri1320/im0389.png', '/scratch/soroush1/memorability/muri1320/im0390.png', '/scratch/soroush1/memorability/muri1320/im0391.png', '/scratch/soroush1/memorability/muri1320/im0392.png', '/scratch/soroush1/memorability/muri1320/im0393.png']\n",
      "['/scratch/soroush1/memorability/muri1320/im0416.png', '/scratch/soroush1/memorability/muri1320/im0417.png', '/scratch/soroush1/memorability/muri1320/im0418.png', '/scratch/soroush1/memorability/muri1320/im0419.png', '/scratch/soroush1/memorability/muri1320/im0420.png', '/scratch/soroush1/memorability/muri1320/im0421.png', '/scratch/soroush1/memorability/muri1320/im0422.png', '/scratch/soroush1/memorability/muri1320/im0423.png', '/scratch/soroush1/memorability/muri1320/im0424.png', '/scratch/soroush1/memorability/muri1320/im0425.png']\n",
      "['/scratch/soroush1/memorability/muri1320/im0448.png', '/scratch/soroush1/memorability/muri1320/im0449.png', '/scratch/soroush1/memorability/muri1320/im0450.png', '/scratch/soroush1/memorability/muri1320/im0451.png', '/scratch/soroush1/memorability/muri1320/im0452.png', '/scratch/soroush1/memorability/muri1320/im0453.png', '/scratch/soroush1/memorability/muri1320/im0454.png', '/scratch/soroush1/memorability/muri1320/im0455.png', '/scratch/soroush1/memorability/muri1320/im0456.png', '/scratch/soroush1/memorability/muri1320/im0457.png']\n",
      "['/scratch/soroush1/memorability/muri1320/im0480.png', '/scratch/soroush1/memorability/muri1320/im0481.png', '/scratch/soroush1/memorability/muri1320/im0482.png', '/scratch/soroush1/memorability/muri1320/im0483.png', '/scratch/soroush1/memorability/muri1320/im0484.png', '/scratch/soroush1/memorability/muri1320/im0485.png', '/scratch/soroush1/memorability/muri1320/im0486.png', '/scratch/soroush1/memorability/muri1320/im0487.png', '/scratch/soroush1/memorability/muri1320/im0488.png', '/scratch/soroush1/memorability/muri1320/im0489.png']\n",
      "['/scratch/soroush1/memorability/muri1320/im0512.png', '/scratch/soroush1/memorability/muri1320/im0513.png', '/scratch/soroush1/memorability/muri1320/im0514.png', '/scratch/soroush1/memorability/muri1320/im0515.png', '/scratch/soroush1/memorability/muri1320/im0516.png', '/scratch/soroush1/memorability/muri1320/im0517.png', '/scratch/soroush1/memorability/muri1320/im0518.png', '/scratch/soroush1/memorability/muri1320/im0519.png', '/scratch/soroush1/memorability/muri1320/im0520.png', '/scratch/soroush1/memorability/muri1320/im0521.png']\n",
      "['/scratch/soroush1/memorability/muri1320/im0544.png', '/scratch/soroush1/memorability/muri1320/im0545.png', '/scratch/soroush1/memorability/muri1320/im0546.png', '/scratch/soroush1/memorability/muri1320/im0547.png', '/scratch/soroush1/memorability/muri1320/im0548.png', '/scratch/soroush1/memorability/muri1320/im0549.png', '/scratch/soroush1/memorability/muri1320/im0550.png', '/scratch/soroush1/memorability/muri1320/im0551.png', '/scratch/soroush1/memorability/muri1320/im0552.png', '/scratch/soroush1/memorability/muri1320/im0553.png']\n"
     ]
    },
    {
     "name": "stderr",
     "output_type": "stream",
     "text": [
      "\n",
      " 48%|████▊     | 20/42 [00:00<00:00, 23.86it/s]\u001b[A\n",
      " 55%|█████▍    | 23/42 [00:01<00:00, 22.02it/s]\u001b[A"
     ]
    },
    {
     "name": "stdout",
     "output_type": "stream",
     "text": [
      "['/scratch/soroush1/memorability/muri1320/im0576.png', '/scratch/soroush1/memorability/muri1320/im0577.png', '/scratch/soroush1/memorability/muri1320/im0578.png', '/scratch/soroush1/memorability/muri1320/im0579.png', '/scratch/soroush1/memorability/muri1320/im0580.png', '/scratch/soroush1/memorability/muri1320/im0581.png', '/scratch/soroush1/memorability/muri1320/im0582.png', '/scratch/soroush1/memorability/muri1320/im0583.png', '/scratch/soroush1/memorability/muri1320/im0584.png', '/scratch/soroush1/memorability/muri1320/im0585.png']\n",
      "['/scratch/soroush1/memorability/muri1320/im0608.png', '/scratch/soroush1/memorability/muri1320/im0609.png', '/scratch/soroush1/memorability/muri1320/im0610.png', '/scratch/soroush1/memorability/muri1320/im0611.png', '/scratch/soroush1/memorability/muri1320/im0612.png', '/scratch/soroush1/memorability/muri1320/im0613.png', '/scratch/soroush1/memorability/muri1320/im0614.png', '/scratch/soroush1/memorability/muri1320/im0615.png', '/scratch/soroush1/memorability/muri1320/im0616.png', '/scratch/soroush1/memorability/muri1320/im0617.png']\n",
      "['/scratch/soroush1/memorability/muri1320/im0640.png', '/scratch/soroush1/memorability/muri1320/im0641.png', '/scratch/soroush1/memorability/muri1320/im0642.png', '/scratch/soroush1/memorability/muri1320/im0643.png', '/scratch/soroush1/memorability/muri1320/im0644.png', '/scratch/soroush1/memorability/muri1320/im0645.png', '/scratch/soroush1/memorability/muri1320/im0646.png', '/scratch/soroush1/memorability/muri1320/im0647.png', '/scratch/soroush1/memorability/muri1320/im0648.png', '/scratch/soroush1/memorability/muri1320/im0649.png']\n",
      "['/scratch/soroush1/memorability/muri1320/im0672.png', '/scratch/soroush1/memorability/muri1320/im0673.png', '/scratch/soroush1/memorability/muri1320/im0674.png', '/scratch/soroush1/memorability/muri1320/im0675.png', '/scratch/soroush1/memorability/muri1320/im0676.png', '/scratch/soroush1/memorability/muri1320/im0677.png', '/scratch/soroush1/memorability/muri1320/im0678.png', '/scratch/soroush1/memorability/muri1320/im0679.png', '/scratch/soroush1/memorability/muri1320/im0680.png', '/scratch/soroush1/memorability/muri1320/im0681.png']\n",
      "['/scratch/soroush1/memorability/muri1320/im0704.png', '/scratch/soroush1/memorability/muri1320/im0705.png', '/scratch/soroush1/memorability/muri1320/im0706.png', '/scratch/soroush1/memorability/muri1320/im0707.png', '/scratch/soroush1/memorability/muri1320/im0708.png', '/scratch/soroush1/memorability/muri1320/im0709.png', '/scratch/soroush1/memorability/muri1320/im0710.png', '/scratch/soroush1/memorability/muri1320/im0711.png', '/scratch/soroush1/memorability/muri1320/im0712.png', '/scratch/soroush1/memorability/muri1320/im0713.png']\n"
     ]
    },
    {
     "name": "stderr",
     "output_type": "stream",
     "text": [
      "\n",
      " 64%|██████▍   | 27/42 [00:01<00:00, 22.96it/s]\u001b[A"
     ]
    },
    {
     "name": "stdout",
     "output_type": "stream",
     "text": [
      "['/scratch/soroush1/memorability/muri1320/im0736.png', '/scratch/soroush1/memorability/muri1320/im0737.png', '/scratch/soroush1/memorability/muri1320/im0738.png', '/scratch/soroush1/memorability/muri1320/im0739.png', '/scratch/soroush1/memorability/muri1320/im0740.png', '/scratch/soroush1/memorability/muri1320/im0741.png', '/scratch/soroush1/memorability/muri1320/im0742.png', '/scratch/soroush1/memorability/muri1320/im0743.png', '/scratch/soroush1/memorability/muri1320/im0744.png', '/scratch/soroush1/memorability/muri1320/im0745.png']\n",
      "['/scratch/soroush1/memorability/muri1320/im0768.png', '/scratch/soroush1/memorability/muri1320/im0769.png', '/scratch/soroush1/memorability/muri1320/im0770.png', '/scratch/soroush1/memorability/muri1320/im0771.png', '/scratch/soroush1/memorability/muri1320/im0772.png', '/scratch/soroush1/memorability/muri1320/im0773.png', '/scratch/soroush1/memorability/muri1320/im0774.png', '/scratch/soroush1/memorability/muri1320/im0775.png', '/scratch/soroush1/memorability/muri1320/im0776.png', '/scratch/soroush1/memorability/muri1320/im0777.png']\n",
      "['/scratch/soroush1/memorability/muri1320/im0800.png', '/scratch/soroush1/memorability/muri1320/im0801.png', '/scratch/soroush1/memorability/muri1320/im0802.png', '/scratch/soroush1/memorability/muri1320/im0803.png', '/scratch/soroush1/memorability/muri1320/im0804.png', '/scratch/soroush1/memorability/muri1320/im0805.png', '/scratch/soroush1/memorability/muri1320/im0806.png', '/scratch/soroush1/memorability/muri1320/im0807.png', '/scratch/soroush1/memorability/muri1320/im0808.png', '/scratch/soroush1/memorability/muri1320/im0809.png']\n",
      "['/scratch/soroush1/memorability/muri1320/im0832.png', '/scratch/soroush1/memorability/muri1320/im0833.png', '/scratch/soroush1/memorability/muri1320/im0834.png', '/scratch/soroush1/memorability/muri1320/im0835.png', '/scratch/soroush1/memorability/muri1320/im0836.png', '/scratch/soroush1/memorability/muri1320/im0837.png', '/scratch/soroush1/memorability/muri1320/im0838.png', '/scratch/soroush1/memorability/muri1320/im0839.png', '/scratch/soroush1/memorability/muri1320/im0840.png', '/scratch/soroush1/memorability/muri1320/im0841.png']\n",
      "['/scratch/soroush1/memorability/muri1320/im0864.png', '/scratch/soroush1/memorability/muri1320/im0865.png', '/scratch/soroush1/memorability/muri1320/im0866.png', '/scratch/soroush1/memorability/muri1320/im0867.png', '/scratch/soroush1/memorability/muri1320/im0868.png', '/scratch/soroush1/memorability/muri1320/im0869.png', '/scratch/soroush1/memorability/muri1320/im0870.png', '/scratch/soroush1/memorability/muri1320/im0871.png', '/scratch/soroush1/memorability/muri1320/im0872.png', '/scratch/soroush1/memorability/muri1320/im0873.png']\n"
     ]
    },
    {
     "name": "stderr",
     "output_type": "stream",
     "text": [
      "\n",
      " 71%|███████▏  | 30/42 [00:01<00:00, 24.13it/s]\u001b[A"
     ]
    },
    {
     "name": "stdout",
     "output_type": "stream",
     "text": [
      "['/scratch/soroush1/memorability/muri1320/im0896.png', '/scratch/soroush1/memorability/muri1320/im0897.png', '/scratch/soroush1/memorability/muri1320/im0898.png', '/scratch/soroush1/memorability/muri1320/im0899.png', '/scratch/soroush1/memorability/muri1320/im0900.png', '/scratch/soroush1/memorability/muri1320/im0901.png', '/scratch/soroush1/memorability/muri1320/im0902.png', '/scratch/soroush1/memorability/muri1320/im0903.png', '/scratch/soroush1/memorability/muri1320/im0904.png', '/scratch/soroush1/memorability/muri1320/im0905.png']\n",
      "['/scratch/soroush1/memorability/muri1320/im0928.png', '/scratch/soroush1/memorability/muri1320/im0929.png', '/scratch/soroush1/memorability/muri1320/im0930.png', '/scratch/soroush1/memorability/muri1320/im0931.png', '/scratch/soroush1/memorability/muri1320/im0932.png', '/scratch/soroush1/memorability/muri1320/im0933.png', '/scratch/soroush1/memorability/muri1320/im0934.png', '/scratch/soroush1/memorability/muri1320/im0935.png', '/scratch/soroush1/memorability/muri1320/im0936.png', '/scratch/soroush1/memorability/muri1320/im0937.png']\n",
      "['/scratch/soroush1/memorability/muri1320/im0960.png', '/scratch/soroush1/memorability/muri1320/im0961.png', '/scratch/soroush1/memorability/muri1320/im0962.png', '/scratch/soroush1/memorability/muri1320/im0963.png', '/scratch/soroush1/memorability/muri1320/im0964.png', '/scratch/soroush1/memorability/muri1320/im0965.png', '/scratch/soroush1/memorability/muri1320/im0966.png', '/scratch/soroush1/memorability/muri1320/im0967.png', '/scratch/soroush1/memorability/muri1320/im0968.png', '/scratch/soroush1/memorability/muri1320/im0969.png']\n",
      "['/scratch/soroush1/memorability/muri1320/im0992.png', '/scratch/soroush1/memorability/muri1320/im0993.png', '/scratch/soroush1/memorability/muri1320/im0994.png', '/scratch/soroush1/memorability/muri1320/im0995.png', '/scratch/soroush1/memorability/muri1320/im0996.png', '/scratch/soroush1/memorability/muri1320/im0997.png', '/scratch/soroush1/memorability/muri1320/im0998.png', '/scratch/soroush1/memorability/muri1320/im0999.png', '/scratch/soroush1/memorability/muri1320/im1000.png', '/scratch/soroush1/memorability/muri1320/im1001.png']\n",
      "['/scratch/soroush1/memorability/muri1320/im1024.png', '/scratch/soroush1/memorability/muri1320/im1025.png', '/scratch/soroush1/memorability/muri1320/im1026.png', '/scratch/soroush1/memorability/muri1320/im1027.png', '/scratch/soroush1/memorability/muri1320/im1028.png', '/scratch/soroush1/memorability/muri1320/im1029.png', '/scratch/soroush1/memorability/muri1320/im1030.png', '/scratch/soroush1/memorability/muri1320/im1031.png', '/scratch/soroush1/memorability/muri1320/im1032.png', '/scratch/soroush1/memorability/muri1320/im1033.png']\n"
     ]
    },
    {
     "name": "stderr",
     "output_type": "stream",
     "text": [
      "\n",
      " 79%|███████▊  | 33/42 [00:01<00:00, 21.80it/s]\u001b[A\n",
      " 86%|████████▌ | 36/42 [00:01<00:00, 23.04it/s]\u001b[A"
     ]
    },
    {
     "name": "stdout",
     "output_type": "stream",
     "text": [
      "['/scratch/soroush1/memorability/muri1320/im1056.png', '/scratch/soroush1/memorability/muri1320/im1057.png', '/scratch/soroush1/memorability/muri1320/im1058.png', '/scratch/soroush1/memorability/muri1320/im1059.png', '/scratch/soroush1/memorability/muri1320/im1060.png', '/scratch/soroush1/memorability/muri1320/im1061.png', '/scratch/soroush1/memorability/muri1320/im1062.png', '/scratch/soroush1/memorability/muri1320/im1063.png', '/scratch/soroush1/memorability/muri1320/im1064.png', '/scratch/soroush1/memorability/muri1320/im1065.png']\n",
      "['/scratch/soroush1/memorability/muri1320/im1088.png', '/scratch/soroush1/memorability/muri1320/im1089.png', '/scratch/soroush1/memorability/muri1320/im1090.png', '/scratch/soroush1/memorability/muri1320/im1091.png', '/scratch/soroush1/memorability/muri1320/im1092.png', '/scratch/soroush1/memorability/muri1320/im1093.png', '/scratch/soroush1/memorability/muri1320/im1094.png', '/scratch/soroush1/memorability/muri1320/im1095.png', '/scratch/soroush1/memorability/muri1320/im1096.png', '/scratch/soroush1/memorability/muri1320/im1097.png']\n",
      "['/scratch/soroush1/memorability/muri1320/im1120.png', '/scratch/soroush1/memorability/muri1320/im1121.png', '/scratch/soroush1/memorability/muri1320/im1122.png', '/scratch/soroush1/memorability/muri1320/im1123.png', '/scratch/soroush1/memorability/muri1320/im1124.png', '/scratch/soroush1/memorability/muri1320/im1125.png', '/scratch/soroush1/memorability/muri1320/im1126.png', '/scratch/soroush1/memorability/muri1320/im1127.png', '/scratch/soroush1/memorability/muri1320/im1128.png', '/scratch/soroush1/memorability/muri1320/im1129.png']\n",
      "['/scratch/soroush1/memorability/muri1320/im1152.png', '/scratch/soroush1/memorability/muri1320/im1153.png', '/scratch/soroush1/memorability/muri1320/im1154.png', '/scratch/soroush1/memorability/muri1320/im1155.png', '/scratch/soroush1/memorability/muri1320/im1156.png', '/scratch/soroush1/memorability/muri1320/im1157.png', '/scratch/soroush1/memorability/muri1320/im1158.png', '/scratch/soroush1/memorability/muri1320/im1159.png', '/scratch/soroush1/memorability/muri1320/im1160.png', '/scratch/soroush1/memorability/muri1320/im1161.png']\n",
      "['/scratch/soroush1/memorability/muri1320/im1184.png', '/scratch/soroush1/memorability/muri1320/im1185.png', '/scratch/soroush1/memorability/muri1320/im1186.png', '/scratch/soroush1/memorability/muri1320/im1187.png', '/scratch/soroush1/memorability/muri1320/im1188.png', '/scratch/soroush1/memorability/muri1320/im1189.png', '/scratch/soroush1/memorability/muri1320/im1190.png', '/scratch/soroush1/memorability/muri1320/im1191.png', '/scratch/soroush1/memorability/muri1320/im1192.png', '/scratch/soroush1/memorability/muri1320/im1193.png']\n"
     ]
    },
    {
     "name": "stderr",
     "output_type": "stream",
     "text": [
      "\n",
      "100%|██████████| 42/42 [00:02<00:00, 20.97it/s]\u001b[A"
     ]
    },
    {
     "name": "stdout",
     "output_type": "stream",
     "text": [
      "['/scratch/soroush1/memorability/muri1320/im1216.png', '/scratch/soroush1/memorability/muri1320/im1217.png', '/scratch/soroush1/memorability/muri1320/im1218.png', '/scratch/soroush1/memorability/muri1320/im1219.png', '/scratch/soroush1/memorability/muri1320/im1220.png', '/scratch/soroush1/memorability/muri1320/im1221.png', '/scratch/soroush1/memorability/muri1320/im1222.png', '/scratch/soroush1/memorability/muri1320/im1223.png', '/scratch/soroush1/memorability/muri1320/im1224.png', '/scratch/soroush1/memorability/muri1320/im1225.png']\n",
      "['/scratch/soroush1/memorability/muri1320/im1248.png', '/scratch/soroush1/memorability/muri1320/im1249.png', '/scratch/soroush1/memorability/muri1320/im1250.png', '/scratch/soroush1/memorability/muri1320/im1251.png', '/scratch/soroush1/memorability/muri1320/im1252.png', '/scratch/soroush1/memorability/muri1320/im1253.png', '/scratch/soroush1/memorability/muri1320/im1254.png', '/scratch/soroush1/memorability/muri1320/im1255.png', '/scratch/soroush1/memorability/muri1320/im1256.png', '/scratch/soroush1/memorability/muri1320/im1257.png']\n",
      "['/scratch/soroush1/memorability/muri1320/im1280.png', '/scratch/soroush1/memorability/muri1320/im1281.png', '/scratch/soroush1/memorability/muri1320/im1282.png', '/scratch/soroush1/memorability/muri1320/im1283.png', '/scratch/soroush1/memorability/muri1320/im1284.png', '/scratch/soroush1/memorability/muri1320/im1285.png', '/scratch/soroush1/memorability/muri1320/im1286.png', '/scratch/soroush1/memorability/muri1320/im1287.png', '/scratch/soroush1/memorability/muri1320/im1288.png', '/scratch/soroush1/memorability/muri1320/im1289.png']\n",
      "['/scratch/soroush1/memorability/muri1320/im1312.png', '/scratch/soroush1/memorability/muri1320/im1313.png', '/scratch/soroush1/memorability/muri1320/im1314.png', '/scratch/soroush1/memorability/muri1320/im1315.png', '/scratch/soroush1/memorability/muri1320/im1316.png', '/scratch/soroush1/memorability/muri1320/im1317.png', '/scratch/soroush1/memorability/muri1320/im1318.png', '/scratch/soroush1/memorability/muri1320/im1319.png']\n"
     ]
    },
    {
     "name": "stderr",
     "output_type": "stream",
     "text": [
      "\n"
     ]
    },
    {
     "name": "stdout",
     "output_type": "stream",
     "text": [
      "Concatenated features shape: (1320, 100352)\n",
      "Total number of images: 1320\n",
      "Model: resnet50, Task: diffInitRes7, Layer: IT, Shape: (1320, 100352)\n"
     ]
    },
    {
     "name": "stderr",
     "output_type": "stream",
     "text": [
      "different_run:  62%|██████▏   | 8/13 [00:24<00:15,  3.02s/it]"
     ]
    },
    {
     "name": "stdout",
     "output_type": "stream",
     "text": [
      "Features saved to ./features/muri1320_resnet50_diffInitRes7_IT.h5\n",
      "(1320, 100352)\n",
      "device = device(type='cuda')\n",
      "list(ckpt.keys())[:10] = ['module.conv1.weight', 'module.bn1.weight', 'module.bn1.bias', 'module.bn1.running_mean', 'module.bn1.running_var', 'module.bn1.num_batches_tracked', 'module.layer1.0.conv1.weight', 'module.layer1.0.bn1.weight', 'module.layer1.0.bn1.bias', 'module.layer1.0.bn1.running_mean']\n",
      "list(ckpt.keys())[:10] = ['conv1.weight', 'bn1.weight', 'bn1.bias', 'bn1.running_mean', 'bn1.running_var', 'bn1.num_batches_tracked', 'layer1.0.conv1.weight', 'layer1.0.bn1.weight', 'layer1.0.bn1.bias', 'layer1.0.bn1.running_mean']\n"
     ]
    },
    {
     "name": "stderr",
     "output_type": "stream",
     "text": [
      "\n",
      "  0%|          | 0/42 [00:00<?, ?it/s]\u001b[A\n",
      "  2%|▏         | 1/42 [00:00<00:07,  5.28it/s]\u001b[A\n",
      " 12%|█▏        | 5/42 [00:00<00:02, 16.19it/s]\u001b[A"
     ]
    },
    {
     "name": "stdout",
     "output_type": "stream",
     "text": [
      "['/scratch/soroush1/memorability/muri1320/im0000.png', '/scratch/soroush1/memorability/muri1320/im0001.png', '/scratch/soroush1/memorability/muri1320/im0002.png', '/scratch/soroush1/memorability/muri1320/im0003.png', '/scratch/soroush1/memorability/muri1320/im0004.png', '/scratch/soroush1/memorability/muri1320/im0005.png', '/scratch/soroush1/memorability/muri1320/im0006.png', '/scratch/soroush1/memorability/muri1320/im0007.png', '/scratch/soroush1/memorability/muri1320/im0008.png', '/scratch/soroush1/memorability/muri1320/im0009.png']\n",
      "['/scratch/soroush1/memorability/muri1320/im0032.png', '/scratch/soroush1/memorability/muri1320/im0033.png', '/scratch/soroush1/memorability/muri1320/im0034.png', '/scratch/soroush1/memorability/muri1320/im0035.png', '/scratch/soroush1/memorability/muri1320/im0036.png', '/scratch/soroush1/memorability/muri1320/im0037.png', '/scratch/soroush1/memorability/muri1320/im0038.png', '/scratch/soroush1/memorability/muri1320/im0039.png', '/scratch/soroush1/memorability/muri1320/im0040.png', '/scratch/soroush1/memorability/muri1320/im0041.png']\n",
      "['/scratch/soroush1/memorability/muri1320/im0064.png', '/scratch/soroush1/memorability/muri1320/im0065.png', '/scratch/soroush1/memorability/muri1320/im0066.png', '/scratch/soroush1/memorability/muri1320/im0067.png', '/scratch/soroush1/memorability/muri1320/im0068.png', '/scratch/soroush1/memorability/muri1320/im0069.png', '/scratch/soroush1/memorability/muri1320/im0070.png', '/scratch/soroush1/memorability/muri1320/im0071.png', '/scratch/soroush1/memorability/muri1320/im0072.png', '/scratch/soroush1/memorability/muri1320/im0073.png']\n",
      "['/scratch/soroush1/memorability/muri1320/im0096.png', '/scratch/soroush1/memorability/muri1320/im0097.png', '/scratch/soroush1/memorability/muri1320/im0098.png', '/scratch/soroush1/memorability/muri1320/im0099.png', '/scratch/soroush1/memorability/muri1320/im0100.png', '/scratch/soroush1/memorability/muri1320/im0101.png', '/scratch/soroush1/memorability/muri1320/im0102.png', '/scratch/soroush1/memorability/muri1320/im0103.png', '/scratch/soroush1/memorability/muri1320/im0104.png', '/scratch/soroush1/memorability/muri1320/im0105.png']\n",
      "['/scratch/soroush1/memorability/muri1320/im0128.png', '/scratch/soroush1/memorability/muri1320/im0129.png', '/scratch/soroush1/memorability/muri1320/im0130.png', '/scratch/soroush1/memorability/muri1320/im0131.png', '/scratch/soroush1/memorability/muri1320/im0132.png', '/scratch/soroush1/memorability/muri1320/im0133.png', '/scratch/soroush1/memorability/muri1320/im0134.png', '/scratch/soroush1/memorability/muri1320/im0135.png', '/scratch/soroush1/memorability/muri1320/im0136.png', '/scratch/soroush1/memorability/muri1320/im0137.png']\n",
      "['/scratch/soroush1/memorability/muri1320/im0160.png', '/scratch/soroush1/memorability/muri1320/im0161.png', '/scratch/soroush1/memorability/muri1320/im0162.png', '/scratch/soroush1/memorability/muri1320/im0163.png', '/scratch/soroush1/memorability/muri1320/im0164.png', '/scratch/soroush1/memorability/muri1320/im0165.png', '/scratch/soroush1/memorability/muri1320/im0166.png', '/scratch/soroush1/memorability/muri1320/im0167.png', '/scratch/soroush1/memorability/muri1320/im0168.png', '/scratch/soroush1/memorability/muri1320/im0169.png']\n"
     ]
    },
    {
     "name": "stderr",
     "output_type": "stream",
     "text": [
      "\n",
      " 19%|█▉        | 8/42 [00:00<00:01, 20.21it/s]\u001b[A"
     ]
    },
    {
     "name": "stdout",
     "output_type": "stream",
     "text": [
      "['/scratch/soroush1/memorability/muri1320/im0192.png', '/scratch/soroush1/memorability/muri1320/im0193.png', '/scratch/soroush1/memorability/muri1320/im0194.png', '/scratch/soroush1/memorability/muri1320/im0195.png', '/scratch/soroush1/memorability/muri1320/im0196.png', '/scratch/soroush1/memorability/muri1320/im0197.png', '/scratch/soroush1/memorability/muri1320/im0198.png', '/scratch/soroush1/memorability/muri1320/im0199.png', '/scratch/soroush1/memorability/muri1320/im0200.png', '/scratch/soroush1/memorability/muri1320/im0201.png']\n",
      "['/scratch/soroush1/memorability/muri1320/im0224.png', '/scratch/soroush1/memorability/muri1320/im0225.png', '/scratch/soroush1/memorability/muri1320/im0226.png', '/scratch/soroush1/memorability/muri1320/im0227.png', '/scratch/soroush1/memorability/muri1320/im0228.png', '/scratch/soroush1/memorability/muri1320/im0229.png', '/scratch/soroush1/memorability/muri1320/im0230.png', '/scratch/soroush1/memorability/muri1320/im0231.png', '/scratch/soroush1/memorability/muri1320/im0232.png', '/scratch/soroush1/memorability/muri1320/im0233.png']\n",
      "['/scratch/soroush1/memorability/muri1320/im0256.png', '/scratch/soroush1/memorability/muri1320/im0257.png', '/scratch/soroush1/memorability/muri1320/im0258.png', '/scratch/soroush1/memorability/muri1320/im0259.png', '/scratch/soroush1/memorability/muri1320/im0260.png', '/scratch/soroush1/memorability/muri1320/im0261.png', '/scratch/soroush1/memorability/muri1320/im0262.png', '/scratch/soroush1/memorability/muri1320/im0263.png', '/scratch/soroush1/memorability/muri1320/im0264.png', '/scratch/soroush1/memorability/muri1320/im0265.png']\n",
      "['/scratch/soroush1/memorability/muri1320/im0288.png', '/scratch/soroush1/memorability/muri1320/im0289.png', '/scratch/soroush1/memorability/muri1320/im0290.png', '/scratch/soroush1/memorability/muri1320/im0291.png', '/scratch/soroush1/memorability/muri1320/im0292.png', '/scratch/soroush1/memorability/muri1320/im0293.png', '/scratch/soroush1/memorability/muri1320/im0294.png', '/scratch/soroush1/memorability/muri1320/im0295.png', '/scratch/soroush1/memorability/muri1320/im0296.png', '/scratch/soroush1/memorability/muri1320/im0297.png']\n",
      "['/scratch/soroush1/memorability/muri1320/im0320.png', '/scratch/soroush1/memorability/muri1320/im0321.png', '/scratch/soroush1/memorability/muri1320/im0322.png', '/scratch/soroush1/memorability/muri1320/im0323.png', '/scratch/soroush1/memorability/muri1320/im0324.png', '/scratch/soroush1/memorability/muri1320/im0325.png', '/scratch/soroush1/memorability/muri1320/im0326.png', '/scratch/soroush1/memorability/muri1320/im0327.png', '/scratch/soroush1/memorability/muri1320/im0328.png', '/scratch/soroush1/memorability/muri1320/im0329.png']\n"
     ]
    },
    {
     "name": "stderr",
     "output_type": "stream",
     "text": [
      "\n",
      " 26%|██▌       | 11/42 [00:00<00:01, 18.99it/s]\u001b[A\n",
      " 33%|███▎      | 14/42 [00:00<00:01, 21.85it/s]\u001b[A"
     ]
    },
    {
     "name": "stdout",
     "output_type": "stream",
     "text": [
      "['/scratch/soroush1/memorability/muri1320/im0352.png', '/scratch/soroush1/memorability/muri1320/im0353.png', '/scratch/soroush1/memorability/muri1320/im0354.png', '/scratch/soroush1/memorability/muri1320/im0355.png', '/scratch/soroush1/memorability/muri1320/im0356.png', '/scratch/soroush1/memorability/muri1320/im0357.png', '/scratch/soroush1/memorability/muri1320/im0358.png', '/scratch/soroush1/memorability/muri1320/im0359.png', '/scratch/soroush1/memorability/muri1320/im0360.png', '/scratch/soroush1/memorability/muri1320/im0361.png']\n",
      "['/scratch/soroush1/memorability/muri1320/im0384.png', '/scratch/soroush1/memorability/muri1320/im0385.png', '/scratch/soroush1/memorability/muri1320/im0386.png', '/scratch/soroush1/memorability/muri1320/im0387.png', '/scratch/soroush1/memorability/muri1320/im0388.png', '/scratch/soroush1/memorability/muri1320/im0389.png', '/scratch/soroush1/memorability/muri1320/im0390.png', '/scratch/soroush1/memorability/muri1320/im0391.png', '/scratch/soroush1/memorability/muri1320/im0392.png', '/scratch/soroush1/memorability/muri1320/im0393.png']\n",
      "['/scratch/soroush1/memorability/muri1320/im0416.png', '/scratch/soroush1/memorability/muri1320/im0417.png', '/scratch/soroush1/memorability/muri1320/im0418.png', '/scratch/soroush1/memorability/muri1320/im0419.png', '/scratch/soroush1/memorability/muri1320/im0420.png', '/scratch/soroush1/memorability/muri1320/im0421.png', '/scratch/soroush1/memorability/muri1320/im0422.png', '/scratch/soroush1/memorability/muri1320/im0423.png', '/scratch/soroush1/memorability/muri1320/im0424.png', '/scratch/soroush1/memorability/muri1320/im0425.png']\n",
      "['/scratch/soroush1/memorability/muri1320/im0448.png', '/scratch/soroush1/memorability/muri1320/im0449.png', '/scratch/soroush1/memorability/muri1320/im0450.png', '/scratch/soroush1/memorability/muri1320/im0451.png', '/scratch/soroush1/memorability/muri1320/im0452.png', '/scratch/soroush1/memorability/muri1320/im0453.png', '/scratch/soroush1/memorability/muri1320/im0454.png', '/scratch/soroush1/memorability/muri1320/im0455.png', '/scratch/soroush1/memorability/muri1320/im0456.png', '/scratch/soroush1/memorability/muri1320/im0457.png']\n",
      "['/scratch/soroush1/memorability/muri1320/im0480.png', '/scratch/soroush1/memorability/muri1320/im0481.png', '/scratch/soroush1/memorability/muri1320/im0482.png', '/scratch/soroush1/memorability/muri1320/im0483.png', '/scratch/soroush1/memorability/muri1320/im0484.png', '/scratch/soroush1/memorability/muri1320/im0485.png', '/scratch/soroush1/memorability/muri1320/im0486.png', '/scratch/soroush1/memorability/muri1320/im0487.png', '/scratch/soroush1/memorability/muri1320/im0488.png', '/scratch/soroush1/memorability/muri1320/im0489.png']\n"
     ]
    },
    {
     "name": "stderr",
     "output_type": "stream",
     "text": [
      "\n",
      " 40%|████      | 17/42 [00:00<00:01, 21.56it/s]\u001b[A\n",
      " 48%|████▊     | 20/42 [00:00<00:00, 22.31it/s]\u001b[A"
     ]
    },
    {
     "name": "stdout",
     "output_type": "stream",
     "text": [
      "['/scratch/soroush1/memorability/muri1320/im0512.png', '/scratch/soroush1/memorability/muri1320/im0513.png', '/scratch/soroush1/memorability/muri1320/im0514.png', '/scratch/soroush1/memorability/muri1320/im0515.png', '/scratch/soroush1/memorability/muri1320/im0516.png', '/scratch/soroush1/memorability/muri1320/im0517.png', '/scratch/soroush1/memorability/muri1320/im0518.png', '/scratch/soroush1/memorability/muri1320/im0519.png', '/scratch/soroush1/memorability/muri1320/im0520.png', '/scratch/soroush1/memorability/muri1320/im0521.png']\n",
      "['/scratch/soroush1/memorability/muri1320/im0544.png', '/scratch/soroush1/memorability/muri1320/im0545.png', '/scratch/soroush1/memorability/muri1320/im0546.png', '/scratch/soroush1/memorability/muri1320/im0547.png', '/scratch/soroush1/memorability/muri1320/im0548.png', '/scratch/soroush1/memorability/muri1320/im0549.png', '/scratch/soroush1/memorability/muri1320/im0550.png', '/scratch/soroush1/memorability/muri1320/im0551.png', '/scratch/soroush1/memorability/muri1320/im0552.png', '/scratch/soroush1/memorability/muri1320/im0553.png']\n",
      "['/scratch/soroush1/memorability/muri1320/im0576.png', '/scratch/soroush1/memorability/muri1320/im0577.png', '/scratch/soroush1/memorability/muri1320/im0578.png', '/scratch/soroush1/memorability/muri1320/im0579.png', '/scratch/soroush1/memorability/muri1320/im0580.png', '/scratch/soroush1/memorability/muri1320/im0581.png', '/scratch/soroush1/memorability/muri1320/im0582.png', '/scratch/soroush1/memorability/muri1320/im0583.png', '/scratch/soroush1/memorability/muri1320/im0584.png', '/scratch/soroush1/memorability/muri1320/im0585.png']\n",
      "['/scratch/soroush1/memorability/muri1320/im0608.png', '/scratch/soroush1/memorability/muri1320/im0609.png', '/scratch/soroush1/memorability/muri1320/im0610.png', '/scratch/soroush1/memorability/muri1320/im0611.png', '/scratch/soroush1/memorability/muri1320/im0612.png', '/scratch/soroush1/memorability/muri1320/im0613.png', '/scratch/soroush1/memorability/muri1320/im0614.png', '/scratch/soroush1/memorability/muri1320/im0615.png', '/scratch/soroush1/memorability/muri1320/im0616.png', '/scratch/soroush1/memorability/muri1320/im0617.png']\n",
      "['/scratch/soroush1/memorability/muri1320/im0640.png', '/scratch/soroush1/memorability/muri1320/im0641.png', '/scratch/soroush1/memorability/muri1320/im0642.png', '/scratch/soroush1/memorability/muri1320/im0643.png', '/scratch/soroush1/memorability/muri1320/im0644.png', '/scratch/soroush1/memorability/muri1320/im0645.png', '/scratch/soroush1/memorability/muri1320/im0646.png', '/scratch/soroush1/memorability/muri1320/im0647.png', '/scratch/soroush1/memorability/muri1320/im0648.png', '/scratch/soroush1/memorability/muri1320/im0649.png']\n",
      "['/scratch/soroush1/memorability/muri1320/im0672.png', '/scratch/soroush1/memorability/muri1320/im0673.png', '/scratch/soroush1/memorability/muri1320/im0674.png', '/scratch/soroush1/memorability/muri1320/im0675.png', '/scratch/soroush1/memorability/muri1320/im0676.png', '/scratch/soroush1/memorability/muri1320/im0677.png', '/scratch/soroush1/memorability/muri1320/im0678.png', '/scratch/soroush1/memorability/muri1320/im0679.png', '/scratch/soroush1/memorability/muri1320/im0680.png', '/scratch/soroush1/memorability/muri1320/im0681.png']\n"
     ]
    },
    {
     "name": "stderr",
     "output_type": "stream",
     "text": [
      "\n",
      " 55%|█████▍    | 23/42 [00:01<00:00, 22.57it/s]\u001b[A\n",
      " 62%|██████▏   | 26/42 [00:01<00:00, 24.17it/s]\u001b[A"
     ]
    },
    {
     "name": "stdout",
     "output_type": "stream",
     "text": [
      "['/scratch/soroush1/memorability/muri1320/im0704.png', '/scratch/soroush1/memorability/muri1320/im0705.png', '/scratch/soroush1/memorability/muri1320/im0706.png', '/scratch/soroush1/memorability/muri1320/im0707.png', '/scratch/soroush1/memorability/muri1320/im0708.png', '/scratch/soroush1/memorability/muri1320/im0709.png', '/scratch/soroush1/memorability/muri1320/im0710.png', '/scratch/soroush1/memorability/muri1320/im0711.png', '/scratch/soroush1/memorability/muri1320/im0712.png', '/scratch/soroush1/memorability/muri1320/im0713.png']\n",
      "['/scratch/soroush1/memorability/muri1320/im0736.png', '/scratch/soroush1/memorability/muri1320/im0737.png', '/scratch/soroush1/memorability/muri1320/im0738.png', '/scratch/soroush1/memorability/muri1320/im0739.png', '/scratch/soroush1/memorability/muri1320/im0740.png', '/scratch/soroush1/memorability/muri1320/im0741.png', '/scratch/soroush1/memorability/muri1320/im0742.png', '/scratch/soroush1/memorability/muri1320/im0743.png', '/scratch/soroush1/memorability/muri1320/im0744.png', '/scratch/soroush1/memorability/muri1320/im0745.png']\n",
      "['/scratch/soroush1/memorability/muri1320/im0768.png', '/scratch/soroush1/memorability/muri1320/im0769.png', '/scratch/soroush1/memorability/muri1320/im0770.png', '/scratch/soroush1/memorability/muri1320/im0771.png', '/scratch/soroush1/memorability/muri1320/im0772.png', '/scratch/soroush1/memorability/muri1320/im0773.png', '/scratch/soroush1/memorability/muri1320/im0774.png', '/scratch/soroush1/memorability/muri1320/im0775.png', '/scratch/soroush1/memorability/muri1320/im0776.png', '/scratch/soroush1/memorability/muri1320/im0777.png']\n",
      "['/scratch/soroush1/memorability/muri1320/im0800.png', '/scratch/soroush1/memorability/muri1320/im0801.png', '/scratch/soroush1/memorability/muri1320/im0802.png', '/scratch/soroush1/memorability/muri1320/im0803.png', '/scratch/soroush1/memorability/muri1320/im0804.png', '/scratch/soroush1/memorability/muri1320/im0805.png', '/scratch/soroush1/memorability/muri1320/im0806.png', '/scratch/soroush1/memorability/muri1320/im0807.png', '/scratch/soroush1/memorability/muri1320/im0808.png', '/scratch/soroush1/memorability/muri1320/im0809.png']\n",
      "['/scratch/soroush1/memorability/muri1320/im0832.png', '/scratch/soroush1/memorability/muri1320/im0833.png', '/scratch/soroush1/memorability/muri1320/im0834.png', '/scratch/soroush1/memorability/muri1320/im0835.png', '/scratch/soroush1/memorability/muri1320/im0836.png', '/scratch/soroush1/memorability/muri1320/im0837.png', '/scratch/soroush1/memorability/muri1320/im0838.png', '/scratch/soroush1/memorability/muri1320/im0839.png', '/scratch/soroush1/memorability/muri1320/im0840.png', '/scratch/soroush1/memorability/muri1320/im0841.png']\n",
      "['/scratch/soroush1/memorability/muri1320/im0864.png', '/scratch/soroush1/memorability/muri1320/im0865.png', '/scratch/soroush1/memorability/muri1320/im0866.png', '/scratch/soroush1/memorability/muri1320/im0867.png', '/scratch/soroush1/memorability/muri1320/im0868.png', '/scratch/soroush1/memorability/muri1320/im0869.png', '/scratch/soroush1/memorability/muri1320/im0870.png', '/scratch/soroush1/memorability/muri1320/im0871.png', '/scratch/soroush1/memorability/muri1320/im0872.png', '/scratch/soroush1/memorability/muri1320/im0873.png']\n"
     ]
    },
    {
     "name": "stderr",
     "output_type": "stream",
     "text": [
      "\n",
      " 69%|██████▉   | 29/42 [00:01<00:00, 21.70it/s]\u001b[A\n",
      " 76%|███████▌  | 32/42 [00:01<00:00, 23.46it/s]\u001b[A"
     ]
    },
    {
     "name": "stdout",
     "output_type": "stream",
     "text": [
      "['/scratch/soroush1/memorability/muri1320/im0896.png', '/scratch/soroush1/memorability/muri1320/im0897.png', '/scratch/soroush1/memorability/muri1320/im0898.png', '/scratch/soroush1/memorability/muri1320/im0899.png', '/scratch/soroush1/memorability/muri1320/im0900.png', '/scratch/soroush1/memorability/muri1320/im0901.png', '/scratch/soroush1/memorability/muri1320/im0902.png', '/scratch/soroush1/memorability/muri1320/im0903.png', '/scratch/soroush1/memorability/muri1320/im0904.png', '/scratch/soroush1/memorability/muri1320/im0905.png']\n",
      "['/scratch/soroush1/memorability/muri1320/im0928.png', '/scratch/soroush1/memorability/muri1320/im0929.png', '/scratch/soroush1/memorability/muri1320/im0930.png', '/scratch/soroush1/memorability/muri1320/im0931.png', '/scratch/soroush1/memorability/muri1320/im0932.png', '/scratch/soroush1/memorability/muri1320/im0933.png', '/scratch/soroush1/memorability/muri1320/im0934.png', '/scratch/soroush1/memorability/muri1320/im0935.png', '/scratch/soroush1/memorability/muri1320/im0936.png', '/scratch/soroush1/memorability/muri1320/im0937.png']\n",
      "['/scratch/soroush1/memorability/muri1320/im0960.png', '/scratch/soroush1/memorability/muri1320/im0961.png', '/scratch/soroush1/memorability/muri1320/im0962.png', '/scratch/soroush1/memorability/muri1320/im0963.png', '/scratch/soroush1/memorability/muri1320/im0964.png', '/scratch/soroush1/memorability/muri1320/im0965.png', '/scratch/soroush1/memorability/muri1320/im0966.png', '/scratch/soroush1/memorability/muri1320/im0967.png', '/scratch/soroush1/memorability/muri1320/im0968.png', '/scratch/soroush1/memorability/muri1320/im0969.png']\n",
      "['/scratch/soroush1/memorability/muri1320/im0992.png', '/scratch/soroush1/memorability/muri1320/im0993.png', '/scratch/soroush1/memorability/muri1320/im0994.png', '/scratch/soroush1/memorability/muri1320/im0995.png', '/scratch/soroush1/memorability/muri1320/im0996.png', '/scratch/soroush1/memorability/muri1320/im0997.png', '/scratch/soroush1/memorability/muri1320/im0998.png', '/scratch/soroush1/memorability/muri1320/im0999.png', '/scratch/soroush1/memorability/muri1320/im1000.png', '/scratch/soroush1/memorability/muri1320/im1001.png']\n",
      "['/scratch/soroush1/memorability/muri1320/im1024.png', '/scratch/soroush1/memorability/muri1320/im1025.png', '/scratch/soroush1/memorability/muri1320/im1026.png', '/scratch/soroush1/memorability/muri1320/im1027.png', '/scratch/soroush1/memorability/muri1320/im1028.png', '/scratch/soroush1/memorability/muri1320/im1029.png', '/scratch/soroush1/memorability/muri1320/im1030.png', '/scratch/soroush1/memorability/muri1320/im1031.png', '/scratch/soroush1/memorability/muri1320/im1032.png', '/scratch/soroush1/memorability/muri1320/im1033.png']\n",
      "['/scratch/soroush1/memorability/muri1320/im1056.png', '/scratch/soroush1/memorability/muri1320/im1057.png', '/scratch/soroush1/memorability/muri1320/im1058.png', '/scratch/soroush1/memorability/muri1320/im1059.png', '/scratch/soroush1/memorability/muri1320/im1060.png', '/scratch/soroush1/memorability/muri1320/im1061.png', '/scratch/soroush1/memorability/muri1320/im1062.png', '/scratch/soroush1/memorability/muri1320/im1063.png', '/scratch/soroush1/memorability/muri1320/im1064.png', '/scratch/soroush1/memorability/muri1320/im1065.png']\n"
     ]
    },
    {
     "name": "stderr",
     "output_type": "stream",
     "text": [
      "\n",
      " 83%|████████▎ | 35/42 [00:01<00:00, 21.96it/s]\u001b[A\n",
      " 90%|█████████ | 38/42 [00:01<00:00, 23.17it/s]\u001b[A"
     ]
    },
    {
     "name": "stdout",
     "output_type": "stream",
     "text": [
      "['/scratch/soroush1/memorability/muri1320/im1088.png', '/scratch/soroush1/memorability/muri1320/im1089.png', '/scratch/soroush1/memorability/muri1320/im1090.png', '/scratch/soroush1/memorability/muri1320/im1091.png', '/scratch/soroush1/memorability/muri1320/im1092.png', '/scratch/soroush1/memorability/muri1320/im1093.png', '/scratch/soroush1/memorability/muri1320/im1094.png', '/scratch/soroush1/memorability/muri1320/im1095.png', '/scratch/soroush1/memorability/muri1320/im1096.png', '/scratch/soroush1/memorability/muri1320/im1097.png']\n",
      "['/scratch/soroush1/memorability/muri1320/im1120.png', '/scratch/soroush1/memorability/muri1320/im1121.png', '/scratch/soroush1/memorability/muri1320/im1122.png', '/scratch/soroush1/memorability/muri1320/im1123.png', '/scratch/soroush1/memorability/muri1320/im1124.png', '/scratch/soroush1/memorability/muri1320/im1125.png', '/scratch/soroush1/memorability/muri1320/im1126.png', '/scratch/soroush1/memorability/muri1320/im1127.png', '/scratch/soroush1/memorability/muri1320/im1128.png', '/scratch/soroush1/memorability/muri1320/im1129.png']\n",
      "['/scratch/soroush1/memorability/muri1320/im1152.png', '/scratch/soroush1/memorability/muri1320/im1153.png', '/scratch/soroush1/memorability/muri1320/im1154.png', '/scratch/soroush1/memorability/muri1320/im1155.png', '/scratch/soroush1/memorability/muri1320/im1156.png', '/scratch/soroush1/memorability/muri1320/im1157.png', '/scratch/soroush1/memorability/muri1320/im1158.png', '/scratch/soroush1/memorability/muri1320/im1159.png', '/scratch/soroush1/memorability/muri1320/im1160.png', '/scratch/soroush1/memorability/muri1320/im1161.png']\n",
      "['/scratch/soroush1/memorability/muri1320/im1184.png', '/scratch/soroush1/memorability/muri1320/im1185.png', '/scratch/soroush1/memorability/muri1320/im1186.png', '/scratch/soroush1/memorability/muri1320/im1187.png', '/scratch/soroush1/memorability/muri1320/im1188.png', '/scratch/soroush1/memorability/muri1320/im1189.png', '/scratch/soroush1/memorability/muri1320/im1190.png', '/scratch/soroush1/memorability/muri1320/im1191.png', '/scratch/soroush1/memorability/muri1320/im1192.png', '/scratch/soroush1/memorability/muri1320/im1193.png']\n",
      "['/scratch/soroush1/memorability/muri1320/im1216.png', '/scratch/soroush1/memorability/muri1320/im1217.png', '/scratch/soroush1/memorability/muri1320/im1218.png', '/scratch/soroush1/memorability/muri1320/im1219.png', '/scratch/soroush1/memorability/muri1320/im1220.png', '/scratch/soroush1/memorability/muri1320/im1221.png', '/scratch/soroush1/memorability/muri1320/im1222.png', '/scratch/soroush1/memorability/muri1320/im1223.png', '/scratch/soroush1/memorability/muri1320/im1224.png', '/scratch/soroush1/memorability/muri1320/im1225.png']\n"
     ]
    },
    {
     "name": "stderr",
     "output_type": "stream",
     "text": [
      "\n",
      "100%|██████████| 42/42 [00:01<00:00, 21.10it/s]\u001b[A"
     ]
    },
    {
     "name": "stdout",
     "output_type": "stream",
     "text": [
      "['/scratch/soroush1/memorability/muri1320/im1248.png', '/scratch/soroush1/memorability/muri1320/im1249.png', '/scratch/soroush1/memorability/muri1320/im1250.png', '/scratch/soroush1/memorability/muri1320/im1251.png', '/scratch/soroush1/memorability/muri1320/im1252.png', '/scratch/soroush1/memorability/muri1320/im1253.png', '/scratch/soroush1/memorability/muri1320/im1254.png', '/scratch/soroush1/memorability/muri1320/im1255.png', '/scratch/soroush1/memorability/muri1320/im1256.png', '/scratch/soroush1/memorability/muri1320/im1257.png']\n",
      "['/scratch/soroush1/memorability/muri1320/im1280.png', '/scratch/soroush1/memorability/muri1320/im1281.png', '/scratch/soroush1/memorability/muri1320/im1282.png', '/scratch/soroush1/memorability/muri1320/im1283.png', '/scratch/soroush1/memorability/muri1320/im1284.png', '/scratch/soroush1/memorability/muri1320/im1285.png', '/scratch/soroush1/memorability/muri1320/im1286.png', '/scratch/soroush1/memorability/muri1320/im1287.png', '/scratch/soroush1/memorability/muri1320/im1288.png', '/scratch/soroush1/memorability/muri1320/im1289.png']\n",
      "['/scratch/soroush1/memorability/muri1320/im1312.png', '/scratch/soroush1/memorability/muri1320/im1313.png', '/scratch/soroush1/memorability/muri1320/im1314.png', '/scratch/soroush1/memorability/muri1320/im1315.png', '/scratch/soroush1/memorability/muri1320/im1316.png', '/scratch/soroush1/memorability/muri1320/im1317.png', '/scratch/soroush1/memorability/muri1320/im1318.png', '/scratch/soroush1/memorability/muri1320/im1319.png']\n",
      "Concatenated features shape: (1320, 100352)\n",
      "Total number of images: 1320\n",
      "Model: resnet50, Task: diffInitRes8, Layer: IT, Shape: (1320, 100352)\n"
     ]
    },
    {
     "name": "stderr",
     "output_type": "stream",
     "text": [
      "\n",
      "different_run:  69%|██████▉   | 9/13 [00:27<00:12,  3.02s/it]"
     ]
    },
    {
     "name": "stdout",
     "output_type": "stream",
     "text": [
      "Features saved to ./features/muri1320_resnet50_diffInitRes8_IT.h5\n",
      "(1320, 100352)\n",
      "device = device(type='cuda')\n",
      "list(ckpt.keys())[:10] = ['module.conv1.weight', 'module.bn1.weight', 'module.bn1.bias', 'module.bn1.running_mean', 'module.bn1.running_var', 'module.bn1.num_batches_tracked', 'module.layer1.0.conv1.weight', 'module.layer1.0.bn1.weight', 'module.layer1.0.bn1.bias', 'module.layer1.0.bn1.running_mean']\n",
      "list(ckpt.keys())[:10] = ['conv1.weight', 'bn1.weight', 'bn1.bias', 'bn1.running_mean', 'bn1.running_var', 'bn1.num_batches_tracked', 'layer1.0.conv1.weight', 'layer1.0.bn1.weight', 'layer1.0.bn1.bias', 'layer1.0.bn1.running_mean']\n"
     ]
    },
    {
     "name": "stderr",
     "output_type": "stream",
     "text": [
      "\n",
      "  0%|          | 0/42 [00:00<?, ?it/s]\u001b[A\n",
      "  2%|▏         | 1/42 [00:00<00:07,  5.50it/s]\u001b[A\n",
      " 10%|▉         | 4/42 [00:00<00:02, 15.71it/s]\u001b[A"
     ]
    },
    {
     "name": "stdout",
     "output_type": "stream",
     "text": [
      "['/scratch/soroush1/memorability/muri1320/im0000.png', '/scratch/soroush1/memorability/muri1320/im0001.png', '/scratch/soroush1/memorability/muri1320/im0002.png', '/scratch/soroush1/memorability/muri1320/im0003.png', '/scratch/soroush1/memorability/muri1320/im0004.png', '/scratch/soroush1/memorability/muri1320/im0005.png', '/scratch/soroush1/memorability/muri1320/im0006.png', '/scratch/soroush1/memorability/muri1320/im0007.png', '/scratch/soroush1/memorability/muri1320/im0008.png', '/scratch/soroush1/memorability/muri1320/im0009.png']\n",
      "['/scratch/soroush1/memorability/muri1320/im0032.png', '/scratch/soroush1/memorability/muri1320/im0033.png', '/scratch/soroush1/memorability/muri1320/im0034.png', '/scratch/soroush1/memorability/muri1320/im0035.png', '/scratch/soroush1/memorability/muri1320/im0036.png', '/scratch/soroush1/memorability/muri1320/im0037.png', '/scratch/soroush1/memorability/muri1320/im0038.png', '/scratch/soroush1/memorability/muri1320/im0039.png', '/scratch/soroush1/memorability/muri1320/im0040.png', '/scratch/soroush1/memorability/muri1320/im0041.png']\n",
      "['/scratch/soroush1/memorability/muri1320/im0064.png', '/scratch/soroush1/memorability/muri1320/im0065.png', '/scratch/soroush1/memorability/muri1320/im0066.png', '/scratch/soroush1/memorability/muri1320/im0067.png', '/scratch/soroush1/memorability/muri1320/im0068.png', '/scratch/soroush1/memorability/muri1320/im0069.png', '/scratch/soroush1/memorability/muri1320/im0070.png', '/scratch/soroush1/memorability/muri1320/im0071.png', '/scratch/soroush1/memorability/muri1320/im0072.png', '/scratch/soroush1/memorability/muri1320/im0073.png']\n",
      "['/scratch/soroush1/memorability/muri1320/im0096.png', '/scratch/soroush1/memorability/muri1320/im0097.png', '/scratch/soroush1/memorability/muri1320/im0098.png', '/scratch/soroush1/memorability/muri1320/im0099.png', '/scratch/soroush1/memorability/muri1320/im0100.png', '/scratch/soroush1/memorability/muri1320/im0101.png', '/scratch/soroush1/memorability/muri1320/im0102.png', '/scratch/soroush1/memorability/muri1320/im0103.png', '/scratch/soroush1/memorability/muri1320/im0104.png', '/scratch/soroush1/memorability/muri1320/im0105.png']\n",
      "['/scratch/soroush1/memorability/muri1320/im0128.png', '/scratch/soroush1/memorability/muri1320/im0129.png', '/scratch/soroush1/memorability/muri1320/im0130.png', '/scratch/soroush1/memorability/muri1320/im0131.png', '/scratch/soroush1/memorability/muri1320/im0132.png', '/scratch/soroush1/memorability/muri1320/im0133.png', '/scratch/soroush1/memorability/muri1320/im0134.png', '/scratch/soroush1/memorability/muri1320/im0135.png', '/scratch/soroush1/memorability/muri1320/im0136.png', '/scratch/soroush1/memorability/muri1320/im0137.png']\n",
      "['/scratch/soroush1/memorability/muri1320/im0160.png', '/scratch/soroush1/memorability/muri1320/im0161.png', '/scratch/soroush1/memorability/muri1320/im0162.png', '/scratch/soroush1/memorability/muri1320/im0163.png', '/scratch/soroush1/memorability/muri1320/im0164.png', '/scratch/soroush1/memorability/muri1320/im0165.png', '/scratch/soroush1/memorability/muri1320/im0166.png', '/scratch/soroush1/memorability/muri1320/im0167.png', '/scratch/soroush1/memorability/muri1320/im0168.png', '/scratch/soroush1/memorability/muri1320/im0169.png']\n"
     ]
    },
    {
     "name": "stderr",
     "output_type": "stream",
     "text": [
      "\n",
      " 17%|█▋        | 7/42 [00:00<00:02, 16.56it/s]\u001b[A\n",
      " 26%|██▌       | 11/42 [00:00<00:01, 20.31it/s]\u001b[A"
     ]
    },
    {
     "name": "stdout",
     "output_type": "stream",
     "text": [
      "['/scratch/soroush1/memorability/muri1320/im0192.png', '/scratch/soroush1/memorability/muri1320/im0193.png', '/scratch/soroush1/memorability/muri1320/im0194.png', '/scratch/soroush1/memorability/muri1320/im0195.png', '/scratch/soroush1/memorability/muri1320/im0196.png', '/scratch/soroush1/memorability/muri1320/im0197.png', '/scratch/soroush1/memorability/muri1320/im0198.png', '/scratch/soroush1/memorability/muri1320/im0199.png', '/scratch/soroush1/memorability/muri1320/im0200.png', '/scratch/soroush1/memorability/muri1320/im0201.png']\n",
      "['/scratch/soroush1/memorability/muri1320/im0224.png', '/scratch/soroush1/memorability/muri1320/im0225.png', '/scratch/soroush1/memorability/muri1320/im0226.png', '/scratch/soroush1/memorability/muri1320/im0227.png', '/scratch/soroush1/memorability/muri1320/im0228.png', '/scratch/soroush1/memorability/muri1320/im0229.png', '/scratch/soroush1/memorability/muri1320/im0230.png', '/scratch/soroush1/memorability/muri1320/im0231.png', '/scratch/soroush1/memorability/muri1320/im0232.png', '/scratch/soroush1/memorability/muri1320/im0233.png']\n",
      "['/scratch/soroush1/memorability/muri1320/im0256.png', '/scratch/soroush1/memorability/muri1320/im0257.png', '/scratch/soroush1/memorability/muri1320/im0258.png', '/scratch/soroush1/memorability/muri1320/im0259.png', '/scratch/soroush1/memorability/muri1320/im0260.png', '/scratch/soroush1/memorability/muri1320/im0261.png', '/scratch/soroush1/memorability/muri1320/im0262.png', '/scratch/soroush1/memorability/muri1320/im0263.png', '/scratch/soroush1/memorability/muri1320/im0264.png', '/scratch/soroush1/memorability/muri1320/im0265.png']\n",
      "['/scratch/soroush1/memorability/muri1320/im0288.png', '/scratch/soroush1/memorability/muri1320/im0289.png', '/scratch/soroush1/memorability/muri1320/im0290.png', '/scratch/soroush1/memorability/muri1320/im0291.png', '/scratch/soroush1/memorability/muri1320/im0292.png', '/scratch/soroush1/memorability/muri1320/im0293.png', '/scratch/soroush1/memorability/muri1320/im0294.png', '/scratch/soroush1/memorability/muri1320/im0295.png', '/scratch/soroush1/memorability/muri1320/im0296.png', '/scratch/soroush1/memorability/muri1320/im0297.png']\n",
      "['/scratch/soroush1/memorability/muri1320/im0320.png', '/scratch/soroush1/memorability/muri1320/im0321.png', '/scratch/soroush1/memorability/muri1320/im0322.png', '/scratch/soroush1/memorability/muri1320/im0323.png', '/scratch/soroush1/memorability/muri1320/im0324.png', '/scratch/soroush1/memorability/muri1320/im0325.png', '/scratch/soroush1/memorability/muri1320/im0326.png', '/scratch/soroush1/memorability/muri1320/im0327.png', '/scratch/soroush1/memorability/muri1320/im0328.png', '/scratch/soroush1/memorability/muri1320/im0329.png']\n",
      "['/scratch/soroush1/memorability/muri1320/im0352.png', '/scratch/soroush1/memorability/muri1320/im0353.png', '/scratch/soroush1/memorability/muri1320/im0354.png', '/scratch/soroush1/memorability/muri1320/im0355.png', '/scratch/soroush1/memorability/muri1320/im0356.png', '/scratch/soroush1/memorability/muri1320/im0357.png', '/scratch/soroush1/memorability/muri1320/im0358.png', '/scratch/soroush1/memorability/muri1320/im0359.png', '/scratch/soroush1/memorability/muri1320/im0360.png', '/scratch/soroush1/memorability/muri1320/im0361.png']\n"
     ]
    },
    {
     "name": "stderr",
     "output_type": "stream",
     "text": [
      "\n",
      " 33%|███▎      | 14/42 [00:00<00:01, 22.77it/s]\u001b[A\n",
      " 40%|████      | 17/42 [00:00<00:01, 21.51it/s]\u001b[A"
     ]
    },
    {
     "name": "stdout",
     "output_type": "stream",
     "text": [
      "['/scratch/soroush1/memorability/muri1320/im0384.png', '/scratch/soroush1/memorability/muri1320/im0385.png', '/scratch/soroush1/memorability/muri1320/im0386.png', '/scratch/soroush1/memorability/muri1320/im0387.png', '/scratch/soroush1/memorability/muri1320/im0388.png', '/scratch/soroush1/memorability/muri1320/im0389.png', '/scratch/soroush1/memorability/muri1320/im0390.png', '/scratch/soroush1/memorability/muri1320/im0391.png', '/scratch/soroush1/memorability/muri1320/im0392.png', '/scratch/soroush1/memorability/muri1320/im0393.png']\n",
      "['/scratch/soroush1/memorability/muri1320/im0416.png', '/scratch/soroush1/memorability/muri1320/im0417.png', '/scratch/soroush1/memorability/muri1320/im0418.png', '/scratch/soroush1/memorability/muri1320/im0419.png', '/scratch/soroush1/memorability/muri1320/im0420.png', '/scratch/soroush1/memorability/muri1320/im0421.png', '/scratch/soroush1/memorability/muri1320/im0422.png', '/scratch/soroush1/memorability/muri1320/im0423.png', '/scratch/soroush1/memorability/muri1320/im0424.png', '/scratch/soroush1/memorability/muri1320/im0425.png']\n",
      "['/scratch/soroush1/memorability/muri1320/im0448.png', '/scratch/soroush1/memorability/muri1320/im0449.png', '/scratch/soroush1/memorability/muri1320/im0450.png', '/scratch/soroush1/memorability/muri1320/im0451.png', '/scratch/soroush1/memorability/muri1320/im0452.png', '/scratch/soroush1/memorability/muri1320/im0453.png', '/scratch/soroush1/memorability/muri1320/im0454.png', '/scratch/soroush1/memorability/muri1320/im0455.png', '/scratch/soroush1/memorability/muri1320/im0456.png', '/scratch/soroush1/memorability/muri1320/im0457.png']\n",
      "['/scratch/soroush1/memorability/muri1320/im0480.png', '/scratch/soroush1/memorability/muri1320/im0481.png', '/scratch/soroush1/memorability/muri1320/im0482.png', '/scratch/soroush1/memorability/muri1320/im0483.png', '/scratch/soroush1/memorability/muri1320/im0484.png', '/scratch/soroush1/memorability/muri1320/im0485.png', '/scratch/soroush1/memorability/muri1320/im0486.png', '/scratch/soroush1/memorability/muri1320/im0487.png', '/scratch/soroush1/memorability/muri1320/im0488.png', '/scratch/soroush1/memorability/muri1320/im0489.png']\n",
      "['/scratch/soroush1/memorability/muri1320/im0512.png', '/scratch/soroush1/memorability/muri1320/im0513.png', '/scratch/soroush1/memorability/muri1320/im0514.png', '/scratch/soroush1/memorability/muri1320/im0515.png', '/scratch/soroush1/memorability/muri1320/im0516.png', '/scratch/soroush1/memorability/muri1320/im0517.png', '/scratch/soroush1/memorability/muri1320/im0518.png', '/scratch/soroush1/memorability/muri1320/im0519.png', '/scratch/soroush1/memorability/muri1320/im0520.png', '/scratch/soroush1/memorability/muri1320/im0521.png']\n",
      "['/scratch/soroush1/memorability/muri1320/im0544.png', '/scratch/soroush1/memorability/muri1320/im0545.png', '/scratch/soroush1/memorability/muri1320/im0546.png', '/scratch/soroush1/memorability/muri1320/im0547.png', '/scratch/soroush1/memorability/muri1320/im0548.png', '/scratch/soroush1/memorability/muri1320/im0549.png', '/scratch/soroush1/memorability/muri1320/im0550.png', '/scratch/soroush1/memorability/muri1320/im0551.png', '/scratch/soroush1/memorability/muri1320/im0552.png', '/scratch/soroush1/memorability/muri1320/im0553.png']\n"
     ]
    },
    {
     "name": "stderr",
     "output_type": "stream",
     "text": [
      "\n",
      " 50%|█████     | 21/42 [00:01<00:00, 22.64it/s]\u001b[A"
     ]
    },
    {
     "name": "stdout",
     "output_type": "stream",
     "text": [
      "['/scratch/soroush1/memorability/muri1320/im0576.png', '/scratch/soroush1/memorability/muri1320/im0577.png', '/scratch/soroush1/memorability/muri1320/im0578.png', '/scratch/soroush1/memorability/muri1320/im0579.png', '/scratch/soroush1/memorability/muri1320/im0580.png', '/scratch/soroush1/memorability/muri1320/im0581.png', '/scratch/soroush1/memorability/muri1320/im0582.png', '/scratch/soroush1/memorability/muri1320/im0583.png', '/scratch/soroush1/memorability/muri1320/im0584.png', '/scratch/soroush1/memorability/muri1320/im0585.png']\n",
      "['/scratch/soroush1/memorability/muri1320/im0608.png', '/scratch/soroush1/memorability/muri1320/im0609.png', '/scratch/soroush1/memorability/muri1320/im0610.png', '/scratch/soroush1/memorability/muri1320/im0611.png', '/scratch/soroush1/memorability/muri1320/im0612.png', '/scratch/soroush1/memorability/muri1320/im0613.png', '/scratch/soroush1/memorability/muri1320/im0614.png', '/scratch/soroush1/memorability/muri1320/im0615.png', '/scratch/soroush1/memorability/muri1320/im0616.png', '/scratch/soroush1/memorability/muri1320/im0617.png']\n",
      "['/scratch/soroush1/memorability/muri1320/im0640.png', '/scratch/soroush1/memorability/muri1320/im0641.png', '/scratch/soroush1/memorability/muri1320/im0642.png', '/scratch/soroush1/memorability/muri1320/im0643.png', '/scratch/soroush1/memorability/muri1320/im0644.png', '/scratch/soroush1/memorability/muri1320/im0645.png', '/scratch/soroush1/memorability/muri1320/im0646.png', '/scratch/soroush1/memorability/muri1320/im0647.png', '/scratch/soroush1/memorability/muri1320/im0648.png', '/scratch/soroush1/memorability/muri1320/im0649.png']\n",
      "['/scratch/soroush1/memorability/muri1320/im0672.png', '/scratch/soroush1/memorability/muri1320/im0673.png', '/scratch/soroush1/memorability/muri1320/im0674.png', '/scratch/soroush1/memorability/muri1320/im0675.png', '/scratch/soroush1/memorability/muri1320/im0676.png', '/scratch/soroush1/memorability/muri1320/im0677.png', '/scratch/soroush1/memorability/muri1320/im0678.png', '/scratch/soroush1/memorability/muri1320/im0679.png', '/scratch/soroush1/memorability/muri1320/im0680.png', '/scratch/soroush1/memorability/muri1320/im0681.png']\n",
      "['/scratch/soroush1/memorability/muri1320/im0704.png', '/scratch/soroush1/memorability/muri1320/im0705.png', '/scratch/soroush1/memorability/muri1320/im0706.png', '/scratch/soroush1/memorability/muri1320/im0707.png', '/scratch/soroush1/memorability/muri1320/im0708.png', '/scratch/soroush1/memorability/muri1320/im0709.png', '/scratch/soroush1/memorability/muri1320/im0710.png', '/scratch/soroush1/memorability/muri1320/im0711.png', '/scratch/soroush1/memorability/muri1320/im0712.png', '/scratch/soroush1/memorability/muri1320/im0713.png']\n",
      "['/scratch/soroush1/memorability/muri1320/im0736.png', '/scratch/soroush1/memorability/muri1320/im0737.png', '/scratch/soroush1/memorability/muri1320/im0738.png', '/scratch/soroush1/memorability/muri1320/im0739.png', '/scratch/soroush1/memorability/muri1320/im0740.png', '/scratch/soroush1/memorability/muri1320/im0741.png', '/scratch/soroush1/memorability/muri1320/im0742.png', '/scratch/soroush1/memorability/muri1320/im0743.png', '/scratch/soroush1/memorability/muri1320/im0744.png', '/scratch/soroush1/memorability/muri1320/im0745.png']\n"
     ]
    },
    {
     "name": "stderr",
     "output_type": "stream",
     "text": [
      "\n",
      " 57%|█████▋    | 24/42 [00:01<00:00, 23.92it/s]\u001b[A\n",
      " 64%|██████▍   | 27/42 [00:01<00:00, 21.97it/s]\u001b[A\n",
      " 71%|███████▏  | 30/42 [00:01<00:00, 23.54it/s]\u001b[A"
     ]
    },
    {
     "name": "stdout",
     "output_type": "stream",
     "text": [
      "['/scratch/soroush1/memorability/muri1320/im0768.png', '/scratch/soroush1/memorability/muri1320/im0769.png', '/scratch/soroush1/memorability/muri1320/im0770.png', '/scratch/soroush1/memorability/muri1320/im0771.png', '/scratch/soroush1/memorability/muri1320/im0772.png', '/scratch/soroush1/memorability/muri1320/im0773.png', '/scratch/soroush1/memorability/muri1320/im0774.png', '/scratch/soroush1/memorability/muri1320/im0775.png', '/scratch/soroush1/memorability/muri1320/im0776.png', '/scratch/soroush1/memorability/muri1320/im0777.png']\n",
      "['/scratch/soroush1/memorability/muri1320/im0800.png', '/scratch/soroush1/memorability/muri1320/im0801.png', '/scratch/soroush1/memorability/muri1320/im0802.png', '/scratch/soroush1/memorability/muri1320/im0803.png', '/scratch/soroush1/memorability/muri1320/im0804.png', '/scratch/soroush1/memorability/muri1320/im0805.png', '/scratch/soroush1/memorability/muri1320/im0806.png', '/scratch/soroush1/memorability/muri1320/im0807.png', '/scratch/soroush1/memorability/muri1320/im0808.png', '/scratch/soroush1/memorability/muri1320/im0809.png']\n",
      "['/scratch/soroush1/memorability/muri1320/im0832.png', '/scratch/soroush1/memorability/muri1320/im0833.png', '/scratch/soroush1/memorability/muri1320/im0834.png', '/scratch/soroush1/memorability/muri1320/im0835.png', '/scratch/soroush1/memorability/muri1320/im0836.png', '/scratch/soroush1/memorability/muri1320/im0837.png', '/scratch/soroush1/memorability/muri1320/im0838.png', '/scratch/soroush1/memorability/muri1320/im0839.png', '/scratch/soroush1/memorability/muri1320/im0840.png', '/scratch/soroush1/memorability/muri1320/im0841.png']\n",
      "['/scratch/soroush1/memorability/muri1320/im0864.png', '/scratch/soroush1/memorability/muri1320/im0865.png', '/scratch/soroush1/memorability/muri1320/im0866.png', '/scratch/soroush1/memorability/muri1320/im0867.png', '/scratch/soroush1/memorability/muri1320/im0868.png', '/scratch/soroush1/memorability/muri1320/im0869.png', '/scratch/soroush1/memorability/muri1320/im0870.png', '/scratch/soroush1/memorability/muri1320/im0871.png', '/scratch/soroush1/memorability/muri1320/im0872.png', '/scratch/soroush1/memorability/muri1320/im0873.png']\n",
      "['/scratch/soroush1/memorability/muri1320/im0896.png', '/scratch/soroush1/memorability/muri1320/im0897.png', '/scratch/soroush1/memorability/muri1320/im0898.png', '/scratch/soroush1/memorability/muri1320/im0899.png', '/scratch/soroush1/memorability/muri1320/im0900.png', '/scratch/soroush1/memorability/muri1320/im0901.png', '/scratch/soroush1/memorability/muri1320/im0902.png', '/scratch/soroush1/memorability/muri1320/im0903.png', '/scratch/soroush1/memorability/muri1320/im0904.png', '/scratch/soroush1/memorability/muri1320/im0905.png']\n",
      "['/scratch/soroush1/memorability/muri1320/im0928.png', '/scratch/soroush1/memorability/muri1320/im0929.png', '/scratch/soroush1/memorability/muri1320/im0930.png', '/scratch/soroush1/memorability/muri1320/im0931.png', '/scratch/soroush1/memorability/muri1320/im0932.png', '/scratch/soroush1/memorability/muri1320/im0933.png', '/scratch/soroush1/memorability/muri1320/im0934.png', '/scratch/soroush1/memorability/muri1320/im0935.png', '/scratch/soroush1/memorability/muri1320/im0936.png', '/scratch/soroush1/memorability/muri1320/im0937.png']\n"
     ]
    },
    {
     "name": "stderr",
     "output_type": "stream",
     "text": [
      "\n",
      " 79%|███████▊  | 33/42 [00:01<00:00, 21.67it/s]\u001b[A"
     ]
    },
    {
     "name": "stdout",
     "output_type": "stream",
     "text": [
      "['/scratch/soroush1/memorability/muri1320/im0960.png', '/scratch/soroush1/memorability/muri1320/im0961.png', '/scratch/soroush1/memorability/muri1320/im0962.png', '/scratch/soroush1/memorability/muri1320/im0963.png', '/scratch/soroush1/memorability/muri1320/im0964.png', '/scratch/soroush1/memorability/muri1320/im0965.png', '/scratch/soroush1/memorability/muri1320/im0966.png', '/scratch/soroush1/memorability/muri1320/im0967.png', '/scratch/soroush1/memorability/muri1320/im0968.png', '/scratch/soroush1/memorability/muri1320/im0969.png']\n",
      "['/scratch/soroush1/memorability/muri1320/im0992.png', '/scratch/soroush1/memorability/muri1320/im0993.png', '/scratch/soroush1/memorability/muri1320/im0994.png', '/scratch/soroush1/memorability/muri1320/im0995.png', '/scratch/soroush1/memorability/muri1320/im0996.png', '/scratch/soroush1/memorability/muri1320/im0997.png', '/scratch/soroush1/memorability/muri1320/im0998.png', '/scratch/soroush1/memorability/muri1320/im0999.png', '/scratch/soroush1/memorability/muri1320/im1000.png', '/scratch/soroush1/memorability/muri1320/im1001.png']\n",
      "['/scratch/soroush1/memorability/muri1320/im1024.png', '/scratch/soroush1/memorability/muri1320/im1025.png', '/scratch/soroush1/memorability/muri1320/im1026.png', '/scratch/soroush1/memorability/muri1320/im1027.png', '/scratch/soroush1/memorability/muri1320/im1028.png', '/scratch/soroush1/memorability/muri1320/im1029.png', '/scratch/soroush1/memorability/muri1320/im1030.png', '/scratch/soroush1/memorability/muri1320/im1031.png', '/scratch/soroush1/memorability/muri1320/im1032.png', '/scratch/soroush1/memorability/muri1320/im1033.png']\n",
      "['/scratch/soroush1/memorability/muri1320/im1056.png', '/scratch/soroush1/memorability/muri1320/im1057.png', '/scratch/soroush1/memorability/muri1320/im1058.png', '/scratch/soroush1/memorability/muri1320/im1059.png', '/scratch/soroush1/memorability/muri1320/im1060.png', '/scratch/soroush1/memorability/muri1320/im1061.png', '/scratch/soroush1/memorability/muri1320/im1062.png', '/scratch/soroush1/memorability/muri1320/im1063.png', '/scratch/soroush1/memorability/muri1320/im1064.png', '/scratch/soroush1/memorability/muri1320/im1065.png']\n",
      "['/scratch/soroush1/memorability/muri1320/im1088.png', '/scratch/soroush1/memorability/muri1320/im1089.png', '/scratch/soroush1/memorability/muri1320/im1090.png', '/scratch/soroush1/memorability/muri1320/im1091.png', '/scratch/soroush1/memorability/muri1320/im1092.png', '/scratch/soroush1/memorability/muri1320/im1093.png', '/scratch/soroush1/memorability/muri1320/im1094.png', '/scratch/soroush1/memorability/muri1320/im1095.png', '/scratch/soroush1/memorability/muri1320/im1096.png', '/scratch/soroush1/memorability/muri1320/im1097.png']\n"
     ]
    },
    {
     "name": "stderr",
     "output_type": "stream",
     "text": [
      "\n",
      " 86%|████████▌ | 36/42 [00:01<00:00, 22.66it/s]\u001b[A\n",
      " 93%|█████████▎| 39/42 [00:01<00:00, 23.00it/s]\u001b[A"
     ]
    },
    {
     "name": "stdout",
     "output_type": "stream",
     "text": [
      "['/scratch/soroush1/memorability/muri1320/im1120.png', '/scratch/soroush1/memorability/muri1320/im1121.png', '/scratch/soroush1/memorability/muri1320/im1122.png', '/scratch/soroush1/memorability/muri1320/im1123.png', '/scratch/soroush1/memorability/muri1320/im1124.png', '/scratch/soroush1/memorability/muri1320/im1125.png', '/scratch/soroush1/memorability/muri1320/im1126.png', '/scratch/soroush1/memorability/muri1320/im1127.png', '/scratch/soroush1/memorability/muri1320/im1128.png', '/scratch/soroush1/memorability/muri1320/im1129.png']\n",
      "['/scratch/soroush1/memorability/muri1320/im1152.png', '/scratch/soroush1/memorability/muri1320/im1153.png', '/scratch/soroush1/memorability/muri1320/im1154.png', '/scratch/soroush1/memorability/muri1320/im1155.png', '/scratch/soroush1/memorability/muri1320/im1156.png', '/scratch/soroush1/memorability/muri1320/im1157.png', '/scratch/soroush1/memorability/muri1320/im1158.png', '/scratch/soroush1/memorability/muri1320/im1159.png', '/scratch/soroush1/memorability/muri1320/im1160.png', '/scratch/soroush1/memorability/muri1320/im1161.png']\n",
      "['/scratch/soroush1/memorability/muri1320/im1184.png', '/scratch/soroush1/memorability/muri1320/im1185.png', '/scratch/soroush1/memorability/muri1320/im1186.png', '/scratch/soroush1/memorability/muri1320/im1187.png', '/scratch/soroush1/memorability/muri1320/im1188.png', '/scratch/soroush1/memorability/muri1320/im1189.png', '/scratch/soroush1/memorability/muri1320/im1190.png', '/scratch/soroush1/memorability/muri1320/im1191.png', '/scratch/soroush1/memorability/muri1320/im1192.png', '/scratch/soroush1/memorability/muri1320/im1193.png']\n",
      "['/scratch/soroush1/memorability/muri1320/im1216.png', '/scratch/soroush1/memorability/muri1320/im1217.png', '/scratch/soroush1/memorability/muri1320/im1218.png', '/scratch/soroush1/memorability/muri1320/im1219.png', '/scratch/soroush1/memorability/muri1320/im1220.png', '/scratch/soroush1/memorability/muri1320/im1221.png', '/scratch/soroush1/memorability/muri1320/im1222.png', '/scratch/soroush1/memorability/muri1320/im1223.png', '/scratch/soroush1/memorability/muri1320/im1224.png', '/scratch/soroush1/memorability/muri1320/im1225.png']\n",
      "['/scratch/soroush1/memorability/muri1320/im1248.png', '/scratch/soroush1/memorability/muri1320/im1249.png', '/scratch/soroush1/memorability/muri1320/im1250.png', '/scratch/soroush1/memorability/muri1320/im1251.png', '/scratch/soroush1/memorability/muri1320/im1252.png', '/scratch/soroush1/memorability/muri1320/im1253.png', '/scratch/soroush1/memorability/muri1320/im1254.png', '/scratch/soroush1/memorability/muri1320/im1255.png', '/scratch/soroush1/memorability/muri1320/im1256.png', '/scratch/soroush1/memorability/muri1320/im1257.png']\n"
     ]
    },
    {
     "name": "stderr",
     "output_type": "stream",
     "text": [
      "100%|██████████| 42/42 [00:01<00:00, 21.18it/s]\n"
     ]
    },
    {
     "name": "stdout",
     "output_type": "stream",
     "text": [
      "['/scratch/soroush1/memorability/muri1320/im1280.png', '/scratch/soroush1/memorability/muri1320/im1281.png', '/scratch/soroush1/memorability/muri1320/im1282.png', '/scratch/soroush1/memorability/muri1320/im1283.png', '/scratch/soroush1/memorability/muri1320/im1284.png', '/scratch/soroush1/memorability/muri1320/im1285.png', '/scratch/soroush1/memorability/muri1320/im1286.png', '/scratch/soroush1/memorability/muri1320/im1287.png', '/scratch/soroush1/memorability/muri1320/im1288.png', '/scratch/soroush1/memorability/muri1320/im1289.png']\n",
      "['/scratch/soroush1/memorability/muri1320/im1312.png', '/scratch/soroush1/memorability/muri1320/im1313.png', '/scratch/soroush1/memorability/muri1320/im1314.png', '/scratch/soroush1/memorability/muri1320/im1315.png', '/scratch/soroush1/memorability/muri1320/im1316.png', '/scratch/soroush1/memorability/muri1320/im1317.png', '/scratch/soroush1/memorability/muri1320/im1318.png', '/scratch/soroush1/memorability/muri1320/im1319.png']\n",
      "Concatenated features shape: (1320, 100352)\n",
      "Total number of images: 1320\n",
      "Model: resnet50, Task: diffInitRes9, Layer: IT, Shape: (1320, 100352)\n"
     ]
    },
    {
     "name": "stderr",
     "output_type": "stream",
     "text": [
      "different_run:  77%|███████▋  | 10/13 [00:30<00:09,  3.02s/it]"
     ]
    },
    {
     "name": "stdout",
     "output_type": "stream",
     "text": [
      "Features saved to ./features/muri1320_resnet50_diffInitRes9_IT.h5\n",
      "(1320, 100352)\n",
      "device = device(type='cuda')\n",
      "list(ckpt.keys())[:10] = ['module.conv1.weight', 'module.bn1.weight', 'module.bn1.bias', 'module.bn1.running_mean', 'module.bn1.running_var', 'module.bn1.num_batches_tracked', 'module.layer1.0.conv1.weight', 'module.layer1.0.bn1.weight', 'module.layer1.0.bn1.bias', 'module.layer1.0.bn1.running_mean']\n",
      "list(ckpt.keys())[:10] = ['conv1.weight', 'bn1.weight', 'bn1.bias', 'bn1.running_mean', 'bn1.running_var', 'bn1.num_batches_tracked', 'layer1.0.conv1.weight', 'layer1.0.bn1.weight', 'layer1.0.bn1.bias', 'layer1.0.bn1.running_mean']\n"
     ]
    },
    {
     "name": "stderr",
     "output_type": "stream",
     "text": [
      "\n",
      "  0%|          | 0/42 [00:00<?, ?it/s]\u001b[A\n",
      "  2%|▏         | 1/42 [00:00<00:07,  5.36it/s]\u001b[A\n",
      " 10%|▉         | 4/42 [00:00<00:02, 15.72it/s]\u001b[A"
     ]
    },
    {
     "name": "stdout",
     "output_type": "stream",
     "text": [
      "['/scratch/soroush1/memorability/muri1320/im0000.png', '/scratch/soroush1/memorability/muri1320/im0001.png', '/scratch/soroush1/memorability/muri1320/im0002.png', '/scratch/soroush1/memorability/muri1320/im0003.png', '/scratch/soroush1/memorability/muri1320/im0004.png', '/scratch/soroush1/memorability/muri1320/im0005.png', '/scratch/soroush1/memorability/muri1320/im0006.png', '/scratch/soroush1/memorability/muri1320/im0007.png', '/scratch/soroush1/memorability/muri1320/im0008.png', '/scratch/soroush1/memorability/muri1320/im0009.png']\n",
      "['/scratch/soroush1/memorability/muri1320/im0032.png', '/scratch/soroush1/memorability/muri1320/im0033.png', '/scratch/soroush1/memorability/muri1320/im0034.png', '/scratch/soroush1/memorability/muri1320/im0035.png', '/scratch/soroush1/memorability/muri1320/im0036.png', '/scratch/soroush1/memorability/muri1320/im0037.png', '/scratch/soroush1/memorability/muri1320/im0038.png', '/scratch/soroush1/memorability/muri1320/im0039.png', '/scratch/soroush1/memorability/muri1320/im0040.png', '/scratch/soroush1/memorability/muri1320/im0041.png']\n",
      "['/scratch/soroush1/memorability/muri1320/im0064.png', '/scratch/soroush1/memorability/muri1320/im0065.png', '/scratch/soroush1/memorability/muri1320/im0066.png', '/scratch/soroush1/memorability/muri1320/im0067.png', '/scratch/soroush1/memorability/muri1320/im0068.png', '/scratch/soroush1/memorability/muri1320/im0069.png', '/scratch/soroush1/memorability/muri1320/im0070.png', '/scratch/soroush1/memorability/muri1320/im0071.png', '/scratch/soroush1/memorability/muri1320/im0072.png', '/scratch/soroush1/memorability/muri1320/im0073.png']\n",
      "['/scratch/soroush1/memorability/muri1320/im0096.png', '/scratch/soroush1/memorability/muri1320/im0097.png', '/scratch/soroush1/memorability/muri1320/im0098.png', '/scratch/soroush1/memorability/muri1320/im0099.png', '/scratch/soroush1/memorability/muri1320/im0100.png', '/scratch/soroush1/memorability/muri1320/im0101.png', '/scratch/soroush1/memorability/muri1320/im0102.png', '/scratch/soroush1/memorability/muri1320/im0103.png', '/scratch/soroush1/memorability/muri1320/im0104.png', '/scratch/soroush1/memorability/muri1320/im0105.png']\n",
      "['/scratch/soroush1/memorability/muri1320/im0128.png', '/scratch/soroush1/memorability/muri1320/im0129.png', '/scratch/soroush1/memorability/muri1320/im0130.png', '/scratch/soroush1/memorability/muri1320/im0131.png', '/scratch/soroush1/memorability/muri1320/im0132.png', '/scratch/soroush1/memorability/muri1320/im0133.png', '/scratch/soroush1/memorability/muri1320/im0134.png', '/scratch/soroush1/memorability/muri1320/im0135.png', '/scratch/soroush1/memorability/muri1320/im0136.png', '/scratch/soroush1/memorability/muri1320/im0137.png']\n",
      "['/scratch/soroush1/memorability/muri1320/im0160.png', '/scratch/soroush1/memorability/muri1320/im0161.png', '/scratch/soroush1/memorability/muri1320/im0162.png', '/scratch/soroush1/memorability/muri1320/im0163.png', '/scratch/soroush1/memorability/muri1320/im0164.png', '/scratch/soroush1/memorability/muri1320/im0165.png', '/scratch/soroush1/memorability/muri1320/im0166.png', '/scratch/soroush1/memorability/muri1320/im0167.png', '/scratch/soroush1/memorability/muri1320/im0168.png', '/scratch/soroush1/memorability/muri1320/im0169.png']\n"
     ]
    },
    {
     "name": "stderr",
     "output_type": "stream",
     "text": [
      "\n",
      " 17%|█▋        | 7/42 [00:00<00:02, 16.95it/s]\u001b[A\n",
      " 24%|██▍       | 10/42 [00:00<00:01, 19.46it/s]\u001b[A"
     ]
    },
    {
     "name": "stdout",
     "output_type": "stream",
     "text": [
      "['/scratch/soroush1/memorability/muri1320/im0192.png', '/scratch/soroush1/memorability/muri1320/im0193.png', '/scratch/soroush1/memorability/muri1320/im0194.png', '/scratch/soroush1/memorability/muri1320/im0195.png', '/scratch/soroush1/memorability/muri1320/im0196.png', '/scratch/soroush1/memorability/muri1320/im0197.png', '/scratch/soroush1/memorability/muri1320/im0198.png', '/scratch/soroush1/memorability/muri1320/im0199.png', '/scratch/soroush1/memorability/muri1320/im0200.png', '/scratch/soroush1/memorability/muri1320/im0201.png']\n",
      "['/scratch/soroush1/memorability/muri1320/im0224.png', '/scratch/soroush1/memorability/muri1320/im0225.png', '/scratch/soroush1/memorability/muri1320/im0226.png', '/scratch/soroush1/memorability/muri1320/im0227.png', '/scratch/soroush1/memorability/muri1320/im0228.png', '/scratch/soroush1/memorability/muri1320/im0229.png', '/scratch/soroush1/memorability/muri1320/im0230.png', '/scratch/soroush1/memorability/muri1320/im0231.png', '/scratch/soroush1/memorability/muri1320/im0232.png', '/scratch/soroush1/memorability/muri1320/im0233.png']\n",
      "['/scratch/soroush1/memorability/muri1320/im0256.png', '/scratch/soroush1/memorability/muri1320/im0257.png', '/scratch/soroush1/memorability/muri1320/im0258.png', '/scratch/soroush1/memorability/muri1320/im0259.png', '/scratch/soroush1/memorability/muri1320/im0260.png', '/scratch/soroush1/memorability/muri1320/im0261.png', '/scratch/soroush1/memorability/muri1320/im0262.png', '/scratch/soroush1/memorability/muri1320/im0263.png', '/scratch/soroush1/memorability/muri1320/im0264.png', '/scratch/soroush1/memorability/muri1320/im0265.png']\n",
      "['/scratch/soroush1/memorability/muri1320/im0288.png', '/scratch/soroush1/memorability/muri1320/im0289.png', '/scratch/soroush1/memorability/muri1320/im0290.png', '/scratch/soroush1/memorability/muri1320/im0291.png', '/scratch/soroush1/memorability/muri1320/im0292.png', '/scratch/soroush1/memorability/muri1320/im0293.png', '/scratch/soroush1/memorability/muri1320/im0294.png', '/scratch/soroush1/memorability/muri1320/im0295.png', '/scratch/soroush1/memorability/muri1320/im0296.png', '/scratch/soroush1/memorability/muri1320/im0297.png']\n",
      "['/scratch/soroush1/memorability/muri1320/im0320.png', '/scratch/soroush1/memorability/muri1320/im0321.png', '/scratch/soroush1/memorability/muri1320/im0322.png', '/scratch/soroush1/memorability/muri1320/im0323.png', '/scratch/soroush1/memorability/muri1320/im0324.png', '/scratch/soroush1/memorability/muri1320/im0325.png', '/scratch/soroush1/memorability/muri1320/im0326.png', '/scratch/soroush1/memorability/muri1320/im0327.png', '/scratch/soroush1/memorability/muri1320/im0328.png', '/scratch/soroush1/memorability/muri1320/im0329.png']\n",
      "['/scratch/soroush1/memorability/muri1320/im0352.png', '/scratch/soroush1/memorability/muri1320/im0353.png', '/scratch/soroush1/memorability/muri1320/im0354.png', '/scratch/soroush1/memorability/muri1320/im0355.png', '/scratch/soroush1/memorability/muri1320/im0356.png', '/scratch/soroush1/memorability/muri1320/im0357.png', '/scratch/soroush1/memorability/muri1320/im0358.png', '/scratch/soroush1/memorability/muri1320/im0359.png', '/scratch/soroush1/memorability/muri1320/im0360.png', '/scratch/soroush1/memorability/muri1320/im0361.png']\n"
     ]
    },
    {
     "name": "stderr",
     "output_type": "stream",
     "text": [
      "\n",
      " 31%|███       | 13/42 [00:00<00:01, 20.30it/s]\u001b[A\n",
      " 38%|███▊      | 16/42 [00:00<00:01, 22.59it/s]\u001b[A"
     ]
    },
    {
     "name": "stdout",
     "output_type": "stream",
     "text": [
      "['/scratch/soroush1/memorability/muri1320/im0384.png', '/scratch/soroush1/memorability/muri1320/im0385.png', '/scratch/soroush1/memorability/muri1320/im0386.png', '/scratch/soroush1/memorability/muri1320/im0387.png', '/scratch/soroush1/memorability/muri1320/im0388.png', '/scratch/soroush1/memorability/muri1320/im0389.png', '/scratch/soroush1/memorability/muri1320/im0390.png', '/scratch/soroush1/memorability/muri1320/im0391.png', '/scratch/soroush1/memorability/muri1320/im0392.png', '/scratch/soroush1/memorability/muri1320/im0393.png']\n",
      "['/scratch/soroush1/memorability/muri1320/im0416.png', '/scratch/soroush1/memorability/muri1320/im0417.png', '/scratch/soroush1/memorability/muri1320/im0418.png', '/scratch/soroush1/memorability/muri1320/im0419.png', '/scratch/soroush1/memorability/muri1320/im0420.png', '/scratch/soroush1/memorability/muri1320/im0421.png', '/scratch/soroush1/memorability/muri1320/im0422.png', '/scratch/soroush1/memorability/muri1320/im0423.png', '/scratch/soroush1/memorability/muri1320/im0424.png', '/scratch/soroush1/memorability/muri1320/im0425.png']\n",
      "['/scratch/soroush1/memorability/muri1320/im0448.png', '/scratch/soroush1/memorability/muri1320/im0449.png', '/scratch/soroush1/memorability/muri1320/im0450.png', '/scratch/soroush1/memorability/muri1320/im0451.png', '/scratch/soroush1/memorability/muri1320/im0452.png', '/scratch/soroush1/memorability/muri1320/im0453.png', '/scratch/soroush1/memorability/muri1320/im0454.png', '/scratch/soroush1/memorability/muri1320/im0455.png', '/scratch/soroush1/memorability/muri1320/im0456.png', '/scratch/soroush1/memorability/muri1320/im0457.png']\n",
      "['/scratch/soroush1/memorability/muri1320/im0480.png', '/scratch/soroush1/memorability/muri1320/im0481.png', '/scratch/soroush1/memorability/muri1320/im0482.png', '/scratch/soroush1/memorability/muri1320/im0483.png', '/scratch/soroush1/memorability/muri1320/im0484.png', '/scratch/soroush1/memorability/muri1320/im0485.png', '/scratch/soroush1/memorability/muri1320/im0486.png', '/scratch/soroush1/memorability/muri1320/im0487.png', '/scratch/soroush1/memorability/muri1320/im0488.png', '/scratch/soroush1/memorability/muri1320/im0489.png']\n",
      "['/scratch/soroush1/memorability/muri1320/im0512.png', '/scratch/soroush1/memorability/muri1320/im0513.png', '/scratch/soroush1/memorability/muri1320/im0514.png', '/scratch/soroush1/memorability/muri1320/im0515.png', '/scratch/soroush1/memorability/muri1320/im0516.png', '/scratch/soroush1/memorability/muri1320/im0517.png', '/scratch/soroush1/memorability/muri1320/im0518.png', '/scratch/soroush1/memorability/muri1320/im0519.png', '/scratch/soroush1/memorability/muri1320/im0520.png', '/scratch/soroush1/memorability/muri1320/im0521.png']\n",
      "['/scratch/soroush1/memorability/muri1320/im0544.png', '/scratch/soroush1/memorability/muri1320/im0545.png', '/scratch/soroush1/memorability/muri1320/im0546.png', '/scratch/soroush1/memorability/muri1320/im0547.png', '/scratch/soroush1/memorability/muri1320/im0548.png', '/scratch/soroush1/memorability/muri1320/im0549.png', '/scratch/soroush1/memorability/muri1320/im0550.png', '/scratch/soroush1/memorability/muri1320/im0551.png', '/scratch/soroush1/memorability/muri1320/im0552.png', '/scratch/soroush1/memorability/muri1320/im0553.png']\n"
     ]
    },
    {
     "name": "stderr",
     "output_type": "stream",
     "text": [
      "\n",
      " 45%|████▌     | 19/42 [00:00<00:01, 21.59it/s]\u001b[A\n",
      " 55%|█████▍    | 23/42 [00:01<00:00, 22.94it/s]\u001b[A"
     ]
    },
    {
     "name": "stdout",
     "output_type": "stream",
     "text": [
      "['/scratch/soroush1/memorability/muri1320/im0576.png', '/scratch/soroush1/memorability/muri1320/im0577.png', '/scratch/soroush1/memorability/muri1320/im0578.png', '/scratch/soroush1/memorability/muri1320/im0579.png', '/scratch/soroush1/memorability/muri1320/im0580.png', '/scratch/soroush1/memorability/muri1320/im0581.png', '/scratch/soroush1/memorability/muri1320/im0582.png', '/scratch/soroush1/memorability/muri1320/im0583.png', '/scratch/soroush1/memorability/muri1320/im0584.png', '/scratch/soroush1/memorability/muri1320/im0585.png']\n",
      "['/scratch/soroush1/memorability/muri1320/im0608.png', '/scratch/soroush1/memorability/muri1320/im0609.png', '/scratch/soroush1/memorability/muri1320/im0610.png', '/scratch/soroush1/memorability/muri1320/im0611.png', '/scratch/soroush1/memorability/muri1320/im0612.png', '/scratch/soroush1/memorability/muri1320/im0613.png', '/scratch/soroush1/memorability/muri1320/im0614.png', '/scratch/soroush1/memorability/muri1320/im0615.png', '/scratch/soroush1/memorability/muri1320/im0616.png', '/scratch/soroush1/memorability/muri1320/im0617.png']\n",
      "['/scratch/soroush1/memorability/muri1320/im0640.png', '/scratch/soroush1/memorability/muri1320/im0641.png', '/scratch/soroush1/memorability/muri1320/im0642.png', '/scratch/soroush1/memorability/muri1320/im0643.png', '/scratch/soroush1/memorability/muri1320/im0644.png', '/scratch/soroush1/memorability/muri1320/im0645.png', '/scratch/soroush1/memorability/muri1320/im0646.png', '/scratch/soroush1/memorability/muri1320/im0647.png', '/scratch/soroush1/memorability/muri1320/im0648.png', '/scratch/soroush1/memorability/muri1320/im0649.png']\n",
      "['/scratch/soroush1/memorability/muri1320/im0672.png', '/scratch/soroush1/memorability/muri1320/im0673.png', '/scratch/soroush1/memorability/muri1320/im0674.png', '/scratch/soroush1/memorability/muri1320/im0675.png', '/scratch/soroush1/memorability/muri1320/im0676.png', '/scratch/soroush1/memorability/muri1320/im0677.png', '/scratch/soroush1/memorability/muri1320/im0678.png', '/scratch/soroush1/memorability/muri1320/im0679.png', '/scratch/soroush1/memorability/muri1320/im0680.png', '/scratch/soroush1/memorability/muri1320/im0681.png']\n",
      "['/scratch/soroush1/memorability/muri1320/im0704.png', '/scratch/soroush1/memorability/muri1320/im0705.png', '/scratch/soroush1/memorability/muri1320/im0706.png', '/scratch/soroush1/memorability/muri1320/im0707.png', '/scratch/soroush1/memorability/muri1320/im0708.png', '/scratch/soroush1/memorability/muri1320/im0709.png', '/scratch/soroush1/memorability/muri1320/im0710.png', '/scratch/soroush1/memorability/muri1320/im0711.png', '/scratch/soroush1/memorability/muri1320/im0712.png', '/scratch/soroush1/memorability/muri1320/im0713.png']\n",
      "['/scratch/soroush1/memorability/muri1320/im0736.png', '/scratch/soroush1/memorability/muri1320/im0737.png', '/scratch/soroush1/memorability/muri1320/im0738.png', '/scratch/soroush1/memorability/muri1320/im0739.png', '/scratch/soroush1/memorability/muri1320/im0740.png', '/scratch/soroush1/memorability/muri1320/im0741.png', '/scratch/soroush1/memorability/muri1320/im0742.png', '/scratch/soroush1/memorability/muri1320/im0743.png', '/scratch/soroush1/memorability/muri1320/im0744.png', '/scratch/soroush1/memorability/muri1320/im0745.png']\n"
     ]
    },
    {
     "name": "stderr",
     "output_type": "stream",
     "text": [
      "\n",
      " 62%|██████▏   | 26/42 [00:01<00:00, 22.52it/s]\u001b[A\n",
      " 69%|██████▉   | 29/42 [00:01<00:00, 22.54it/s]\u001b[A"
     ]
    },
    {
     "name": "stdout",
     "output_type": "stream",
     "text": [
      "['/scratch/soroush1/memorability/muri1320/im0768.png', '/scratch/soroush1/memorability/muri1320/im0769.png', '/scratch/soroush1/memorability/muri1320/im0770.png', '/scratch/soroush1/memorability/muri1320/im0771.png', '/scratch/soroush1/memorability/muri1320/im0772.png', '/scratch/soroush1/memorability/muri1320/im0773.png', '/scratch/soroush1/memorability/muri1320/im0774.png', '/scratch/soroush1/memorability/muri1320/im0775.png', '/scratch/soroush1/memorability/muri1320/im0776.png', '/scratch/soroush1/memorability/muri1320/im0777.png']\n",
      "['/scratch/soroush1/memorability/muri1320/im0800.png', '/scratch/soroush1/memorability/muri1320/im0801.png', '/scratch/soroush1/memorability/muri1320/im0802.png', '/scratch/soroush1/memorability/muri1320/im0803.png', '/scratch/soroush1/memorability/muri1320/im0804.png', '/scratch/soroush1/memorability/muri1320/im0805.png', '/scratch/soroush1/memorability/muri1320/im0806.png', '/scratch/soroush1/memorability/muri1320/im0807.png', '/scratch/soroush1/memorability/muri1320/im0808.png', '/scratch/soroush1/memorability/muri1320/im0809.png']\n",
      "['/scratch/soroush1/memorability/muri1320/im0832.png', '/scratch/soroush1/memorability/muri1320/im0833.png', '/scratch/soroush1/memorability/muri1320/im0834.png', '/scratch/soroush1/memorability/muri1320/im0835.png', '/scratch/soroush1/memorability/muri1320/im0836.png', '/scratch/soroush1/memorability/muri1320/im0837.png', '/scratch/soroush1/memorability/muri1320/im0838.png', '/scratch/soroush1/memorability/muri1320/im0839.png', '/scratch/soroush1/memorability/muri1320/im0840.png', '/scratch/soroush1/memorability/muri1320/im0841.png']\n",
      "['/scratch/soroush1/memorability/muri1320/im0864.png', '/scratch/soroush1/memorability/muri1320/im0865.png', '/scratch/soroush1/memorability/muri1320/im0866.png', '/scratch/soroush1/memorability/muri1320/im0867.png', '/scratch/soroush1/memorability/muri1320/im0868.png', '/scratch/soroush1/memorability/muri1320/im0869.png', '/scratch/soroush1/memorability/muri1320/im0870.png', '/scratch/soroush1/memorability/muri1320/im0871.png', '/scratch/soroush1/memorability/muri1320/im0872.png', '/scratch/soroush1/memorability/muri1320/im0873.png']\n",
      "['/scratch/soroush1/memorability/muri1320/im0896.png', '/scratch/soroush1/memorability/muri1320/im0897.png', '/scratch/soroush1/memorability/muri1320/im0898.png', '/scratch/soroush1/memorability/muri1320/im0899.png', '/scratch/soroush1/memorability/muri1320/im0900.png', '/scratch/soroush1/memorability/muri1320/im0901.png', '/scratch/soroush1/memorability/muri1320/im0902.png', '/scratch/soroush1/memorability/muri1320/im0903.png', '/scratch/soroush1/memorability/muri1320/im0904.png', '/scratch/soroush1/memorability/muri1320/im0905.png']\n",
      "['/scratch/soroush1/memorability/muri1320/im0928.png', '/scratch/soroush1/memorability/muri1320/im0929.png', '/scratch/soroush1/memorability/muri1320/im0930.png', '/scratch/soroush1/memorability/muri1320/im0931.png', '/scratch/soroush1/memorability/muri1320/im0932.png', '/scratch/soroush1/memorability/muri1320/im0933.png', '/scratch/soroush1/memorability/muri1320/im0934.png', '/scratch/soroush1/memorability/muri1320/im0935.png', '/scratch/soroush1/memorability/muri1320/im0936.png', '/scratch/soroush1/memorability/muri1320/im0937.png']\n"
     ]
    },
    {
     "name": "stderr",
     "output_type": "stream",
     "text": [
      "\n",
      " 79%|███████▊  | 33/42 [00:01<00:00, 22.71it/s]\u001b[A"
     ]
    },
    {
     "name": "stdout",
     "output_type": "stream",
     "text": [
      "['/scratch/soroush1/memorability/muri1320/im0960.png', '/scratch/soroush1/memorability/muri1320/im0961.png', '/scratch/soroush1/memorability/muri1320/im0962.png', '/scratch/soroush1/memorability/muri1320/im0963.png', '/scratch/soroush1/memorability/muri1320/im0964.png', '/scratch/soroush1/memorability/muri1320/im0965.png', '/scratch/soroush1/memorability/muri1320/im0966.png', '/scratch/soroush1/memorability/muri1320/im0967.png', '/scratch/soroush1/memorability/muri1320/im0968.png', '/scratch/soroush1/memorability/muri1320/im0969.png']\n",
      "['/scratch/soroush1/memorability/muri1320/im0992.png', '/scratch/soroush1/memorability/muri1320/im0993.png', '/scratch/soroush1/memorability/muri1320/im0994.png', '/scratch/soroush1/memorability/muri1320/im0995.png', '/scratch/soroush1/memorability/muri1320/im0996.png', '/scratch/soroush1/memorability/muri1320/im0997.png', '/scratch/soroush1/memorability/muri1320/im0998.png', '/scratch/soroush1/memorability/muri1320/im0999.png', '/scratch/soroush1/memorability/muri1320/im1000.png', '/scratch/soroush1/memorability/muri1320/im1001.png']\n",
      "['/scratch/soroush1/memorability/muri1320/im1024.png', '/scratch/soroush1/memorability/muri1320/im1025.png', '/scratch/soroush1/memorability/muri1320/im1026.png', '/scratch/soroush1/memorability/muri1320/im1027.png', '/scratch/soroush1/memorability/muri1320/im1028.png', '/scratch/soroush1/memorability/muri1320/im1029.png', '/scratch/soroush1/memorability/muri1320/im1030.png', '/scratch/soroush1/memorability/muri1320/im1031.png', '/scratch/soroush1/memorability/muri1320/im1032.png', '/scratch/soroush1/memorability/muri1320/im1033.png']\n",
      "['/scratch/soroush1/memorability/muri1320/im1056.png', '/scratch/soroush1/memorability/muri1320/im1057.png', '/scratch/soroush1/memorability/muri1320/im1058.png', '/scratch/soroush1/memorability/muri1320/im1059.png', '/scratch/soroush1/memorability/muri1320/im1060.png', '/scratch/soroush1/memorability/muri1320/im1061.png', '/scratch/soroush1/memorability/muri1320/im1062.png', '/scratch/soroush1/memorability/muri1320/im1063.png', '/scratch/soroush1/memorability/muri1320/im1064.png', '/scratch/soroush1/memorability/muri1320/im1065.png']\n",
      "['/scratch/soroush1/memorability/muri1320/im1088.png', '/scratch/soroush1/memorability/muri1320/im1089.png', '/scratch/soroush1/memorability/muri1320/im1090.png', '/scratch/soroush1/memorability/muri1320/im1091.png', '/scratch/soroush1/memorability/muri1320/im1092.png', '/scratch/soroush1/memorability/muri1320/im1093.png', '/scratch/soroush1/memorability/muri1320/im1094.png', '/scratch/soroush1/memorability/muri1320/im1095.png', '/scratch/soroush1/memorability/muri1320/im1096.png', '/scratch/soroush1/memorability/muri1320/im1097.png']\n",
      "['/scratch/soroush1/memorability/muri1320/im1120.png', '/scratch/soroush1/memorability/muri1320/im1121.png', '/scratch/soroush1/memorability/muri1320/im1122.png', '/scratch/soroush1/memorability/muri1320/im1123.png', '/scratch/soroush1/memorability/muri1320/im1124.png', '/scratch/soroush1/memorability/muri1320/im1125.png', '/scratch/soroush1/memorability/muri1320/im1126.png', '/scratch/soroush1/memorability/muri1320/im1127.png', '/scratch/soroush1/memorability/muri1320/im1128.png', '/scratch/soroush1/memorability/muri1320/im1129.png']\n"
     ]
    },
    {
     "name": "stderr",
     "output_type": "stream",
     "text": [
      "\n",
      " 88%|████████▊ | 37/42 [00:01<00:00, 23.41it/s]\u001b[A\n",
      " 95%|█████████▌| 40/42 [00:01<00:00, 24.12it/s]\u001b[A"
     ]
    },
    {
     "name": "stdout",
     "output_type": "stream",
     "text": [
      "['/scratch/soroush1/memorability/muri1320/im1152.png', '/scratch/soroush1/memorability/muri1320/im1153.png', '/scratch/soroush1/memorability/muri1320/im1154.png', '/scratch/soroush1/memorability/muri1320/im1155.png', '/scratch/soroush1/memorability/muri1320/im1156.png', '/scratch/soroush1/memorability/muri1320/im1157.png', '/scratch/soroush1/memorability/muri1320/im1158.png', '/scratch/soroush1/memorability/muri1320/im1159.png', '/scratch/soroush1/memorability/muri1320/im1160.png', '/scratch/soroush1/memorability/muri1320/im1161.png']\n",
      "['/scratch/soroush1/memorability/muri1320/im1184.png', '/scratch/soroush1/memorability/muri1320/im1185.png', '/scratch/soroush1/memorability/muri1320/im1186.png', '/scratch/soroush1/memorability/muri1320/im1187.png', '/scratch/soroush1/memorability/muri1320/im1188.png', '/scratch/soroush1/memorability/muri1320/im1189.png', '/scratch/soroush1/memorability/muri1320/im1190.png', '/scratch/soroush1/memorability/muri1320/im1191.png', '/scratch/soroush1/memorability/muri1320/im1192.png', '/scratch/soroush1/memorability/muri1320/im1193.png']\n",
      "['/scratch/soroush1/memorability/muri1320/im1216.png', '/scratch/soroush1/memorability/muri1320/im1217.png', '/scratch/soroush1/memorability/muri1320/im1218.png', '/scratch/soroush1/memorability/muri1320/im1219.png', '/scratch/soroush1/memorability/muri1320/im1220.png', '/scratch/soroush1/memorability/muri1320/im1221.png', '/scratch/soroush1/memorability/muri1320/im1222.png', '/scratch/soroush1/memorability/muri1320/im1223.png', '/scratch/soroush1/memorability/muri1320/im1224.png', '/scratch/soroush1/memorability/muri1320/im1225.png']\n",
      "['/scratch/soroush1/memorability/muri1320/im1248.png', '/scratch/soroush1/memorability/muri1320/im1249.png', '/scratch/soroush1/memorability/muri1320/im1250.png', '/scratch/soroush1/memorability/muri1320/im1251.png', '/scratch/soroush1/memorability/muri1320/im1252.png', '/scratch/soroush1/memorability/muri1320/im1253.png', '/scratch/soroush1/memorability/muri1320/im1254.png', '/scratch/soroush1/memorability/muri1320/im1255.png', '/scratch/soroush1/memorability/muri1320/im1256.png', '/scratch/soroush1/memorability/muri1320/im1257.png']\n",
      "['/scratch/soroush1/memorability/muri1320/im1280.png', '/scratch/soroush1/memorability/muri1320/im1281.png', '/scratch/soroush1/memorability/muri1320/im1282.png', '/scratch/soroush1/memorability/muri1320/im1283.png', '/scratch/soroush1/memorability/muri1320/im1284.png', '/scratch/soroush1/memorability/muri1320/im1285.png', '/scratch/soroush1/memorability/muri1320/im1286.png', '/scratch/soroush1/memorability/muri1320/im1287.png', '/scratch/soroush1/memorability/muri1320/im1288.png', '/scratch/soroush1/memorability/muri1320/im1289.png']\n",
      "['/scratch/soroush1/memorability/muri1320/im1312.png', '/scratch/soroush1/memorability/muri1320/im1313.png', '/scratch/soroush1/memorability/muri1320/im1314.png', '/scratch/soroush1/memorability/muri1320/im1315.png', '/scratch/soroush1/memorability/muri1320/im1316.png', '/scratch/soroush1/memorability/muri1320/im1317.png', '/scratch/soroush1/memorability/muri1320/im1318.png', '/scratch/soroush1/memorability/muri1320/im1319.png']\n"
     ]
    },
    {
     "name": "stderr",
     "output_type": "stream",
     "text": [
      "100%|██████████| 42/42 [00:01<00:00, 21.16it/s]\n"
     ]
    },
    {
     "name": "stdout",
     "output_type": "stream",
     "text": [
      "Concatenated features shape: (1320, 100352)\n",
      "Total number of images: 1320\n",
      "Model: resnet50, Task: diffInitRes10, Layer: IT, Shape: (1320, 100352)\n"
     ]
    },
    {
     "name": "stderr",
     "output_type": "stream",
     "text": [
      "different_run:  85%|████████▍ | 11/13 [00:33<00:06,  3.06s/it]"
     ]
    },
    {
     "name": "stdout",
     "output_type": "stream",
     "text": [
      "Features saved to ./features/muri1320_resnet50_diffInitRes10_IT.h5\n",
      "(1320, 100352)\n",
      "device = device(type='cuda')\n",
      "list(ckpt.keys())[:10] = ['module.conv1.weight', 'module.bn1.weight', 'module.bn1.bias', 'module.bn1.running_mean', 'module.bn1.running_var', 'module.bn1.num_batches_tracked', 'module.layer1.0.conv1.weight', 'module.layer1.0.bn1.weight', 'module.layer1.0.bn1.bias', 'module.layer1.0.bn1.running_mean']\n",
      "list(ckpt.keys())[:10] = ['conv1.weight', 'bn1.weight', 'bn1.bias', 'bn1.running_mean', 'bn1.running_var', 'bn1.num_batches_tracked', 'layer1.0.conv1.weight', 'layer1.0.bn1.weight', 'layer1.0.bn1.bias', 'layer1.0.bn1.running_mean']\n"
     ]
    },
    {
     "name": "stderr",
     "output_type": "stream",
     "text": [
      "\n",
      "  0%|          | 0/42 [00:00<?, ?it/s]\u001b[A\n",
      "  2%|▏         | 1/42 [00:00<00:07,  5.17it/s]\u001b[A\n",
      " 10%|▉         | 4/42 [00:00<00:02, 13.96it/s]\u001b[A"
     ]
    },
    {
     "name": "stdout",
     "output_type": "stream",
     "text": [
      "['/scratch/soroush1/memorability/muri1320/im0000.png', '/scratch/soroush1/memorability/muri1320/im0001.png', '/scratch/soroush1/memorability/muri1320/im0002.png', '/scratch/soroush1/memorability/muri1320/im0003.png', '/scratch/soroush1/memorability/muri1320/im0004.png', '/scratch/soroush1/memorability/muri1320/im0005.png', '/scratch/soroush1/memorability/muri1320/im0006.png', '/scratch/soroush1/memorability/muri1320/im0007.png', '/scratch/soroush1/memorability/muri1320/im0008.png', '/scratch/soroush1/memorability/muri1320/im0009.png']\n",
      "['/scratch/soroush1/memorability/muri1320/im0032.png', '/scratch/soroush1/memorability/muri1320/im0033.png', '/scratch/soroush1/memorability/muri1320/im0034.png', '/scratch/soroush1/memorability/muri1320/im0035.png', '/scratch/soroush1/memorability/muri1320/im0036.png', '/scratch/soroush1/memorability/muri1320/im0037.png', '/scratch/soroush1/memorability/muri1320/im0038.png', '/scratch/soroush1/memorability/muri1320/im0039.png', '/scratch/soroush1/memorability/muri1320/im0040.png', '/scratch/soroush1/memorability/muri1320/im0041.png']\n",
      "['/scratch/soroush1/memorability/muri1320/im0064.png', '/scratch/soroush1/memorability/muri1320/im0065.png', '/scratch/soroush1/memorability/muri1320/im0066.png', '/scratch/soroush1/memorability/muri1320/im0067.png', '/scratch/soroush1/memorability/muri1320/im0068.png', '/scratch/soroush1/memorability/muri1320/im0069.png', '/scratch/soroush1/memorability/muri1320/im0070.png', '/scratch/soroush1/memorability/muri1320/im0071.png', '/scratch/soroush1/memorability/muri1320/im0072.png', '/scratch/soroush1/memorability/muri1320/im0073.png']\n",
      "['/scratch/soroush1/memorability/muri1320/im0096.png', '/scratch/soroush1/memorability/muri1320/im0097.png', '/scratch/soroush1/memorability/muri1320/im0098.png', '/scratch/soroush1/memorability/muri1320/im0099.png', '/scratch/soroush1/memorability/muri1320/im0100.png', '/scratch/soroush1/memorability/muri1320/im0101.png', '/scratch/soroush1/memorability/muri1320/im0102.png', '/scratch/soroush1/memorability/muri1320/im0103.png', '/scratch/soroush1/memorability/muri1320/im0104.png', '/scratch/soroush1/memorability/muri1320/im0105.png']\n",
      "['/scratch/soroush1/memorability/muri1320/im0128.png', '/scratch/soroush1/memorability/muri1320/im0129.png', '/scratch/soroush1/memorability/muri1320/im0130.png', '/scratch/soroush1/memorability/muri1320/im0131.png', '/scratch/soroush1/memorability/muri1320/im0132.png', '/scratch/soroush1/memorability/muri1320/im0133.png', '/scratch/soroush1/memorability/muri1320/im0134.png', '/scratch/soroush1/memorability/muri1320/im0135.png', '/scratch/soroush1/memorability/muri1320/im0136.png', '/scratch/soroush1/memorability/muri1320/im0137.png']\n",
      "['/scratch/soroush1/memorability/muri1320/im0160.png', '/scratch/soroush1/memorability/muri1320/im0161.png', '/scratch/soroush1/memorability/muri1320/im0162.png', '/scratch/soroush1/memorability/muri1320/im0163.png', '/scratch/soroush1/memorability/muri1320/im0164.png', '/scratch/soroush1/memorability/muri1320/im0165.png', '/scratch/soroush1/memorability/muri1320/im0166.png', '/scratch/soroush1/memorability/muri1320/im0167.png', '/scratch/soroush1/memorability/muri1320/im0168.png', '/scratch/soroush1/memorability/muri1320/im0169.png']\n"
     ]
    },
    {
     "name": "stderr",
     "output_type": "stream",
     "text": [
      "\n",
      " 17%|█▋        | 7/42 [00:00<00:02, 17.43it/s]\u001b[A\n",
      " 24%|██▍       | 10/42 [00:00<00:01, 21.22it/s]\u001b[A"
     ]
    },
    {
     "name": "stdout",
     "output_type": "stream",
     "text": [
      "['/scratch/soroush1/memorability/muri1320/im0192.png', '/scratch/soroush1/memorability/muri1320/im0193.png', '/scratch/soroush1/memorability/muri1320/im0194.png', '/scratch/soroush1/memorability/muri1320/im0195.png', '/scratch/soroush1/memorability/muri1320/im0196.png', '/scratch/soroush1/memorability/muri1320/im0197.png', '/scratch/soroush1/memorability/muri1320/im0198.png', '/scratch/soroush1/memorability/muri1320/im0199.png', '/scratch/soroush1/memorability/muri1320/im0200.png', '/scratch/soroush1/memorability/muri1320/im0201.png']\n",
      "['/scratch/soroush1/memorability/muri1320/im0224.png', '/scratch/soroush1/memorability/muri1320/im0225.png', '/scratch/soroush1/memorability/muri1320/im0226.png', '/scratch/soroush1/memorability/muri1320/im0227.png', '/scratch/soroush1/memorability/muri1320/im0228.png', '/scratch/soroush1/memorability/muri1320/im0229.png', '/scratch/soroush1/memorability/muri1320/im0230.png', '/scratch/soroush1/memorability/muri1320/im0231.png', '/scratch/soroush1/memorability/muri1320/im0232.png', '/scratch/soroush1/memorability/muri1320/im0233.png']\n",
      "['/scratch/soroush1/memorability/muri1320/im0256.png', '/scratch/soroush1/memorability/muri1320/im0257.png', '/scratch/soroush1/memorability/muri1320/im0258.png', '/scratch/soroush1/memorability/muri1320/im0259.png', '/scratch/soroush1/memorability/muri1320/im0260.png', '/scratch/soroush1/memorability/muri1320/im0261.png', '/scratch/soroush1/memorability/muri1320/im0262.png', '/scratch/soroush1/memorability/muri1320/im0263.png', '/scratch/soroush1/memorability/muri1320/im0264.png', '/scratch/soroush1/memorability/muri1320/im0265.png']\n",
      "['/scratch/soroush1/memorability/muri1320/im0288.png', '/scratch/soroush1/memorability/muri1320/im0289.png', '/scratch/soroush1/memorability/muri1320/im0290.png', '/scratch/soroush1/memorability/muri1320/im0291.png', '/scratch/soroush1/memorability/muri1320/im0292.png', '/scratch/soroush1/memorability/muri1320/im0293.png', '/scratch/soroush1/memorability/muri1320/im0294.png', '/scratch/soroush1/memorability/muri1320/im0295.png', '/scratch/soroush1/memorability/muri1320/im0296.png', '/scratch/soroush1/memorability/muri1320/im0297.png']\n",
      "['/scratch/soroush1/memorability/muri1320/im0320.png', '/scratch/soroush1/memorability/muri1320/im0321.png', '/scratch/soroush1/memorability/muri1320/im0322.png', '/scratch/soroush1/memorability/muri1320/im0323.png', '/scratch/soroush1/memorability/muri1320/im0324.png', '/scratch/soroush1/memorability/muri1320/im0325.png', '/scratch/soroush1/memorability/muri1320/im0326.png', '/scratch/soroush1/memorability/muri1320/im0327.png', '/scratch/soroush1/memorability/muri1320/im0328.png', '/scratch/soroush1/memorability/muri1320/im0329.png']\n",
      "['/scratch/soroush1/memorability/muri1320/im0352.png', '/scratch/soroush1/memorability/muri1320/im0353.png', '/scratch/soroush1/memorability/muri1320/im0354.png', '/scratch/soroush1/memorability/muri1320/im0355.png', '/scratch/soroush1/memorability/muri1320/im0356.png', '/scratch/soroush1/memorability/muri1320/im0357.png', '/scratch/soroush1/memorability/muri1320/im0358.png', '/scratch/soroush1/memorability/muri1320/im0359.png', '/scratch/soroush1/memorability/muri1320/im0360.png', '/scratch/soroush1/memorability/muri1320/im0361.png']\n"
     ]
    },
    {
     "name": "stderr",
     "output_type": "stream",
     "text": [
      "\n",
      " 31%|███       | 13/42 [00:00<00:01, 20.07it/s]\u001b[A\n",
      " 40%|████      | 17/42 [00:00<00:01, 22.76it/s]\u001b[A"
     ]
    },
    {
     "name": "stdout",
     "output_type": "stream",
     "text": [
      "['/scratch/soroush1/memorability/muri1320/im0384.png', '/scratch/soroush1/memorability/muri1320/im0385.png', '/scratch/soroush1/memorability/muri1320/im0386.png', '/scratch/soroush1/memorability/muri1320/im0387.png', '/scratch/soroush1/memorability/muri1320/im0388.png', '/scratch/soroush1/memorability/muri1320/im0389.png', '/scratch/soroush1/memorability/muri1320/im0390.png', '/scratch/soroush1/memorability/muri1320/im0391.png', '/scratch/soroush1/memorability/muri1320/im0392.png', '/scratch/soroush1/memorability/muri1320/im0393.png']\n",
      "['/scratch/soroush1/memorability/muri1320/im0416.png', '/scratch/soroush1/memorability/muri1320/im0417.png', '/scratch/soroush1/memorability/muri1320/im0418.png', '/scratch/soroush1/memorability/muri1320/im0419.png', '/scratch/soroush1/memorability/muri1320/im0420.png', '/scratch/soroush1/memorability/muri1320/im0421.png', '/scratch/soroush1/memorability/muri1320/im0422.png', '/scratch/soroush1/memorability/muri1320/im0423.png', '/scratch/soroush1/memorability/muri1320/im0424.png', '/scratch/soroush1/memorability/muri1320/im0425.png']\n",
      "['/scratch/soroush1/memorability/muri1320/im0448.png', '/scratch/soroush1/memorability/muri1320/im0449.png', '/scratch/soroush1/memorability/muri1320/im0450.png', '/scratch/soroush1/memorability/muri1320/im0451.png', '/scratch/soroush1/memorability/muri1320/im0452.png', '/scratch/soroush1/memorability/muri1320/im0453.png', '/scratch/soroush1/memorability/muri1320/im0454.png', '/scratch/soroush1/memorability/muri1320/im0455.png', '/scratch/soroush1/memorability/muri1320/im0456.png', '/scratch/soroush1/memorability/muri1320/im0457.png']\n",
      "['/scratch/soroush1/memorability/muri1320/im0480.png', '/scratch/soroush1/memorability/muri1320/im0481.png', '/scratch/soroush1/memorability/muri1320/im0482.png', '/scratch/soroush1/memorability/muri1320/im0483.png', '/scratch/soroush1/memorability/muri1320/im0484.png', '/scratch/soroush1/memorability/muri1320/im0485.png', '/scratch/soroush1/memorability/muri1320/im0486.png', '/scratch/soroush1/memorability/muri1320/im0487.png', '/scratch/soroush1/memorability/muri1320/im0488.png', '/scratch/soroush1/memorability/muri1320/im0489.png']\n",
      "['/scratch/soroush1/memorability/muri1320/im0512.png', '/scratch/soroush1/memorability/muri1320/im0513.png', '/scratch/soroush1/memorability/muri1320/im0514.png', '/scratch/soroush1/memorability/muri1320/im0515.png', '/scratch/soroush1/memorability/muri1320/im0516.png', '/scratch/soroush1/memorability/muri1320/im0517.png', '/scratch/soroush1/memorability/muri1320/im0518.png', '/scratch/soroush1/memorability/muri1320/im0519.png', '/scratch/soroush1/memorability/muri1320/im0520.png', '/scratch/soroush1/memorability/muri1320/im0521.png']\n",
      "['/scratch/soroush1/memorability/muri1320/im0544.png', '/scratch/soroush1/memorability/muri1320/im0545.png', '/scratch/soroush1/memorability/muri1320/im0546.png', '/scratch/soroush1/memorability/muri1320/im0547.png', '/scratch/soroush1/memorability/muri1320/im0548.png', '/scratch/soroush1/memorability/muri1320/im0549.png', '/scratch/soroush1/memorability/muri1320/im0550.png', '/scratch/soroush1/memorability/muri1320/im0551.png', '/scratch/soroush1/memorability/muri1320/im0552.png', '/scratch/soroush1/memorability/muri1320/im0553.png']\n"
     ]
    },
    {
     "name": "stderr",
     "output_type": "stream",
     "text": [
      "\n",
      " 50%|█████     | 21/42 [00:01<00:00, 23.51it/s]\u001b[A"
     ]
    },
    {
     "name": "stdout",
     "output_type": "stream",
     "text": [
      "['/scratch/soroush1/memorability/muri1320/im0576.png', '/scratch/soroush1/memorability/muri1320/im0577.png', '/scratch/soroush1/memorability/muri1320/im0578.png', '/scratch/soroush1/memorability/muri1320/im0579.png', '/scratch/soroush1/memorability/muri1320/im0580.png', '/scratch/soroush1/memorability/muri1320/im0581.png', '/scratch/soroush1/memorability/muri1320/im0582.png', '/scratch/soroush1/memorability/muri1320/im0583.png', '/scratch/soroush1/memorability/muri1320/im0584.png', '/scratch/soroush1/memorability/muri1320/im0585.png']\n",
      "['/scratch/soroush1/memorability/muri1320/im0608.png', '/scratch/soroush1/memorability/muri1320/im0609.png', '/scratch/soroush1/memorability/muri1320/im0610.png', '/scratch/soroush1/memorability/muri1320/im0611.png', '/scratch/soroush1/memorability/muri1320/im0612.png', '/scratch/soroush1/memorability/muri1320/im0613.png', '/scratch/soroush1/memorability/muri1320/im0614.png', '/scratch/soroush1/memorability/muri1320/im0615.png', '/scratch/soroush1/memorability/muri1320/im0616.png', '/scratch/soroush1/memorability/muri1320/im0617.png']\n",
      "['/scratch/soroush1/memorability/muri1320/im0640.png', '/scratch/soroush1/memorability/muri1320/im0641.png', '/scratch/soroush1/memorability/muri1320/im0642.png', '/scratch/soroush1/memorability/muri1320/im0643.png', '/scratch/soroush1/memorability/muri1320/im0644.png', '/scratch/soroush1/memorability/muri1320/im0645.png', '/scratch/soroush1/memorability/muri1320/im0646.png', '/scratch/soroush1/memorability/muri1320/im0647.png', '/scratch/soroush1/memorability/muri1320/im0648.png', '/scratch/soroush1/memorability/muri1320/im0649.png']\n",
      "['/scratch/soroush1/memorability/muri1320/im0672.png', '/scratch/soroush1/memorability/muri1320/im0673.png', '/scratch/soroush1/memorability/muri1320/im0674.png', '/scratch/soroush1/memorability/muri1320/im0675.png', '/scratch/soroush1/memorability/muri1320/im0676.png', '/scratch/soroush1/memorability/muri1320/im0677.png', '/scratch/soroush1/memorability/muri1320/im0678.png', '/scratch/soroush1/memorability/muri1320/im0679.png', '/scratch/soroush1/memorability/muri1320/im0680.png', '/scratch/soroush1/memorability/muri1320/im0681.png']\n",
      "['/scratch/soroush1/memorability/muri1320/im0704.png', '/scratch/soroush1/memorability/muri1320/im0705.png', '/scratch/soroush1/memorability/muri1320/im0706.png', '/scratch/soroush1/memorability/muri1320/im0707.png', '/scratch/soroush1/memorability/muri1320/im0708.png', '/scratch/soroush1/memorability/muri1320/im0709.png', '/scratch/soroush1/memorability/muri1320/im0710.png', '/scratch/soroush1/memorability/muri1320/im0711.png', '/scratch/soroush1/memorability/muri1320/im0712.png', '/scratch/soroush1/memorability/muri1320/im0713.png']\n",
      "['/scratch/soroush1/memorability/muri1320/im0736.png', '/scratch/soroush1/memorability/muri1320/im0737.png', '/scratch/soroush1/memorability/muri1320/im0738.png', '/scratch/soroush1/memorability/muri1320/im0739.png', '/scratch/soroush1/memorability/muri1320/im0740.png', '/scratch/soroush1/memorability/muri1320/im0741.png', '/scratch/soroush1/memorability/muri1320/im0742.png', '/scratch/soroush1/memorability/muri1320/im0743.png', '/scratch/soroush1/memorability/muri1320/im0744.png', '/scratch/soroush1/memorability/muri1320/im0745.png']\n"
     ]
    },
    {
     "name": "stderr",
     "output_type": "stream",
     "text": [
      "\n",
      " 57%|█████▋    | 24/42 [00:01<00:00, 23.90it/s]\u001b[A\n",
      " 64%|██████▍   | 27/42 [00:01<00:00, 24.17it/s]\u001b[A"
     ]
    },
    {
     "name": "stdout",
     "output_type": "stream",
     "text": [
      "['/scratch/soroush1/memorability/muri1320/im0768.png', '/scratch/soroush1/memorability/muri1320/im0769.png', '/scratch/soroush1/memorability/muri1320/im0770.png', '/scratch/soroush1/memorability/muri1320/im0771.png', '/scratch/soroush1/memorability/muri1320/im0772.png', '/scratch/soroush1/memorability/muri1320/im0773.png', '/scratch/soroush1/memorability/muri1320/im0774.png', '/scratch/soroush1/memorability/muri1320/im0775.png', '/scratch/soroush1/memorability/muri1320/im0776.png', '/scratch/soroush1/memorability/muri1320/im0777.png']\n",
      "['/scratch/soroush1/memorability/muri1320/im0800.png', '/scratch/soroush1/memorability/muri1320/im0801.png', '/scratch/soroush1/memorability/muri1320/im0802.png', '/scratch/soroush1/memorability/muri1320/im0803.png', '/scratch/soroush1/memorability/muri1320/im0804.png', '/scratch/soroush1/memorability/muri1320/im0805.png', '/scratch/soroush1/memorability/muri1320/im0806.png', '/scratch/soroush1/memorability/muri1320/im0807.png', '/scratch/soroush1/memorability/muri1320/im0808.png', '/scratch/soroush1/memorability/muri1320/im0809.png']\n",
      "['/scratch/soroush1/memorability/muri1320/im0832.png', '/scratch/soroush1/memorability/muri1320/im0833.png', '/scratch/soroush1/memorability/muri1320/im0834.png', '/scratch/soroush1/memorability/muri1320/im0835.png', '/scratch/soroush1/memorability/muri1320/im0836.png', '/scratch/soroush1/memorability/muri1320/im0837.png', '/scratch/soroush1/memorability/muri1320/im0838.png', '/scratch/soroush1/memorability/muri1320/im0839.png', '/scratch/soroush1/memorability/muri1320/im0840.png', '/scratch/soroush1/memorability/muri1320/im0841.png']\n",
      "['/scratch/soroush1/memorability/muri1320/im0864.png', '/scratch/soroush1/memorability/muri1320/im0865.png', '/scratch/soroush1/memorability/muri1320/im0866.png', '/scratch/soroush1/memorability/muri1320/im0867.png', '/scratch/soroush1/memorability/muri1320/im0868.png', '/scratch/soroush1/memorability/muri1320/im0869.png', '/scratch/soroush1/memorability/muri1320/im0870.png', '/scratch/soroush1/memorability/muri1320/im0871.png', '/scratch/soroush1/memorability/muri1320/im0872.png', '/scratch/soroush1/memorability/muri1320/im0873.png']\n",
      "['/scratch/soroush1/memorability/muri1320/im0896.png', '/scratch/soroush1/memorability/muri1320/im0897.png', '/scratch/soroush1/memorability/muri1320/im0898.png', '/scratch/soroush1/memorability/muri1320/im0899.png', '/scratch/soroush1/memorability/muri1320/im0900.png', '/scratch/soroush1/memorability/muri1320/im0901.png', '/scratch/soroush1/memorability/muri1320/im0902.png', '/scratch/soroush1/memorability/muri1320/im0903.png', '/scratch/soroush1/memorability/muri1320/im0904.png', '/scratch/soroush1/memorability/muri1320/im0905.png']\n"
     ]
    },
    {
     "name": "stderr",
     "output_type": "stream",
     "text": [
      "\n",
      " 71%|███████▏  | 30/42 [00:01<00:00, 24.41it/s]\u001b[A\n",
      " 79%|███████▊  | 33/42 [00:01<00:00, 23.23it/s]\u001b[A"
     ]
    },
    {
     "name": "stdout",
     "output_type": "stream",
     "text": [
      "['/scratch/soroush1/memorability/muri1320/im0928.png', '/scratch/soroush1/memorability/muri1320/im0929.png', '/scratch/soroush1/memorability/muri1320/im0930.png', '/scratch/soroush1/memorability/muri1320/im0931.png', '/scratch/soroush1/memorability/muri1320/im0932.png', '/scratch/soroush1/memorability/muri1320/im0933.png', '/scratch/soroush1/memorability/muri1320/im0934.png', '/scratch/soroush1/memorability/muri1320/im0935.png', '/scratch/soroush1/memorability/muri1320/im0936.png', '/scratch/soroush1/memorability/muri1320/im0937.png']\n",
      "['/scratch/soroush1/memorability/muri1320/im0960.png', '/scratch/soroush1/memorability/muri1320/im0961.png', '/scratch/soroush1/memorability/muri1320/im0962.png', '/scratch/soroush1/memorability/muri1320/im0963.png', '/scratch/soroush1/memorability/muri1320/im0964.png', '/scratch/soroush1/memorability/muri1320/im0965.png', '/scratch/soroush1/memorability/muri1320/im0966.png', '/scratch/soroush1/memorability/muri1320/im0967.png', '/scratch/soroush1/memorability/muri1320/im0968.png', '/scratch/soroush1/memorability/muri1320/im0969.png']\n",
      "['/scratch/soroush1/memorability/muri1320/im0992.png', '/scratch/soroush1/memorability/muri1320/im0993.png', '/scratch/soroush1/memorability/muri1320/im0994.png', '/scratch/soroush1/memorability/muri1320/im0995.png', '/scratch/soroush1/memorability/muri1320/im0996.png', '/scratch/soroush1/memorability/muri1320/im0997.png', '/scratch/soroush1/memorability/muri1320/im0998.png', '/scratch/soroush1/memorability/muri1320/im0999.png', '/scratch/soroush1/memorability/muri1320/im1000.png', '/scratch/soroush1/memorability/muri1320/im1001.png']\n",
      "['/scratch/soroush1/memorability/muri1320/im1024.png', '/scratch/soroush1/memorability/muri1320/im1025.png', '/scratch/soroush1/memorability/muri1320/im1026.png', '/scratch/soroush1/memorability/muri1320/im1027.png', '/scratch/soroush1/memorability/muri1320/im1028.png', '/scratch/soroush1/memorability/muri1320/im1029.png', '/scratch/soroush1/memorability/muri1320/im1030.png', '/scratch/soroush1/memorability/muri1320/im1031.png', '/scratch/soroush1/memorability/muri1320/im1032.png', '/scratch/soroush1/memorability/muri1320/im1033.png']\n",
      "['/scratch/soroush1/memorability/muri1320/im1056.png', '/scratch/soroush1/memorability/muri1320/im1057.png', '/scratch/soroush1/memorability/muri1320/im1058.png', '/scratch/soroush1/memorability/muri1320/im1059.png', '/scratch/soroush1/memorability/muri1320/im1060.png', '/scratch/soroush1/memorability/muri1320/im1061.png', '/scratch/soroush1/memorability/muri1320/im1062.png', '/scratch/soroush1/memorability/muri1320/im1063.png', '/scratch/soroush1/memorability/muri1320/im1064.png', '/scratch/soroush1/memorability/muri1320/im1065.png']\n"
     ]
    },
    {
     "name": "stderr",
     "output_type": "stream",
     "text": [
      "\n",
      " 86%|████████▌ | 36/42 [00:01<00:00, 24.23it/s]\u001b[A\n",
      " 93%|█████████▎| 39/42 [00:01<00:00, 23.68it/s]\u001b[A"
     ]
    },
    {
     "name": "stdout",
     "output_type": "stream",
     "text": [
      "['/scratch/soroush1/memorability/muri1320/im1088.png', '/scratch/soroush1/memorability/muri1320/im1089.png', '/scratch/soroush1/memorability/muri1320/im1090.png', '/scratch/soroush1/memorability/muri1320/im1091.png', '/scratch/soroush1/memorability/muri1320/im1092.png', '/scratch/soroush1/memorability/muri1320/im1093.png', '/scratch/soroush1/memorability/muri1320/im1094.png', '/scratch/soroush1/memorability/muri1320/im1095.png', '/scratch/soroush1/memorability/muri1320/im1096.png', '/scratch/soroush1/memorability/muri1320/im1097.png']\n",
      "['/scratch/soroush1/memorability/muri1320/im1120.png', '/scratch/soroush1/memorability/muri1320/im1121.png', '/scratch/soroush1/memorability/muri1320/im1122.png', '/scratch/soroush1/memorability/muri1320/im1123.png', '/scratch/soroush1/memorability/muri1320/im1124.png', '/scratch/soroush1/memorability/muri1320/im1125.png', '/scratch/soroush1/memorability/muri1320/im1126.png', '/scratch/soroush1/memorability/muri1320/im1127.png', '/scratch/soroush1/memorability/muri1320/im1128.png', '/scratch/soroush1/memorability/muri1320/im1129.png']\n",
      "['/scratch/soroush1/memorability/muri1320/im1152.png', '/scratch/soroush1/memorability/muri1320/im1153.png', '/scratch/soroush1/memorability/muri1320/im1154.png', '/scratch/soroush1/memorability/muri1320/im1155.png', '/scratch/soroush1/memorability/muri1320/im1156.png', '/scratch/soroush1/memorability/muri1320/im1157.png', '/scratch/soroush1/memorability/muri1320/im1158.png', '/scratch/soroush1/memorability/muri1320/im1159.png', '/scratch/soroush1/memorability/muri1320/im1160.png', '/scratch/soroush1/memorability/muri1320/im1161.png']\n",
      "['/scratch/soroush1/memorability/muri1320/im1184.png', '/scratch/soroush1/memorability/muri1320/im1185.png', '/scratch/soroush1/memorability/muri1320/im1186.png', '/scratch/soroush1/memorability/muri1320/im1187.png', '/scratch/soroush1/memorability/muri1320/im1188.png', '/scratch/soroush1/memorability/muri1320/im1189.png', '/scratch/soroush1/memorability/muri1320/im1190.png', '/scratch/soroush1/memorability/muri1320/im1191.png', '/scratch/soroush1/memorability/muri1320/im1192.png', '/scratch/soroush1/memorability/muri1320/im1193.png']\n",
      "['/scratch/soroush1/memorability/muri1320/im1216.png', '/scratch/soroush1/memorability/muri1320/im1217.png', '/scratch/soroush1/memorability/muri1320/im1218.png', '/scratch/soroush1/memorability/muri1320/im1219.png', '/scratch/soroush1/memorability/muri1320/im1220.png', '/scratch/soroush1/memorability/muri1320/im1221.png', '/scratch/soroush1/memorability/muri1320/im1222.png', '/scratch/soroush1/memorability/muri1320/im1223.png', '/scratch/soroush1/memorability/muri1320/im1224.png', '/scratch/soroush1/memorability/muri1320/im1225.png']\n"
     ]
    },
    {
     "name": "stderr",
     "output_type": "stream",
     "text": [
      "100%|██████████| 42/42 [00:01<00:00, 21.88it/s]\n"
     ]
    },
    {
     "name": "stdout",
     "output_type": "stream",
     "text": [
      "['/scratch/soroush1/memorability/muri1320/im1248.png', '/scratch/soroush1/memorability/muri1320/im1249.png', '/scratch/soroush1/memorability/muri1320/im1250.png', '/scratch/soroush1/memorability/muri1320/im1251.png', '/scratch/soroush1/memorability/muri1320/im1252.png', '/scratch/soroush1/memorability/muri1320/im1253.png', '/scratch/soroush1/memorability/muri1320/im1254.png', '/scratch/soroush1/memorability/muri1320/im1255.png', '/scratch/soroush1/memorability/muri1320/im1256.png', '/scratch/soroush1/memorability/muri1320/im1257.png']\n",
      "['/scratch/soroush1/memorability/muri1320/im1280.png', '/scratch/soroush1/memorability/muri1320/im1281.png', '/scratch/soroush1/memorability/muri1320/im1282.png', '/scratch/soroush1/memorability/muri1320/im1283.png', '/scratch/soroush1/memorability/muri1320/im1284.png', '/scratch/soroush1/memorability/muri1320/im1285.png', '/scratch/soroush1/memorability/muri1320/im1286.png', '/scratch/soroush1/memorability/muri1320/im1287.png', '/scratch/soroush1/memorability/muri1320/im1288.png', '/scratch/soroush1/memorability/muri1320/im1289.png']\n",
      "['/scratch/soroush1/memorability/muri1320/im1312.png', '/scratch/soroush1/memorability/muri1320/im1313.png', '/scratch/soroush1/memorability/muri1320/im1314.png', '/scratch/soroush1/memorability/muri1320/im1315.png', '/scratch/soroush1/memorability/muri1320/im1316.png', '/scratch/soroush1/memorability/muri1320/im1317.png', '/scratch/soroush1/memorability/muri1320/im1318.png', '/scratch/soroush1/memorability/muri1320/im1319.png']\n",
      "Concatenated features shape: (1320, 100352)\n",
      "Total number of images: 1320\n",
      "Model: resnet50, Task: diffInitRes11, Layer: IT, Shape: (1320, 100352)\n"
     ]
    },
    {
     "name": "stderr",
     "output_type": "stream",
     "text": [
      "different_run:  92%|█████████▏| 12/13 [00:36<00:03,  3.04s/it]"
     ]
    },
    {
     "name": "stdout",
     "output_type": "stream",
     "text": [
      "Features saved to ./features/muri1320_resnet50_diffInitRes11_IT.h5\n",
      "(1320, 100352)\n",
      "device = device(type='cuda')\n",
      "list(ckpt.keys())[:10] = ['module.conv1.weight', 'module.bn1.weight', 'module.bn1.bias', 'module.bn1.running_mean', 'module.bn1.running_var', 'module.bn1.num_batches_tracked', 'module.layer1.0.conv1.weight', 'module.layer1.0.bn1.weight', 'module.layer1.0.bn1.bias', 'module.layer1.0.bn1.running_mean']\n",
      "list(ckpt.keys())[:10] = ['conv1.weight', 'bn1.weight', 'bn1.bias', 'bn1.running_mean', 'bn1.running_var', 'bn1.num_batches_tracked', 'layer1.0.conv1.weight', 'layer1.0.bn1.weight', 'layer1.0.bn1.bias', 'layer1.0.bn1.running_mean']\n"
     ]
    },
    {
     "name": "stderr",
     "output_type": "stream",
     "text": [
      "\n",
      "  0%|          | 0/42 [00:00<?, ?it/s]\u001b[A\n",
      "  2%|▏         | 1/42 [00:00<00:07,  5.14it/s]\u001b[A\n",
      " 12%|█▏        | 5/42 [00:00<00:02, 16.25it/s]\u001b[A"
     ]
    },
    {
     "name": "stdout",
     "output_type": "stream",
     "text": [
      "['/scratch/soroush1/memorability/muri1320/im0000.png', '/scratch/soroush1/memorability/muri1320/im0001.png', '/scratch/soroush1/memorability/muri1320/im0002.png', '/scratch/soroush1/memorability/muri1320/im0003.png', '/scratch/soroush1/memorability/muri1320/im0004.png', '/scratch/soroush1/memorability/muri1320/im0005.png', '/scratch/soroush1/memorability/muri1320/im0006.png', '/scratch/soroush1/memorability/muri1320/im0007.png', '/scratch/soroush1/memorability/muri1320/im0008.png', '/scratch/soroush1/memorability/muri1320/im0009.png']\n",
      "['/scratch/soroush1/memorability/muri1320/im0032.png', '/scratch/soroush1/memorability/muri1320/im0033.png', '/scratch/soroush1/memorability/muri1320/im0034.png', '/scratch/soroush1/memorability/muri1320/im0035.png', '/scratch/soroush1/memorability/muri1320/im0036.png', '/scratch/soroush1/memorability/muri1320/im0037.png', '/scratch/soroush1/memorability/muri1320/im0038.png', '/scratch/soroush1/memorability/muri1320/im0039.png', '/scratch/soroush1/memorability/muri1320/im0040.png', '/scratch/soroush1/memorability/muri1320/im0041.png']\n",
      "['/scratch/soroush1/memorability/muri1320/im0064.png', '/scratch/soroush1/memorability/muri1320/im0065.png', '/scratch/soroush1/memorability/muri1320/im0066.png', '/scratch/soroush1/memorability/muri1320/im0067.png', '/scratch/soroush1/memorability/muri1320/im0068.png', '/scratch/soroush1/memorability/muri1320/im0069.png', '/scratch/soroush1/memorability/muri1320/im0070.png', '/scratch/soroush1/memorability/muri1320/im0071.png', '/scratch/soroush1/memorability/muri1320/im0072.png', '/scratch/soroush1/memorability/muri1320/im0073.png']\n",
      "['/scratch/soroush1/memorability/muri1320/im0096.png', '/scratch/soroush1/memorability/muri1320/im0097.png', '/scratch/soroush1/memorability/muri1320/im0098.png', '/scratch/soroush1/memorability/muri1320/im0099.png', '/scratch/soroush1/memorability/muri1320/im0100.png', '/scratch/soroush1/memorability/muri1320/im0101.png', '/scratch/soroush1/memorability/muri1320/im0102.png', '/scratch/soroush1/memorability/muri1320/im0103.png', '/scratch/soroush1/memorability/muri1320/im0104.png', '/scratch/soroush1/memorability/muri1320/im0105.png']\n",
      "['/scratch/soroush1/memorability/muri1320/im0128.png', '/scratch/soroush1/memorability/muri1320/im0129.png', '/scratch/soroush1/memorability/muri1320/im0130.png', '/scratch/soroush1/memorability/muri1320/im0131.png', '/scratch/soroush1/memorability/muri1320/im0132.png', '/scratch/soroush1/memorability/muri1320/im0133.png', '/scratch/soroush1/memorability/muri1320/im0134.png', '/scratch/soroush1/memorability/muri1320/im0135.png', '/scratch/soroush1/memorability/muri1320/im0136.png', '/scratch/soroush1/memorability/muri1320/im0137.png']\n",
      "['/scratch/soroush1/memorability/muri1320/im0160.png', '/scratch/soroush1/memorability/muri1320/im0161.png', '/scratch/soroush1/memorability/muri1320/im0162.png', '/scratch/soroush1/memorability/muri1320/im0163.png', '/scratch/soroush1/memorability/muri1320/im0164.png', '/scratch/soroush1/memorability/muri1320/im0165.png', '/scratch/soroush1/memorability/muri1320/im0166.png', '/scratch/soroush1/memorability/muri1320/im0167.png', '/scratch/soroush1/memorability/muri1320/im0168.png', '/scratch/soroush1/memorability/muri1320/im0169.png']\n"
     ]
    },
    {
     "name": "stderr",
     "output_type": "stream",
     "text": [
      "\n",
      " 19%|█▉        | 8/42 [00:00<00:01, 20.66it/s]\u001b[A\n",
      " 26%|██▌       | 11/42 [00:00<00:01, 20.08it/s]\u001b[A"
     ]
    },
    {
     "name": "stdout",
     "output_type": "stream",
     "text": [
      "['/scratch/soroush1/memorability/muri1320/im0192.png', '/scratch/soroush1/memorability/muri1320/im0193.png', '/scratch/soroush1/memorability/muri1320/im0194.png', '/scratch/soroush1/memorability/muri1320/im0195.png', '/scratch/soroush1/memorability/muri1320/im0196.png', '/scratch/soroush1/memorability/muri1320/im0197.png', '/scratch/soroush1/memorability/muri1320/im0198.png', '/scratch/soroush1/memorability/muri1320/im0199.png', '/scratch/soroush1/memorability/muri1320/im0200.png', '/scratch/soroush1/memorability/muri1320/im0201.png']\n",
      "['/scratch/soroush1/memorability/muri1320/im0224.png', '/scratch/soroush1/memorability/muri1320/im0225.png', '/scratch/soroush1/memorability/muri1320/im0226.png', '/scratch/soroush1/memorability/muri1320/im0227.png', '/scratch/soroush1/memorability/muri1320/im0228.png', '/scratch/soroush1/memorability/muri1320/im0229.png', '/scratch/soroush1/memorability/muri1320/im0230.png', '/scratch/soroush1/memorability/muri1320/im0231.png', '/scratch/soroush1/memorability/muri1320/im0232.png', '/scratch/soroush1/memorability/muri1320/im0233.png']\n",
      "['/scratch/soroush1/memorability/muri1320/im0256.png', '/scratch/soroush1/memorability/muri1320/im0257.png', '/scratch/soroush1/memorability/muri1320/im0258.png', '/scratch/soroush1/memorability/muri1320/im0259.png', '/scratch/soroush1/memorability/muri1320/im0260.png', '/scratch/soroush1/memorability/muri1320/im0261.png', '/scratch/soroush1/memorability/muri1320/im0262.png', '/scratch/soroush1/memorability/muri1320/im0263.png', '/scratch/soroush1/memorability/muri1320/im0264.png', '/scratch/soroush1/memorability/muri1320/im0265.png']\n",
      "['/scratch/soroush1/memorability/muri1320/im0288.png', '/scratch/soroush1/memorability/muri1320/im0289.png', '/scratch/soroush1/memorability/muri1320/im0290.png', '/scratch/soroush1/memorability/muri1320/im0291.png', '/scratch/soroush1/memorability/muri1320/im0292.png', '/scratch/soroush1/memorability/muri1320/im0293.png', '/scratch/soroush1/memorability/muri1320/im0294.png', '/scratch/soroush1/memorability/muri1320/im0295.png', '/scratch/soroush1/memorability/muri1320/im0296.png', '/scratch/soroush1/memorability/muri1320/im0297.png']\n",
      "['/scratch/soroush1/memorability/muri1320/im0320.png', '/scratch/soroush1/memorability/muri1320/im0321.png', '/scratch/soroush1/memorability/muri1320/im0322.png', '/scratch/soroush1/memorability/muri1320/im0323.png', '/scratch/soroush1/memorability/muri1320/im0324.png', '/scratch/soroush1/memorability/muri1320/im0325.png', '/scratch/soroush1/memorability/muri1320/im0326.png', '/scratch/soroush1/memorability/muri1320/im0327.png', '/scratch/soroush1/memorability/muri1320/im0328.png', '/scratch/soroush1/memorability/muri1320/im0329.png']\n"
     ]
    },
    {
     "name": "stderr",
     "output_type": "stream",
     "text": [
      "\n",
      " 36%|███▌      | 15/42 [00:00<00:01, 22.59it/s]\u001b[A"
     ]
    },
    {
     "name": "stdout",
     "output_type": "stream",
     "text": [
      "['/scratch/soroush1/memorability/muri1320/im0352.png', '/scratch/soroush1/memorability/muri1320/im0353.png', '/scratch/soroush1/memorability/muri1320/im0354.png', '/scratch/soroush1/memorability/muri1320/im0355.png', '/scratch/soroush1/memorability/muri1320/im0356.png', '/scratch/soroush1/memorability/muri1320/im0357.png', '/scratch/soroush1/memorability/muri1320/im0358.png', '/scratch/soroush1/memorability/muri1320/im0359.png', '/scratch/soroush1/memorability/muri1320/im0360.png', '/scratch/soroush1/memorability/muri1320/im0361.png']\n",
      "['/scratch/soroush1/memorability/muri1320/im0384.png', '/scratch/soroush1/memorability/muri1320/im0385.png', '/scratch/soroush1/memorability/muri1320/im0386.png', '/scratch/soroush1/memorability/muri1320/im0387.png', '/scratch/soroush1/memorability/muri1320/im0388.png', '/scratch/soroush1/memorability/muri1320/im0389.png', '/scratch/soroush1/memorability/muri1320/im0390.png', '/scratch/soroush1/memorability/muri1320/im0391.png', '/scratch/soroush1/memorability/muri1320/im0392.png', '/scratch/soroush1/memorability/muri1320/im0393.png']\n",
      "['/scratch/soroush1/memorability/muri1320/im0416.png', '/scratch/soroush1/memorability/muri1320/im0417.png', '/scratch/soroush1/memorability/muri1320/im0418.png', '/scratch/soroush1/memorability/muri1320/im0419.png', '/scratch/soroush1/memorability/muri1320/im0420.png', '/scratch/soroush1/memorability/muri1320/im0421.png', '/scratch/soroush1/memorability/muri1320/im0422.png', '/scratch/soroush1/memorability/muri1320/im0423.png', '/scratch/soroush1/memorability/muri1320/im0424.png', '/scratch/soroush1/memorability/muri1320/im0425.png']\n",
      "['/scratch/soroush1/memorability/muri1320/im0448.png', '/scratch/soroush1/memorability/muri1320/im0449.png', '/scratch/soroush1/memorability/muri1320/im0450.png', '/scratch/soroush1/memorability/muri1320/im0451.png', '/scratch/soroush1/memorability/muri1320/im0452.png', '/scratch/soroush1/memorability/muri1320/im0453.png', '/scratch/soroush1/memorability/muri1320/im0454.png', '/scratch/soroush1/memorability/muri1320/im0455.png', '/scratch/soroush1/memorability/muri1320/im0456.png', '/scratch/soroush1/memorability/muri1320/im0457.png']\n",
      "['/scratch/soroush1/memorability/muri1320/im0480.png', '/scratch/soroush1/memorability/muri1320/im0481.png', '/scratch/soroush1/memorability/muri1320/im0482.png', '/scratch/soroush1/memorability/muri1320/im0483.png', '/scratch/soroush1/memorability/muri1320/im0484.png', '/scratch/soroush1/memorability/muri1320/im0485.png', '/scratch/soroush1/memorability/muri1320/im0486.png', '/scratch/soroush1/memorability/muri1320/im0487.png', '/scratch/soroush1/memorability/muri1320/im0488.png', '/scratch/soroush1/memorability/muri1320/im0489.png']\n",
      "['/scratch/soroush1/memorability/muri1320/im0512.png', '/scratch/soroush1/memorability/muri1320/im0513.png', '/scratch/soroush1/memorability/muri1320/im0514.png', '/scratch/soroush1/memorability/muri1320/im0515.png', '/scratch/soroush1/memorability/muri1320/im0516.png', '/scratch/soroush1/memorability/muri1320/im0517.png', '/scratch/soroush1/memorability/muri1320/im0518.png', '/scratch/soroush1/memorability/muri1320/im0519.png', '/scratch/soroush1/memorability/muri1320/im0520.png', '/scratch/soroush1/memorability/muri1320/im0521.png']\n"
     ]
    },
    {
     "name": "stderr",
     "output_type": "stream",
     "text": [
      "\n",
      " 43%|████▎     | 18/42 [00:00<00:01, 23.79it/s]\u001b[A\n",
      " 50%|█████     | 21/42 [00:01<00:00, 22.97it/s]\u001b[A"
     ]
    },
    {
     "name": "stdout",
     "output_type": "stream",
     "text": [
      "['/scratch/soroush1/memorability/muri1320/im0544.png', '/scratch/soroush1/memorability/muri1320/im0545.png', '/scratch/soroush1/memorability/muri1320/im0546.png', '/scratch/soroush1/memorability/muri1320/im0547.png', '/scratch/soroush1/memorability/muri1320/im0548.png', '/scratch/soroush1/memorability/muri1320/im0549.png', '/scratch/soroush1/memorability/muri1320/im0550.png', '/scratch/soroush1/memorability/muri1320/im0551.png', '/scratch/soroush1/memorability/muri1320/im0552.png', '/scratch/soroush1/memorability/muri1320/im0553.png']\n",
      "['/scratch/soroush1/memorability/muri1320/im0576.png', '/scratch/soroush1/memorability/muri1320/im0577.png', '/scratch/soroush1/memorability/muri1320/im0578.png', '/scratch/soroush1/memorability/muri1320/im0579.png', '/scratch/soroush1/memorability/muri1320/im0580.png', '/scratch/soroush1/memorability/muri1320/im0581.png', '/scratch/soroush1/memorability/muri1320/im0582.png', '/scratch/soroush1/memorability/muri1320/im0583.png', '/scratch/soroush1/memorability/muri1320/im0584.png', '/scratch/soroush1/memorability/muri1320/im0585.png']\n",
      "['/scratch/soroush1/memorability/muri1320/im0608.png', '/scratch/soroush1/memorability/muri1320/im0609.png', '/scratch/soroush1/memorability/muri1320/im0610.png', '/scratch/soroush1/memorability/muri1320/im0611.png', '/scratch/soroush1/memorability/muri1320/im0612.png', '/scratch/soroush1/memorability/muri1320/im0613.png', '/scratch/soroush1/memorability/muri1320/im0614.png', '/scratch/soroush1/memorability/muri1320/im0615.png', '/scratch/soroush1/memorability/muri1320/im0616.png', '/scratch/soroush1/memorability/muri1320/im0617.png']\n",
      "['/scratch/soroush1/memorability/muri1320/im0640.png', '/scratch/soroush1/memorability/muri1320/im0641.png', '/scratch/soroush1/memorability/muri1320/im0642.png', '/scratch/soroush1/memorability/muri1320/im0643.png', '/scratch/soroush1/memorability/muri1320/im0644.png', '/scratch/soroush1/memorability/muri1320/im0645.png', '/scratch/soroush1/memorability/muri1320/im0646.png', '/scratch/soroush1/memorability/muri1320/im0647.png', '/scratch/soroush1/memorability/muri1320/im0648.png', '/scratch/soroush1/memorability/muri1320/im0649.png']\n",
      "['/scratch/soroush1/memorability/muri1320/im0672.png', '/scratch/soroush1/memorability/muri1320/im0673.png', '/scratch/soroush1/memorability/muri1320/im0674.png', '/scratch/soroush1/memorability/muri1320/im0675.png', '/scratch/soroush1/memorability/muri1320/im0676.png', '/scratch/soroush1/memorability/muri1320/im0677.png', '/scratch/soroush1/memorability/muri1320/im0678.png', '/scratch/soroush1/memorability/muri1320/im0679.png', '/scratch/soroush1/memorability/muri1320/im0680.png', '/scratch/soroush1/memorability/muri1320/im0681.png']\n"
     ]
    },
    {
     "name": "stderr",
     "output_type": "stream",
     "text": [
      "\n",
      " 57%|█████▋    | 24/42 [00:01<00:00, 23.35it/s]\u001b[A\n",
      " 64%|██████▍   | 27/42 [00:01<00:00, 23.66it/s]\u001b[A"
     ]
    },
    {
     "name": "stdout",
     "output_type": "stream",
     "text": [
      "['/scratch/soroush1/memorability/muri1320/im0704.png', '/scratch/soroush1/memorability/muri1320/im0705.png', '/scratch/soroush1/memorability/muri1320/im0706.png', '/scratch/soroush1/memorability/muri1320/im0707.png', '/scratch/soroush1/memorability/muri1320/im0708.png', '/scratch/soroush1/memorability/muri1320/im0709.png', '/scratch/soroush1/memorability/muri1320/im0710.png', '/scratch/soroush1/memorability/muri1320/im0711.png', '/scratch/soroush1/memorability/muri1320/im0712.png', '/scratch/soroush1/memorability/muri1320/im0713.png']\n",
      "['/scratch/soroush1/memorability/muri1320/im0736.png', '/scratch/soroush1/memorability/muri1320/im0737.png', '/scratch/soroush1/memorability/muri1320/im0738.png', '/scratch/soroush1/memorability/muri1320/im0739.png', '/scratch/soroush1/memorability/muri1320/im0740.png', '/scratch/soroush1/memorability/muri1320/im0741.png', '/scratch/soroush1/memorability/muri1320/im0742.png', '/scratch/soroush1/memorability/muri1320/im0743.png', '/scratch/soroush1/memorability/muri1320/im0744.png', '/scratch/soroush1/memorability/muri1320/im0745.png']\n",
      "['/scratch/soroush1/memorability/muri1320/im0768.png', '/scratch/soroush1/memorability/muri1320/im0769.png', '/scratch/soroush1/memorability/muri1320/im0770.png', '/scratch/soroush1/memorability/muri1320/im0771.png', '/scratch/soroush1/memorability/muri1320/im0772.png', '/scratch/soroush1/memorability/muri1320/im0773.png', '/scratch/soroush1/memorability/muri1320/im0774.png', '/scratch/soroush1/memorability/muri1320/im0775.png', '/scratch/soroush1/memorability/muri1320/im0776.png', '/scratch/soroush1/memorability/muri1320/im0777.png']\n",
      "['/scratch/soroush1/memorability/muri1320/im0800.png', '/scratch/soroush1/memorability/muri1320/im0801.png', '/scratch/soroush1/memorability/muri1320/im0802.png', '/scratch/soroush1/memorability/muri1320/im0803.png', '/scratch/soroush1/memorability/muri1320/im0804.png', '/scratch/soroush1/memorability/muri1320/im0805.png', '/scratch/soroush1/memorability/muri1320/im0806.png', '/scratch/soroush1/memorability/muri1320/im0807.png', '/scratch/soroush1/memorability/muri1320/im0808.png', '/scratch/soroush1/memorability/muri1320/im0809.png']\n",
      "['/scratch/soroush1/memorability/muri1320/im0832.png', '/scratch/soroush1/memorability/muri1320/im0833.png', '/scratch/soroush1/memorability/muri1320/im0834.png', '/scratch/soroush1/memorability/muri1320/im0835.png', '/scratch/soroush1/memorability/muri1320/im0836.png', '/scratch/soroush1/memorability/muri1320/im0837.png', '/scratch/soroush1/memorability/muri1320/im0838.png', '/scratch/soroush1/memorability/muri1320/im0839.png', '/scratch/soroush1/memorability/muri1320/im0840.png', '/scratch/soroush1/memorability/muri1320/im0841.png']\n"
     ]
    },
    {
     "name": "stderr",
     "output_type": "stream",
     "text": [
      "\n",
      " 71%|███████▏  | 30/42 [00:01<00:00, 22.64it/s]\u001b[A"
     ]
    },
    {
     "name": "stdout",
     "output_type": "stream",
     "text": [
      "['/scratch/soroush1/memorability/muri1320/im0864.png', '/scratch/soroush1/memorability/muri1320/im0865.png', '/scratch/soroush1/memorability/muri1320/im0866.png', '/scratch/soroush1/memorability/muri1320/im0867.png', '/scratch/soroush1/memorability/muri1320/im0868.png', '/scratch/soroush1/memorability/muri1320/im0869.png', '/scratch/soroush1/memorability/muri1320/im0870.png', '/scratch/soroush1/memorability/muri1320/im0871.png', '/scratch/soroush1/memorability/muri1320/im0872.png', '/scratch/soroush1/memorability/muri1320/im0873.png']\n",
      "['/scratch/soroush1/memorability/muri1320/im0896.png', '/scratch/soroush1/memorability/muri1320/im0897.png', '/scratch/soroush1/memorability/muri1320/im0898.png', '/scratch/soroush1/memorability/muri1320/im0899.png', '/scratch/soroush1/memorability/muri1320/im0900.png', '/scratch/soroush1/memorability/muri1320/im0901.png', '/scratch/soroush1/memorability/muri1320/im0902.png', '/scratch/soroush1/memorability/muri1320/im0903.png', '/scratch/soroush1/memorability/muri1320/im0904.png', '/scratch/soroush1/memorability/muri1320/im0905.png']\n",
      "['/scratch/soroush1/memorability/muri1320/im0928.png', '/scratch/soroush1/memorability/muri1320/im0929.png', '/scratch/soroush1/memorability/muri1320/im0930.png', '/scratch/soroush1/memorability/muri1320/im0931.png', '/scratch/soroush1/memorability/muri1320/im0932.png', '/scratch/soroush1/memorability/muri1320/im0933.png', '/scratch/soroush1/memorability/muri1320/im0934.png', '/scratch/soroush1/memorability/muri1320/im0935.png', '/scratch/soroush1/memorability/muri1320/im0936.png', '/scratch/soroush1/memorability/muri1320/im0937.png']\n",
      "['/scratch/soroush1/memorability/muri1320/im0960.png', '/scratch/soroush1/memorability/muri1320/im0961.png', '/scratch/soroush1/memorability/muri1320/im0962.png', '/scratch/soroush1/memorability/muri1320/im0963.png', '/scratch/soroush1/memorability/muri1320/im0964.png', '/scratch/soroush1/memorability/muri1320/im0965.png', '/scratch/soroush1/memorability/muri1320/im0966.png', '/scratch/soroush1/memorability/muri1320/im0967.png', '/scratch/soroush1/memorability/muri1320/im0968.png', '/scratch/soroush1/memorability/muri1320/im0969.png']\n",
      "['/scratch/soroush1/memorability/muri1320/im0992.png', '/scratch/soroush1/memorability/muri1320/im0993.png', '/scratch/soroush1/memorability/muri1320/im0994.png', '/scratch/soroush1/memorability/muri1320/im0995.png', '/scratch/soroush1/memorability/muri1320/im0996.png', '/scratch/soroush1/memorability/muri1320/im0997.png', '/scratch/soroush1/memorability/muri1320/im0998.png', '/scratch/soroush1/memorability/muri1320/im0999.png', '/scratch/soroush1/memorability/muri1320/im1000.png', '/scratch/soroush1/memorability/muri1320/im1001.png']\n",
      "['/scratch/soroush1/memorability/muri1320/im1024.png', '/scratch/soroush1/memorability/muri1320/im1025.png', '/scratch/soroush1/memorability/muri1320/im1026.png', '/scratch/soroush1/memorability/muri1320/im1027.png', '/scratch/soroush1/memorability/muri1320/im1028.png', '/scratch/soroush1/memorability/muri1320/im1029.png', '/scratch/soroush1/memorability/muri1320/im1030.png', '/scratch/soroush1/memorability/muri1320/im1031.png', '/scratch/soroush1/memorability/muri1320/im1032.png', '/scratch/soroush1/memorability/muri1320/im1033.png']\n"
     ]
    },
    {
     "name": "stderr",
     "output_type": "stream",
     "text": [
      "\n",
      " 79%|███████▊  | 33/42 [00:01<00:00, 24.27it/s]\u001b[A\n",
      " 86%|████████▌ | 36/42 [00:01<00:00, 22.79it/s]\u001b[A"
     ]
    },
    {
     "name": "stdout",
     "output_type": "stream",
     "text": [
      "['/scratch/soroush1/memorability/muri1320/im1056.png', '/scratch/soroush1/memorability/muri1320/im1057.png', '/scratch/soroush1/memorability/muri1320/im1058.png', '/scratch/soroush1/memorability/muri1320/im1059.png', '/scratch/soroush1/memorability/muri1320/im1060.png', '/scratch/soroush1/memorability/muri1320/im1061.png', '/scratch/soroush1/memorability/muri1320/im1062.png', '/scratch/soroush1/memorability/muri1320/im1063.png', '/scratch/soroush1/memorability/muri1320/im1064.png', '/scratch/soroush1/memorability/muri1320/im1065.png']\n",
      "['/scratch/soroush1/memorability/muri1320/im1088.png', '/scratch/soroush1/memorability/muri1320/im1089.png', '/scratch/soroush1/memorability/muri1320/im1090.png', '/scratch/soroush1/memorability/muri1320/im1091.png', '/scratch/soroush1/memorability/muri1320/im1092.png', '/scratch/soroush1/memorability/muri1320/im1093.png', '/scratch/soroush1/memorability/muri1320/im1094.png', '/scratch/soroush1/memorability/muri1320/im1095.png', '/scratch/soroush1/memorability/muri1320/im1096.png', '/scratch/soroush1/memorability/muri1320/im1097.png']\n",
      "['/scratch/soroush1/memorability/muri1320/im1120.png', '/scratch/soroush1/memorability/muri1320/im1121.png', '/scratch/soroush1/memorability/muri1320/im1122.png', '/scratch/soroush1/memorability/muri1320/im1123.png', '/scratch/soroush1/memorability/muri1320/im1124.png', '/scratch/soroush1/memorability/muri1320/im1125.png', '/scratch/soroush1/memorability/muri1320/im1126.png', '/scratch/soroush1/memorability/muri1320/im1127.png', '/scratch/soroush1/memorability/muri1320/im1128.png', '/scratch/soroush1/memorability/muri1320/im1129.png']\n",
      "['/scratch/soroush1/memorability/muri1320/im1152.png', '/scratch/soroush1/memorability/muri1320/im1153.png', '/scratch/soroush1/memorability/muri1320/im1154.png', '/scratch/soroush1/memorability/muri1320/im1155.png', '/scratch/soroush1/memorability/muri1320/im1156.png', '/scratch/soroush1/memorability/muri1320/im1157.png', '/scratch/soroush1/memorability/muri1320/im1158.png', '/scratch/soroush1/memorability/muri1320/im1159.png', '/scratch/soroush1/memorability/muri1320/im1160.png', '/scratch/soroush1/memorability/muri1320/im1161.png']\n",
      "['/scratch/soroush1/memorability/muri1320/im1184.png', '/scratch/soroush1/memorability/muri1320/im1185.png', '/scratch/soroush1/memorability/muri1320/im1186.png', '/scratch/soroush1/memorability/muri1320/im1187.png', '/scratch/soroush1/memorability/muri1320/im1188.png', '/scratch/soroush1/memorability/muri1320/im1189.png', '/scratch/soroush1/memorability/muri1320/im1190.png', '/scratch/soroush1/memorability/muri1320/im1191.png', '/scratch/soroush1/memorability/muri1320/im1192.png', '/scratch/soroush1/memorability/muri1320/im1193.png']\n",
      "['/scratch/soroush1/memorability/muri1320/im1216.png', '/scratch/soroush1/memorability/muri1320/im1217.png', '/scratch/soroush1/memorability/muri1320/im1218.png', '/scratch/soroush1/memorability/muri1320/im1219.png', '/scratch/soroush1/memorability/muri1320/im1220.png', '/scratch/soroush1/memorability/muri1320/im1221.png', '/scratch/soroush1/memorability/muri1320/im1222.png', '/scratch/soroush1/memorability/muri1320/im1223.png', '/scratch/soroush1/memorability/muri1320/im1224.png', '/scratch/soroush1/memorability/muri1320/im1225.png']\n"
     ]
    },
    {
     "name": "stderr",
     "output_type": "stream",
     "text": [
      "\n",
      "100%|██████████| 42/42 [00:01<00:00, 21.75it/s]\u001b[A"
     ]
    },
    {
     "name": "stdout",
     "output_type": "stream",
     "text": [
      "['/scratch/soroush1/memorability/muri1320/im1248.png', '/scratch/soroush1/memorability/muri1320/im1249.png', '/scratch/soroush1/memorability/muri1320/im1250.png', '/scratch/soroush1/memorability/muri1320/im1251.png', '/scratch/soroush1/memorability/muri1320/im1252.png', '/scratch/soroush1/memorability/muri1320/im1253.png', '/scratch/soroush1/memorability/muri1320/im1254.png', '/scratch/soroush1/memorability/muri1320/im1255.png', '/scratch/soroush1/memorability/muri1320/im1256.png', '/scratch/soroush1/memorability/muri1320/im1257.png']\n",
      "['/scratch/soroush1/memorability/muri1320/im1280.png', '/scratch/soroush1/memorability/muri1320/im1281.png', '/scratch/soroush1/memorability/muri1320/im1282.png', '/scratch/soroush1/memorability/muri1320/im1283.png', '/scratch/soroush1/memorability/muri1320/im1284.png', '/scratch/soroush1/memorability/muri1320/im1285.png', '/scratch/soroush1/memorability/muri1320/im1286.png', '/scratch/soroush1/memorability/muri1320/im1287.png', '/scratch/soroush1/memorability/muri1320/im1288.png', '/scratch/soroush1/memorability/muri1320/im1289.png']\n",
      "['/scratch/soroush1/memorability/muri1320/im1312.png', '/scratch/soroush1/memorability/muri1320/im1313.png', '/scratch/soroush1/memorability/muri1320/im1314.png', '/scratch/soroush1/memorability/muri1320/im1315.png', '/scratch/soroush1/memorability/muri1320/im1316.png', '/scratch/soroush1/memorability/muri1320/im1317.png', '/scratch/soroush1/memorability/muri1320/im1318.png', '/scratch/soroush1/memorability/muri1320/im1319.png']\n",
      "Concatenated features shape: (1320, 100352)\n",
      "Total number of images: 1320\n",
      "Model: resnet50, Task: diffInitRes12, Layer: IT, Shape: (1320, 100352)\n"
     ]
    },
    {
     "name": "stderr",
     "output_type": "stream",
     "text": [
      "\n",
      "different_run: 100%|██████████| 13/13 [00:39<00:00,  3.03s/it]"
     ]
    },
    {
     "name": "stdout",
     "output_type": "stream",
     "text": [
      "Features saved to ./features/muri1320_resnet50_diffInitRes12_IT.h5\n",
      "(1320, 100352)\n"
     ]
    },
    {
     "name": "stderr",
     "output_type": "stream",
     "text": [
      "\n"
     ]
    }
   ],
   "source": [
    "# Inputs\n",
    "total_run = 12\n",
    "for run_id in tqdm(range(0, total_run + 1), desc=\"different_run\"):\n",
    "    config = {\"weights\": f\"/home/soroush1/projects/def-kohitij/soroush1/idiosyncrasy/notebooks/experiments/weights/experiment_different_initialization/resnet50-{run_id}/final_weights.pt\", \"arch\": \"resnet50\", \"use_blurpool\": True, \"layer_name\": {f\"{InferioTemporalLayer.RESNET50.value}\":\"IT\"}}\n",
    "    root = \"/scratch/soroush1/memorability/muri1320\"\n",
    "    input_size = 224\n",
    "    normalize = transforms.Normalize(\n",
    "                mean=[0.485, 0.456, 0.406], std=[0.229, 0.224, 0.225]\n",
    "            )\n",
    "    \n",
    "    t = transforms.Compose(\n",
    "                [\n",
    "                    transforms.Resize(input_size),\n",
    "                    transforms.ToTensor(),\n",
    "                    normalize,\n",
    "                ]\n",
    "            )\n",
    "    device = torch.device(\"cuda:0\" if torch.cuda.is_available() else \"cpu\")\n",
    "    \n",
    "    \n",
    "    # Model\n",
    "    model = create_feature_extractor_model(config)\n",
    "    \n",
    "    # Dataset\n",
    "    ds = MuriDataset(root=root, transforms=t)\n",
    "    dl = DataLoader(\n",
    "                ds,\n",
    "                batch_size=32,\n",
    "                shuffle=False,\n",
    "                num_workers=2,\n",
    "                pin_memory=True,\n",
    "    \n",
    "            )\n",
    "    \n",
    "    # Extracting Feature\n",
    "    concatenated_features, all_image_paths = extract_and_concatenate_features(model, dl, device)\n",
    "    print(f\"Concatenated features shape: {concatenated_features.shape}\")\n",
    "    print(f\"Total number of images: {len(all_image_paths)}\")\n",
    "    \n",
    "    dataset_name = \"muri1320\"\n",
    "    model_name = \"resnet50\"\n",
    "    task_name = f\"diffInitRes{run_id}\"\n",
    "    layer_name = \"IT\"\n",
    "    \n",
    "    dst_path = \"./features\"\n",
    "    \n",
    "    # Call the save_h5 function\n",
    "    save_h5(concatenated_features, dataset_name=dataset_name, model_name=model_name, task_name=task_name, dst_path=dst_dir, layer_name=layer_name)\n",
    "    \n",
    "    # Load the saved data and compare\n",
    "    expected_file = os.path.join(dst_path, f\"{dataset_name}_{model_name}_{task_name}_{layer_name}.h5\")\n",
    "    with h5py.File(expected_file, \"r\") as hf:\n",
    "        saved_data = hf[\"features\"][:]\n",
    "    \n",
    "    print(saved_data.shape)"
   ]
  }
 ],
 "metadata": {
  "kernelspec": {
   "display_name": "Python 3 (ipykernel)",
   "language": "python",
   "name": "python3"
  },
  "language_info": {
   "codemirror_mode": {
    "name": "ipython",
    "version": 3
   },
   "file_extension": ".py",
   "mimetype": "text/x-python",
   "name": "python",
   "nbconvert_exporter": "python",
   "pygments_lexer": "ipython3",
   "version": "3.11.5"
  }
 },
 "nbformat": 4,
 "nbformat_minor": 5
}
