{
 "cells": [
  {
   "cell_type": "code",
   "execution_count": 1,
   "metadata": {},
   "outputs": [],
   "source": [
    "%load_ext autoreload\n",
    "%autoreload 2"
   ]
  },
  {
   "cell_type": "code",
   "execution_count": 2,
   "metadata": {},
   "outputs": [
    {
     "name": "stdout",
     "output_type": "stream",
     "text": [
      "Looking in links: /cvmfs/soft.computecanada.ca/custom/python/wheelhouse/gentoo2023/x86-64-v3, /cvmfs/soft.computecanada.ca/custom/python/wheelhouse/gentoo2023/generic, /cvmfs/soft.computecanada.ca/custom/python/wheelhouse/generic\n",
      "Requirement already satisfied: scikit-learn in /localscratch/soroush1.37273702.0/env/lib/python3.11/site-packages (1.5.2+computecanada)\n",
      "Requirement already satisfied: numpy>=1.19.5 in /localscratch/soroush1.37273702.0/env/lib/python3.11/site-packages (from scikit-learn) (1.26.4+computecanada)\n",
      "Requirement already satisfied: scipy>=1.6.0 in /localscratch/soroush1.37273702.0/env/lib/python3.11/site-packages (from scikit-learn) (1.14.1+computecanada)\n",
      "Requirement already satisfied: joblib>=1.2.0 in /localscratch/soroush1.37273702.0/env/lib/python3.11/site-packages (from scikit-learn) (1.4.2+computecanada)\n",
      "Requirement already satisfied: threadpoolctl>=3.1.0 in /localscratch/soroush1.37273702.0/env/lib/python3.11/site-packages (from scikit-learn) (3.5.0+computecanada)\n",
      "Looking in links: /cvmfs/soft.computecanada.ca/custom/python/wheelhouse/gentoo2023/x86-64-v3, /cvmfs/soft.computecanada.ca/custom/python/wheelhouse/gentoo2023/generic, /cvmfs/soft.computecanada.ca/custom/python/wheelhouse/generic\n",
      "Requirement already satisfied: seaborn in /localscratch/soroush1.37273702.0/env/lib/python3.11/site-packages (0.13.2+computecanada)\n",
      "Requirement already satisfied: numpy!=1.24.0,>=1.20 in /localscratch/soroush1.37273702.0/env/lib/python3.11/site-packages (from seaborn) (1.26.4+computecanada)\n",
      "Requirement already satisfied: pandas>=1.2 in /localscratch/soroush1.37273702.0/env/lib/python3.11/site-packages (from seaborn) (2.2.2+computecanada)\n",
      "Requirement already satisfied: matplotlib!=3.6.1,>=3.4 in /localscratch/soroush1.37273702.0/env/lib/python3.11/site-packages (from seaborn) (3.9.2+computecanada)\n",
      "Requirement already satisfied: contourpy>=1.0.1 in /localscratch/soroush1.37273702.0/env/lib/python3.11/site-packages (from matplotlib!=3.6.1,>=3.4->seaborn) (1.3.0+computecanada)\n",
      "Requirement already satisfied: cycler>=0.10 in /localscratch/soroush1.37273702.0/env/lib/python3.11/site-packages (from matplotlib!=3.6.1,>=3.4->seaborn) (0.12.1+computecanada)\n",
      "Requirement already satisfied: fonttools>=4.22.0 in /localscratch/soroush1.37273702.0/env/lib/python3.11/site-packages (from matplotlib!=3.6.1,>=3.4->seaborn) (4.55.0+computecanada)\n",
      "Requirement already satisfied: kiwisolver>=1.3.1 in /localscratch/soroush1.37273702.0/env/lib/python3.11/site-packages (from matplotlib!=3.6.1,>=3.4->seaborn) (1.4.7+computecanada)\n",
      "Requirement already satisfied: packaging>=20.0 in /localscratch/soroush1.37273702.0/env/lib/python3.11/site-packages (from matplotlib!=3.6.1,>=3.4->seaborn) (24.2+computecanada)\n",
      "Requirement already satisfied: pillow>=8 in /localscratch/soroush1.37273702.0/env/lib/python3.11/site-packages (from matplotlib!=3.6.1,>=3.4->seaborn) (10.4.0+computecanada)\n",
      "Requirement already satisfied: pyparsing>=2.3.1 in /localscratch/soroush1.37273702.0/env/lib/python3.11/site-packages (from matplotlib!=3.6.1,>=3.4->seaborn) (3.2.0+computecanada)\n",
      "Requirement already satisfied: python-dateutil>=2.7 in /localscratch/soroush1.37273702.0/env/lib/python3.11/site-packages (from matplotlib!=3.6.1,>=3.4->seaborn) (2.9.0.post0+computecanada)\n",
      "Requirement already satisfied: pytz>=2020.1 in /localscratch/soroush1.37273702.0/env/lib/python3.11/site-packages (from pandas>=1.2->seaborn) (2024.2+computecanada)\n",
      "Requirement already satisfied: tzdata>=2022.7 in /localscratch/soroush1.37273702.0/env/lib/python3.11/site-packages (from pandas>=1.2->seaborn) (2024.2+computecanada)\n",
      "Requirement already satisfied: six>=1.5 in /localscratch/soroush1.37273702.0/env/lib/python3.11/site-packages (from python-dateutil>=2.7->matplotlib!=3.6.1,>=3.4->seaborn) (1.16.0+computecanada)\n"
     ]
    }
   ],
   "source": [
    "!pip install --no-index scikit-learn\n",
    "!pip install --no-index seaborn"
   ]
  },
  {
   "cell_type": "code",
   "execution_count": 3,
   "metadata": {},
   "outputs": [],
   "source": [
    "import numpy as np\n",
    "from scipy import stats\n",
    "import h5py\n",
    "import matplotlib.pyplot as plt\n",
    "import seaborn as sns\n",
    "import torch\n",
    "from decode_utils import decode, get_percent_correct_from_proba, get_fa, get_dprime, get_train_test_indices\n",
    "from tqdm import tqdm\n",
    "from scipy.stats import zscore, norm\n",
    "#import h5py\n",
    "#from sklearn.multiclass import OneVsRestClassifier\n",
    "from sklearn.linear_model import LogisticRegression \n",
    "from sklearn.multiclass import OneVsRestClassifier\n",
    "from sklearn.svm import SVC\n",
    "from scipy.stats import zscore, norm\n",
    "from sklearn import preprocessing\n",
    "import os\n",
    "from datetime import datetime\n",
    "import json"
   ]
  },
  {
   "cell_type": "code",
   "execution_count": 6,
   "metadata": {},
   "outputs": [],
   "source": [
    "import numpy as np\n",
    "import logging\n",
    "from sklearn.metrics import confusion_matrix\n",
    "from sklearn.linear_model import LogisticRegression\n",
    "import torch\n",
    "import matplotlib.pyplot as plt\n",
    "\n",
    "class DecayAnalyzer:\n",
    "    def __init__(self, decay=10):\n",
    "        self.decay = decay\n",
    "        self.logger = self._setup_logger()\n",
    "        self.lb = ['bear', 'elephant', 'person', 'car', 'dog', 'apple', 'chair', 'plane', 'bird', 'zebra']\n",
    "    \n",
    "    def _setup_logger(self):\n",
    "        \"\"\"Set up a logger for debugging.\"\"\"\n",
    "        logging.basicConfig(\n",
    "            level=logging.INFO,\n",
    "            format='%(asctime)s - %(levelname)s - %(message)s',\n",
    "            filename='ml_debug.log'\n",
    "        )\n",
    "        return logging.getLogger('MLDebug')\n",
    "    \n",
    "    def analyze_all_delays(self, delays):\n",
    "        \"\"\"Analyze multiple delays and return results.\"\"\"\n",
    "        results = {}\n",
    "        accuracies = []\n",
    "        \n",
    "        for delay in delays:\n",
    "            print(f\"\\nAnalyzing delay {delay}ms...\")\n",
    "            i1, acc = self.analyze_single_delay(delay)\n",
    "            results[delay] = i1\n",
    "            accuracies.append(acc)\n",
    "            print(f\"Accuracy: {acc:.3f}\")\n",
    "        \n",
    "        print(\"\\nOverall Behavioral Accuracies:\")\n",
    "        for delay, acc in zip(delays, accuracies):\n",
    "            print(f\"Delay {delay}ms: {acc:.3f}\")\n",
    "            \n",
    "        return results, accuracies\n",
    "    \n",
    "    def analyze_single_delay(self, delay_ms):\n",
    "        \"\"\"Analyze a single delay condition.\"\"\"\n",
    "        # Load and prepare features\n",
    "        features, labels = self._load_features(delay_ms)\n",
    "        nrImages = features.shape[0]\n",
    "        features = features.reshape(nrImages, -1)\n",
    "        \n",
    "        # Initialize result array\n",
    "        i_1 = np.zeros((nrImages, 20), dtype=float)\n",
    "        i_1[:] = np.NAN\n",
    "        \n",
    "        # Perform decoding iterations\n",
    "        for j in tqdm(range(20), desc=f\"{delay_ms = }\"):\n",
    "            p = self._decode(features, labels, seed=j, nrfolds=3)\n",
    "            pc = self._get_percent_correct(p, labels)\n",
    "            i_1[:,j] = np.nanmean(pc, axis=1)\n",
    "        \n",
    "        overall_accuracy = np.nanmean(i_1)\n",
    "        return i_1, overall_accuracy\n",
    "    \n",
    "    def _load_features(self, delay_ms):\n",
    "        \"\"\"Load features from file.\"\"\"\n",
    "        features_path = f\"extracted_features_fc_layer/{self.decay}decay/features_delay{delay_ms}ms.pt\"\n",
    "        features_dict = torch.load(features_path, map_location=\"cpu\")\n",
    "        features = features_dict[\"post_decay\"].detach().cpu().numpy()\n",
    "        labels = features_dict[\"labels\"].detach().cpu().numpy()\n",
    "        return features, labels\n",
    "    \n",
    "    def _decode(self, features, labels, nrfolds=3, seed=0):\n",
    "        \"\"\"Perform decoding while preserving relative scales.\"\"\"\n",
    "        classes = np.unique(labels)\n",
    "        nrImages = features.shape[0]\n",
    "        \n",
    "        # Center features but preserve scale\n",
    "        features = features - np.mean(features, axis=0, keepdims=True)\n",
    "        \n",
    "        # Initialize probability array\n",
    "        prob = np.zeros((nrImages, len(classes)))\n",
    "        prob[:] = np.NAN\n",
    "        \n",
    "        # Perform cross-validation\n",
    "        for i in range(nrfolds):\n",
    "            train, test = get_train_test_indices(nrImages, nrfolds=nrfolds, foldnumber=i, seed=seed)\n",
    "            \n",
    "            # Train classifier\n",
    "            clf = LogisticRegression(\n",
    "                penalty='l2',\n",
    "                C=1.0,\n",
    "                max_iter=1000,\n",
    "                class_weight='balanced'\n",
    "            ).fit(features[train], labels[train])\n",
    "            \n",
    "            # Predict probabilities\n",
    "            prob[test] = clf.predict_proba(features[test])\n",
    "        \n",
    "        return prob\n",
    "    \n",
    "    def _get_percent_correct(self, prob, labels):\n",
    "        \"\"\"Calculate percent correct from probabilities.\"\"\"\n",
    "        return get_percent_correct_from_proba(prob, labels, np.array(self.lb))\n",
    "\n",
    "\n",
    "def load_reliability_data(delay: int, base_dir: str = \"behavioral_metrics_results\") -> np.ndarray:\n",
    "    \"\"\"Load reliability data for a specific delay\"\"\"\n",
    "    reliability_path = os.path.join(base_dir, f'delay_{delay}ms/bi1/reliabilities.npy')\n",
    "    return np.load(reliability_path)\n",
    "\n",
    "def load_model_data(delay: int, decay:float):\n",
    "    analyzer = DecayAnalyzer(decay=decay)\n",
    "    results, accuracies = analyzer.analyze_all_delays([delay])\n",
    "    return np.nanmean(results[delay], axis=1)\n",
    "\n",
    "def load_monkey_data(delay: int, base_dir: str):\n",
    "    monkey_template = \"b_i1_delay_{}.npy\"\n",
    "    monkey_template = monkey_template.format(delay)\n",
    "    monkey_file = os.path.join(base_dir, monkey_template)\n",
    "    monkey_data = np.load(monkey_file)\n",
    "    return monkey_data.ravel()\n",
    "\n",
    "def calculate_corrected_correlation(\n",
    "    model_data: np.ndarray,\n",
    "    monkey_data: np.ndarray,\n",
    "    monkey_reliability: np.ndarray\n",
    "):\n",
    "    \"\"\"\n",
    "    Calculate noise-ceiling corrected correlation and its standard deviation\n",
    "    \"\"\"\n",
    "    # Calculate raw correlation\n",
    "    raw_corr, p_val = stats.pearsonr(model_data, monkey_data)\n",
    "    \n",
    "    # Calculate corrected correlations for each reliability value\n",
    "    corrected_corrs = []\n",
    "    for rel in monkey_reliability:\n",
    "        # Correct correlation by dividing by sqrt(reliability)\n",
    "        corrected_corr = raw_corr / np.sqrt(rel)\n",
    "        # Ensure correlation doesn't exceed 1\n",
    "        corrected_corr = min(corrected_corr, 1.0)\n",
    "        corrected_corrs.append(corrected_corr)\n",
    "    \n",
    "    # Calculate mean and std of corrected correlations\n",
    "    mean_corrected = np.mean(corrected_corrs)\n",
    "    std_corrected = np.std(corrected_corrs)\n",
    "    \n",
    "    return raw_corr, mean_corrected, std_corrected, p_val\n",
    "\n",
    "def create_results_directory(decay: float):\n",
    "    \"\"\"\n",
    "    Create a directory for storing correlation results.\n",
    "    Returns the path to the created directory.\n",
    "    \"\"\"\n",
    "    base_dir = \"fc_layer/correlation_monkey_and_model_noise_ceiling\"\n",
    "    # Add timestamp to avoid overwriting\n",
    "    timestamp = datetime.now().strftime(\"%Y%m%d_%H%M%S\")\n",
    "    # results_dir = f\"{base_dir}_{timestamp}\"\n",
    "    results_dir = f\"{base_dir}_{decay}\"\n",
    "    \n",
    "    \n",
    "    # Create directory if it doesn't exist\n",
    "    if not os.path.exists(results_dir):\n",
    "        os.makedirs(results_dir)\n",
    "        print(f\"Created results directory: {results_dir}\")\n",
    "    \n",
    "    return results_dir\n",
    "\n",
    "def plot_correlation_summary_with_error(\n",
    "    results,\n",
    "    results_dir: str,\n",
    "    filename: str = 'correlation_summary_simple.png'\n",
    "):\n",
    "    \"\"\"\n",
    "    Create a simple bar plot with error bars from correlation results\n",
    "    \"\"\"\n",
    "    plt.figure(figsize=(10, 6))\n",
    "    \n",
    "    # Extract data\n",
    "    delays = [int(delay) for delay in results.keys()]\n",
    "    correlations = [result['corrected_correlation'] for result in results.values()]\n",
    "    errors = [result['correlation_std'] for result in results.values()]\n",
    "    \n",
    "    # Create bar plot with error bars\n",
    "    plt.bar(delays, correlations,\n",
    "            width=200,\n",
    "            edgecolor='black',\n",
    "            linewidth=1.5,\n",
    "            yerr=errors,\n",
    "            capsize=0,\n",
    "            error_kw={'linewidth': 1.5})\n",
    "    \n",
    "    # Save plot\n",
    "    save_path = os.path.join(results_dir, filename)\n",
    "    plt.savefig(save_path, dpi=300, bbox_inches='tight')\n",
    "    plt.close()\n",
    "    \n",
    "    print(f\"Saved simple correlation plot: {save_path}\")\n",
    "\n",
    "\n",
    "def plot_correlation(model_data, monkey_data, delay, r, p):\n",
    "    \"\"\"\n",
    "    Create a scatter plot of model vs monkey behavioral data.\n",
    "    \n",
    "    Parameters:\n",
    "    -----------\n",
    "    model_data : array-like\n",
    "        Model behavioral data\n",
    "    monkey_data : array-like\n",
    "        Monkey behavioral data\n",
    "    delay : int\n",
    "        Delay time in milliseconds\n",
    "    r : float\n",
    "        Correlation coefficient\n",
    "    p : float\n",
    "        P-value of correlation\n",
    "    \"\"\"\n",
    "    plt.figure(figsize=(8, 8))\n",
    "    \n",
    "    # Create scatter plot\n",
    "    sns.scatterplot(x=monkey_data, y=model_data, alpha=0.5)\n",
    "    \n",
    "    # Add correlation line\n",
    "    z = np.polyfit(monkey_data, model_data, 1)\n",
    "    p_fit = np.poly1d(z)\n",
    "    plt.plot(monkey_data, p_fit(monkey_data), \"r--\", alpha=0.8, label='Correlation Line')\n",
    "    \n",
    "    # Add labels and title\n",
    "    plt.xlabel('Monkey Behavior')\n",
    "    plt.ylabel('Model Behavior')\n",
    "    plt.title(f'Model vs Monkey Behavior Correlation\\nDelay: {delay}ms, r={r:.3f}, p={p:.3e}')\n",
    "    \n",
    "    # Add unity line\n",
    "    min_val = min(plt.xlim()[0], plt.ylim()[0])\n",
    "    max_val = max(plt.xlim()[1], plt.ylim()[1])\n",
    "    plt.plot([min_val, max_val], [min_val, max_val], 'k--', alpha=0.3, label='Unity Line')\n",
    "    \n",
    "    plt.legend()\n",
    "    plt.grid(True, alpha=0.3)\n",
    "    plt.tight_layout()\n",
    "    plt.xticks(fontsize=12)\n",
    "    plt.yticks(fontsize=12)\n",
    "    plt.gca().spines[\"top\"].set_visible(False)\n",
    "    plt.gca().spines[\"right\"].set_visible(False)\n",
    "    \n",
    "    return plt.gcf()\n",
    "\n",
    "def process_all_delays_with_reliability(\n",
    "    delays,\n",
    "    monkey_path: str,\n",
    "    decay: float = 1.5,\n",
    "    reliability_base_dir: str = \"behavioral_metrics_results\"\n",
    "):\n",
    "    \"\"\"\n",
    "    Process and save results for all delays with reliability correction\n",
    "    \"\"\"\n",
    "    # Create results directory\n",
    "    results_dir = create_results_directory(decay=decay)\n",
    "    \n",
    "    # Dictionary to store all results\n",
    "    all_results = {}\n",
    "    \n",
    "    # Process each delay\n",
    "    for delay in delays:\n",
    "        print(f\"\\nProcessing delay: {delay}ms\")\n",
    "        \n",
    "        # Load behavior data\n",
    "        monkey_data = load_monkey_data(delay=delay, base_dir=monkey_path)\n",
    "        model_data = load_model_data(delay=delay, decay=decay)\n",
    "        \n",
    "        # Load reliability data\n",
    "        reliability_data = load_reliability_data(delay=delay, base_dir=reliability_base_dir)\n",
    "\n",
    "        \n",
    "        # Calculate corrected correlation\n",
    "        raw_r, corrected_r, r_std, p_value = calculate_corrected_correlation(\n",
    "            model_data, monkey_data, reliability_data\n",
    "        )\n",
    "        \n",
    "        # Store results\n",
    "        all_results[str(delay)] = {\n",
    "            'raw_correlation': float(raw_r),\n",
    "            'corrected_correlation': float(corrected_r),\n",
    "            'correlation_std': float(r_std),\n",
    "            'p_value': float(p_value)\n",
    "        }\n",
    "        \n",
    "        # Create and save individual correlation plots\n",
    "        fig = plot_correlation(model_data, monkey_data, delay, corrected_r, p_value)\n",
    "        plot_filename = os.path.join(results_dir, f'correlation_plot_{delay}ms.png')\n",
    "        fig.savefig(plot_filename)\n",
    "        plt.close(fig)\n",
    "        \n",
    "        # Save raw data\n",
    "        data_filename = os.path.join(results_dir, f'correlation_data_{delay}ms.npz')\n",
    "        np.savez(data_filename,\n",
    "                 model_data=model_data,\n",
    "                 monkey_data=monkey_data,\n",
    "                 reliability_data=reliability_data)\n",
    "    \n",
    "    # Create and save summary plot with error bars\n",
    "    plot_correlation_summary_with_error(all_results, results_dir)\n",
    "    \n",
    "    # Save summary results\n",
    "    results_filename = os.path.join(results_dir, 'correlation_results.json')\n",
    "    with open(results_filename, 'w') as f:\n",
    "        json.dump(all_results, f, indent=4)\n",
    "    \n",
    "    return results_dir, all_results\n",
    "\n",
    "def plot_multiple_behavioral_accuracies(all_accuracies, delays, decay_rates, save_path=None):\n",
    "    \"\"\"\n",
    "    Plot multiple behavioral accuracies on the same plot with different colors.\n",
    "    \n",
    "    Args:\n",
    "        all_accuracies (list): List of lists containing accuracy values for each decay rate\n",
    "        delays (array-like): List of delay values in milliseconds\n",
    "        decay_rates (list): List of decay rates used\n",
    "        save_path (str or Path, optional): Path to save the plot image\n",
    "    \"\"\"\n",
    "    # Define same color palette as decay curves\n",
    "    colors = ['b', 'g', 'r', 'c', 'm', 'y', 'k']\n",
    "    \n",
    "    # Create figure\n",
    "    plt.figure(figsize=(8, 8))\n",
    "    \n",
    "    # Plot each accuracy curve with a different color\n",
    "    for i, (accuracies, decay_rate) in enumerate(zip(all_accuracies, decay_rates)):\n",
    "        color = colors[i % len(colors)]  # Use same color cycling as decay plot\n",
    "        plt.plot(delays, accuracies, 'o-', \n",
    "                color=color,\n",
    "                linewidth=2, \n",
    "                markersize=8,\n",
    "                label=f'Decay rate = {decay_rate:.1f}')\n",
    "    \n",
    "    # Customize plot\n",
    "    plt.title('Behavioral Accuracy vs Delay for Different Decay Rates', fontsize=14)\n",
    "    plt.xlabel('Delay (ms)', fontsize=12)\n",
    "    plt.ylabel('Accuracy', fontsize=12)\n",
    "    plt.grid(False)\n",
    "    \n",
    "    # Set x-axis ticks to match delays\n",
    "    plt.xticks(delays, fontsize=10)\n",
    "    \n",
    "    # Set y-axis limits\n",
    "    plt.ylim(0.5, 1.0)\n",
    "    \n",
    "    # Add legend\n",
    "    plt.legend(fontsize=10)\n",
    "    \n",
    "    # Remove top and right spines\n",
    "    ax = plt.gca()\n",
    "    ax.spines['top'].set_visible(False)\n",
    "    ax.spines['right'].set_visible(False)\n",
    "    \n",
    "    # Save the plot if a path is provided\n",
    "    if save_path:\n",
    "        plt.savefig(save_path, dpi=300, bbox_inches='tight')\n",
    "        print(f\"Plot saved to: {save_path}\")\n",
    "    \n",
    "    plt.show()\n",
    "\n",
    "\n",
    "def convert_to_number(rate_str):\n",
    "    \"\"\"\n",
    "    Convert string to either int or float based on decimal point presence\n",
    "    \"\"\"\n",
    "    return float(rate_str) if '.' in rate_str else int(rate_str)\n",
    "\n",
    "\n",
    "def plot_multiple_correlation_summaries(all_decay_results, save_path=None):\n",
    "    \"\"\"\n",
    "    Create a combined bar plot showing correlations for all decay rates with better spacing.\n",
    "    \n",
    "    Args:\n",
    "        all_decay_results (dict): Dictionary with decay rates as keys and correlation results as values\n",
    "        save_path (str, optional): Path to save the combined plot\n",
    "    \"\"\"\n",
    "    # Define color palette in specific order\n",
    "    colors = ['b', 'g', 'r', 'c', 'm']\n",
    "    \n",
    "    plt.figure(figsize=(8, 8))\n",
    "    \n",
    "    # Calculate bar positions\n",
    "    delays = [int(delay) for delay in list(all_decay_results.values())[0].keys()]\n",
    "    n_decays = len(all_decay_results)\n",
    "    bar_width = 100  # Width of each bar\n",
    "    group_spacing = 600  # Space between delay groups\n",
    "    \n",
    "    # Sort decay rates to ensure consistent order\n",
    "    decay_rates = sorted([convert_to_number(rate) for rate in all_decay_results.keys()])\n",
    "    \n",
    "    # Plot bars for each delay group\n",
    "    for i, delay in enumerate(delays):\n",
    "        for j, decay_rate in enumerate(decay_rates):\n",
    "            # Extract data\n",
    "            results = all_decay_results[str(decay_rate)]\n",
    "            correlation = results[str(delay)]['corrected_correlation']\n",
    "            error = results[str(delay)]['correlation_std']\n",
    "            \n",
    "            # Calculate bar position\n",
    "            bar_position = i * group_spacing + (j - n_decays/2 + 0.5) * bar_width\n",
    "            \n",
    "            # Create bar plot with error bars\n",
    "            plt.bar(bar_position, \n",
    "                   correlation,\n",
    "                   width=bar_width,\n",
    "                   color=colors[j],\n",
    "                   edgecolor='black',\n",
    "                   linewidth=1.5,\n",
    "                   label=f'Decay rate = {decay_rate:.1f}' if i == 0 else \"\")\n",
    "            \n",
    "            # Add error bars\n",
    "            plt.errorbar(bar_position, \n",
    "                        correlation, \n",
    "                        yerr=error,\n",
    "                        fmt='none',\n",
    "                        color='black',\n",
    "                        capsize=0,\n",
    "                        linewidth=1.5)\n",
    "    \n",
    "    # Customize plot\n",
    "    plt.xlabel('Delay (ms)', fontsize=12)\n",
    "    plt.ylabel('Corrected Correlation', fontsize=12)\n",
    "    plt.title('Model-Monkey Correlation vs Delay\\nfor Different Decay Rates', fontsize=14)\n",
    "    \n",
    "    # Set x-axis ticks to center of each group\n",
    "    tick_positions = [i * group_spacing for i in range(len(delays))]\n",
    "    plt.xticks(tick_positions, delays, fontsize=10)\n",
    "    \n",
    "    # Set y-axis limits\n",
    "    plt.ylim(0, 0.35)\n",
    "    \n",
    "    # Add legend\n",
    "    plt.legend(fontsize=10, loc='upper right')\n",
    "    \n",
    "    # Remove top and right spines\n",
    "    ax = plt.gca()\n",
    "    ax.spines['top'].set_visible(False)\n",
    "    ax.spines['right'].set_visible(False)\n",
    "    plt.grid(False)\n",
    "    \n",
    "    # Save plot if path provided\n",
    "    if save_path:\n",
    "        plt.savefig(save_path, dpi=300, bbox_inches='tight')\n",
    "        print(f\"\\nSaved combined correlation plot: {save_path}\")\n",
    "    \n",
    "    plt.show()\n",
    "\n",
    "def process_all_decays_and_delays(\n",
    "    decay_rates,\n",
    "    delays,\n",
    "    monkey_path: str,\n",
    "    reliability_base_dir: str = \"behavioral_metrics_results\"\n",
    "):\n",
    "    \"\"\"\n",
    "    Process and plot results for all decay rates and delays\n",
    "    \"\"\"\n",
    "    all_decay_results = {}\n",
    "    \n",
    "    # Process each decay rate\n",
    "    for decay_rate in decay_rates:\n",
    "        print(f\"\\nProcessing decay rate: {decay_rate}\")\n",
    "        results_dir, results = process_all_delays_with_reliability(\n",
    "            delays=delays,\n",
    "            monkey_path=monkey_path,\n",
    "            decay=decay_rate,\n",
    "            reliability_base_dir=reliability_base_dir\n",
    "        )\n",
    "        all_decay_results[str(decay_rate)] = results\n",
    "    \n",
    "    # Create combined plot\n",
    "    plot_multiple_correlation_summaries(\n",
    "        all_decay_results,\n",
    "        save_path=os.path.join(os.path.dirname(results_dir), 'combined_correlation_summary.png')\n",
    "    )\n",
    "    \n",
    "    return all_decay_results"
   ]
  },
  {
   "cell_type": "code",
   "execution_count": 11,
   "metadata": {},
   "outputs": [
    {
     "name": "stdout",
     "output_type": "stream",
     "text": [
      "\n",
      "Analyzing delay 0ms...\n"
     ]
    },
    {
     "name": "stderr",
     "output_type": "stream",
     "text": [
      "delay_ms = 0: 100%|██████████| 20/20 [00:00<00:00, 53.02it/s]\n"
     ]
    },
    {
     "name": "stdout",
     "output_type": "stream",
     "text": [
      "Accuracy: 0.869\n",
      "\n",
      "Analyzing delay 100ms...\n"
     ]
    },
    {
     "name": "stderr",
     "output_type": "stream",
     "text": [
      "delay_ms = 100: 100%|██████████| 20/20 [00:00<00:00, 53.75it/s]\n"
     ]
    },
    {
     "name": "stdout",
     "output_type": "stream",
     "text": [
      "Accuracy: 0.869\n",
      "\n",
      "Analyzing delay 400ms...\n"
     ]
    },
    {
     "name": "stderr",
     "output_type": "stream",
     "text": [
      "delay_ms = 400: 100%|██████████| 20/20 [00:00<00:00, 53.43it/s]\n"
     ]
    },
    {
     "name": "stdout",
     "output_type": "stream",
     "text": [
      "Accuracy: 0.869\n",
      "\n",
      "Analyzing delay 800ms...\n"
     ]
    },
    {
     "name": "stderr",
     "output_type": "stream",
     "text": [
      "delay_ms = 800: 100%|██████████| 20/20 [00:00<00:00, 56.88it/s]\n"
     ]
    },
    {
     "name": "stdout",
     "output_type": "stream",
     "text": [
      "Accuracy: 0.868\n",
      "\n",
      "Analyzing delay 1200ms...\n"
     ]
    },
    {
     "name": "stderr",
     "output_type": "stream",
     "text": [
      "delay_ms = 1200: 100%|██████████| 20/20 [00:00<00:00, 58.73it/s]\n"
     ]
    },
    {
     "name": "stdout",
     "output_type": "stream",
     "text": [
      "Accuracy: 0.867\n",
      "\n",
      "Overall Behavioral Accuracies:\n",
      "Delay 0ms: 0.869\n",
      "Delay 100ms: 0.869\n",
      "Delay 400ms: 0.869\n",
      "Delay 800ms: 0.868\n",
      "Delay 1200ms: 0.867\n",
      "\n",
      "Analyzing delay 0ms...\n"
     ]
    },
    {
     "name": "stderr",
     "output_type": "stream",
     "text": [
      "delay_ms = 0: 100%|██████████| 20/20 [00:00<00:00, 53.69it/s]\n"
     ]
    },
    {
     "name": "stdout",
     "output_type": "stream",
     "text": [
      "Accuracy: 0.869\n",
      "\n",
      "Analyzing delay 100ms...\n"
     ]
    },
    {
     "name": "stderr",
     "output_type": "stream",
     "text": [
      "delay_ms = 100: 100%|██████████| 20/20 [00:00<00:00, 57.78it/s]\n"
     ]
    },
    {
     "name": "stdout",
     "output_type": "stream",
     "text": [
      "Accuracy: 0.868\n",
      "\n",
      "Analyzing delay 400ms...\n"
     ]
    },
    {
     "name": "stderr",
     "output_type": "stream",
     "text": [
      "delay_ms = 400: 100%|██████████| 20/20 [00:00<00:00, 72.48it/s]\n"
     ]
    },
    {
     "name": "stdout",
     "output_type": "stream",
     "text": [
      "Accuracy: 0.861\n",
      "\n",
      "Analyzing delay 800ms...\n"
     ]
    },
    {
     "name": "stderr",
     "output_type": "stream",
     "text": [
      "delay_ms = 800: 100%|██████████| 20/20 [00:00<00:00, 88.63it/s]\n"
     ]
    },
    {
     "name": "stdout",
     "output_type": "stream",
     "text": [
      "Accuracy: 0.845\n",
      "\n",
      "Analyzing delay 1200ms...\n"
     ]
    },
    {
     "name": "stderr",
     "output_type": "stream",
     "text": [
      "delay_ms = 1200: 100%|██████████| 20/20 [00:00<00:00, 98.38it/s]\n"
     ]
    },
    {
     "name": "stdout",
     "output_type": "stream",
     "text": [
      "Accuracy: 0.821\n",
      "\n",
      "Overall Behavioral Accuracies:\n",
      "Delay 0ms: 0.869\n",
      "Delay 100ms: 0.868\n",
      "Delay 400ms: 0.861\n",
      "Delay 800ms: 0.845\n",
      "Delay 1200ms: 0.821\n",
      "\n",
      "Analyzing delay 0ms...\n"
     ]
    },
    {
     "name": "stderr",
     "output_type": "stream",
     "text": [
      "delay_ms = 0: 100%|██████████| 20/20 [00:00<00:00, 53.59it/s]\n"
     ]
    },
    {
     "name": "stdout",
     "output_type": "stream",
     "text": [
      "Accuracy: 0.869\n",
      "\n",
      "Analyzing delay 100ms...\n"
     ]
    },
    {
     "name": "stderr",
     "output_type": "stream",
     "text": [
      "delay_ms = 100: 100%|██████████| 20/20 [00:00<00:00, 60.88it/s]\n"
     ]
    },
    {
     "name": "stdout",
     "output_type": "stream",
     "text": [
      "Accuracy: 0.867\n",
      "\n",
      "Analyzing delay 400ms...\n"
     ]
    },
    {
     "name": "stderr",
     "output_type": "stream",
     "text": [
      "delay_ms = 400: 100%|██████████| 20/20 [00:00<00:00, 81.90it/s]\n"
     ]
    },
    {
     "name": "stdout",
     "output_type": "stream",
     "text": [
      "Accuracy: 0.854\n",
      "\n",
      "Analyzing delay 800ms...\n"
     ]
    },
    {
     "name": "stderr",
     "output_type": "stream",
     "text": [
      "delay_ms = 800: 100%|██████████| 20/20 [00:00<00:00, 98.65it/s]\n"
     ]
    },
    {
     "name": "stdout",
     "output_type": "stream",
     "text": [
      "Accuracy: 0.821\n",
      "\n",
      "Analyzing delay 1200ms...\n"
     ]
    },
    {
     "name": "stderr",
     "output_type": "stream",
     "text": [
      "delay_ms = 1200: 100%|██████████| 20/20 [00:00<00:00, 100.92it/s]\n"
     ]
    },
    {
     "name": "stdout",
     "output_type": "stream",
     "text": [
      "Accuracy: 0.760\n",
      "\n",
      "Overall Behavioral Accuracies:\n",
      "Delay 0ms: 0.869\n",
      "Delay 100ms: 0.867\n",
      "Delay 400ms: 0.854\n",
      "Delay 800ms: 0.821\n",
      "Delay 1200ms: 0.760\n",
      "\n",
      "Analyzing delay 0ms...\n"
     ]
    },
    {
     "name": "stderr",
     "output_type": "stream",
     "text": [
      "delay_ms = 0: 100%|██████████| 20/20 [00:00<00:00, 53.98it/s]\n"
     ]
    },
    {
     "name": "stdout",
     "output_type": "stream",
     "text": [
      "Accuracy: 0.869\n",
      "\n",
      "Analyzing delay 100ms...\n"
     ]
    },
    {
     "name": "stderr",
     "output_type": "stream",
     "text": [
      "delay_ms = 100: 100%|██████████| 20/20 [00:00<00:00, 65.15it/s]\n"
     ]
    },
    {
     "name": "stdout",
     "output_type": "stream",
     "text": [
      "Accuracy: 0.865\n",
      "\n",
      "Analyzing delay 400ms...\n"
     ]
    },
    {
     "name": "stderr",
     "output_type": "stream",
     "text": [
      "delay_ms = 400: 100%|██████████| 20/20 [00:00<00:00, 94.59it/s]\n"
     ]
    },
    {
     "name": "stdout",
     "output_type": "stream",
     "text": [
      "Accuracy: 0.834\n",
      "\n",
      "Analyzing delay 800ms...\n"
     ]
    },
    {
     "name": "stderr",
     "output_type": "stream",
     "text": [
      "delay_ms = 800: 100%|██████████| 20/20 [00:00<00:00, 100.83it/s]\n"
     ]
    },
    {
     "name": "stdout",
     "output_type": "stream",
     "text": [
      "Accuracy: 0.733\n",
      "\n",
      "Analyzing delay 1200ms...\n"
     ]
    },
    {
     "name": "stderr",
     "output_type": "stream",
     "text": [
      "delay_ms = 1200: 100%|██████████| 20/20 [00:00<00:00, 123.14it/s]\n"
     ]
    },
    {
     "name": "stdout",
     "output_type": "stream",
     "text": [
      "Accuracy: 0.585\n",
      "\n",
      "Overall Behavioral Accuracies:\n",
      "Delay 0ms: 0.869\n",
      "Delay 100ms: 0.865\n",
      "Delay 400ms: 0.834\n",
      "Delay 800ms: 0.733\n",
      "Delay 1200ms: 0.585\n",
      "\n",
      "Analyzing delay 0ms...\n"
     ]
    },
    {
     "name": "stderr",
     "output_type": "stream",
     "text": [
      "delay_ms = 0: 100%|██████████| 20/20 [00:00<00:00, 53.63it/s]\n"
     ]
    },
    {
     "name": "stdout",
     "output_type": "stream",
     "text": [
      "Accuracy: 0.869\n",
      "\n",
      "Analyzing delay 100ms...\n"
     ]
    },
    {
     "name": "stderr",
     "output_type": "stream",
     "text": [
      "delay_ms = 100: 100%|██████████| 20/20 [00:00<00:00, 94.02it/s]\n"
     ]
    },
    {
     "name": "stdout",
     "output_type": "stream",
     "text": [
      "Accuracy: 0.834\n",
      "\n",
      "Analyzing delay 400ms...\n"
     ]
    },
    {
     "name": "stderr",
     "output_type": "stream",
     "text": [
      "delay_ms = 400: 100%|██████████| 20/20 [00:00<00:00, 143.55it/s]\n"
     ]
    },
    {
     "name": "stdout",
     "output_type": "stream",
     "text": [
      "Accuracy: 0.515\n",
      "\n",
      "Analyzing delay 800ms...\n"
     ]
    },
    {
     "name": "stderr",
     "output_type": "stream",
     "text": [
      "delay_ms = 800: 100%|██████████| 20/20 [00:00<00:00, 164.05it/s]\n"
     ]
    },
    {
     "name": "stdout",
     "output_type": "stream",
     "text": [
      "Accuracy: 0.500\n",
      "\n",
      "Analyzing delay 1200ms...\n"
     ]
    },
    {
     "name": "stderr",
     "output_type": "stream",
     "text": [
      "delay_ms = 1200: 100%|██████████| 20/20 [00:00<00:00, 185.07it/s]\n"
     ]
    },
    {
     "name": "stdout",
     "output_type": "stream",
     "text": [
      "Accuracy: 0.500\n",
      "\n",
      "Overall Behavioral Accuracies:\n",
      "Delay 0ms: 0.869\n",
      "Delay 100ms: 0.834\n",
      "Delay 400ms: 0.515\n",
      "Delay 800ms: 0.500\n",
      "Delay 1200ms: 0.500\n",
      "Plot saved to: fc_layer_combined_behavioral_accuracies.png\n"
     ]
    },
    {
     "data": {
      "image/png": "[encoded data removed]",
      "text/plain": [
       "<Figure size 800x800 with 1 Axes>"
      ]
     },
     "metadata": {},
     "output_type": "display_data"
    }
   ],
   "source": [
    "decay_rates = [0.1, 1, 1.5, 2.5, 10]\n",
    "delays = [0, 100, 400, 800, 1200]\n",
    "all_accuracies = []\n",
    "\n",
    "# Collect all accuracies\n",
    "for decay_rate in decay_rates:\n",
    "    analyzer = DecayAnalyzer(decay=decay_rate)\n",
    "    results, accuracies = analyzer.analyze_all_delays(delays)\n",
    "    all_accuracies.append(accuracies)\n",
    "\n",
    "# Create single plot with all accuracy curves\n",
    "plot_multiple_behavioral_accuracies(all_accuracies, delays, decay_rates, save_path='fc_layer_combined_behavioral_accuracies.png')"
   ]
  },
  {
   "cell_type": "code",
   "execution_count": 13,
   "metadata": {},
   "outputs": [
    {
     "name": "stdout",
     "output_type": "stream",
     "text": [
      "\n",
      "Processing decay rate: 0.1\n",
      "\n",
      "Processing delay: 100ms\n",
      "\n",
      "Analyzing delay 100ms...\n"
     ]
    },
    {
     "name": "stderr",
     "output_type": "stream",
     "text": [
      "delay_ms = 100: 100%|██████████| 20/20 [00:00<00:00, 53.93it/s]\n"
     ]
    },
    {
     "name": "stdout",
     "output_type": "stream",
     "text": [
      "Accuracy: 0.869\n",
      "\n",
      "Overall Behavioral Accuracies:\n",
      "Delay 100ms: 0.869\n",
      "\n",
      "Processing delay: 400ms\n",
      "\n",
      "Analyzing delay 400ms...\n"
     ]
    },
    {
     "name": "stderr",
     "output_type": "stream",
     "text": [
      "delay_ms = 400: 100%|██████████| 20/20 [00:00<00:00, 55.85it/s]\n"
     ]
    },
    {
     "name": "stdout",
     "output_type": "stream",
     "text": [
      "Accuracy: 0.869\n",
      "\n",
      "Overall Behavioral Accuracies:\n",
      "Delay 400ms: 0.869\n",
      "\n",
      "Processing delay: 800ms\n",
      "\n",
      "Analyzing delay 800ms...\n"
     ]
    },
    {
     "name": "stderr",
     "output_type": "stream",
     "text": [
      "delay_ms = 800: 100%|██████████| 20/20 [00:00<00:00, 56.97it/s]\n"
     ]
    },
    {
     "name": "stdout",
     "output_type": "stream",
     "text": [
      "Accuracy: 0.868\n",
      "\n",
      "Overall Behavioral Accuracies:\n",
      "Delay 800ms: 0.868\n",
      "\n",
      "Processing delay: 1200ms\n",
      "\n",
      "Analyzing delay 1200ms...\n"
     ]
    },
    {
     "name": "stderr",
     "output_type": "stream",
     "text": [
      "delay_ms = 1200: 100%|██████████| 20/20 [00:00<00:00, 59.19it/s]\n"
     ]
    },
    {
     "name": "stdout",
     "output_type": "stream",
     "text": [
      "Accuracy: 0.867\n",
      "\n",
      "Overall Behavioral Accuracies:\n",
      "Delay 1200ms: 0.867\n",
      "Saved simple correlation plot: fc_layer/correlation_monkey_and_model_noise_ceiling_0.1/correlation_summary_simple.png\n",
      "\n",
      "Processing decay rate: 1\n",
      "Created results directory: fc_layer/correlation_monkey_and_model_noise_ceiling_1\n",
      "\n",
      "Processing delay: 100ms\n",
      "\n",
      "Analyzing delay 100ms...\n"
     ]
    },
    {
     "name": "stderr",
     "output_type": "stream",
     "text": [
      "delay_ms = 100: 100%|██████████| 20/20 [00:00<00:00, 58.17it/s]\n"
     ]
    },
    {
     "name": "stdout",
     "output_type": "stream",
     "text": [
      "Accuracy: 0.868\n",
      "\n",
      "Overall Behavioral Accuracies:\n",
      "Delay 100ms: 0.868\n",
      "\n",
      "Processing delay: 400ms\n",
      "\n",
      "Analyzing delay 400ms...\n"
     ]
    },
    {
     "name": "stderr",
     "output_type": "stream",
     "text": [
      "delay_ms = 400: 100%|██████████| 20/20 [00:00<00:00, 72.76it/s]\n"
     ]
    },
    {
     "name": "stdout",
     "output_type": "stream",
     "text": [
      "Accuracy: 0.861\n",
      "\n",
      "Overall Behavioral Accuracies:\n",
      "Delay 400ms: 0.861\n",
      "\n",
      "Processing delay: 800ms\n",
      "\n",
      "Analyzing delay 800ms...\n"
     ]
    },
    {
     "name": "stderr",
     "output_type": "stream",
     "text": [
      "delay_ms = 800: 100%|██████████| 20/20 [00:00<00:00, 89.02it/s]\n"
     ]
    },
    {
     "name": "stdout",
     "output_type": "stream",
     "text": [
      "Accuracy: 0.845\n",
      "\n",
      "Overall Behavioral Accuracies:\n",
      "Delay 800ms: 0.845\n",
      "\n",
      "Processing delay: 1200ms\n",
      "\n",
      "Analyzing delay 1200ms...\n"
     ]
    },
    {
     "name": "stderr",
     "output_type": "stream",
     "text": [
      "delay_ms = 1200: 100%|██████████| 20/20 [00:00<00:00, 97.85it/s]\n"
     ]
    },
    {
     "name": "stdout",
     "output_type": "stream",
     "text": [
      "Accuracy: 0.821\n",
      "\n",
      "Overall Behavioral Accuracies:\n",
      "Delay 1200ms: 0.821\n",
      "Saved simple correlation plot: fc_layer/correlation_monkey_and_model_noise_ceiling_1/correlation_summary_simple.png\n",
      "\n",
      "Processing decay rate: 1.5\n",
      "Created results directory: fc_layer/correlation_monkey_and_model_noise_ceiling_1.5\n",
      "\n",
      "Processing delay: 100ms\n",
      "\n",
      "Analyzing delay 100ms...\n"
     ]
    },
    {
     "name": "stderr",
     "output_type": "stream",
     "text": [
      "delay_ms = 100: 100%|██████████| 20/20 [00:00<00:00, 60.33it/s]\n"
     ]
    },
    {
     "name": "stdout",
     "output_type": "stream",
     "text": [
      "Accuracy: 0.867\n",
      "\n",
      "Overall Behavioral Accuracies:\n",
      "Delay 100ms: 0.867\n",
      "\n",
      "Processing delay: 400ms\n",
      "\n",
      "Analyzing delay 400ms...\n"
     ]
    },
    {
     "name": "stderr",
     "output_type": "stream",
     "text": [
      "delay_ms = 400: 100%|██████████| 20/20 [00:00<00:00, 81.62it/s]\n"
     ]
    },
    {
     "name": "stdout",
     "output_type": "stream",
     "text": [
      "Accuracy: 0.854\n",
      "\n",
      "Overall Behavioral Accuracies:\n",
      "Delay 400ms: 0.854\n",
      "\n",
      "Processing delay: 800ms\n",
      "\n",
      "Analyzing delay 800ms...\n"
     ]
    },
    {
     "name": "stderr",
     "output_type": "stream",
     "text": [
      "delay_ms = 800: 100%|██████████| 20/20 [00:00<00:00, 97.97it/s]\n"
     ]
    },
    {
     "name": "stdout",
     "output_type": "stream",
     "text": [
      "Accuracy: 0.821\n",
      "\n",
      "Overall Behavioral Accuracies:\n",
      "Delay 800ms: 0.821\n",
      "\n",
      "Processing delay: 1200ms\n",
      "\n",
      "Analyzing delay 1200ms...\n"
     ]
    },
    {
     "name": "stderr",
     "output_type": "stream",
     "text": [
      "delay_ms = 1200: 100%|██████████| 20/20 [00:00<00:00, 101.61it/s]\n"
     ]
    },
    {
     "name": "stdout",
     "output_type": "stream",
     "text": [
      "Accuracy: 0.760\n",
      "\n",
      "Overall Behavioral Accuracies:\n",
      "Delay 1200ms: 0.760\n",
      "Saved simple correlation plot: fc_layer/correlation_monkey_and_model_noise_ceiling_1.5/correlation_summary_simple.png\n",
      "\n",
      "Processing decay rate: 2.5\n",
      "Created results directory: fc_layer/correlation_monkey_and_model_noise_ceiling_2.5\n",
      "\n",
      "Processing delay: 100ms\n",
      "\n",
      "Analyzing delay 100ms...\n"
     ]
    },
    {
     "name": "stderr",
     "output_type": "stream",
     "text": [
      "delay_ms = 100: 100%|██████████| 20/20 [00:00<00:00, 65.40it/s]\n"
     ]
    },
    {
     "name": "stdout",
     "output_type": "stream",
     "text": [
      "Accuracy: 0.865\n",
      "\n",
      "Overall Behavioral Accuracies:\n",
      "Delay 100ms: 0.865\n",
      "\n",
      "Processing delay: 400ms\n",
      "\n",
      "Analyzing delay 400ms...\n"
     ]
    },
    {
     "name": "stderr",
     "output_type": "stream",
     "text": [
      "delay_ms = 400: 100%|██████████| 20/20 [00:00<00:00, 94.70it/s]\n"
     ]
    },
    {
     "name": "stdout",
     "output_type": "stream",
     "text": [
      "Accuracy: 0.834\n",
      "\n",
      "Overall Behavioral Accuracies:\n",
      "Delay 400ms: 0.834\n",
      "\n",
      "Processing delay: 800ms\n",
      "\n",
      "Analyzing delay 800ms...\n"
     ]
    },
    {
     "name": "stderr",
     "output_type": "stream",
     "text": [
      "delay_ms = 800: 100%|██████████| 20/20 [00:00<00:00, 101.29it/s]\n"
     ]
    },
    {
     "name": "stdout",
     "output_type": "stream",
     "text": [
      "Accuracy: 0.733\n",
      "\n",
      "Overall Behavioral Accuracies:\n",
      "Delay 800ms: 0.733\n",
      "\n",
      "Processing delay: 1200ms\n",
      "\n",
      "Analyzing delay 1200ms...\n"
     ]
    },
    {
     "name": "stderr",
     "output_type": "stream",
     "text": [
      "delay_ms = 1200: 100%|██████████| 20/20 [00:00<00:00, 123.83it/s]\n"
     ]
    },
    {
     "name": "stdout",
     "output_type": "stream",
     "text": [
      "Accuracy: 0.585\n",
      "\n",
      "Overall Behavioral Accuracies:\n",
      "Delay 1200ms: 0.585\n",
      "Saved simple correlation plot: fc_layer/correlation_monkey_and_model_noise_ceiling_2.5/correlation_summary_simple.png\n",
      "\n",
      "Processing decay rate: 10\n",
      "Created results directory: fc_layer/correlation_monkey_and_model_noise_ceiling_10\n",
      "\n",
      "Processing delay: 100ms\n",
      "\n",
      "Analyzing delay 100ms...\n"
     ]
    },
    {
     "name": "stderr",
     "output_type": "stream",
     "text": [
      "delay_ms = 100: 100%|██████████| 20/20 [00:00<00:00, 94.49it/s]\n"
     ]
    },
    {
     "name": "stdout",
     "output_type": "stream",
     "text": [
      "Accuracy: 0.834\n",
      "\n",
      "Overall Behavioral Accuracies:\n",
      "Delay 100ms: 0.834\n",
      "\n",
      "Processing delay: 400ms\n",
      "\n",
      "Analyzing delay 400ms...\n"
     ]
    },
    {
     "name": "stderr",
     "output_type": "stream",
     "text": [
      "delay_ms = 400: 100%|██████████| 20/20 [00:00<00:00, 146.09it/s]\n"
     ]
    },
    {
     "name": "stdout",
     "output_type": "stream",
     "text": [
      "Accuracy: 0.515\n",
      "\n",
      "Overall Behavioral Accuracies:\n",
      "Delay 400ms: 0.515\n",
      "\n",
      "Processing delay: 800ms\n",
      "\n",
      "Analyzing delay 800ms...\n"
     ]
    },
    {
     "name": "stderr",
     "output_type": "stream",
     "text": [
      "delay_ms = 800: 100%|██████████| 20/20 [00:00<00:00, 163.77it/s]\n"
     ]
    },
    {
     "name": "stdout",
     "output_type": "stream",
     "text": [
      "Accuracy: 0.500\n",
      "\n",
      "Overall Behavioral Accuracies:\n",
      "Delay 800ms: 0.500\n",
      "\n",
      "Processing delay: 1200ms\n",
      "\n",
      "Analyzing delay 1200ms...\n"
     ]
    },
    {
     "name": "stderr",
     "output_type": "stream",
     "text": [
      "delay_ms = 1200: 100%|██████████| 20/20 [00:00<00:00, 183.84it/s]\n",
      "/tmp/ipykernel_805584/3623924547.py:129: ConstantInputWarning: An input array is constant; the correlation coefficient is not defined.\n",
      "  raw_corr, p_val = stats.pearsonr(model_data, monkey_data)\n"
     ]
    },
    {
     "name": "stdout",
     "output_type": "stream",
     "text": [
      "Accuracy: 0.500\n",
      "\n",
      "Overall Behavioral Accuracies:\n",
      "Delay 1200ms: 0.500\n",
      "Saved simple correlation plot: fc_layer/correlation_monkey_and_model_noise_ceiling_10/correlation_summary_simple.png\n",
      "\n",
      "Saved combined correlation plot: fc_layer/combined_correlation_summary.png\n"
     ]
    },
    {
     "data": {
      "image/png": "[encoded data removed]",
      "text/plain": [
       "<Figure size 800x800 with 1 Axes>"
      ]
     },
     "metadata": {},
     "output_type": "display_data"
    }
   ],
   "source": [
    "# Example usage\n",
    "delays = [100, 400, 800, 1200]\n",
    "\n",
    "decay_rates = [0.1, 1, 1.5, 2.5, 10]\n",
    "monkey_path = \"../hypothesis_wm_experiments/data/monkey_behavioral_data/\"\n",
    "reliability_base_dir = \"../hypothesis_wm_experiments/behavioral_metrics_results/\"\n",
    "all_results = process_all_decays_and_delays(\n",
    "    decay_rates=decay_rates,\n",
    "    delays=delays,\n",
    "    monkey_path=monkey_path,\n",
    "    reliability_base_dir=reliability_base_dir\n",
    ")"
   ]
  },
  {
   "cell_type": "code",
   "execution_count": 10,
   "metadata": {},
   "outputs": [
    {
     "data": {
      "image/png": "[encoded data removed]",
      "text/plain": [
       "<Figure size 1500x600 with 1 Axes>"
      ]
     },
     "metadata": {},
     "output_type": "display_data"
    }
   ],
   "source": [
    "import numpy as np\n",
    "import matplotlib.pyplot as plt\n",
    "\n",
    "def plot_stats(data, figsize=(15, 6)):\n",
    "    # Calculate mean and std across features (axis 1)\n",
    "    means = np.mean(data, axis=1)  # shape: (200,)\n",
    "    stds = np.std(data, axis=1)    # shape: (200,)\n",
    "    \n",
    "    # Create x-axis positions for bars\n",
    "    x = np.arange(len(means))\n",
    "    \n",
    "    # Create the plot\n",
    "    plt.figure(figsize=figsize)\n",
    "    \n",
    "    # Plot bars with error bars (no caps)\n",
    "    plt.bar(x, means, yerr=stds, capsize=0, alpha=0.7)\n",
    "    \n",
    "    # Add horizontal line at y=1.0\n",
    "    plt.axhline(y=1.0, color='r', linestyle='--', alpha=0.8)\n",
    "    \n",
    "    # Customize the plot\n",
    "    plt.xlabel('Image Index')\n",
    "    plt.ylabel('Value')\n",
    "    plt.title('Mean and Standard Deviation Across 20 Features')\n",
    "    \n",
    "    # Set x-ticks at reasonable intervals to avoid overcrowding\n",
    "    plt.xticks(np.arange(0, 200, 20))\n",
    "    \n",
    "    # Adjust layout to prevent label cutoff\n",
    "    plt.tight_layout()\n",
    "    \n",
    "    return plt\n",
    "\n",
    "# Assuming your data is stored in a variable called 'results'\n",
    "# Example usage:\n",
    "plot = plot_stats(results[100])\n",
    "plt.show()"
   ]
  },
  {
   "cell_type": "code",
   "execution_count": 20,
   "metadata": {},
   "outputs": [
    {
     "data": {
      "image/png": "[encoded data removed]",
      "text/plain": [
       "<Figure size 1500x600 with 1 Axes>"
      ]
     },
     "metadata": {},
     "output_type": "display_data"
    }
   ],
   "source": [
    "def find_high_predictions(data, threshold=1.0):\n",
    "    # Find images where any feature exceeds threshold\n",
    "    high_indices = np.where(np.any(data > threshold, axis=1))[0]\n",
    "    \n",
    "    # Calculate mean across features for these images\n",
    "    means = np.mean(data, axis=1)\n",
    "    high_means = means[high_indices]\n",
    "    \n",
    "    # Get maximum value for each high index\n",
    "    max_values = np.max(data[high_indices], axis=1)\n",
    "    \n",
    "    # Print results\n",
    "    print(f\"Found {len(high_indices)} images with at least one feature above {threshold}:\")\n",
    "    print(\"\\nIndex  |  Max Value  |  Mean Value\")\n",
    "    print(\"-\" * 40)\n",
    "    for idx, max_val, mean_val in zip(high_indices, max_values, high_means):\n",
    "        print(f\"{idx:5d}  |  {max_val:9.4f}  |  {mean_val:.4f}\")\n",
    "        \n",
    "    return high_indices, max_values\n",
    "\n",
    "def plot_stats_with_highlights(data, threshold=1.0, figsize=(15, 6)):\n",
    "    # Calculate mean and std across features\n",
    "    means = np.mean(data, axis=1)\n",
    "    stds = np.std(data, axis=1)\n",
    "    \n",
    "    # Create plot\n",
    "    plt.figure(figsize=figsize)\n",
    "    \n",
    "    # Calculate yerr with clipping\n",
    "    yerr_low = means\n",
    "    yerr_high = np.minimum(means + stds, np.ones_like(means)) - means\n",
    "    yerr = np.vstack((yerr_low - (means - stds), yerr_high))\n",
    "    \n",
    "    # Plot all bars\n",
    "    x = np.arange(len(means))\n",
    "    plt.bar(x, means, yerr=yerr, capsize=0, alpha=0.7, label='All Images')\n",
    "    \n",
    "    # Find images where any feature exceeds threshold\n",
    "    high_indices = np.where(np.any(data > threshold, axis=1))[0]\n",
    "    \n",
    "    # Highlight bars where any feature exceeds threshold\n",
    "    if len(high_indices) > 0:\n",
    "        yerr_high_subset = np.minimum(means[high_indices] + stds[high_indices], \n",
    "                                    np.ones_like(means[high_indices])) - means[high_indices]\n",
    "        yerr_subset = np.vstack((yerr_low[high_indices] - (means[high_indices] - stds[high_indices]), \n",
    "                               yerr_high_subset))\n",
    "        \n",
    "        plt.bar(high_indices, means[high_indices], yerr=yerr_subset,\n",
    "                capsize=0, alpha=0.7, color='r', \n",
    "                label=f'Has feature(s) above {threshold}')\n",
    "    \n",
    "    # Add horizontal line\n",
    "    plt.axhline(y=threshold, color='r', linestyle='--', alpha=0.8)\n",
    "    \n",
    "    # Set y-axis limits explicitly\n",
    "    plt.ylim(0, 1.05)  # Giving a tiny bit of padding above 1.0 for the line visibility\n",
    "    \n",
    "    # Customize plot\n",
    "    plt.xlabel('Image Index')\n",
    "    plt.ylabel('Value')\n",
    "    plt.title('Mean and Standard Deviation Across Features\\n(Red bars indicate images with any feature > 1.0)')\n",
    "    plt.xticks(np.arange(0, 200, 20))\n",
    "    plt.legend()\n",
    "    \n",
    "    plt.tight_layout()\n",
    "    return plt\n",
    "\n",
    "# Example usage:\n",
    "# high_indices, max_values = find_high_predictions(results[100])\n",
    "\n",
    "\n",
    "plot = plot_stats_with_highlights(results[100])\n",
    "plt.show()"
   ]
  },
  {
   "cell_type": "code",
   "execution_count": 53,
   "metadata": {},
   "outputs": [
    {
     "name": "stdout",
     "output_type": "stream",
     "text": [
      "Created results directory: correlation_monkey_and_model_noise_ceiling_0.1\n",
      "\n",
      "Processing delay: 100ms\n",
      "\n",
      "Analyzing delay 100ms...\n"
     ]
    },
    {
     "name": "stderr",
     "output_type": "stream",
     "text": [
      "delay_ms = 100: 100%|██████████| 20/20 [00:35<00:00,  1.79s/it]\n"
     ]
    },
    {
     "name": "stdout",
     "output_type": "stream",
     "text": [
      "Accuracy: 0.692\n",
      "\n",
      "Overall Behavioral Accuracies:\n",
      "Delay 100ms: 0.692\n",
      "\n",
      "Processing delay: 400ms\n",
      "\n",
      "Analyzing delay 400ms...\n"
     ]
    },
    {
     "name": "stderr",
     "output_type": "stream",
     "text": [
      "delay_ms = 400: 100%|██████████| 20/20 [00:32<00:00,  1.61s/it]\n"
     ]
    },
    {
     "name": "stdout",
     "output_type": "stream",
     "text": [
      "Accuracy: 0.691\n",
      "\n",
      "Overall Behavioral Accuracies:\n",
      "Delay 400ms: 0.691\n",
      "\n",
      "Processing delay: 800ms\n",
      "\n",
      "Analyzing delay 800ms...\n"
     ]
    },
    {
     "name": "stderr",
     "output_type": "stream",
     "text": [
      "delay_ms = 800: 100%|██████████| 20/20 [00:31<00:00,  1.60s/it]\n"
     ]
    },
    {
     "name": "stdout",
     "output_type": "stream",
     "text": [
      "Accuracy: 0.690\n",
      "\n",
      "Overall Behavioral Accuracies:\n",
      "Delay 800ms: 0.690\n",
      "\n",
      "Processing delay: 1200ms\n",
      "\n",
      "Analyzing delay 1200ms...\n"
     ]
    },
    {
     "name": "stderr",
     "output_type": "stream",
     "text": [
      "delay_ms = 1200: 100%|██████████| 20/20 [00:31<00:00,  1.55s/it]\n"
     ]
    },
    {
     "name": "stdout",
     "output_type": "stream",
     "text": [
      "Accuracy: 0.689\n",
      "\n",
      "Overall Behavioral Accuracies:\n",
      "Delay 1200ms: 0.689\n",
      "Saved corrected correlation summary plot: correlation_monkey_and_model_noise_ceiling_0.1/correlation_summary_corrected.png\n"
     ]
    },
    {
     "data": {
      "text/plain": [
       "('correlation_monkey_and_model_noise_ceiling_0.1',\n",
       " {'100': {'raw_correlation': 0.2594286518978503,\n",
       "   'corrected_correlation': 0.27508342830513277,\n",
       "   'correlation_std': 0.002035711732759544,\n",
       "   'p_value': 0.000207592186765744},\n",
       "  '400': {'raw_correlation': 0.25681539749927035,\n",
       "   'corrected_correlation': 0.29863579796520034,\n",
       "   'correlation_std': 0.006062768643861689,\n",
       "   'p_value': 0.00024168424077008175},\n",
       "  '800': {'raw_correlation': 0.1670664346897176,\n",
       "   'corrected_correlation': 0.20704235679646263,\n",
       "   'correlation_std': 0.006128318633590973,\n",
       "   'p_value': 0.018053978108560208},\n",
       "  '1200': {'raw_correlation': 0.16729482752953734,\n",
       "   'corrected_correlation': 0.21749544427985382,\n",
       "   'correlation_std': 0.007969508915898121,\n",
       "   'p_value': 0.01789478700743263}})"
      ]
     },
     "execution_count": 53,
     "metadata": {},
     "output_type": "execute_result"
    }
   ],
   "source": [
    "def load_reliability_data(delay: int, base_dir: str = \"behavioral_metrics_results\") -> np.ndarray:\n",
    "    \"\"\"Load reliability data for a specific delay\"\"\"\n",
    "    reliability_path = os.path.join(base_dir, f'delay_{delay}ms/bi1/reliabilities.npy')\n",
    "    return np.load(reliability_path)\n",
    "\n",
    "def load_model_data(delay: int, decay:float):\n",
    "    analyzer = DecayAnalyzer(decay=decay)\n",
    "    results, accuracies = analyzer.analyze_all_delays([delay])\n",
    "    return np.nanmean(results[delay], axis=1)\n",
    "\n",
    "def load_monkey_data(delay: int, base_dir: str):\n",
    "    monkey_template = \"b_i1_delay_{}.npy\"\n",
    "    monkey_template = monkey_template.format(delay)\n",
    "    monkey_file = os.path.join(base_dir, monkey_template)\n",
    "    monkey_data = np.load(monkey_file)\n",
    "    return monkey_data.ravel()\n",
    "\n",
    "def calculate_corrected_correlation(\n",
    "    model_data: np.ndarray,\n",
    "    monkey_data: np.ndarray,\n",
    "    monkey_reliability: np.ndarray\n",
    "):\n",
    "    \"\"\"\n",
    "    Calculate noise-ceiling corrected correlation and its standard deviation\n",
    "    \"\"\"\n",
    "    # Calculate raw correlation\n",
    "    raw_corr, p_val = stats.pearsonr(model_data, monkey_data)\n",
    "    \n",
    "    # Calculate corrected correlations for each reliability value\n",
    "    corrected_corrs = []\n",
    "    for rel in monkey_reliability:\n",
    "        # Correct correlation by dividing by sqrt(reliability)\n",
    "        corrected_corr = raw_corr / np.sqrt(rel)\n",
    "        # Ensure correlation doesn't exceed 1\n",
    "        corrected_corr = min(corrected_corr, 1.0)\n",
    "        corrected_corrs.append(corrected_corr)\n",
    "    \n",
    "    # Calculate mean and std of corrected correlations\n",
    "    mean_corrected = np.mean(corrected_corrs)\n",
    "    std_corrected = np.std(corrected_corrs)\n",
    "    \n",
    "    return raw_corr, mean_corrected, std_corrected, p_val\n",
    "\n",
    "def create_results_directory(decay: float):\n",
    "    \"\"\"\n",
    "    Create a directory for storing correlation results.\n",
    "    Returns the path to the created directory.\n",
    "    \"\"\"\n",
    "    base_dir = \"correlation_monkey_and_model_noise_ceiling\"\n",
    "    # Add timestamp to avoid overwriting\n",
    "    timestamp = datetime.now().strftime(\"%Y%m%d_%H%M%S\")\n",
    "    # results_dir = f\"{base_dir}_{timestamp}\"\n",
    "    results_dir = f\"{base_dir}_{decay}\"\n",
    "    \n",
    "    \n",
    "    # Create directory if it doesn't exist\n",
    "    if not os.path.exists(results_dir):\n",
    "        os.makedirs(results_dir)\n",
    "        print(f\"Created results directory: {results_dir}\")\n",
    "    \n",
    "    return results_dir\n",
    "\n",
    "def plot_correlation_summary_with_error(\n",
    "    results,\n",
    "    results_dir: str,\n",
    "    filename: str = 'correlation_summary_simple.png'\n",
    "):\n",
    "    \"\"\"\n",
    "    Create a simple bar plot with error bars from correlation results\n",
    "    \"\"\"\n",
    "    plt.figure(figsize=(10, 6))\n",
    "    \n",
    "    # Extract data\n",
    "    delays = [int(delay) for delay in results.keys()]\n",
    "    correlations = [result['corrected_correlation'] for result in results.values()]\n",
    "    errors = [result['correlation_std'] for result in results.values()]\n",
    "    \n",
    "    # Create bar plot with error bars\n",
    "    plt.bar(delays, correlations,\n",
    "            width=200,\n",
    "            edgecolor='black',\n",
    "            linewidth=1.5,\n",
    "            yerr=errors,\n",
    "            capsize=0,\n",
    "            error_kw={'linewidth': 1.5})\n",
    "    \n",
    "    # Save plot\n",
    "    save_path = os.path.join(results_dir, filename)\n",
    "    plt.savefig(save_path, dpi=300, bbox_inches='tight')\n",
    "    plt.close()\n",
    "    \n",
    "    print(f\"Saved simple correlation plot: {save_path}\")\n",
    "\n",
    "\n",
    "def plot_correlation(model_data, monkey_data, delay, r, p):\n",
    "    \"\"\"\n",
    "    Create a scatter plot of model vs monkey behavioral data.\n",
    "    \n",
    "    Parameters:\n",
    "    -----------\n",
    "    model_data : array-like\n",
    "        Model behavioral data\n",
    "    monkey_data : array-like\n",
    "        Monkey behavioral data\n",
    "    delay : int\n",
    "        Delay time in milliseconds\n",
    "    r : float\n",
    "        Correlation coefficient\n",
    "    p : float\n",
    "        P-value of correlation\n",
    "    \"\"\"\n",
    "    plt.figure(figsize=(8, 8))\n",
    "    \n",
    "    # Create scatter plot\n",
    "    sns.scatterplot(x=monkey_data, y=model_data, alpha=0.5)\n",
    "    \n",
    "    # Add correlation line\n",
    "    z = np.polyfit(monkey_data, model_data, 1)\n",
    "    p_fit = np.poly1d(z)\n",
    "    plt.plot(monkey_data, p_fit(monkey_data), \"r--\", alpha=0.8, label='Correlation Line')\n",
    "    \n",
    "    # Add labels and title\n",
    "    plt.xlabel('Monkey Behavior')\n",
    "    plt.ylabel('Model Behavior')\n",
    "    plt.title(f'Model vs Monkey Behavior Correlation\\nDelay: {delay}ms, r={r:.3f}, p={p:.3e}')\n",
    "    \n",
    "    # Add unity line\n",
    "    min_val = min(plt.xlim()[0], plt.ylim()[0])\n",
    "    max_val = max(plt.xlim()[1], plt.ylim()[1])\n",
    "    plt.plot([min_val, max_val], [min_val, max_val], 'k--', alpha=0.3, label='Unity Line')\n",
    "    \n",
    "    plt.legend()\n",
    "    plt.grid(True, alpha=0.3)\n",
    "    plt.tight_layout()\n",
    "    plt.xticks(fontsize=12)\n",
    "    plt.yticks(fontsize=12)\n",
    "    plt.gca().spines[\"top\"].set_visible(False)\n",
    "    plt.gca().spines[\"right\"].set_visible(False)\n",
    "    \n",
    "    return plt.gcf()\n",
    "\n",
    "def process_all_delays_with_reliability(\n",
    "    delays,\n",
    "    monkey_path: str,\n",
    "    decay: float = 1.5,\n",
    "    reliability_base_dir: str = \"behavioral_metrics_results\"\n",
    "):\n",
    "    \"\"\"\n",
    "    Process and save results for all delays with reliability correction\n",
    "    \"\"\"\n",
    "    # Create results directory\n",
    "    results_dir = create_results_directory(decay=decay)\n",
    "    \n",
    "    # Dictionary to store all results\n",
    "    all_results = {}\n",
    "    \n",
    "    # Process each delay\n",
    "    for delay in delays:\n",
    "        print(f\"\\nProcessing delay: {delay}ms\")\n",
    "        \n",
    "        # Load behavior data\n",
    "        monkey_data = load_monkey_data(delay=delay, base_dir=monkey_path)\n",
    "        model_data = load_model_data(delay=delay, decay=decay)\n",
    "        \n",
    "        # Load reliability data\n",
    "        reliability_data = load_reliability_data(delay=delay, base_dir=reliability_base_dir)\n",
    "\n",
    "        \n",
    "        # Calculate corrected correlation\n",
    "        raw_r, corrected_r, r_std, p_value = calculate_corrected_correlation(\n",
    "            model_data, monkey_data, reliability_data\n",
    "        )\n",
    "        \n",
    "        # Store results\n",
    "        all_results[str(delay)] = {\n",
    "            'raw_correlation': float(raw_r),\n",
    "            'corrected_correlation': float(corrected_r),\n",
    "            'correlation_std': float(r_std),\n",
    "            'p_value': float(p_value)\n",
    "        }\n",
    "        \n",
    "        # Create and save individual correlation plots\n",
    "        fig = plot_correlation(model_data, monkey_data, delay, corrected_r, p_value)\n",
    "        plot_filename = os.path.join(results_dir, f'correlation_plot_{delay}ms.png')\n",
    "        fig.savefig(plot_filename)\n",
    "        plt.close(fig)\n",
    "        \n",
    "        # Save raw data\n",
    "        data_filename = os.path.join(results_dir, f'correlation_data_{delay}ms.npz')\n",
    "        np.savez(data_filename,\n",
    "                 model_data=model_data,\n",
    "                 monkey_data=monkey_data,\n",
    "                 reliability_data=reliability_data)\n",
    "    \n",
    "    # Create and save summary plot with error bars\n",
    "    plot_correlation_summary_with_error(all_results, results_dir)\n",
    "    \n",
    "    # Save summary results\n",
    "    results_filename = os.path.join(results_dir, 'correlation_results.json')\n",
    "    with open(results_filename, 'w') as f:\n",
    "        json.dump(all_results, f, indent=4)\n",
    "    \n",
    "    return results_dir, all_results\n",
    "\n",
    "# delay = 100\n",
    "\n",
    "# base_dir = \"../hypothesis_wm_experiments/data/monkey_behavioral_data/\"\n",
    "# monkey_data = load_monkey_data(delay=delay, base_dir=base_dir)\n",
    "# print(f\"{monkey_data.shape = }\")\n",
    "\n",
    "# base_dir = \"../hypothesis_wm_experiments/behavioral_metrics_results/\"\n",
    "# monkey_reliability = load_reliability_data(delay=delay, base_dir=base_dir)\n",
    "# print(f\"{monkey_reliability.shape = }\")\n",
    "\n",
    "# model_data = load_model_data(delay=delay, decay=1.5)\n",
    "# print(f\"{model_data.shape = }\")\n",
    "\n",
    "delays = [100, 400, 800, 1200]\n",
    "monkey_path = \"../hypothesis_wm_experiments/data/monkey_behavioral_data/\"\n",
    "decay = 0.1\n",
    "reliability_base_dir = \"../hypothesis_wm_experiments/behavioral_metrics_results/\"\n",
    "process_all_delays_with_reliability(delays=delays, monkey_path=monkey_path, decay=decay, reliability_base_dir=reliability_base_dir)"
   ]
  },
  {
   "cell_type": "code",
   "execution_count": 33,
   "metadata": {},
   "outputs": [
    {
     "data": {
      "image/png": "[encoded data removed]",
      "text/plain": [
       "<Figure size 1000x800 with 1 Axes>"
      ]
     },
     "metadata": {},
     "output_type": "display_data"
    }
   ],
   "source": [
    "def plot_correlation(monkey_data, model_data, delay, decay=1.5, figsize=(10, 8)):\n",
    "    # Calculate correlation for the title\n",
    "    corr, p_val = stats.pearsonr(monkey_data.ravel(), model_data)\n",
    "    \n",
    "    # Create the plot\n",
    "    plt.figure(figsize=figsize)\n",
    "    \n",
    "    # Create scatter plot\n",
    "    plt.scatter(monkey_data.ravel(), model_data, alpha=0.5)\n",
    "    \n",
    "    # Add line of best fit\n",
    "    z = np.polyfit(monkey_data.ravel(), model_data, 1)\n",
    "    p = np.poly1d(z)\n",
    "    x_range = np.linspace(monkey_data.min(), monkey_data.max(), 100)\n",
    "    plt.plot(x_range, p(x_range), 'r--', alpha=0.8)\n",
    "    \n",
    "    # Add labels and title\n",
    "    plt.xlabel('Monkey Performance')\n",
    "    plt.ylabel('Model Performance')\n",
    "    plt.title(f'Model vs Monkey Performance Correlation\\nDelay={delay}ms, r={corr:.3f}, p={p_val:.3e}')\n",
    "    \n",
    "    # Add grid\n",
    "    plt.grid(False)\n",
    "    \n",
    "    # Make plot square\n",
    "    plt.axis('square')\n",
    "    \n",
    "    # Add identity line (y=x)\n",
    "    min_val = min(monkey_data.min(), model_data.min())\n",
    "    max_val = max(monkey_data.max(), model_data.max())\n",
    "    plt.plot([min_val, max_val], [min_val, max_val], 'k--', alpha=0.3)\n",
    "    \n",
    "    # Set axes limits\n",
    "    plt.xlim(min_val, max_val)\n",
    "    plt.ylim(min_val, max_val)\n",
    "    \n",
    "    plt.tight_layout()\n",
    "    return plt\n",
    "\n",
    "# Example usage\n",
    "plot = plot_correlation(monkey_data, model_data, delay=delay)\n",
    "plt.show()"
   ]
  }
 ],
 "metadata": {
  "kernelspec": {
   "display_name": "Python 3 (ipykernel)",
   "language": "python",
   "name": "python3"
  },
  "language_info": {
   "codemirror_mode": {
    "name": "ipython",
    "version": 3
   },
   "file_extension": ".py",
   "mimetype": "text/x-python",
   "name": "python",
   "nbconvert_exporter": "python",
   "pygments_lexer": "ipython3",
   "version": "3.11.5"
  }
 },
 "nbformat": 4,
 "nbformat_minor": 4
}
