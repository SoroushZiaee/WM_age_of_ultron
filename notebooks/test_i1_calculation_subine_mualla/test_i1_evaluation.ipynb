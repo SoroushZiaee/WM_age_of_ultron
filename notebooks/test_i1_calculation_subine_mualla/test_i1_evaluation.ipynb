{
 "cells": [
  {
   "cell_type": "code",
   "execution_count": null,
   "id": "0a096245-01e7-49bd-8f1d-7942282b84b2",
   "metadata": {},
   "outputs": [],
   "source": [
    "%load_ext autoreload\n",
    "%autoreload 2"
   ]
  },
  {
   "cell_type": "code",
   "execution_count": 2,
   "id": "2f251870-416d-4cee-a726-aea410fc1ac9",
   "metadata": {},
   "outputs": [
    {
     "name": "stdout",
     "output_type": "stream",
     "text": [
      "Looking in links: /cvmfs/soft.computecanada.ca/custom/python/wheelhouse/gentoo2023/x86-64-v3, /cvmfs/soft.computecanada.ca/custom/python/wheelhouse/gentoo2023/generic, /cvmfs/soft.computecanada.ca/custom/python/wheelhouse/generic\n",
      "Requirement already satisfied: pandas in /localscratch/soroush1.38623963.0/env/lib/python3.11/site-packages (2.2.2+computecanada)\n",
      "Requirement already satisfied: numpy in /localscratch/soroush1.38623963.0/env/lib/python3.11/site-packages (1.26.4+computecanada)\n",
      "Requirement already satisfied: python-dateutil>=2.8.2 in /localscratch/soroush1.38623963.0/env/lib/python3.11/site-packages (from pandas) (2.9.0.post0+computecanada)\n",
      "Requirement already satisfied: pytz>=2020.1 in /localscratch/soroush1.38623963.0/env/lib/python3.11/site-packages (from pandas) (2024.2+computecanada)\n",
      "Requirement already satisfied: tzdata>=2022.7 in /localscratch/soroush1.38623963.0/env/lib/python3.11/site-packages (from pandas) (2024.2+computecanada)\n",
      "Requirement already satisfied: six>=1.5 in /localscratch/soroush1.38623963.0/env/lib/python3.11/site-packages (from python-dateutil>=2.8.2->pandas) (1.17.0+computecanada)\n"
     ]
    }
   ],
   "source": [
    "# !pip install --no-index scikit-learn\n",
    "# !pip install --no-index seaborn\n",
    "!pip install --no-index pandas numpy"
   ]
  },
  {
   "cell_type": "code",
   "execution_count": 15,
   "id": "85803f0f-4602-4431-91a0-2c4cab96f216",
   "metadata": {},
   "outputs": [],
   "source": [
    "import numpy as np\n",
    "from scipy import stats\n",
    "import h5py\n",
    "import matplotlib.pyplot as plt\n",
    "import seaborn as sns\n",
    "import torch\n",
    "from decode_utils import decode, get_percent_correct_from_proba, get_fa, get_dprime, get_train_test_indices\n",
    "from tqdm import tqdm\n",
    "from scipy.stats import zscore, norm\n",
    "import h5py\n",
    "#from sklearn.multiclass import OneVsRestClassifier\n",
    "from sklearn.linear_model import LogisticRegression \n",
    "from sklearn.multiclass import OneVsRestClassifier\n",
    "from sklearn.svm import SVC\n",
    "from scipy.stats import zscore, norm\n",
    "from sklearn import preprocessing\n",
    "import os\n",
    "from datetime import datetime\n",
    "import json\n",
    "import logging"
   ]
  },
  {
   "cell_type": "code",
   "execution_count": 11,
   "id": "8067ce14-8ac7-42dd-9162-5d608f5c90a8",
   "metadata": {},
   "outputs": [
    {
     "name": "stdout",
     "output_type": "stream",
     "text": [
      "Successfully opened file in recovery mode\n",
      "Successfully loaded dataset: features\n",
      "\n",
      "Successfully loaded datasets:\n",
      "features: Shape (1320, 100352), Type float32\n"
     ]
    }
   ],
   "source": [
    "import h5py\n",
    "import numpy as np\n",
    "import os\n",
    "\n",
    "def load_h5_file(file_path, recover=True):\n",
    "    \"\"\"\n",
    "    Load and read data from an H5 file with recovery options.\n",
    "    \n",
    "    Args:\n",
    "        file_path (str): Path to the .h5 file\n",
    "        recover (bool): Whether to attempt recovery of corrupted file\n",
    "        \n",
    "    Returns:\n",
    "        dict: Dictionary containing the datasets from the file\n",
    "    \"\"\"\n",
    "    data = {}\n",
    "    \n",
    "    # First try with error recovery mode\n",
    "    if recover:\n",
    "        try:\n",
    "            with h5py.File(file_path, 'r', driver='core', backing_store=False) as f:\n",
    "                print(\"Successfully opened file in recovery mode\")\n",
    "                for key in f.keys():\n",
    "                    try:\n",
    "                        data[key] = f[key][:]\n",
    "                        print(f\"Successfully loaded dataset: {key}\")\n",
    "                    except Exception as e:\n",
    "                        print(f\"Warning: Could not load dataset {key}: {e}\")\n",
    "                return data\n",
    "        except Exception as e:\n",
    "            print(f\"Recovery mode failed: {e}\")\n",
    "    \n",
    "    # If recovery failed or wasn't requested, try standard mode\n",
    "    try:\n",
    "        with h5py.File(file_path, 'r') as f:\n",
    "            for key in f.keys():\n",
    "                data[key] = f[key][:]\n",
    "        return data\n",
    "    except Exception as e:\n",
    "        print(f\"Standard mode failed: {e}\")\n",
    "        \n",
    "    # If both methods fail, try to get file info\n",
    "    try:\n",
    "        file_size = os.path.getsize(file_path)\n",
    "        print(f\"\\nFile diagnostics:\")\n",
    "        print(f\"File size: {file_size} bytes\")\n",
    "        print(f\"File exists: {os.path.exists(file_path)}\")\n",
    "        print(f\"File is readable: {os.access(file_path, os.R_OK)}\")\n",
    "        \n",
    "        # Try to read raw bytes to check if file is truncated\n",
    "        with open(file_path, 'rb') as f:\n",
    "            header = f.read(8)\n",
    "            if header.startswith(b'\\x89HDF\\r\\n\\x1a\\n'):\n",
    "                print(\"File has valid HDF5 header signature\")\n",
    "            else:\n",
    "                print(\"File does not have valid HDF5 header signature\")\n",
    "    except Exception as e:\n",
    "        print(f\"Could not perform file diagnostics: {e}\")\n",
    "    \n",
    "    raise Exception(\"Failed to load H5 file through all available methods\")\n",
    "\n",
    "# Example usage with error handling\n",
    "# if __name__ == \"__main__\":\n",
    "file_path = \"muri1320_resnet50_diffInitRes0_IT.h5\"\n",
    "models_feature = None\n",
    "try:\n",
    "    # Try to load with recovery mode\n",
    "    data = load_h5_file(file_path, recover=True)\n",
    "    print(\"\\nSuccessfully loaded datasets:\")\n",
    "    for key, value in data.items():\n",
    "        print(f\"{key}: Shape {value.shape}, Type {value.dtype}\")\n",
    "\n",
    "    models_feature = value.copy()\n",
    "except Exception as e:\n",
    "    print(f\"\\nError: {e}\")\n",
    "    print(\"\\nPossible solutions:\")\n",
    "    print(\"1. Check if the file was properly closed when it was created\")\n",
    "    print(\"2. Try to recreate the HDF5 file\")\n",
    "    print(\"3. Use h5repack tool to repair the file: h5repack input.h5 output.h5\")\n",
    "    print(\"4. Check if you have sufficient permissions to read the file\")"
   ]
  },
  {
   "cell_type": "code",
   "execution_count": 20,
   "id": "87952776-604a-4487-9c8c-1ebeebf3db37",
   "metadata": {},
   "outputs": [],
   "source": [
    "class I1Calculator:\n",
    "    def __init__(self, features):\n",
    "        self.logger = self._setup_logger()\n",
    "        self.lb = ['bear', 'elephant', 'person', 'car', 'dog', 'apple', 'chair', 'plane', 'bird', 'zebra']\n",
    "        self.features = features\n",
    "        \n",
    "    def _setup_logger(self):\n",
    "        \"\"\"Set up a logger for debugging.\"\"\"\n",
    "        logging.basicConfig(\n",
    "            level=logging.INFO,\n",
    "            format='%(asctime)s - %(levelname)s - %(message)s',\n",
    "            filename='ml_debug.log'\n",
    "        )\n",
    "        return logging.getLogger('MLDebug')\n",
    "    \n",
    "    def analyze_single(self):\n",
    "        \"\"\"Analyze a single condition.\"\"\"\n",
    "        # Load and prepare features\n",
    "        features, labels = self._load_features()\n",
    "        nrImages = features.shape[0]\n",
    "        features = features.reshape(nrImages, -1)\n",
    "        \n",
    "        # Initialize result array\n",
    "        i_1 = np.zeros((nrImages, 20), dtype=float)\n",
    "        i_1[:] = np.NAN\n",
    "        \n",
    "        # Perform decoding iterations\n",
    "        for j in tqdm(range(20), desc=f\"\"):\n",
    "            p = self._decode(features, labels, seed=j, nrfolds=3)\n",
    "            pc = self._get_percent_correct(p, labels)\n",
    "            i_1[:,j] = np.nanmean(pc, axis=1)\n",
    "        \n",
    "        overall_accuracy = np.nanmean(i_1)\n",
    "        return i_1, overall_accuracy\n",
    "    \n",
    "    def _load_features(self):\n",
    "        \"\"\"Load features from file.\"\"\"\n",
    "        final_labels = [label for label in self.lb for _ in range(132)]\n",
    "\n",
    "        return self.features, np.array(final_labels)\n",
    "    \n",
    "    def _decode(self, features, labels, nrfolds=3, seed=0):\n",
    "        \"\"\"Perform decoding while preserving relative scales.\"\"\"\n",
    "        classes = np.unique(labels)\n",
    "        nrImages = features.shape[0]\n",
    "        \n",
    "        # Center features but preserve scale\n",
    "        features = features - np.mean(features, axis=0, keepdims=True)\n",
    "        \n",
    "        # Initialize probability array\n",
    "        prob = np.zeros((nrImages, len(classes)))\n",
    "        prob[:] = np.NAN\n",
    "        \n",
    "        # Perform cross-validation\n",
    "        for i in range(nrfolds):\n",
    "            train, test = get_train_test_indices(nrImages, nrfolds=nrfolds, foldnumber=i, seed=seed)\n",
    "            \n",
    "            # Train classifier\n",
    "            clf = LogisticRegression(\n",
    "                penalty='l2',\n",
    "                C=1.0,\n",
    "                max_iter=1000,\n",
    "                class_weight='balanced'\n",
    "            ).fit(features[train], labels[train])\n",
    "            \n",
    "            # Predict probabilities\n",
    "            prob[test] = clf.predict_proba(features[test])\n",
    "        \n",
    "        return prob\n",
    "    \n",
    "    def _get_percent_correct(self, prob, labels):\n",
    "        \"\"\"Calculate percent correct from probabilities.\"\"\"\n",
    "        return get_percent_correct_from_proba(prob, labels, np.array(self.lb))\n",
    "\n",
    "\n",
    "i1_calculator = I1Calculator(models_feature)"
   ]
  },
  {
   "cell_type": "code",
   "execution_count": 21,
   "id": "84faf82a-316d-44e2-88f0-3307f62d15a9",
   "metadata": {},
   "outputs": [
    {
     "name": "stderr",
     "output_type": "stream",
     "text": [
      "100%|██████████| 20/20 [04:03<00:00, 12.17s/it]\n"
     ]
    }
   ],
   "source": [
    "i_1, overall_accuracy = i1_calculator.analyze_single()"
   ]
  },
  {
   "cell_type": "code",
   "execution_count": 22,
   "id": "22e72f2b-4198-4fd5-bf5c-4b8e1c0d3844",
   "metadata": {},
   "outputs": [],
   "source": [
    "sabine_i1_features = np.load(\"resnet50_i1.npy\")"
   ]
  },
  {
   "cell_type": "code",
   "execution_count": 32,
   "id": "53a1813e-1906-4836-9aa0-d452b3cac948",
   "metadata": {},
   "outputs": [
    {
     "data": {
      "image/png": "[encoded data removed]",
      "text/plain": [
       "<Figure size 640x480 with 1 Axes>"
      ]
     },
     "metadata": {},
     "output_type": "display_data"
    }
   ],
   "source": [
    "plt.hist(sabine_i1_features - i_1, bins=30)\n",
    "plt.show()"
   ]
  },
  {
   "cell_type": "code",
   "execution_count": null,
   "id": "520dd23a-0036-415f-a389-6530cba2962b",
   "metadata": {},
   "outputs": [],
   "source": [
    "np.save(\"soroush_resnet50_i1.npy\", i_1)"
   ]
  },
  {
   "cell_type": "code",
   "execution_count": null,
   "id": "ac82ddc7-f32c-4cc5-a28a-17ca491e6f1e",
   "metadata": {},
   "outputs": [],
   "source": []
  }
 ],
 "metadata": {
  "kernelspec": {
   "display_name": "Python 3 (ipykernel)",
   "language": "python",
   "name": "python3"
  },
  "language_info": {
   "codemirror_mode": {
    "name": "ipython",
    "version": 3
   },
   "file_extension": ".py",
   "mimetype": "text/x-python",
   "name": "python",
   "nbconvert_exporter": "python",
   "pygments_lexer": "ipython3",
   "version": "3.11.5"
  }
 },
 "nbformat": 4,
 "nbformat_minor": 5
}
