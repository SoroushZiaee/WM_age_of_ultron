{
 "cells": [
  {
   "cell_type": "code",
   "execution_count": 1,
   "id": "7845fdef-7b34-4eb7-83dd-d4ce21e7eada",
   "metadata": {},
   "outputs": [
    {
     "name": "stdout",
     "output_type": "stream",
     "text": [
      "Dataset split complete. Train set: 1400, Test set: 200\n"
     ]
    }
   ],
   "source": [
    "import os\n",
    "import shutil\n",
    "import pandas as pd\n",
    "from sklearn.model_selection import train_test_split\n",
    "\n",
    "def split_dataset(meta_file, img_dir, output_dir, test_size=200):\n",
    "    # Read the metadata\n",
    "    df = pd.read_csv(meta_file)\n",
    "    \n",
    "    # Create train and test directories\n",
    "    train_dir = os.path.join(output_dir, 'train_coco1600')\n",
    "    test_dir = os.path.join(output_dir, 'test_coco1600')\n",
    "    os.makedirs(train_dir, exist_ok=True)\n",
    "    os.makedirs(test_dir, exist_ok=True)\n",
    "\n",
    "    # Create image directories\n",
    "    train_img_dir = os.path.join(train_dir, 'images_cocogray')\n",
    "    test_img_dir = os.path.join(test_dir, 'images_cocogray')\n",
    "    os.makedirs(train_img_dir, exist_ok=True)\n",
    "    os.makedirs(test_img_dir, exist_ok=True)\n",
    "\n",
    "    # Split the dataset\n",
    "    classes = df['obj'].unique()\n",
    "    train_data = []\n",
    "    test_data = []\n",
    "\n",
    "    for cls in classes:\n",
    "        class_data = df[df['obj'] == cls]\n",
    "        class_test = class_data.sample(n=20)\n",
    "        class_train = class_data.drop(class_test.index)\n",
    "        \n",
    "        train_data.append(class_train)\n",
    "        test_data.append(class_test)\n",
    "\n",
    "    train_df = pd.concat(train_data)\n",
    "    test_df = pd.concat(test_data)\n",
    "\n",
    "    # Copy images and create new metadata files\n",
    "    def process_set(data, img_src_dir, img_dest_dir, meta_file_name):\n",
    "        for _, row in data.iterrows():\n",
    "            img_name = row['image_names']\n",
    "            src_path = os.path.join(img_src_dir, img_name)\n",
    "            dest_path = os.path.join(img_dest_dir, img_name)\n",
    "            shutil.copy2(src_path, dest_path)\n",
    "        \n",
    "        meta_path = os.path.join(os.path.dirname(img_dest_dir), meta_file_name)\n",
    "        data.to_csv(meta_path, index=False)\n",
    "\n",
    "    process_set(train_df, img_dir, train_img_dir, 'coco1400_meta.csv')\n",
    "    process_set(test_df, img_dir, test_img_dir, 'coco200_meta.csv')\n",
    "\n",
    "    print(f\"Dataset split complete. Train set: {len(train_df)}, Test set: {len(test_df)}\")\n",
    "\n",
    "# Usage\n",
    "meta_file = 'data/coco1600/coco1600_meta.csv'\n",
    "img_dir = 'data/coco1600/images_cocogray'\n",
    "output_dir = 'data/split_dataset'\n",
    "\n",
    "split_dataset(meta_file, img_dir, output_dir)"
   ]
  }
 ],
 "metadata": {
  "kernelspec": {
   "display_name": "Python 3 (ipykernel)",
   "language": "python",
   "name": "python3"
  },
  "language_info": {
   "codemirror_mode": {
    "name": "ipython",
    "version": 3
   },
   "file_extension": ".py",
   "mimetype": "text/x-python",
   "name": "python",
   "nbconvert_exporter": "python",
   "pygments_lexer": "ipython3",
   "version": "3.11.5"
  }
 },
 "nbformat": 4,
 "nbformat_minor": 5
}
