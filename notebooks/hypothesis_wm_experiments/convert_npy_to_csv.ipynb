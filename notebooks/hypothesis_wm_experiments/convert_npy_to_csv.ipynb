{
 "cells": [
  {
   "cell_type": "code",
   "execution_count": 2,
   "id": "e1f3e10b-ad26-4104-85ee-c906d2e9fd45",
   "metadata": {},
   "outputs": [
    {
     "name": "stdout",
     "output_type": "stream",
     "text": [
      "Found 8 .npy files\n",
      "Converted b_i1_delay_100.npy -> b_i1_delay_100.csv\n",
      "Converted b_i2_delay_800.npy -> b_i2_delay_800.csv\n",
      "Converted b_i2_delay_400.npy -> b_i2_delay_400.csv\n",
      "Converted b_i1_delay_1200.npy -> b_i1_delay_1200.csv\n",
      "Converted b_i2_delay_100.npy -> b_i2_delay_100.csv\n",
      "Converted b_i1_delay_800.npy -> b_i1_delay_800.csv\n",
      "Converted b_i1_delay_400.npy -> b_i1_delay_400.csv\n",
      "Converted b_i2_delay_1200.npy -> b_i2_delay_1200.csv\n"
     ]
    }
   ],
   "source": [
    "import os\n",
    "import numpy as np\n",
    "import pandas as pd\n",
    "from pathlib import Path\n",
    "\n",
    "def convert_npy_to_csv(input_dir='.', output_dir=None):\n",
    "    \"\"\"\n",
    "    Convert all .npy files in the input directory to .csv files.\n",
    "    \n",
    "    Parameters:\n",
    "    input_dir (str): Directory containing .npy files (default: current directory)\n",
    "    output_dir (str): Directory to save .csv files (default: same as input directory)\n",
    "    \"\"\"\n",
    "    # Convert input directory to Path object\n",
    "    input_path = Path(input_dir)\n",
    "    \n",
    "    # If no output directory specified, use input directory\n",
    "    if output_dir is None:\n",
    "        output_path = input_path\n",
    "    else:\n",
    "        output_path = Path(output_dir)\n",
    "        output_path.mkdir(parents=True, exist_ok=True)\n",
    "    \n",
    "    # Get all .npy files in the directory\n",
    "    npy_files = list(input_path.glob('*.npy'))\n",
    "    \n",
    "    if not npy_files:\n",
    "        print(f\"No .npy files found in {input_dir}\")\n",
    "        return\n",
    "    \n",
    "    print(f\"Found {len(npy_files)} .npy files\")\n",
    "    \n",
    "    # Convert each file\n",
    "    for npy_file in npy_files:\n",
    "        try:\n",
    "            # Load the numpy array\n",
    "            arr = np.load(npy_file)\n",
    "            \n",
    "            # Create output filename\n",
    "            csv_filename = output_path / f\"{npy_file.stem}.csv\"\n",
    "            \n",
    "            # Convert to DataFrame and save as CSV\n",
    "            if arr.ndim == 1:\n",
    "                pd.DataFrame(arr.reshape(-1, 1)).to_csv(csv_filename, index=False)\n",
    "            else:\n",
    "                pd.DataFrame(arr).to_csv(csv_filename, index=False)\n",
    "            \n",
    "            print(f\"Converted {npy_file.name} -> {csv_filename.name}\")\n",
    "            \n",
    "        except Exception as e:\n",
    "            print(f\"Error converting {npy_file.name}: {str(e)}\")\n",
    "\n",
    "if __name__ == \"__main__\":\n",
    "    # You can modify these paths as needed\n",
    "    input_directory = \"data/monkey_behavioral_data/\"  # Current directory\n",
    "    output_directory = \"data/monkey_behavioral_data/converted_csv\"  # Will create this directory if it doesn't exist\n",
    "    \n",
    "    convert_npy_to_csv(input_directory, output_directory)"
   ]
  }
 ],
 "metadata": {
  "kernelspec": {
   "display_name": "Python 3 (ipykernel)",
   "language": "python",
   "name": "python3"
  },
  "language_info": {
   "codemirror_mode": {
    "name": "ipython",
    "version": 3
   },
   "file_extension": ".py",
   "mimetype": "text/x-python",
   "name": "python",
   "nbconvert_exporter": "python",
   "pygments_lexer": "ipython3",
   "version": "3.11.5"
  }
 },
 "nbformat": 4,
 "nbformat_minor": 5
}
