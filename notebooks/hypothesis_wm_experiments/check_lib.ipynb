{
 "cells": [
  {
   "cell_type": "code",
   "execution_count": 1,
   "id": "63fdbd42-ca72-44a3-ab8c-6fa8b6804556",
   "metadata": {},
   "outputs": [],
   "source": [
    "%load_ext autoreload\n",
    "%autoreload 2"
   ]
  },
  {
   "cell_type": "code",
   "execution_count": 2,
   "id": "4c14a024-c758-46af-be26-c9128c7cdaf1",
   "metadata": {},
   "outputs": [
    {
     "name": "stdout",
     "output_type": "stream",
     "text": [
      "script_dir = '/lustre06/project/6067616/soroush1/WM_age_of_ultron/notebooks'\n",
      "parent_dir = '/lustre06/project/6067616/soroush1/WM_age_of_ultron'\n"
     ]
    }
   ],
   "source": [
    "# train.py\n",
    "import sys\n",
    "import os\n",
    "from argparse import Namespace\n",
    "\n",
    "# Add the parent directory to the Python path\n",
    "script_dir = os.path.dirname(os.getcwd())  # Get the directory where the script is located\n",
    "parent_dir = os.path.dirname(script_dir)  # Get the parent directory\n",
    "\n",
    "print(f\"{script_dir = }\")\n",
    "print(f\"{parent_dir = }\")\n",
    "sys.path.append(parent_dir)"
   ]
  },
  {
   "cell_type": "code",
   "execution_count": 3,
   "id": "c52e7fa7-74c7-4e72-b8e8-0b2f1cb4b98a",
   "metadata": {},
   "outputs": [
    {
     "name": "stderr",
     "output_type": "stream",
     "text": [
      "2024-10-22 21:24:27,055 - INFO - ImageNet module loaded.\n",
      "2024-10-22 21:24:27,310 - WARNING - Note: 00050591.jpg is removed because it can't be loaded in ffcv.\n"
     ]
    }
   ],
   "source": [
    "from lit_modules.datamodule import Coco1600DataModule\n",
    "\n",
    "# from lit_modules.modules import ResNetLSTMModule"
   ]
  },
  {
   "cell_type": "code",
   "execution_count": 5,
   "id": "57eb3411-5926-4598-84b8-ad8f17aa9676",
   "metadata": {},
   "outputs": [],
   "source": [
    "from lit_modules.modules import ResNetLSTMModule"
   ]
  },
  {
   "cell_type": "code",
   "execution_count": 8,
   "id": "9b3ca6a4-aca5-484b-bdf7-7f63c7a6b396",
   "metadata": {},
   "outputs": [],
   "source": [
    "import lightning as l\n",
    "from lightning.pytorch.callbacks import (\n",
    "    ModelCheckpoint,\n",
    "    EarlyStopping,\n",
    "    LearningRateMonitor,\n",
    ")\n",
    "from lightning.pytorch.loggers import TensorBoardLogger\n",
    "import yaml\n",
    "from datetime import datetime\n",
    "import os"
   ]
  },
  {
   "cell_type": "code",
   "execution_count": null,
   "id": "b2b40a74-93fe-469d-ba44-64bf52f29330",
   "metadata": {},
   "outputs": [],
   "source": [
    "from lightning.pytorch.callbacks"
   ]
  },
  {
   "cell_type": "code",
   "execution_count": null,
   "id": "c840ce6e-2f0a-4608-ab42-86726a869c4d",
   "metadata": {},
   "outputs": [],
   "source": [
    "from lightning.pytorch.loggers"
   ]
  }
 ],
 "metadata": {
  "kernelspec": {
   "display_name": "Python 3 (ipykernel)",
   "language": "python",
   "name": "python3"
  },
  "language_info": {
   "codemirror_mode": {
    "name": "ipython",
    "version": 3
   },
   "file_extension": ".py",
   "mimetype": "text/x-python",
   "name": "python",
   "nbconvert_exporter": "python",
   "pygments_lexer": "ipython3",
   "version": "3.11.5"
  }
 },
 "nbformat": 4,
 "nbformat_minor": 5
}
